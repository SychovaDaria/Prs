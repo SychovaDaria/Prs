{
 "cells": [
  {
   "cell_type": "markdown",
   "id": "e2b9182c-9c07-4a1e-8bad-0cd2dd5ee4d6",
   "metadata": {},
   "source": [
    "# BI-PRS: semestrální projekt 2\n",
    "\n",
    "Cílem druhého semestrálního projektu je prozkoumat závislost konkrétní proměnné na různých regresorech z přiřazeného datasetu.\n",
    "\n",
    "Náš tým se skládá ze tří lidí: Ruslana Orazbekova (orazbrus), Nelly Shikina (shikinel), Daria Sychova (sychodar). Reprezentatntem v prvním semestrálním projektu je Daria Sychova. Nejprve určíme, který soubor dat a kterou proměnnou budeme v rámci semestrálního projektu analyzovat."
   ]
  },
  {
   "cell_type": "code",
   "execution_count": 1,
   "id": "dc55d307-c844-45c9-9eaa-e8127375bdcd",
   "metadata": {
    "ExecuteTime": {
     "end_time": "2024-04-14T13:49:51.583621Z",
     "start_time": "2024-04-14T13:49:51.486048Z"
    }
   },
   "outputs": [
    {
     "name": "stdout",
     "output_type": "stream",
     "text": [
      "[1] 8\n"
     ]
    }
   ],
   "source": [
    "# K = den narození reprezentanta skupiny (1-31)\n",
    "# L = počet písmen v příjmení reprezentanta\n",
    "# M = ((K+L)×47)mod11+1\n",
    "\n",
    "K <- 10\n",
    "L <- nchar('Sychova')\n",
    "M <- ((K + L) * 47) %% 11 + 1\n",
    "print(M)"
   ]
  },
  {
   "cell_type": "markdown",
   "id": "030f387b-2c81-4de8-819a-0dc3107d1095",
   "metadata": {},
   "source": [
    "Máme teda dataset **ex0918**:\n",
    "\n",
    "> Researchers studied the development of a fly (Drosophila subobscura) that had been accidentally introduced from the Old World into North America around 1980\n",
    ">\n",
    "**Vysvětlovaná proměnná:** Ratio\n",
    "**Popis:** Poměr velikosti křídel ku délce much"
   ]
  },
  {
   "cell_type": "markdown",
   "id": "2888a87f-35d8-4630-b1ba-282d7d823f86",
   "metadata": {},
   "source": [
    "## Uloha 1"
   ]
  },
  {
   "cell_type": "markdown",
   "id": "34d61766-c4a5-44d2-a465-62e28c63268c",
   "metadata": {},
   "source": [
    "#### Načtěme knihovny a požadovanou datovou sadu."
   ]
  },
  {
   "cell_type": "code",
   "execution_count": 2,
   "id": "ea394fb4-4019-450a-af96-9131014317ff",
   "metadata": {
    "ExecuteTime": {
     "end_time": "2024-04-14T13:49:53.450263Z",
     "start_time": "2024-04-14T13:49:51.596780Z"
    }
   },
   "outputs": [
    {
     "name": "stderr",
     "output_type": "stream",
     "text": [
      "Loading required package: nlme\n",
      "\n",
      "This is mgcv 1.9-0. For overview type 'help(\"mgcv-package\")'.\n",
      "\n"
     ]
    }
   ],
   "source": [
    "library(Sleuth2)\n",
    "library(mgcv)\n",
    "library(ggplot2)\n",
    "library(graphics)"
   ]
  },
  {
   "cell_type": "code",
   "execution_count": 3,
   "id": "267131a0-167a-4d58-a179-344f2124720b",
   "metadata": {
    "ExecuteTime": {
     "end_time": "2024-04-14T13:49:53.507870Z",
     "start_time": "2024-04-14T13:49:53.459106Z"
    }
   },
   "outputs": [],
   "source": [
    "data(ex0918)"
   ]
  },
  {
   "cell_type": "code",
   "execution_count": 4,
   "id": "5db1ac6e-2637-4301-a8cd-d1b6e9592ee7",
   "metadata": {
    "ExecuteTime": {
     "end_time": "2024-04-14T13:49:53.575637Z",
     "start_time": "2024-04-14T13:49:53.518672Z"
    }
   },
   "outputs": [
    {
     "name": "stdout",
     "output_type": "stream",
     "text": [
      "'data.frame':\t21 obs. of  8 variables:\n",
      " $ Continent: Factor w/ 2 levels \"NA\",\"EU\": 1 1 1 1 1 1 1 1 1 2 ...\n",
      " $ Latitude : num  35.5 37 38.6 40.7 40.9 42.4 45 46.8 48.8 49.8 ...\n",
      " $ Females  : num  901 896 906 907 898 893 913 915 927 924 ...\n",
      " $ SE.F     : num  2.5 3.5 3 3.5 3.6 3.4 4.3 3.8 2 4.5 ...\n",
      " $ Males    : num  797 806 812 807 818 809 810 819 800 823 ...\n",
      " $ SE.M     : num  3.8 3 3.2 3.2 2.7 3.3 4.3 3.3 4.9 2.2 ...\n",
      " $ Ratio    : num  0.831 0.834 0.836 0.833 0.83 0.828 0.834 0.825 0.832 0.824 ...\n",
      " $ SE.R     : num  0.01 0.014 0.012 0.013 0.012 0.015 0.024 0.014 0.009 0.011 ...\n"
     ]
    }
   ],
   "source": [
    "str(ex0918)"
   ]
  },
  {
   "cell_type": "markdown",
   "id": "4bf4152b-f437-45d9-93a2-fda3272c5247",
   "metadata": {},
   "source": [
    "#### Data structure\n",
    "**Continent:** a factor with levels \"NA\" and \"EU\"\n",
    "**Latitude:** latitude (degrees)\n",
    "**Females:** average wing size (103×log mm) of female flies on log scale\n",
    "**SE.F:** standard error of wing size (103×log mm) of female flies on log scale\n",
    "**Males:** average wing size (103×log mm) of male flies on log scale\n",
    "**SE.M:** standard error of wing size (103×log mm) of male flies on log scale\n",
    "**Ratio:** average basal length to wing size ratios of female flies\n",
    "**SE.R:** standard error of average basal length to wing size ratio of female flies"
   ]
  },
  {
   "cell_type": "code",
   "execution_count": 5,
   "id": "a8ecbcaf-ec73-4ebc-96b6-94ed1198f5af",
   "metadata": {
    "scrolled": true,
    "ExecuteTime": {
     "end_time": "2024-04-14T13:49:53.633287Z",
     "start_time": "2024-04-14T13:49:53.583534Z"
    }
   },
   "outputs": [
    {
     "data": {
      "text/html": "<table class=\"dataframe\">\n<caption>A data.frame: 6 × 8</caption>\n<thead>\n\t<tr><th></th><th scope=col>Continent</th><th scope=col>Latitude</th><th scope=col>Females</th><th scope=col>SE.F</th><th scope=col>Males</th><th scope=col>SE.M</th><th scope=col>Ratio</th><th scope=col>SE.R</th></tr>\n\t<tr><th></th><th scope=col>&lt;fct&gt;</th><th scope=col>&lt;dbl&gt;</th><th scope=col>&lt;dbl&gt;</th><th scope=col>&lt;dbl&gt;</th><th scope=col>&lt;dbl&gt;</th><th scope=col>&lt;dbl&gt;</th><th scope=col>&lt;dbl&gt;</th><th scope=col>&lt;dbl&gt;</th></tr>\n</thead>\n<tbody>\n\t<tr><th scope=row>1</th><td>NA</td><td>35.5</td><td>901</td><td>2.5</td><td>797</td><td>3.8</td><td>0.831</td><td>0.010</td></tr>\n\t<tr><th scope=row>2</th><td>NA</td><td>37.0</td><td>896</td><td>3.5</td><td>806</td><td>3.0</td><td>0.834</td><td>0.014</td></tr>\n\t<tr><th scope=row>3</th><td>NA</td><td>38.6</td><td>906</td><td>3.0</td><td>812</td><td>3.2</td><td>0.836</td><td>0.012</td></tr>\n\t<tr><th scope=row>4</th><td>NA</td><td>40.7</td><td>907</td><td>3.5</td><td>807</td><td>3.2</td><td>0.833</td><td>0.013</td></tr>\n\t<tr><th scope=row>5</th><td>NA</td><td>40.9</td><td>898</td><td>3.6</td><td>818</td><td>2.7</td><td>0.830</td><td>0.012</td></tr>\n\t<tr><th scope=row>6</th><td>NA</td><td>42.4</td><td>893</td><td>3.4</td><td>809</td><td>3.3</td><td>0.828</td><td>0.015</td></tr>\n</tbody>\n</table>\n",
      "text/markdown": "\nA data.frame: 6 × 8\n\n| <!--/--> | Continent &lt;fct&gt; | Latitude &lt;dbl&gt; | Females &lt;dbl&gt; | SE.F &lt;dbl&gt; | Males &lt;dbl&gt; | SE.M &lt;dbl&gt; | Ratio &lt;dbl&gt; | SE.R &lt;dbl&gt; |\n|---|---|---|---|---|---|---|---|---|\n| 1 | NA | 35.5 | 901 | 2.5 | 797 | 3.8 | 0.831 | 0.010 |\n| 2 | NA | 37.0 | 896 | 3.5 | 806 | 3.0 | 0.834 | 0.014 |\n| 3 | NA | 38.6 | 906 | 3.0 | 812 | 3.2 | 0.836 | 0.012 |\n| 4 | NA | 40.7 | 907 | 3.5 | 807 | 3.2 | 0.833 | 0.013 |\n| 5 | NA | 40.9 | 898 | 3.6 | 818 | 2.7 | 0.830 | 0.012 |\n| 6 | NA | 42.4 | 893 | 3.4 | 809 | 3.3 | 0.828 | 0.015 |\n\n",
      "text/latex": "A data.frame: 6 × 8\n\\begin{tabular}{r|llllllll}\n  & Continent & Latitude & Females & SE.F & Males & SE.M & Ratio & SE.R\\\\\n  & <fct> & <dbl> & <dbl> & <dbl> & <dbl> & <dbl> & <dbl> & <dbl>\\\\\n\\hline\n\t1 & NA & 35.5 & 901 & 2.5 & 797 & 3.8 & 0.831 & 0.010\\\\\n\t2 & NA & 37.0 & 896 & 3.5 & 806 & 3.0 & 0.834 & 0.014\\\\\n\t3 & NA & 38.6 & 906 & 3.0 & 812 & 3.2 & 0.836 & 0.012\\\\\n\t4 & NA & 40.7 & 907 & 3.5 & 807 & 3.2 & 0.833 & 0.013\\\\\n\t5 & NA & 40.9 & 898 & 3.6 & 818 & 2.7 & 0.830 & 0.012\\\\\n\t6 & NA & 42.4 & 893 & 3.4 & 809 & 3.3 & 0.828 & 0.015\\\\\n\\end{tabular}\n",
      "text/plain": "  Continent Latitude Females SE.F Males SE.M Ratio SE.R \n1 NA        35.5     901     2.5  797   3.8  0.831 0.010\n2 NA        37.0     896     3.5  806   3.0  0.834 0.014\n3 NA        38.6     906     3.0  812   3.2  0.836 0.012\n4 NA        40.7     907     3.5  807   3.2  0.833 0.013\n5 NA        40.9     898     3.6  818   2.7  0.830 0.012\n6 NA        42.4     893     3.4  809   3.3  0.828 0.015"
     },
     "metadata": {},
     "output_type": "display_data"
    }
   ],
   "source": [
    "head(ex0918)"
   ]
  },
  {
   "cell_type": "code",
   "execution_count": 6,
   "id": "31c12666-62cc-4f0d-961d-c69d9873c5e1",
   "metadata": {
    "scrolled": true,
    "ExecuteTime": {
     "end_time": "2024-04-14T13:49:53.677658Z",
     "start_time": "2024-04-14T13:49:53.650449Z"
    }
   },
   "outputs": [
    {
     "data": {
      "text/plain": " Continent    Latitude       Females         SE.F           Males      \n NA: 9     Min.   :35.5   Min.   :889   Min.   :2.000   Min.   :789.0  \n EU:12     1st Qu.:40.7   1st Qu.:901   1st Qu.:3.200   1st Qu.:807.0  \n           Median :45.0   Median :915   Median :3.500   Median :812.0  \n           Mean   :44.6   Mean   :914   Mean   :3.652   Mean   :815.1  \n           3rd Qu.:48.8   3rd Qu.:926   3rd Qu.:4.300   3rd Qu.:819.0  \n           Max.   :56.1   Max.   :944   Max.   :6.100   Max.   :855.0  \n      SE.M           Ratio            SE.R        \n Min.   :2.200   Min.   :0.809   Min.   :0.00700  \n 1st Qu.:3.100   1st Qu.:0.824   1st Qu.:0.01200  \n Median :3.300   Median :0.826   Median :0.01300  \n Mean   :3.724   Mean   :0.827   Mean   :0.01476  \n 3rd Qu.:4.300   3rd Qu.:0.832   3rd Qu.:0.01600  \n Max.   :6.200   Max.   :0.836   Max.   :0.03200  "
     },
     "metadata": {},
     "output_type": "display_data"
    }
   ],
   "source": [
    "summary(ex0918)"
   ]
  },
  {
   "cell_type": "markdown",
   "id": "8410076d-2a85-4734-88db-b1dd1b150c22",
   "metadata": {},
   "source": [
    "Vidíme, že údaje pro female a male se významně neliší. Standard error pro female od 2.000 do 6.100 pro male od 2.200 do 6.200. Ověříme přitomnost NaN hodnot:"
   ]
  },
  {
   "cell_type": "code",
   "execution_count": 7,
   "id": "5c92b0fc-fd98-4c18-b593-f8328727150c",
   "metadata": {
    "ExecuteTime": {
     "end_time": "2024-04-14T13:49:53.706368Z",
     "start_time": "2024-04-14T13:49:53.683635Z"
    }
   },
   "outputs": [
    {
     "name": "stdout",
     "output_type": "stream",
     "text": [
      "[1] FALSE\n"
     ]
    }
   ],
   "source": [
    "# Checking if we have NaN values\n",
    "any_na <- any(is.na(ex0918))\n",
    "print(any_na)"
   ]
  },
  {
   "cell_type": "markdown",
   "source": [
    "We don't have any NaN values, which is fine. Now let's plot a histogram for (add smth...)"
   ],
   "metadata": {
    "collapsed": false
   },
   "id": "6dfe9869cc95a96"
  },
  {
   "cell_type": "code",
   "outputs": [
    {
     "data": {
      "text/plain": "Plot with title \"Histogram for Ratio\"",
      "image/png": "[encoded data removed]"
     },
     "metadata": {
      "image/png": {
       "width": 420,
       "height": 420
      }
     },
     "output_type": "display_data"
    }
   ],
   "source": [
    "hist(ex0918$Ratio, main=\"Histogram for Ratio\", xlab=\"Ratio\")"
   ],
   "metadata": {
    "collapsed": false,
    "ExecuteTime": {
     "end_time": "2024-04-14T13:49:53.819760Z",
     "start_time": "2024-04-14T13:49:53.712902Z"
    }
   },
   "id": "5ee5b67906736f0f",
   "execution_count": 8
  },
  {
   "cell_type": "markdown",
   "source": [
    "Tento histogram zobrazuje rozdělení proměnné 'Ratio'. Většina datových bodů se shromažďuje ve středních hodnotách. Histogram naznačuje, že distribuce proměnné 'Ratio' není rovnoměrná a ukazuje na bimodální nebo jine ne-standardní rozdělení dat."
   ],
   "metadata": {
    "collapsed": false
   },
   "id": "80335606adfcf32"
  },
  {
   "cell_type": "code",
   "outputs": [
    {
     "data": {
      "text/plain": "Plot with title \"The number of male and female by Continent\"",
      "image/png": "[encoded data removed]"
     },
     "metadata": {
      "image/png": {
       "width": 420,
       "height": 420
      }
     },
     "output_type": "display_data"
    }
   ],
   "source": [
    "sum_females <- aggregate(Females ~ Continent, data = ex0918, sum)\n",
    "sum_males <- aggregate(Males ~ Continent, data = ex0918, sum)\n",
    "\n",
    "# Vytvoření sloupcového grafu\n",
    "barplot(rbind(sum_females$Females, sum_males$Males), \n",
    "        beside = TRUE, \n",
    "        col = c(\"lightblue\", \"lightpink\"),\n",
    "        names.arg = sum_females$Continent,\n",
    "        legend.text = c(\"Female\", \"Male\"),\n",
    "        args.legend = list(x = \"topright\"),\n",
    "        main = \"The number of male and female by Continent\",\n",
    "        ylab = \"Number\")"
   ],
   "metadata": {
    "collapsed": false,
    "ExecuteTime": {
     "end_time": "2024-04-14T13:49:53.969332Z",
     "start_time": "2024-04-14T13:49:53.827255Z"
    }
   },
   "id": "582d405859c90399",
   "execution_count": 9
  },
  {
   "cell_type": "markdown",
   "id": "1fca23e0-aa20-40c1-a456-94f9d229c79d",
   "metadata": {},
   "source": [
    "Na základě tohoto grafu vidíme, že počet samcu mírně převyšuje počet samic na obou kontinentech. Také počet much v Evropě je obecně vyšší než v Severní Americe."
   ]
  },
  {
   "cell_type": "markdown",
   "id": "543eb77b-8276-41a8-aa37-5b38440f07c9",
   "metadata": {},
   "source": [
    "# Uloha 2"
   ]
  },
  {
   "cell_type": "markdown",
   "source": [
    "#### Zkoumejme závislost vysvětlované proměnné na tomto regresoru."
   ],
   "metadata": {
    "collapsed": false
   },
   "id": "76b5dbf295a11132"
  },
  {
   "cell_type": "code",
   "outputs": [
    {
     "data": {
      "text/plain": "\nCall:\nlm(formula = SE.R ~ SE.F, data = ex0918)\n\nResiduals:\n       Min         1Q     Median         3Q        Max \n-0.0070602 -0.0024988 -0.0005501  0.0010938  0.0133473 \n\nCoefficients:\n            Estimate Std. Error t value Pr(>|t|)   \n(Intercept) 0.002379   0.004037   0.589  0.56263   \nSE.F        0.003390   0.001070   3.170  0.00505 **\n---\nSignif. codes:  0 '***' 0.001 '**' 0.01 '*' 0.05 '.' 0.1 ' ' 1\n\nResidual standard error: 0.004671 on 19 degrees of freedom\nMultiple R-squared:  0.3459,\tAdjusted R-squared:  0.3115 \nF-statistic: 10.05 on 1 and 19 DF,  p-value: 0.005045\n"
     },
     "metadata": {},
     "output_type": "display_data"
    },
    {
     "data": {
      "text/plain": "Plot with title \"Závislost SE.R na SE.F\"",
      "image/png": "[encoded data removed]"
     },
     "metadata": {
      "image/png": {
       "width": 420,
       "height": 420
      }
     },
     "output_type": "display_data"
    }
   ],
   "source": [
    "# Lineární regresní model SE.R jako funkce SE.F\n",
    "model_SE <- lm(SE.R ~ SE.F, data = ex0918)\n",
    "\n",
    "# Zobrazení výsledků modelu\n",
    "summary(model_SE)\n",
    "\n",
    "# Grafické zobrazení modelu s bodovým grafem a regresní linií\n",
    "plot(ex0918$SE.F, ex0918$SE.R, \n",
    "     main = \"Závislost SE.R na SE.F\", \n",
    "     xlab = \"SE.F (Standardní chyba samice)\", \n",
    "     ylab = \"SE.R\", \n",
    "     pch = 20, \n",
    "     col = \"blue\")\n",
    "\n",
    "# Přidání regresní přímky do grafu\n",
    "abline(model_SE, col = \"red\")"
   ],
   "metadata": {
    "collapsed": false,
    "ExecuteTime": {
     "end_time": "2024-04-14T13:49:54.138849Z",
     "start_time": "2024-04-14T13:49:53.978681Z"
    }
   },
   "id": "a1ce0b38f3125ae8",
   "execution_count": 10
  },
  {
   "cell_type": "markdown",
   "id": "219de2ff-44fd-495a-8ab4-e881308234bf",
   "metadata": {},
   "source": [
    "Podle výsledků regresní analýzy a grafu můžeme dělat následující závěry:\n",
    "\n",
    "* Koeficienty modelu: hodnota interceptu je velmi nízká a statisticky nevýznamná s p-hodnotou 0.56263, což naznačuje, že když je SE.F nula, odhadovaná hodnota SE.R je blízká nule. Koeficient pro SE.F je přibližně 0.00339 a je statisticky významný (p-hodnota = 0.00505), což ukazuje, že existuje pozitivní vztah mezi SE.F a SE.R.\n",
    "\n",
    "* Kvalita modelu: hodnota R-kvadrátu je 0.3459, což značí, že model vysvětluje přibližně 34.59% variability SE.R. Upravený R-kvadrát je nižší, 0.3115, ale stále indikuje, že SE.F má určitý významný vliv na SE.R.\n",
    "\n",
    "* Vizualizace modelu: graf ukazuje, že s nárůstem SE.F roste i SE.R, což je v souladu s pozitivním koeficientem uvedeným ve výsledcích modelu. Body jsou rozptýleny a regresní čára ukazuje zvyšující se trend.\n",
    "\n",
    "* Závěr: tento model ukazuje, že standardní chyba pro samice (SE.F) je relevantním prediktorem pro standardní chybu poměru (SE.R). "
   ]
  },
  {
   "cell_type": "markdown",
   "source": [
    "# Úloha 3\n",
    "\n",
    "V této úloze zvolíme jako regresor nějakou kategoriální proměnnou. Vzhledem k povaze poskytnutých proměnných můžeme jako kategoriální regresor zvolit proměnnou **Continent**. Ta rozděluje data do dvou odlišných skupin: \"NA\" (Severní Amerika) a \"EU\" (Evropa). Tato proměnná reprezentuje různé geografické oblasti a je rozumné předpokládat, že mouchy z různých kontinentů mohou vykazovat různé charakteristiky z hlediska velikosti nebo poměru křídel."
   ],
   "metadata": {
    "collapsed": false
   },
   "id": "de01ff3cad291cfe"
  },
  {
   "cell_type": "code",
   "outputs": [
    {
     "data": {
      "text/plain": "            Df    Sum Sq   Mean Sq F value  Pr(>F)   \nContinent    1 0.0003111 3.111e-04   11.53 0.00304 **\nResiduals   19 0.0005129 2.699e-05                   \n---\nSignif. codes:  0 '***' 0.001 '**' 0.01 '*' 0.05 '.' 0.1 ' ' 1"
     },
     "metadata": {},
     "output_type": "display_data"
    }
   ],
   "source": [
    "# Fit the ANOVA model\n",
    "anova_model <- aov(Ratio ~ Continent, data = ex0918)\n",
    "\n",
    "# Check ANOVA table\n",
    "summary(anova_model)"
   ],
   "metadata": {
    "collapsed": false,
    "ExecuteTime": {
     "end_time": "2024-04-14T13:49:54.200022Z",
     "start_time": "2024-04-14T13:49:54.150835Z"
    }
   },
   "id": "4a687550db9e848e",
   "execution_count": 11
  },
  {
   "cell_type": "markdown",
   "source": [
    "#### Table interpretation\n",
    "**Df**: The model’s degrees of freedom.\n",
    "**Sum Sq**: The sums of squares, which represent the variability that the model is able to account for.\n",
    "**Mean Sq**: The variance explained by each component is represented by the mean squares. (Průměrný čtverec je součet čtverců dělený počtem stupňů volnosti.)\n",
    "**F-value**: It is the measure used to compare the mean squares both within and between groups. (Toto je poměr variance vysvětlené modelem k reziduální varianci.)\n",
    "**Pr(>F)**: The F-statistics p-value, which denotes the factors’ statistical significance.\n",
    "**Residuals**: Relative deviations from the group mean, are often known as residuals and their summary statistics.\n",
    "\n",
    "F-value Pro proměnnou Continent: 11,53. Tato hodnota indikuje, zda jsou mezi skupinovými průměry signifikantní rozdíly.\n",
    "\n",
    "Pr(>F) (p-hodnota): Jedná se o pravděpodobnost získání F-statistiky stejně extrémní, nebo extrémnější, než ta, kterou pozorujeme v datech za nulové hypotézy (že neexistují signifikantní rozdíly mezi skupinovými průměry).\n",
    "Pro proměnnou Continent: 0,00304. Tato p-hodnota nám říká, zda jsou rozdíly mezi skupinovými průměry statisticky významné.\n",
    "V tomto případě je p-hodnota pro Continent menší než konvenční hladina významnosti 0,05 (indikovaná **), což naznačuje, že existuje statisticky významný rozdíl v proměnné Ratio mezi kontinenty.\n",
    "\n",
    "V souhrnu výsledky naznačují, že proměnná Continent je signifikantní prediktor proměnné Ratio, jak naznačuje nízká p-hodnota (0,00304) a signifikantní F-statistika (11,53). Vzhledem k tomu, že p-hodnota pro Continent je menší než konvenční hladina významnosti 0,05 a F-statistika je významná, můžeme tvrdit, že proměnná Continent je statisticky významným prediktorem proměnné Ratio.\n",
    "\n",
    "Nyní vyhodnotíme kvalitu modelu."
   ],
   "metadata": {
    "collapsed": false
   },
   "id": "eebcf9b89704641b"
  },
  {
   "cell_type": "code",
   "outputs": [
    {
     "name": "stdout",
     "output_type": "stream",
     "text": [
      "[1] 0.377562\n"
     ]
    }
   ],
   "source": [
    "# Extract sums of squares from ANOVA table\n",
    "sum_sq_continent <- summary(anova_model)[[1]]$`Sum Sq`[1]  # Sum of squares for Continent\n",
    "sum_sq_residuals <- summary(anova_model)[[1]]$`Sum Sq`[2]  # Residual sum of squares\n",
    "\n",
    "# Total sum of squares\n",
    "total_sum_sq <- sum(sum_sq_continent, sum_sq_residuals)\n",
    "\n",
    "# Eta-squared (proportion of variance explained)\n",
    "eta_squared <- sum_sq_continent / total_sum_sq\n",
    "\n",
    "# Print eta-squared\n",
    "print(eta_squared)"
   ],
   "metadata": {
    "collapsed": false,
    "ExecuteTime": {
     "end_time": "2024-04-14T13:49:54.264149Z",
     "start_time": "2024-04-14T13:49:54.209615Z"
    }
   },
   "id": "420471a2ffd7ef73",
   "execution_count": 12
  },
  {
   "cell_type": "code",
   "outputs": [
    {
     "name": "stderr",
     "output_type": "stream",
     "text": [
      "Loading required package: carData\n",
      "\n"
     ]
    },
    {
     "name": "stdout",
     "output_type": "stream",
     "text": [
      "Anova Table (Type III tests)\n",
      "\n",
      "Response: Ratio\n",
      "            Sum Sq Df    F value  Pr(>F)    \n",
      "(Intercept) 6.2217  1 230483.209 < 2e-16 ***\n",
      "Continent   0.0003  1     11.525 0.00304 ** \n",
      "Residuals   0.0005 19                       \n",
      "---\n",
      "Signif. codes:  0 '***' 0.001 '**' 0.01 '*' 0.05 '.' 0.1 ' ' 1\n",
      " Continent emmean       SE df lower.CL upper.CL\n",
      " NA        0.8314 0.001732 19   0.8278   0.8351\n",
      " EU        0.8237 0.001500 19   0.8205   0.8268\n",
      "\n",
      "Confidence level used: 0.95 \n",
      " Continent emmean       SE df lower.CL upper.CL\n",
      " NA        0.8314 0.001732 19   0.8278   0.8351\n",
      " EU        0.8237 0.001500 19   0.8205   0.8268\n",
      "\n",
      "Confidence level used: 0.95 \n"
     ]
    },
    {
     "data": {
      "text/plain": "plot without title",
      "image/png": "[encoded data removed]"
     },
     "metadata": {
      "image/png": {
       "width": 420,
       "height": 420
      }
     },
     "output_type": "display_data"
    }
   ],
   "source": [
    "library(car)\n",
    "library(emmeans) # For calculating marginal means (least-squares means)\n",
    "\n",
    "# Fit your linear model using lm() function\n",
    "lm_model <- lm(Ratio ~ Continent, data = ex0918)\n",
    "\n",
    "# Anova to test the significance of the categorical predictor\n",
    "anova_result <- Anova(lm_model, type=\"III\")\n",
    "\n",
    "# Print ANOVA table\n",
    "print(anova_result)\n",
    "\n",
    "# Calculate marginal (least-squares) means for each level of the categorical predictor\n",
    "marginal_means <- emmeans(lm_model, specs = ~ Continent, data = ex0918)\n",
    "\n",
    "# Print marginal means\n",
    "print(marginal_means)\n",
    "\n",
    "# Plot marginal means (if needed)\n",
    "plot(marginal_means)\n",
    "\n",
    "# Alternatively, if you're interested in confidence intervals for each level\n",
    "# Calculate confidence intervals for each level\n",
    "conf_intervals <- confint(marginal_means)\n",
    "\n",
    "# Print confidence intervals\n",
    "print(conf_intervals)"
   ],
   "metadata": {
    "collapsed": false,
    "ExecuteTime": {
     "end_time": "2024-04-14T13:49:55.419411Z",
     "start_time": "2024-04-14T13:49:54.272933Z"
    }
   },
   "id": "5ba0ec754f918e35",
   "execution_count": 13
  },
  {
   "cell_type": "markdown",
   "source": [
    "The ANOVA table indicates that the model including the categorical predictor \"Continent\" is statistically significant (F(1, 19) = 11.525, p = 0.00304), suggesting that there are significant differences in the mean \"Ratio\" across different continents.\n",
    "\n",
    "Marginal Means For North America (NA): The estimated mean \"Ratio\" for observations in North America is 0.8314, with a 95% confidence interval ranging from 0.8278 to 0.8351.\n",
    "Marginal Means For Europe (EU): The estimated mean \"Ratio\" for observations in Europe is 0.8237, with a 95% confidence interval ranging from 0.8205 to 0.8268.\n",
    "\n",
    "Based on the ANOVA results, there is evidence to suggest that the mean \"Ratio\" differs significantly across continents. Specifically, the mean \"Ratio\" in North America is higher compared to Europe, as indicated by the marginal means. This suggests that the continent on which the observation is made influences the value of the \"Ratio\" variable."
   ],
   "metadata": {
    "collapsed": false
   },
   "id": "3a027be6fcec6913"
  },
  {
   "cell_type": "code",
   "outputs": [
    {
     "name": "stdout",
     "output_type": "stream",
     "text": [
      "[1] \"R-squared: 0.378\"\n",
      "[1] \"Adjusted R-squared: 0.345\"\n"
     ]
    }
   ],
   "source": [
    "# Assuming your linear model is called \"lm_model\"\n",
    "# R-squared value\n",
    "r_squared <- summary(lm_model)$r.squared\n",
    "\n",
    "# Adjusted R-squared value (if needed)\n",
    "adjusted_r_squared <- summary(lm_model)$adj.r.squared\n",
    "\n",
    "# Print R-squared values\n",
    "print(paste(\"R-squared:\", round(r_squared, 3)))\n",
    "print(paste(\"Adjusted R-squared:\", round(adjusted_r_squared, 3)))"
   ],
   "metadata": {
    "collapsed": false,
    "ExecuteTime": {
     "end_time": "2024-04-14T13:49:55.495400Z",
     "start_time": "2024-04-14T13:49:55.433154Z"
    }
   },
   "id": "1b284cede518e18d",
   "execution_count": 14
  },
  {
   "cell_type": "markdown",
   "source": [
    "**Interpretation:**\n",
    "\n",
    "  R-squared: This value indicates that approximately 37.8% of the variance in the dependent variable (\"Ratio\") is explained by the independent variable(s) in our model.\n",
    "  \n",
    "Adjusted R-squared: This value is similar to R-squared but adjusts for the number of predictors in the model. It indicates that approximately 34.5% of the variance in the dependent variable is explained by the independent variable(s) after considering the number of predictors.\n",
    "\n",
    "An R-squared value of 0.378 suggests that our model explains a moderate amount of the variance in the dependent variable. Theregfore, while our model explains a significant portion of the variance in the dependent variable, there is still room for improvement."
   ],
   "metadata": {
    "collapsed": false
   },
   "id": "edc2602ec95e6a28"
  },
  {
   "cell_type": "markdown",
   "source": [
    "# Úloha 4\n",
    "\n",
    "Z předchozích dvou bodů máme 2 regresní modely: jeden zkoumá závislost vysvětlované proměnné na numerickém regresoru, druhý na kategoriálním. Naším cílem je nyní tyto dva modely spojit, zjistit jejich parametry a interpretovat je."
   ],
   "metadata": {
    "collapsed": false
   },
   "id": "f2c0a63766c54848"
  },
  {
   "cell_type": "code",
   "outputs": [],
   "source": [],
   "metadata": {
    "collapsed": false,
    "ExecuteTime": {
     "end_time": "2024-04-14T13:49:55.532965Z",
     "start_time": "2024-04-14T13:49:55.503994Z"
    }
   },
   "id": "b9b26a1589ff7e4e",
   "execution_count": 15
  }
 ],
 "metadata": {
  "kernelspec": {
   "display_name": "R",
   "language": "R",
   "name": "ir"
  },
  "language_info": {
   "codemirror_mode": "r",
   "file_extension": ".r",
   "mimetype": "text/x-r-source",
   "name": "R",
   "pygments_lexer": "r",
   "version": "4.3.3"
  }
 },
 "nbformat": 4,
 "nbformat_minor": 5
}
