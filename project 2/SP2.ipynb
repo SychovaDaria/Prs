{
 "cells": [
  {
   "cell_type": "markdown",
   "id": "e2b9182c-9c07-4a1e-8bad-0cd2dd5ee4d6",
   "metadata": {},
   "source": [
    "# BI-PRS: semestrální projekt 2\n",
    "\n",
    "Cílem druhého semestrálního projektu je prozkoumat závislost konkrétní proměnné na různých regresorech z přiřazeného datasetu.\n",
    "\n",
    "Náš tým se skládá ze tří lidí: Ruslana Orazbekova (orazbrus), Nelly Shikina (shikinel), Daria Sychova (sychodar). Reprezentatntem ve druhém semestrálním projektu je Daria Sychova. Nejprve určíme, který soubor dat a kterou proměnnou budeme v rámci semestrálního projektu analyzovat."
   ]
  },
  {
   "cell_type": "code",
   "execution_count": 1,
   "id": "dc55d307-c844-45c9-9eaa-e8127375bdcd",
   "metadata": {
    "ExecuteTime": {
     "end_time": "2024-04-23T13:41:57.989093Z",
     "start_time": "2024-04-23T13:41:57.210243Z"
    }
   },
   "outputs": [
    {
     "name": "stdout",
     "output_type": "stream",
     "text": [
      "[1] 8\n"
     ]
    }
   ],
   "source": [
    "# K = den narození reprezentanta skupiny (1-31)\n",
    "# L = počet písmen v příjmení reprezentanta\n",
    "# M = ((K+L)×47)mod11+1\n",
    "\n",
    "K <- 10\n",
    "L <- nchar('Sychova')\n",
    "M <- ((K + L) * 47) %% 11 + 1\n",
    "print(M)"
   ]
  },
  {
   "cell_type": "markdown",
   "id": "030f387b-2c81-4de8-819a-0dc3107d1095",
   "metadata": {},
   "source": [
    "Máme teda dataset **ex0918**:\n",
    "\n",
    "> Researchers studied the development of a fly (Drosophila subobscura) that had been accidentally introduced from the Old World into North America around 1980\n",
    ">\n",
    "**Vysvětlovaná proměnná:** Ratio\n",
    "**Popis:** Poměr velikosti křídel ku délce much"
   ]
  },
  {
   "cell_type": "markdown",
   "id": "2888a87f-35d8-4630-b1ba-282d7d823f86",
   "metadata": {},
   "source": [
    "## Úloha 1"
   ]
  },
  {
   "cell_type": "markdown",
   "id": "34d61766-c4a5-44d2-a465-62e28c63268c",
   "metadata": {},
   "source": [
    "#### Načtěme knihovny a požadovanou datovou sadu."
   ]
  },
  {
   "cell_type": "code",
   "execution_count": 3,
   "id": "ea394fb4-4019-450a-af96-9131014317ff",
   "metadata": {
    "ExecuteTime": {
     "end_time": "2024-04-23T13:42:42.733102Z",
     "start_time": "2024-04-23T13:42:42.480523Z"
    }
   },
   "outputs": [],
   "source": [
    "library(Sleuth2)\n",
    "library(mgcv)\n",
    "library(ggplot2)\n",
    "library(graphics)"
   ]
  },
  {
   "cell_type": "code",
   "execution_count": 4,
   "id": "267131a0-167a-4d58-a179-344f2124720b",
   "metadata": {
    "ExecuteTime": {
     "end_time": "2024-04-23T13:42:44.840486Z",
     "start_time": "2024-04-23T13:42:44.680990Z"
    }
   },
   "outputs": [],
   "source": [
    "data(ex0918)"
   ]
  },
  {
   "cell_type": "code",
   "execution_count": 5,
   "id": "5db1ac6e-2637-4301-a8cd-d1b6e9592ee7",
   "metadata": {
    "ExecuteTime": {
     "end_time": "2024-04-23T13:42:47.282783Z",
     "start_time": "2024-04-23T13:42:47.112127Z"
    }
   },
   "outputs": [
    {
     "name": "stdout",
     "output_type": "stream",
     "text": [
      "'data.frame':\t21 obs. of  8 variables:\n",
      " $ Continent: Factor w/ 2 levels \"NA\",\"EU\": 1 1 1 1 1 1 1 1 1 2 ...\n",
      " $ Latitude : num  35.5 37 38.6 40.7 40.9 42.4 45 46.8 48.8 49.8 ...\n",
      " $ Females  : num  901 896 906 907 898 893 913 915 927 924 ...\n",
      " $ SE.F     : num  2.5 3.5 3 3.5 3.6 3.4 4.3 3.8 2 4.5 ...\n",
      " $ Males    : num  797 806 812 807 818 809 810 819 800 823 ...\n",
      " $ SE.M     : num  3.8 3 3.2 3.2 2.7 3.3 4.3 3.3 4.9 2.2 ...\n",
      " $ Ratio    : num  0.831 0.834 0.836 0.833 0.83 0.828 0.834 0.825 0.832 0.824 ...\n",
      " $ SE.R     : num  0.01 0.014 0.012 0.013 0.012 0.015 0.024 0.014 0.009 0.011 ...\n"
     ]
    }
   ],
   "source": [
    "str(ex0918)"
   ]
  },
  {
   "cell_type": "markdown",
   "id": "4bf4152b-f437-45d9-93a2-fda3272c5247",
   "metadata": {},
   "source": [
    "#### Data structure\n",
    "**Continent:** a factor with levels \"NA\" and \"EU\"\n",
    "\n",
    "**Latitude:** latitude (degrees)\n",
    "\n",
    "**Females:** average wing size (103×log mm) of female flies on log scale\n",
    "\n",
    "**SE.F:** standard error of wing size (103×log mm) of female flies on log scale\n",
    "\n",
    "**Males:** average wing size (103×log mm) of male flies on log scale\n",
    "\n",
    "**SE.M:** standard error of wing size (103×log mm) of male flies on log scale\n",
    "\n",
    "**Ratio:** average basal length to wing size ratios of female flies\n",
    "\n",
    "**SE.R:** standard error of average basal length to wing size ratio of female flies"
   ]
  },
  {
   "cell_type": "code",
   "id": "a8ecbcaf-ec73-4ebc-96b6-94ed1198f5af",
   "metadata": {
    "scrolled": true,
    "ExecuteTime": {
     "end_time": "2024-04-23T14:35:02.411464Z",
     "start_time": "2024-04-23T14:35:01.882888Z"
    }
   },
   "source": [
    "head(ex0918)"
   ],
   "outputs": [
    {
     "data": {
      "text/html": [
       "<table class=\"dataframe\">\n",
       "<caption>A data.frame: 6 × 8</caption>\n",
       "<thead>\n",
       "\t<tr><th></th><th scope=col>Continent</th><th scope=col>Latitude</th><th scope=col>Females</th><th scope=col>SE.F</th><th scope=col>Males</th><th scope=col>SE.M</th><th scope=col>Ratio</th><th scope=col>SE.R</th></tr>\n",
       "\t<tr><th></th><th scope=col>&lt;fct&gt;</th><th scope=col>&lt;dbl&gt;</th><th scope=col>&lt;dbl&gt;</th><th scope=col>&lt;dbl&gt;</th><th scope=col>&lt;dbl&gt;</th><th scope=col>&lt;dbl&gt;</th><th scope=col>&lt;dbl&gt;</th><th scope=col>&lt;dbl&gt;</th></tr>\n",
       "</thead>\n",
       "<tbody>\n",
       "\t<tr><th scope=row>1</th><td>NA</td><td>35.5</td><td>901</td><td>2.5</td><td>797</td><td>3.8</td><td>0.831</td><td>0.010</td></tr>\n",
       "\t<tr><th scope=row>2</th><td>NA</td><td>37.0</td><td>896</td><td>3.5</td><td>806</td><td>3.0</td><td>0.834</td><td>0.014</td></tr>\n",
       "\t<tr><th scope=row>3</th><td>NA</td><td>38.6</td><td>906</td><td>3.0</td><td>812</td><td>3.2</td><td>0.836</td><td>0.012</td></tr>\n",
       "\t<tr><th scope=row>4</th><td>NA</td><td>40.7</td><td>907</td><td>3.5</td><td>807</td><td>3.2</td><td>0.833</td><td>0.013</td></tr>\n",
       "\t<tr><th scope=row>5</th><td>NA</td><td>40.9</td><td>898</td><td>3.6</td><td>818</td><td>2.7</td><td>0.830</td><td>0.012</td></tr>\n",
       "\t<tr><th scope=row>6</th><td>NA</td><td>42.4</td><td>893</td><td>3.4</td><td>809</td><td>3.3</td><td>0.828</td><td>0.015</td></tr>\n",
       "</tbody>\n",
       "</table>\n"
      ],
      "text/markdown": "\nA data.frame: 6 × 8\n\n| <!--/--> | Continent &lt;fct&gt; | Latitude &lt;dbl&gt; | Females &lt;dbl&gt; | SE.F &lt;dbl&gt; | Males &lt;dbl&gt; | SE.M &lt;dbl&gt; | Ratio &lt;dbl&gt; | SE.R &lt;dbl&gt; |\n|---|---|---|---|---|---|---|---|---|\n| 1 | NA | 35.5 | 901 | 2.5 | 797 | 3.8 | 0.831 | 0.010 |\n| 2 | NA | 37.0 | 896 | 3.5 | 806 | 3.0 | 0.834 | 0.014 |\n| 3 | NA | 38.6 | 906 | 3.0 | 812 | 3.2 | 0.836 | 0.012 |\n| 4 | NA | 40.7 | 907 | 3.5 | 807 | 3.2 | 0.833 | 0.013 |\n| 5 | NA | 40.9 | 898 | 3.6 | 818 | 2.7 | 0.830 | 0.012 |\n| 6 | NA | 42.4 | 893 | 3.4 | 809 | 3.3 | 0.828 | 0.015 |\n\n",
      "text/latex": "A data.frame: 6 × 8\n\\begin{tabular}{r|llllllll}\n  & Continent & Latitude & Females & SE.F & Males & SE.M & Ratio & SE.R\\\\\n  & <fct> & <dbl> & <dbl> & <dbl> & <dbl> & <dbl> & <dbl> & <dbl>\\\\\n\\hline\n\t1 & NA & 35.5 & 901 & 2.5 & 797 & 3.8 & 0.831 & 0.010\\\\\n\t2 & NA & 37.0 & 896 & 3.5 & 806 & 3.0 & 0.834 & 0.014\\\\\n\t3 & NA & 38.6 & 906 & 3.0 & 812 & 3.2 & 0.836 & 0.012\\\\\n\t4 & NA & 40.7 & 907 & 3.5 & 807 & 3.2 & 0.833 & 0.013\\\\\n\t5 & NA & 40.9 & 898 & 3.6 & 818 & 2.7 & 0.830 & 0.012\\\\\n\t6 & NA & 42.4 & 893 & 3.4 & 809 & 3.3 & 0.828 & 0.015\\\\\n\\end{tabular}\n",
      "text/plain": [
       "  Continent Latitude Females SE.F Males SE.M Ratio SE.R \n",
       "1 NA        35.5     901     2.5  797   3.8  0.831 0.010\n",
       "2 NA        37.0     896     3.5  806   3.0  0.834 0.014\n",
       "3 NA        38.6     906     3.0  812   3.2  0.836 0.012\n",
       "4 NA        40.7     907     3.5  807   3.2  0.833 0.013\n",
       "5 NA        40.9     898     3.6  818   2.7  0.830 0.012\n",
       "6 NA        42.4     893     3.4  809   3.3  0.828 0.015"
      ]
     },
     "metadata": {},
     "output_type": "display_data"
    }
   ],
   "execution_count": 6
  },
  {
   "cell_type": "code",
   "id": "31c12666-62cc-4f0d-961d-c69d9873c5e1",
   "metadata": {
    "scrolled": true,
    "ExecuteTime": {
     "end_time": "2024-04-23T14:35:18.614058Z",
     "start_time": "2024-04-23T14:35:18.427906Z"
    }
   },
   "source": [
    "summary(ex0918)"
   ],
   "outputs": [
    {
     "data": {
      "text/plain": [
       " Continent    Latitude       Females         SE.F           Males      \n",
       " NA: 9     Min.   :35.5   Min.   :889   Min.   :2.000   Min.   :789.0  \n",
       " EU:12     1st Qu.:40.7   1st Qu.:901   1st Qu.:3.200   1st Qu.:807.0  \n",
       "           Median :45.0   Median :915   Median :3.500   Median :812.0  \n",
       "           Mean   :44.6   Mean   :914   Mean   :3.652   Mean   :815.1  \n",
       "           3rd Qu.:48.8   3rd Qu.:926   3rd Qu.:4.300   3rd Qu.:819.0  \n",
       "           Max.   :56.1   Max.   :944   Max.   :6.100   Max.   :855.0  \n",
       "      SE.M           Ratio            SE.R        \n",
       " Min.   :2.200   Min.   :0.809   Min.   :0.00700  \n",
       " 1st Qu.:3.100   1st Qu.:0.824   1st Qu.:0.01200  \n",
       " Median :3.300   Median :0.826   Median :0.01300  \n",
       " Mean   :3.724   Mean   :0.827   Mean   :0.01476  \n",
       " 3rd Qu.:4.300   3rd Qu.:0.832   3rd Qu.:0.01600  \n",
       " Max.   :6.200   Max.   :0.836   Max.   :0.03200  "
      ]
     },
     "metadata": {},
     "output_type": "display_data"
    }
   ],
   "execution_count": 7
  },
  {
   "cell_type": "markdown",
   "id": "8410076d-2a85-4734-88db-b1dd1b150c22",
   "metadata": {},
   "source": [
    "Vidíme, že údaje pro female a male se významně neliší. Standard error pro female od 2.000 do 6.100 pro male od 2.200 do 6.200. Ověříme přitomnost NaN hodnot:"
   ]
  },
  {
   "cell_type": "code",
   "id": "5c92b0fc-fd98-4c18-b593-f8328727150c",
   "metadata": {
    "ExecuteTime": {
     "end_time": "2024-04-23T14:35:28.281209Z",
     "start_time": "2024-04-23T14:35:28.196985Z"
    }
   },
   "source": [
    "# Checking if we have NaN values\n",
    "any_na <- any(is.na(ex0918))\n",
    "print(any_na)"
   ],
   "outputs": [
    {
     "name": "stdout",
     "output_type": "stream",
     "text": [
      "[1] FALSE\n"
     ]
    }
   ],
   "execution_count": 8
  },
  {
   "cell_type": "markdown",
   "id": "6dfe9869cc95a96",
   "metadata": {
    "collapsed": false,
    "jupyter": {
     "outputs_hidden": false
    }
   },
   "source": [
    "We don't have any NaN values, which is fine. Now let's plot a histogram for (add smth...)"
   ]
  },
  {
   "cell_type": "code",
   "id": "5ee5b67906736f0f",
   "metadata": {
    "collapsed": false,
    "jupyter": {
     "outputs_hidden": false
    },
    "ExecuteTime": {
     "end_time": "2024-04-23T14:36:04.110930Z",
     "start_time": "2024-04-23T14:36:03.853621Z"
    }
   },
   "source": [
    "hist(ex0918$Ratio, main=\"Histogram for Ratio\", xlab=\"Ratio\")"
   ],
   "outputs": [
    {
     "data": {
      "text/plain": [
       "Plot with title \"Histogram for Ratio\""
      ],
      "image/png": "[encoded data removed]"
     },
     "metadata": {
      "image/png": {
       "width": 420,
       "height": 420
      }
     },
     "output_type": "display_data"
    }
   ],
   "execution_count": 9
  },
  {
   "cell_type": "markdown",
   "id": "80335606adfcf32",
   "metadata": {
    "collapsed": false,
    "jupyter": {
     "outputs_hidden": false
    }
   },
   "source": [
    "Tento histogram zobrazuje rozdělení proměnné 'Ratio'. Většina datových bodů se shromažďuje ve středních hodnotách. Histogram naznačuje, že distribuce proměnné 'Ratio' není rovnoměrná a ukazuje na bimodální nebo jine ne-standardní rozdělení dat."
   ]
  },
  {
   "cell_type": "code",
   "id": "582d405859c90399",
   "metadata": {
    "collapsed": false,
    "jupyter": {
     "outputs_hidden": false
    },
    "ExecuteTime": {
     "end_time": "2024-04-23T14:36:23.092323Z",
     "start_time": "2024-04-23T14:36:22.393956Z"
    }
   },
   "source": [
    "sum_females <- aggregate(Females ~ Continent, data = ex0918, sum)\n",
    "sum_males <- aggregate(Males ~ Continent, data = ex0918, sum)\n",
    "\n",
    "# Vytvoření sloupcového grafu\n",
    "barplot(rbind(sum_females$Females, sum_males$Males), \n",
    "        beside = TRUE, \n",
    "        col = c(\"lightblue\", \"lightpink\"),\n",
    "        names.arg = sum_females$Continent,\n",
    "        legend.text = c(\"Female\", \"Male\"),\n",
    "        args.legend = list(x = \"topright\"),\n",
    "        main = \"The number of male and female by Continent\",\n",
    "        ylab = \"Number\")"
   ],
   "outputs": [
    {
     "data": {
      "text/plain": [
       "Plot with title \"The number of male and female by Continent\""
      ],
      "image/png": "[encoded data removed]"
     },
     "metadata": {
      "image/png": {
       "width": 420,
       "height": 420
      }
     },
     "output_type": "display_data"
    }
   ],
   "execution_count": 10
  },
  {
   "cell_type": "markdown",
   "id": "1fca23e0-aa20-40c1-a456-94f9d229c79d",
   "metadata": {},
   "source": [
    "Na základě tohoto grafu vidíme, že počet samcu mírně převyšuje počet samic na obou kontinentech. Také počet much v Evropě je obecně vyšší než v Severní Americe."
   ]
  },
  {
   "cell_type": "markdown",
   "id": "543eb77b-8276-41a8-aa37-5b38440f07c9",
   "metadata": {},
   "source": [
    "## Úloha 2"
   ]
  },
  {
   "cell_type": "markdown",
   "id": "76b5dbf295a11132",
   "metadata": {
    "collapsed": false,
    "jupyter": {
     "outputs_hidden": false
    }
   },
   "source": [
    "#### Zkoumejme závislost vysvětlované proměnné na tomto regresoru."
   ]
  },
  {
   "cell_type": "code",
   "id": "a1ce0b38f3125ae8",
   "metadata": {
    "collapsed": false,
    "jupyter": {
     "outputs_hidden": false
    },
    "ExecuteTime": {
     "end_time": "2024-04-23T14:36:57.422686Z",
     "start_time": "2024-04-23T14:36:57.059819Z"
    }
   },
   "source": [
    "# Lineární regresní model SE.R jako funkce SE.F\n",
    "model_SE <- lm(Ratio ~ SE.F\t, data = ex0918)\n",
    "\n",
    "# Zobrazení výsledků modelu\n",
    "summary(model_SE)\n",
    "\n",
    "# Grafické zobrazení modelu s bodovým grafem a regresní linií\n",
    "plot(ex0918$SE.F, ex0918$Ratio, \n",
    "     main = \"Závislost Ratio na SE.F\", \n",
    "     xlab = \"SE.F (Standardní chyba samice)\", \n",
    "     ylab = \"Ratio\", \n",
    "     pch = 20, \n",
    "     col = \"blue\")\n",
    "\n",
    "# Přidání regresní linie do grafu\n",
    "abline(model_SE, col = \"red\")"
   ],
   "outputs": [
    {
     "data": {
      "text/plain": [
       "\n",
       "Call:\n",
       "lm(formula = Ratio ~ SE.F, data = ex0918)\n",
       "\n",
       "Residuals:\n",
       "       Min         1Q     Median         3Q        Max \n",
       "-0.0153799 -0.0016312  0.0008674  0.0028690  0.0086197 \n",
       "\n",
       "Coefficients:\n",
       "             Estimate Std. Error t value Pr(>|t|)    \n",
       "(Intercept)  0.836135   0.005264 158.845   <2e-16 ***\n",
       "SE.F        -0.002501   0.001395  -1.793   0.0888 .  \n",
       "---\n",
       "Signif. codes:  0 '***' 0.001 '**' 0.01 '*' 0.05 '.' 0.1 ' ' 1\n",
       "\n",
       "Residual standard error: 0.00609 on 19 degrees of freedom\n",
       "Multiple R-squared:  0.1448,\tAdjusted R-squared:  0.09977 \n",
       "F-statistic: 3.216 on 1 and 19 DF,  p-value: 0.08883\n"
      ]
     },
     "metadata": {},
     "output_type": "display_data"
    },
    {
     "data": {
      "text/plain": [
       "Plot with title \"Závislost Ratio na SE.F\""
      ],
      "image/png": "[encoded data removed]"
     },
     "metadata": {
      "image/png": {
       "width": 420,
       "height": 420
      }
     },
     "output_type": "display_data"
    }
   ],
   "execution_count": 11
  },
  {
   "cell_type": "markdown",
   "id": "219de2ff-44fd-495a-8ab4-e881308234bf",
   "metadata": {},
   "source": [
    "Podle výsledků regresní analýzy a grafu můžeme dělat následující závěry:\n",
    "\n",
    "* Koeficienty modelu: hodnota interceptu (průsečík s osou y) je přibližně 0.836, což naznačuje, že kdyby byla standardní chyba samice (SE.F) nula, očekávaná hodnota poměru (Ratio) by byla právě tato hodnota. Koeficient pro SE.F je negativní (-0.0025) a jeho p-hodnota je těsně nad tradiční hranicí statistické významnosti (0.0888), což znamená, že existuje možná negativní závislost mezi SE.F a Ratio, ale není považována za statisticky významnou.\n",
    "\n",
    "* Kvalita modelu: hodnota R-kvadrátu (R²) je 0.1448, což značí, že model vysvětluje přibližně 14.48% variability Ratio. To je relativně nízké a ukazuje, že SE.F není silným prediktorem pro Ratio. Upravený R-kvadrát je také nízký (0.0997), což podtrhuje, že model má omezenou predikční hodnotu.\n",
    "\n",
    "* Vizualizace modelu: graf ukazuje, že s nárůstem SE.F má tendenci klesat i Ratio, což je v souladu s negativním koeficientem uvedeným ve výsledcích modelu. Vztah mezi SE.F a Ratio je však slabý, jak naznačuje nízká hodnota R-kvadrátu a téměř hranice statistické významnosti p-hodnoty.\n",
    "\n",
    "* Závěr: tento model naznačuje možnou negativní závislost mezi SE.F a Ratio, ale tato závislost není silná a není statisticky významná na tradiční úrovni 0.05.\n",
    "\n",
    "add ex-post analysis (analyza rezidui, hodnoceni presnosti predikci)"
   ]
  },
  {
   "cell_type": "markdown",
   "id": "de01ff3cad291cfe",
   "metadata": {
    "collapsed": false,
    "jupyter": {
     "outputs_hidden": false
    }
   },
   "source": [
    "## Úloha 3\n",
    "\n",
    "V této úloze zvolíme jako regresor nějakou kategoriální proměnnou. Vzhledem k povaze poskytnutých proměnných můžeme jako kategoriální regresor zvolit proměnnou **Continent**. Ta rozděluje data do dvou odlišných skupin: \"NA\" (Severní Amerika) a \"EU\" (Evropa). Tato proměnná reprezentuje různé geografické oblasti a je rozumné předpokládat, že mouchy z různých kontinentů mohou vykazovat různé charakteristiky z hlediska velikosti nebo poměru křídel."
   ]
  },
  {
   "cell_type": "code",
   "id": "4a687550db9e848e",
   "metadata": {
    "collapsed": false,
    "jupyter": {
     "outputs_hidden": false
    },
    "ExecuteTime": {
     "end_time": "2024-04-23T14:37:35.347903Z",
     "start_time": "2024-04-23T14:37:35.300285Z"
    }
   },
   "source": [
    "# Fit the ANOVA model\n",
    "anova_model <- aov(Ratio ~ Continent, data = ex0918)\n",
    "\n",
    "# Check ANOVA table\n",
    "summary(anova_model)"
   ],
   "outputs": [
    {
     "data": {
      "text/plain": [
       "            Df    Sum Sq   Mean Sq F value  Pr(>F)   \n",
       "Continent    1 0.0003111 3.111e-04   11.53 0.00304 **\n",
       "Residuals   19 0.0005129 2.699e-05                   \n",
       "---\n",
       "Signif. codes:  0 '***' 0.001 '**' 0.01 '*' 0.05 '.' 0.1 ' ' 1"
      ]
     },
     "metadata": {},
     "output_type": "display_data"
    }
   ],
   "execution_count": 12
  },
  {
   "cell_type": "markdown",
   "id": "eebcf9b89704641b",
   "metadata": {
    "collapsed": false,
    "jupyter": {
     "outputs_hidden": false
    }
   },
   "source": [
    "#### Interpretace tabulky\n",
    "**Df**: Stupeň volnosti modelu.\n",
    "\n",
    "**Sum Sq**: Součty čtverců, představující variabilitu, kterou je model schopen zohlednit.\n",
    "\n",
    "**Mean Sq**: Průměrný čtverec je součet čtverců dělený počtem stupňů volnosti.\n",
    "\n",
    "**F-value**: Toto je poměr variance vysvětlené modelem k reziduální varianci.\n",
    "\n",
    "**Pr(>F)**: F-statistická p-hodnota, která označuje statistickou významnost faktorů.\n",
    "\n",
    "**Residuals**: Relativní odchylky od skupinového průměru se často označují jako rezidua a jejich souhrnné statistiky.\n",
    "\n",
    "Stanovíme příslušné hypotézy.\n",
    "\n",
    "**H0**: Neexistují žádné statisticky významné rozdíly mezi skupinovými průměry v proměnné Ratio mezi různými kontinenty.\n",
    "\n",
    "**HA**: Existují statisticky významné rozdíly mezi skupinovými průměry v proměnné Ratio mezi různými kontinenty.\n",
    "\n",
    "F-value pro proměnnou Continent je 11.53, což znamená, že mezi skupinovými průměry jsou signifikantní rozdíly. \n",
    "Zároveň  Pr(>F) (p-hodnota) je rovna 0,00304, což nám říká, že jsou poměrně významné rozdíly mezi skupinovými průměry statisticky. V našem případě je p-hodnota pro Continent menší než konvenční hladina významnosti 0,05 (indikovaná **), což naznačuje, že existuje statisticky významný rozdíl v proměnné Ratio mezi kontinenty.\n",
    "\n",
    "Vzhledem k tomu, že p-hodnota pro Continent je menší než konvenční hladina významnosti 0,01 a F-statistika je významná, můžeme tvrdit, že proměnná Continent je statisticky významným prediktorem proměnné Ratio. Nulovou hypotézu **zamítáme**.\n",
    "\n",
    "Nyní vyhodnotíme kvalitu modelu."
   ]
  },
  {
   "cell_type": "code",
   "id": "420471a2ffd7ef73",
   "metadata": {
    "collapsed": false,
    "jupyter": {
     "outputs_hidden": false
    },
    "ExecuteTime": {
     "end_time": "2024-04-23T14:37:38.191195Z",
     "start_time": "2024-04-23T14:37:38.145515Z"
    }
   },
   "source": [
    "# Extract sums of squares from ANOVA table\n",
    "sum_sq_continent <- summary(anova_model)[[1]]$`Sum Sq`[1]  # Sum of squares for Continent\n",
    "sum_sq_residuals <- summary(anova_model)[[1]]$`Sum Sq`[2]  # Residual sum of squares\n",
    "\n",
    "# Total sum of squares\n",
    "total_sum_sq <- sum(sum_sq_continent, sum_sq_residuals)\n",
    "\n",
    "# Eta-squared (proportion of variance explained)\n",
    "eta_squared <- sum_sq_continent / total_sum_sq\n",
    "\n",
    "# Print eta-squared\n",
    "print(eta_squared)"
   ],
   "outputs": [
    {
     "name": "stdout",
     "output_type": "stream",
     "text": [
      "[1] 0.377562\n"
     ]
    }
   ],
   "execution_count": 13
  },
  {
   "cell_type": "code",
   "id": "5ba0ec754f918e35",
   "metadata": {
    "collapsed": false,
    "jupyter": {
     "outputs_hidden": false
    },
    "ExecuteTime": {
     "end_time": "2024-04-23T14:42:27.781019Z",
     "start_time": "2024-04-23T14:42:26.667423Z"
    }
   },
   "source": [
    "library(car)\n",
    "library(emmeans) # For calculating marginal means (least-squares means)\n",
    "\n",
    "# Fit your linear model using lm() function\n",
    "lm_model <- lm(Ratio ~ Continent, data = ex0918)\n",
    "\n",
    "# Anova to test the significance of the categorical predictor\n",
    "anova_result <- Anova(lm_model, type=\"III\")\n",
    "\n",
    "print(anova_result)\n",
    "\n",
    "# Calculate marginal (least-squares) means for each level of the categorical predictor\n",
    "marginal_means <- emmeans(lm_model, specs = ~ Continent, data = ex0918)\n",
    "\n",
    "print(marginal_means)\n",
    "\n",
    "plot(marginal_means)\n",
    "\n",
    "conf_intervals <- confint(marginal_means)\n",
    "\n",
    "print(conf_intervals)"
   ],
   "outputs": [
    {
     "name": "stdout",
     "output_type": "stream",
     "text": [
      "Anova Table (Type III tests)\n",
      "\n",
      "Response: Ratio\n",
      "            Sum Sq Df    F value  Pr(>F)    \n",
      "(Intercept) 6.2217  1 230483.209 < 2e-16 ***\n",
      "Continent   0.0003  1     11.525 0.00304 ** \n",
      "Residuals   0.0005 19                       \n",
      "---\n",
      "Signif. codes:  0 '***' 0.001 '**' 0.01 '*' 0.05 '.' 0.1 ' ' 1\n",
      " Continent emmean       SE df lower.CL upper.CL\n",
      " NA        0.8314 0.001732 19   0.8278   0.8351\n",
      " EU        0.8237 0.001500 19   0.8205   0.8268\n",
      "\n",
      "Confidence level used: 0.95 \n",
      " Continent emmean       SE df lower.CL upper.CL\n",
      " NA        0.8314 0.001732 19   0.8278   0.8351\n",
      " EU        0.8237 0.001500 19   0.8205   0.8268\n",
      "\n",
      "Confidence level used: 0.95 \n"
     ]
    },
    {
     "data": {
      "text/plain": [
       "plot without title"
      ],
      "image/png": "[encoded data removed]"
     },
     "metadata": {
      "image/png": {
       "width": 420,
       "height": 420
      }
     },
     "output_type": "display_data"
    }
   ],
   "execution_count": 17
  },
  {
   "cell_type": "markdown",
   "id": "3a027be6fcec6913",
   "metadata": {
    "collapsed": false,
    "jupyter": {
     "outputs_hidden": false
    }
   },
   "source": [
    "Z tabulky ANOVA vyplývá, že model zahrnující kategorický prediktor \"Kontinent\" je statisticky významný (F(1, 19) = 11,525, p = 0,00304), což naznačuje, že existují významné rozdíly v příznaku \"Ratio\" mezi jednotlivými kontinenty.\n",
    "\n",
    "Marginal Means pro Severní Ameriku (NA): Odhadovaný průměrný \"Ratio\" pro pozorování je 0,8314 s 95% intervalem spolehlivosti v rozmezí 0,8278 až 0,8351.\n",
    "Marginal Means pro Evropu (EU): Odhadovaný průměrný \"Ratio\" pro pozorování v Evropě je 0,8237 s 95% intervalem spolehlivosti v rozmezí od 0,8205 do 0,8268.\n",
    "\n",
    "Na základě výsledků ANOVA můžeme říct, že příznak \"Ratio\" se na jednotlivých kontinentech významně liší. Konkrétně je vyšší v Severní Americe ve srovnání s Evropou, jak naznačují marginal means. To znamená, že kontinent, na kterém je pozorování prováděno, ovlivňuje hodnotu proměnné \"Ratio\".\n",
    "\n",
    "Nyní analyzujme R-squared hodnotu. R-squared (koeficient determinace) je měřítkem toho, jak dobře nezávislé proměnné v regresním modelu vysvětlují variabilitu závislé proměnné. Je to užitečná metrika pro hodnocení regresního modelu."
   ]
  },
  {
   "cell_type": "code",
   "id": "1b284cede518e18d",
   "metadata": {
    "collapsed": false,
    "jupyter": {
     "outputs_hidden": false
    },
    "ExecuteTime": {
     "end_time": "2024-04-23T14:42:41.033797Z",
     "start_time": "2024-04-23T14:42:40.988213Z"
    }
   },
   "source": [
    "# R-squared value\n",
    "r_squared <- summary(lm_model)$r.squared\n",
    "\n",
    "print(paste(\"R-squared:\", round(r_squared, 3)))"
   ],
   "outputs": [
    {
     "name": "stdout",
     "output_type": "stream",
     "text": [
      "[1] \"R-squared: 0.378\"\n"
     ]
    }
   ],
   "execution_count": 18
  },
  {
   "cell_type": "markdown",
   "id": "edc2602ec95e6a28",
   "metadata": {
    "collapsed": false,
    "jupyter": {
     "outputs_hidden": false
    }
   },
   "source": [
    "R-square ukazuje, že přibližně 37,8 % rozptylu závislé proměnné (\"Ratio\") je vysvětleno nezávislou proměnnou v našem modelu. Náš model teda vysvětluje střední množství rozptylu závislé proměnné, což je celkem fajn, i když je stále co zlepšovat."
   ]
  },
  {
   "cell_type": "markdown",
   "id": "f2c0a63766c54848",
   "metadata": {
    "collapsed": false,
    "jupyter": {
     "outputs_hidden": false
    }
   },
   "source": [
    "## Úloha 4\n",
    "\n",
    "Z předchozích dvou bodů máme 2 regresní modely: jeden zkoumá závislost vysvětlované proměnné na numerickém regresoru, druhý na kategoriálním. Naším cílem je nyní tyto dva modely spojit, zjistit jejich parametry a interpretovat je."
   ]
  },
  {
   "cell_type": "code",
   "id": "b9b26a1589ff7e4e",
   "metadata": {
    "collapsed": false,
    "jupyter": {
     "outputs_hidden": false
    },
    "ExecuteTime": {
     "end_time": "2024-04-23T16:13:39.458666Z",
     "start_time": "2024-04-23T16:13:39.106107Z"
    }
   },
   "source": [
    "# Fit the linear model with both regressors and their interaction\n",
    "lm_interaction <- lm(Ratio ~ SE.F * Continent, data = ex0918)\n",
    "\n",
    "# Summarize the model\n",
    "summary(lm_interaction)"
   ],
   "outputs": [
    {
     "data": {
      "text/plain": [
       "\n",
       "Call:\n",
       "lm(formula = Ratio ~ SE.F * Continent, data = ex0918)\n",
       "\n",
       "Residuals:\n",
       "      Min        1Q    Median        3Q       Max \n",
       "-0.013493 -0.001947  0.001236  0.002658  0.010296 \n",
       "\n",
       "Coefficients:\n",
       "                   Estimate Std. Error t value Pr(>|t|)    \n",
       "(Intercept)       0.8334573  0.0090948  91.641   <2e-16 ***\n",
       "SE.F             -0.0006120  0.0027122  -0.226    0.824    \n",
       "ContinentEU      -0.0038475  0.0108748  -0.354    0.728    \n",
       "SE.F:ContinentEU -0.0009022  0.0030839  -0.293    0.773    \n",
       "---\n",
       "Signif. codes:  0 '***' 0.001 '**' 0.01 '*' 0.05 '.' 0.1 ' ' 1\n",
       "\n",
       "Residual standard error: 0.005321 on 17 degrees of freedom\n",
       "Multiple R-squared:  0.4159,\tAdjusted R-squared:  0.3128 \n",
       "F-statistic: 4.035 on 3 and 17 DF,  p-value: 0.02453\n"
      ]
     },
     "metadata": {},
     "output_type": "display_data"
    }
   ],
   "execution_count": 19
  },
  {
   "cell_type": "markdown",
   "id": "51dcef6e167c732f",
   "metadata": {},
   "source": [
    "Interpretujme koeficienty a prozkoumejme význam jednotlivých složek modelu.\n",
    "\n",
    "#### Koeficienty modelu\n",
    "\n",
    "**Intercept**: Intercept představuje odhadovanou střední hodnotu závislé proměnné (Ratio), když jsou všechny ostatní prediktory nulové (tj. SE.F a Continent). V tomto případě je odhadovaná střední hodnota Ratio přibližně 0,833. Tento koeficient je vysoce signifikantní (p < 2e-16), což znamená, že intercept se významně liší od nuly.\n",
    "\n",
    "**SE.F**: Koeficient SE.F je přibližně -0,000612, ale není statisticky významný (p = 0,824). Z toho plyne, že mezi číselným regresorem SE.F a závislou proměnnou Ratio není významný lineární vztah.\n",
    "\n",
    "**ContinentEU**: Koeficient pro ContinentEU je přibližně -0,003847, ale není statisticky významný (p = 0,728). To znamená, že mezi EU a NA není významný rozdíl v průměru Ratio.\n",
    "\n",
    "**Interaction Term (SE.F:ContinentEU)**: Koeficient pro interakční člen SE.F:ContinentEU je přibližně -0,0009022, ale není statisticky významný (p = 0,773). To naznačuje, že interakční účinek mezi SE.F a ContinentEU na poměr není významný.\n",
    "\n",
    "#### Přizpůsobení modelu\n",
    "\n",
    "**Multiple R-squared**: je rovna 0,4159, což znamená, že přibližně 41,59 % rozptylu závislé proměnné je vysvětleno prediktory (SE.F, Kontinent a jejich interakce) v modelu.\n",
    "\n",
    "**Adjusted R-squared**: je rovna 0,3128, což je o něco méně než násobná hodnota R-kvadrátu. Tato hodnota zohledňuje počet prediktorů v modelu a penalizuje za další prediktory, čímž poskytuje konzervativnější odhad dobré shody modelu.\n",
    "\n",
    "**F-statistic**: F-statistika je 4,035 s p-hodnotou 0,02453, což znamená, že model jako celek je statisticky významný na hladině významnosti 0,001. Tato významnost však nemusí nutně znamenat, že každý jednotlivý prediktor v modelu je významný.\n",
    "\n",
    "#### Závěr\n",
    "Intercept je statisticky významný, avšak ani číselný regresor (SE.F), ani kategoriální regresor (Kontinent), ani jejich interakční člen významně nevysvětlují rozptyl závislé proměnné v tomto modelu. Celkový model je statisticky významný, ale nedostatečná významnost jednotlivých prediktorů naznačuje, že tento model nemusí být nejvhodnější pro vysvětlení variability proměnné Ratio.\n",
    "\n",
    "#### Grafické znázorněni\n",
    "Jelikož náš model zahrnuje jak číselný regresor (SE.F), tak kategoriální regresor (Continent) spolu s jejich interakčním členem, můžeme vytvořit samostatné grafy rozptylu pro každou kategorii proměnné Continent a zobrazit tak regresní vztah graficky."
   ]
  },
  {
   "cell_type": "code",
   "id": "309149df17285246",
   "metadata": {
    "ExecuteTime": {
     "end_time": "2024-04-23T16:13:46.438167Z",
     "start_time": "2024-04-23T16:13:43.438817Z"
    }
   },
   "source": [
    "# Generate scatter plots with regression lines for each level of the categorical variable\n",
    "ggplot(ex0918, aes(x = SE.F, y = Ratio, color = Continent)) +\n",
    "  geom_point() +\n",
    "  geom_smooth(method = \"lm\", se = FALSE) +\n",
    "  facet_wrap(~ Continent) +\n",
    "  labs(title = \"Regression Relationship between SE.F and Ratio by Continent\",\n",
    "       x = \"SE.F\", y = \"Ratio\")"
   ],
   "outputs": [
    {
     "name": "stderr",
     "output_type": "stream",
     "text": [
      "\u001B[1m\u001B[22m`geom_smooth()` using formula = 'y ~ x'\n"
     ]
    },
    {
     "data": {
      "text/plain": [
       "plot without title"
      ],
      "image/png": "[encoded data removed]"
     },
     "metadata": {
      "image/png": {
       "width": 420,
       "height": 420
      }
     },
     "output_type": "display_data"
    }
   ],
   "execution_count": 20
  },
  {
   "cell_type": "markdown",
   "id": "f752e3d23074ac8b",
   "metadata": {},
   "source": [
    "Vidíme bodový graf s dvěma regresními přímkami, které představují odhad vztahu mezi dvěma proměnnými. Obě přímky směřují dolů, což naznačuje záporný vztah, tj. zvýšení hodnoty SE.F je doprovázeno snížením hodnoty Ratio. Rovněž pravá přímka je strmější. Strmost přímky odráží sílu vztahu mezi proměnnými, tj. v Evropě existuje silnější vztah mezi proměnnými Ratio a SE.F. Každý bod na grafu představuje jednotlivé pozorování a je vidět, že v evropských datech je více odlehlých hodnot."
   ]
  },
  {
   "cell_type": "markdown",
   "id": "5fafc04682289db0",
   "metadata": {},
   "source": [
    "## Úloha 5\n",
    "V této úloze budeme zkoumat model s předchozími dvěma regresory (číselným regresorem *SE.F* a kategoriálním regresorem *Continent*) a přidáme ostatní regresory."
   ]
  },
  {
   "cell_type": "code",
   "id": "ff02848eafb98c18",
   "metadata": {
    "ExecuteTime": {
     "end_time": "2024-04-23T21:08:13.323268Z",
     "start_time": "2024-04-23T21:08:13.191140Z"
    }
   },
   "source": [
    "# Fitování modelu s všemi regresory\n",
    "fit_all <- lm(Ratio ~ SE.F + Continent + Latitude + Females + Males + SE.M + SE.R, data = ex0918)\n",
    "\n",
    "# Sumarizace modelu\n",
    "summary(fit_all)"
   ],
   "outputs": [
    {
     "data": {
      "text/plain": [
       "\n",
       "Call:\n",
       "lm(formula = Ratio ~ SE.F + Continent + Latitude + Females + \n",
       "    Males + SE.M + SE.R, data = ex0918)\n",
       "\n",
       "Residuals:\n",
       "       Min         1Q     Median         3Q        Max \n",
       "-0.0089092 -0.0022860  0.0006879  0.0016972  0.0089463 \n",
       "\n",
       "Coefficients:\n",
       "              Estimate Std. Error t value Pr(>|t|)    \n",
       "(Intercept)  6.916e-01  1.163e-01   5.949 4.83e-05 ***\n",
       "SE.F        -3.743e-04  1.701e-03  -0.220  0.82927    \n",
       "ContinentEU -9.302e-03  2.814e-03  -3.305  0.00569 ** \n",
       "Latitude    -3.239e-05  3.244e-04  -0.100  0.92199    \n",
       "Females      2.988e-04  1.423e-04   2.100  0.05586 .  \n",
       "Males       -1.535e-04  1.317e-04  -1.166  0.26472    \n",
       "SE.M        -1.447e-03  1.413e-03  -1.024  0.32453    \n",
       "SE.R         6.267e-02  2.867e-01   0.219  0.83037    \n",
       "---\n",
       "Signif. codes:  0 '***' 0.001 '**' 0.01 '*' 0.05 '.' 0.1 ' ' 1\n",
       "\n",
       "Residual standard error: 0.005043 on 13 degrees of freedom\n",
       "Multiple R-squared:  0.5988,\tAdjusted R-squared:  0.3828 \n",
       "F-statistic: 2.772 on 7 and 13 DF,  p-value: 0.05346\n"
      ]
     },
     "metadata": {},
     "output_type": "display_data"
    }
   ],
   "execution_count": 23
  },
  {
   "metadata": {},
   "cell_type": "markdown",
   "source": [
    "Z výsledků modelu můžeme vidět, které regresory jsou statisticky významné a které ne:\n",
    "\n",
    "Statisticky významné regresory:\n",
    "\n",
    "* **Intercept**: Koeficient interceptu je významný s p-hodnotou 4.83e-05, což naznačuje, že průměrná hodnota Ratio není nulová, když jsou všechny ostatní regresory nulové.\n",
    "\n",
    "* **ContinentEU**: Proměnná \"ContinentEU\" má významný vliv na Ratio s p-hodnotou 0.00569, což znamená, že průměrné Ratio se liší mezi kontinenty (Evropou a Severní Amerikou).\n",
    "\n",
    "Nevýznamné regresory:\n",
    "\n",
    "* **SE.F, Latitude, Males, SE.M, SE.R**: Tyto regresory mají vysoké p-hodnoty (nad hladinou významnosti 0.05), což naznačuje, že jejich vliv na Ratio není statisticky významný.\n",
    "\n",
    "* **Females**: Proměnná \"Females\" má p-hodnotu 0.05586, která je těsně nad hladinou významnosti 0.05. I když tato hodnota není statisticky významná na konvenční úrovni, může stále existovat nějaký vliv Females na Ratio, který by mohl být důležitý při další analýze.\n",
    "\n",
    "\n",
    "Nevýznamnost musíme interpretovat z hlediska každého z regresorů zvlášť.\n",
    "\n",
    "Nejdříve vybereme nejméně signifikantní proměnnou z původního modelu. V našem případě, když se podíváme na p-hodnoty, můžeme vidět, že nejméně významnou proměnnou je \"Latitude\""
   ],
   "id": "c186f6f0cb9fb358"
  },
  {
   "metadata": {
    "ExecuteTime": {
     "end_time": "2024-04-23T22:17:38.102654Z",
     "start_time": "2024-04-23T22:17:37.953874Z"
    }
   },
   "cell_type": "code",
   "source": [
    "fit_all_bez_latitude <- lm(Ratio ~ SE.F + Continent + Females + Males + SE.M + SE.R, data = ex0918)\n",
    "\n",
    "# Sumarizace modelu\n",
    "summary(fit_all_bez_latitude)"
   ],
   "id": "a0fe782852bebf07",
   "outputs": [
    {
     "data": {
      "text/plain": [
       "\n",
       "Call:\n",
       "lm(formula = Ratio ~ SE.F + Continent + Females + Males + SE.M + \n",
       "    SE.R, data = ex0918)\n",
       "\n",
       "Residuals:\n",
       "       Min         1Q     Median         3Q        Max \n",
       "-0.0089437 -0.0021349  0.0007334  0.0015959  0.0087511 \n",
       "\n",
       "Coefficients:\n",
       "              Estimate Std. Error t value Pr(>|t|)    \n",
       "(Intercept)  0.6993286  0.0840434   8.321 8.64e-07 ***\n",
       "SE.F        -0.0004060  0.0016108  -0.252  0.80465    \n",
       "ContinentEU -0.0093277  0.0027018  -3.452  0.00389 ** \n",
       "Females      0.0002924  0.0001224   2.388  0.03158 *  \n",
       "Males       -0.0001575  0.0001209  -1.302  0.21379    \n",
       "SE.M        -0.0014410  0.0013612  -1.059  0.30769    \n",
       "SE.R         0.0696205  0.2680808   0.260  0.79888    \n",
       "---\n",
       "Signif. codes:  0 '***' 0.001 '**' 0.01 '*' 0.05 '.' 0.1 ' ' 1\n",
       "\n",
       "Residual standard error: 0.004861 on 14 degrees of freedom\n",
       "Multiple R-squared:  0.5985,\tAdjusted R-squared:  0.4265 \n",
       "F-statistic: 3.479 on 6 and 14 DF,  p-value: 0.02559\n"
      ]
     },
     "metadata": {},
     "output_type": "display_data"
    }
   ],
   "execution_count": 24
  },
  {
   "metadata": {},
   "cell_type": "markdown",
   "source": [
    "- Obyčejný koeficient determinace `Multiple R-squared` je 0.5985,\n",
    "- adjustovaný koeficient determinace `Adjusted R-squared` je 0.4265.\n",
    "\n",
    "\n",
    "Porovnáme s koeficienty determinace původního modelu `fit_all`:"
   ],
   "id": "5e47d4bec3a54096"
  },
  {
   "metadata": {
    "ExecuteTime": {
     "end_time": "2024-04-23T22:34:29.753550Z",
     "start_time": "2024-04-23T22:34:29.570236Z"
    }
   },
   "cell_type": "code",
   "source": [
    "summary(fit_all)$r.squared\n",
    "summary(fit_all)$adj.r.squared"
   ],
   "id": "9745e7cdcd4c196",
   "outputs": [
    {
     "data": {
      "text/html": [
       "0.598831509384122"
      ],
      "text/markdown": "0.598831509384122",
      "text/latex": "0.598831509384122",
      "text/plain": [
       "[1] 0.5988315"
      ]
     },
     "metadata": {},
     "output_type": "display_data"
    },
    {
     "data": {
      "text/html": [
       "0.382817706744804"
      ],
      "text/markdown": "0.382817706744804",
      "text/latex": "0.382817706744804",
      "text/plain": [
       "[1] 0.3828177"
      ]
     },
     "metadata": {},
     "output_type": "display_data"
    }
   ],
   "execution_count": 25
  },
  {
   "metadata": {},
   "cell_type": "markdown",
   "source": [
    " Porovnáním koeficientů determinace původního modelu (fit_all) a modelu bez nevýznamného regresoru můžeme pozorovat zlepšení v případě adjustovaného koeficientu determinace. To naznačuje, že odstraněním nevýznamného regresoru se snížila složitost modelu a zlepšila jeho schopnost vysvětlit pozorovanou varianci závislé proměnné.\n",
    "\n",
    "Nicméně, oba modely stále vykazují poměrně nízký koeficient determinace.\n",
    "\n",
    "Můžeme provést podobnou analýzu pro zbývající regresory a zjistit, zda jejich odstranění vede k dalšímu zlepšení modelu"
   ],
   "id": "8238995ce2c32a68"
  },
  {
   "metadata": {
    "ExecuteTime": {
     "end_time": "2024-04-24T00:08:28.462786Z",
     "start_time": "2024-04-24T00:08:28.304322Z"
    }
   },
   "cell_type": "code",
   "source": [
    "fit_all_bez_sef <- lm(Ratio ~ Continent + Females + Males + SE.M + SE.R, data = ex0918)\n",
    "\n",
    "# Sumarizace modelu\n",
    "summary(fit_all_bez_sef)"
   ],
   "id": "9834b9ee2836d1fc",
   "outputs": [
    {
     "data": {
      "text/plain": [
       "\n",
       "Call:\n",
       "lm(formula = Ratio ~ Continent + Females + Males + SE.M + SE.R, \n",
       "    data = ex0918)\n",
       "\n",
       "Residuals:\n",
       "       Min         1Q     Median         3Q        Max \n",
       "-0.0087555 -0.0020760  0.0005857  0.0016038  0.0088425 \n",
       "\n",
       "Coefficients:\n",
       "              Estimate Std. Error t value Pr(>|t|)    \n",
       "(Intercept)  0.6902299  0.0734901   9.392 1.13e-07 ***\n",
       "ContinentEU -0.0096092  0.0023821  -4.034  0.00108 ** \n",
       "Females      0.0003030  0.0001113   2.721  0.01577 *  \n",
       "Males       -0.0001588  0.0001170  -1.357  0.19489    \n",
       "SE.M        -0.0015151  0.0012869  -1.177  0.25742    \n",
       "SE.R         0.0279050  0.2042142   0.137  0.89313    \n",
       "---\n",
       "Signif. codes:  0 '***' 0.001 '**' 0.01 '*' 0.05 '.' 0.1 ' ' 1\n",
       "\n",
       "Residual standard error: 0.004707 on 15 degrees of freedom\n",
       "Multiple R-squared:  0.5967,\tAdjusted R-squared:  0.4623 \n",
       "F-statistic: 4.439 on 5 and 15 DF,  p-value: 0.0111\n"
      ]
     },
     "metadata": {},
     "output_type": "display_data"
    }
   ],
   "execution_count": 38
  },
  {
   "metadata": {},
   "cell_type": "markdown",
   "source": [
    "- Obyčejný koeficient determinace `Multiple R-squared` je 0.5967,\n",
    "- adjustovaný koeficient determinace `Adjusted R-squared` je 0.4623.\n",
    "\n",
    "\n",
    "Porovnáme s koeficienty determinace původního modelu `fit_all`.\n",
    "\n",
    "Zdá se, že odstranění dalšího regresoru vedlo ke zlepšení adjustovaného koeficientu determinace, což naznačuje, že nový model lépe vysvětluje variabilitu v datech než původní model.\n",
    "\n",
    "Nicméně, i když je adjustovaný koeficient determinace vyšší, stále zůstává relativně nízký, což naznačuje, že model možná stále nedokáže plně vysvětlit veškerou variabilitu v datech.\n",
    "\n",
    "Můžeme provést podobnou analýzu pro zbývající regresory a zjistit, zda jejich odstranění vede k dalšímu zlepšení modelu."
   ],
   "id": "fcdd9b1b3f7959af"
  },
  {
   "metadata": {
    "ExecuteTime": {
     "end_time": "2024-04-24T18:08:00.063708Z",
     "start_time": "2024-04-24T18:07:59.907916Z"
    }
   },
   "cell_type": "code",
   "source": [
    "fit_all_bez_ser <- lm(Ratio ~ Continent + Females + Males + SE.M, data = ex0918)\n",
    "\n",
    "# Sumarizace modelu\n",
    "summary(fit_all_bez_ser)"
   ],
   "id": "31bf2404c60c12e5",
   "outputs": [
    {
     "data": {
      "text/plain": [
       "\n",
       "Call:\n",
       "lm(formula = Ratio ~ Continent + Females + Males + SE.M, data = ex0918)\n",
       "\n",
       "Residuals:\n",
       "       Min         1Q     Median         3Q        Max \n",
       "-0.0085981 -0.0017321  0.0005749  0.0019063  0.0089381 \n",
       "\n",
       "Coefficients:\n",
       "              Estimate Std. Error t value Pr(>|t|)    \n",
       "(Intercept)  0.6889156  0.0705883   9.760 3.85e-08 ***\n",
       "ContinentEU -0.0095753  0.0022954  -4.172  0.00072 ***\n",
       "Females      0.0003006  0.0001066   2.820  0.01232 *  \n",
       "Males       -0.0001540  0.0001083  -1.422  0.17411    \n",
       "SE.M        -0.0015211  0.0012461  -1.221  0.23989    \n",
       "---\n",
       "Signif. codes:  0 '***' 0.001 '**' 0.01 '*' 0.05 '.' 0.1 ' ' 1\n",
       "\n",
       "Residual standard error: 0.00456 on 16 degrees of freedom\n",
       "Multiple R-squared:  0.5962,\tAdjusted R-squared:  0.4952 \n",
       "F-statistic: 5.906 on 4 and 16 DF,  p-value: 0.004078\n"
      ]
     },
     "metadata": {},
     "output_type": "display_data"
    }
   ],
   "execution_count": 87
  },
  {
   "metadata": {},
   "cell_type": "markdown",
   "source": [
    "- Obyčejný koeficient determinace `Multiple R-squared` je 0.5962,\n",
    "- adjustovaný koeficient determinace `Adjusted R-squared` je 0.4952.\n",
    "\n",
    "Porovnáme s koeficienty determinace původního modelu `fit_all`.\n",
    "Odstranění dalšího regresoru opět vedlo ke zlepšení adjustovaného koeficientu determinace, což naznačuje, že nový model lépe vysvětluje variabilitu v datech než původní model.\n",
    "\n",
    "Nicméně, i když je adjustovaný koeficient determinace vyšší, stále zůstává relativně nízký, což naznačuje, že model možná stále nedokáže plně vysvětlit veškerou variabilitu v datech.\n",
    "Můžeme provést podobnou analýzu pro zbývající regresory a zjistit, zda jejich odstranění vede k dalšímu zlepšení modelu."
   ],
   "id": "bb7bded434a96a57"
  },
  {
   "metadata": {
    "ExecuteTime": {
     "end_time": "2024-04-23T23:46:14.925570Z",
     "start_time": "2024-04-23T23:46:14.752053Z"
    }
   },
   "cell_type": "code",
   "source": [
    "fit_all_bez_sem <- lm(Ratio ~ Continent + Females + Males, data = ex0918)\n",
    "\n",
    "# Sumarizace modelu\n",
    "summary(fit_all_bez_sem)"
   ],
   "id": "36c212687aa0ba49",
   "outputs": [
    {
     "data": {
      "text/plain": [
       "\n",
       "Call:\n",
       "lm(formula = Ratio ~ Continent + Females + Males, data = ex0918)\n",
       "\n",
       "Residuals:\n",
       "       Min         1Q     Median         3Q        Max \n",
       "-0.0087454 -0.0015544 -0.0002749  0.0012745  0.0101988 \n",
       "\n",
       "Coefficients:\n",
       "              Estimate Std. Error t value Pr(>|t|)    \n",
       "(Intercept)  6.824e-01  7.139e-02   9.558 2.99e-08 ***\n",
       "ContinentEU -1.007e-02  2.292e-03  -4.395 0.000396 ***\n",
       "Females      2.377e-04  9.461e-05   2.512 0.022400 *  \n",
       "Males       -8.196e-05  9.208e-05  -0.890 0.385837    \n",
       "---\n",
       "Signif. codes:  0 '***' 0.001 '**' 0.01 '*' 0.05 '.' 0.1 ' ' 1\n",
       "\n",
       "Residual standard error: 0.004625 on 17 degrees of freedom\n",
       "Multiple R-squared:  0.5586,\tAdjusted R-squared:  0.4807 \n",
       "F-statistic: 7.171 on 3 and 17 DF,  p-value: 0.002555\n"
      ]
     },
     "metadata": {},
     "output_type": "display_data"
    }
   ],
   "execution_count": 34
  },
  {
   "metadata": {},
   "cell_type": "markdown",
   "source": [
    "- Obyčejný koeficient determinace `Multiple R-squared` je 0.5586,\n",
    "- adjustovaný koeficient determinace `Adjusted R-squared` je 0.4807.\n",
    "\n",
    "Jak vidíme, hodnoty jsou menší než v předchozím modelu.\n"
   ],
   "id": "955e32d68c875b5f"
  },
  {
   "metadata": {},
   "cell_type": "markdown",
   "source": [
    "#### Model vs. podmodel\n",
    "Testujme, zda je možné redukovat původní model `fit_all` na podmodel `fit_all_bez_ser`.\n",
    "\n",
    "Zkoumáme tak, jestli je rozdíl v reziduálních součtech čtverců významně velký, tedy zda širší model vnáší "
   ],
   "id": "69eaa4190833a93a"
  },
  {
   "metadata": {
    "ExecuteTime": {
     "end_time": "2024-04-24T00:02:35.364732Z",
     "start_time": "2024-04-24T00:02:35.174887Z"
    }
   },
   "cell_type": "code",
   "source": "anova(fit_all_bez_ser,fit_all)",
   "id": "34db6a67bb95ad8f",
   "outputs": [
    {
     "data": {
      "text/html": [
       "<table class=\"dataframe\">\n",
       "<caption>A anova: 2 × 6</caption>\n",
       "<thead>\n",
       "\t<tr><th></th><th scope=col>Res.Df</th><th scope=col>RSS</th><th scope=col>Df</th><th scope=col>Sum of Sq</th><th scope=col>F</th><th scope=col>Pr(&gt;F)</th></tr>\n",
       "\t<tr><th></th><th scope=col>&lt;dbl&gt;</th><th scope=col>&lt;dbl&gt;</th><th scope=col>&lt;dbl&gt;</th><th scope=col>&lt;dbl&gt;</th><th scope=col>&lt;dbl&gt;</th><th scope=col>&lt;dbl&gt;</th></tr>\n",
       "</thead>\n",
       "<tbody>\n",
       "\t<tr><th scope=row>1</th><td>16</td><td>0.0003327314</td><td>NA</td><td>          NA</td><td>        NA</td><td>      NA</td></tr>\n",
       "\t<tr><th scope=row>2</th><td>13</td><td>0.0003305628</td><td> 3</td><td>2.168598e-06</td><td>0.02842806</td><td>0.993218</td></tr>\n",
       "</tbody>\n",
       "</table>\n"
      ],
      "text/markdown": "\nA anova: 2 × 6\n\n| <!--/--> | Res.Df &lt;dbl&gt; | RSS &lt;dbl&gt; | Df &lt;dbl&gt; | Sum of Sq &lt;dbl&gt; | F &lt;dbl&gt; | Pr(&gt;F) &lt;dbl&gt; |\n|---|---|---|---|---|---|---|\n| 1 | 16 | 0.0003327314 | NA |           NA |         NA |       NA |\n| 2 | 13 | 0.0003305628 |  3 | 2.168598e-06 | 0.02842806 | 0.993218 |\n\n",
      "text/latex": "A anova: 2 × 6\n\\begin{tabular}{r|llllll}\n  & Res.Df & RSS & Df & Sum of Sq & F & Pr(>F)\\\\\n  & <dbl> & <dbl> & <dbl> & <dbl> & <dbl> & <dbl>\\\\\n\\hline\n\t1 & 16 & 0.0003327314 & NA &           NA &         NA &       NA\\\\\n\t2 & 13 & 0.0003305628 &  3 & 2.168598e-06 & 0.02842806 & 0.993218\\\\\n\\end{tabular}\n",
      "text/plain": [
       "  Res.Df RSS          Df Sum of Sq    F          Pr(>F)  \n",
       "1 16     0.0003327314 NA           NA         NA       NA\n",
       "2 13     0.0003305628  3 2.168598e-06 0.02842806 0.993218"
      ]
     },
     "metadata": {},
     "output_type": "display_data"
    }
   ],
   "execution_count": 36
  },
  {
   "metadata": {},
   "cell_type": "markdown",
   "source": [
    "* Residual degrees of freedom (Res.Df): 16 (pro fit_all_bez_ser) a 13 (pro fit_all)\n",
    "* Residual Sum of Squares (RSS): 0.0003327314 (pro fit_all_bez_ser) a 0.0003305628 (pro fit_all)\n",
    "* Df: 3 (rozdíl v počtu parametrů mezi modely)\n",
    "* Sum of Sq: 2.168598e-06 (rozdíl v reziduálních součtech čtverců)\n",
    "* F-statistic: 0.02842806\n",
    "* Pr(>F): 0.993218 (p-hodnota testu)\n",
    "\n",
    "Vzhledem k tomu, že p-hodnota (Pr(>F)) je výrazně vyšší než konvenční hladina významnosti 0.05, nemůžeme zamítnout nulovou hypotézu. To znamená, že není dostatečný statistický důkaz pro tvrzení, že širší model (fit_all) je lepší než podmodel (fit_all_bez_ser). Na základě tohoto testu nelze říci, že redukce modelu je oprávněná."
   ],
   "id": "915bf4c90eb32f0"
  },
  {
   "metadata": {},
   "cell_type": "markdown",
   "source": [
    "#### Model s interakcemi\n",
    "Zkusme v širším modelu `fit_all` přidat i interakce a otestovat, jestli přináší významné zlepšení predikce:"
   ],
   "id": "c685bcee60375448"
  },
  {
   "metadata": {
    "ExecuteTime": {
     "end_time": "2024-04-24T14:12:09.532685Z",
     "start_time": "2024-04-24T14:12:09.408354Z"
    }
   },
   "cell_type": "code",
   "source": [
    "# Fitování modelu s všemi regresory\n",
    "fit_int_1 <- lm(Ratio ~ SE.F * Continent * Latitude * Females * Males * SE.M * SE.R, data = ex0918)\n",
    "\n",
    "# Sumarizace modelu\n",
    "summary(fit_int_1)"
   ],
   "id": "ad14fbc7b7652952",
   "outputs": [
    {
     "data": {
      "text/plain": [
       "\n",
       "Call:\n",
       "lm(formula = Ratio ~ SE.F * Continent * Latitude * Females * \n",
       "    Males * SE.M * SE.R, data = ex0918)\n",
       "\n",
       "Residuals:\n",
       "ALL 21 residuals are 0: no residual degrees of freedom!\n",
       "\n",
       "Coefficients: (107 not defined because of singularities)\n",
       "                                                    Estimate Std. Error t value\n",
       "(Intercept)                                       -1.564e+03        NaN     NaN\n",
       "SE.F                                              -6.262e+01        NaN     NaN\n",
       "ContinentEU                                        8.732e+01        NaN     NaN\n",
       "Latitude                                          -5.793e+00        NaN     NaN\n",
       "Females                                            2.456e+00        NaN     NaN\n",
       "Males                                              1.664e+00        NaN     NaN\n",
       "SE.M                                              -6.588e+00        NaN     NaN\n",
       "SE.R                                               1.006e+02        NaN     NaN\n",
       "SE.F:ContinentEU                                   7.047e-01        NaN     NaN\n",
       "SE.F:Latitude                                     -1.891e-01        NaN     NaN\n",
       "ContinentEU:Latitude                              -7.434e-02        NaN     NaN\n",
       "SE.F:Females                                       8.741e-02        NaN     NaN\n",
       "ContinentEU:Females                                7.025e-02        NaN     NaN\n",
       "Latitude:Females                                  -1.251e-02        NaN     NaN\n",
       "SE.F:Males                                        -9.016e-03        NaN     NaN\n",
       "ContinentEU:Males                                 -1.789e-01        NaN     NaN\n",
       "Latitude:Males                                     2.105e-02        NaN     NaN\n",
       "Females:Males                                     -2.740e-03        NaN     NaN\n",
       "SE.F:SE.M                                         -6.271e-01        NaN     NaN\n",
       "ContinentEU:SE.M                                  -1.162e+00        NaN     NaN\n",
       "Latitude:SE.M                                      2.046e-01        NaN     NaN\n",
       "Females:SE.M                                              NA         NA      NA\n",
       "Males:SE.M                                                NA         NA      NA\n",
       "SE.F:SE.R                                                 NA         NA      NA\n",
       "ContinentEU:SE.R                                          NA         NA      NA\n",
       "Latitude:SE.R                                             NA         NA      NA\n",
       "Females:SE.R                                              NA         NA      NA\n",
       "Males:SE.R                                                NA         NA      NA\n",
       "SE.M:SE.R                                                 NA         NA      NA\n",
       "SE.F:ContinentEU:Latitude                                 NA         NA      NA\n",
       "SE.F:ContinentEU:Females                                  NA         NA      NA\n",
       "SE.F:Latitude:Females                                     NA         NA      NA\n",
       "ContinentEU:Latitude:Females                              NA         NA      NA\n",
       "SE.F:ContinentEU:Males                                    NA         NA      NA\n",
       "SE.F:Latitude:Males                                       NA         NA      NA\n",
       "ContinentEU:Latitude:Males                                NA         NA      NA\n",
       "SE.F:Females:Males                                        NA         NA      NA\n",
       "ContinentEU:Females:Males                                 NA         NA      NA\n",
       "Latitude:Females:Males                                    NA         NA      NA\n",
       "SE.F:ContinentEU:SE.M                                     NA         NA      NA\n",
       "SE.F:Latitude:SE.M                                        NA         NA      NA\n",
       "ContinentEU:Latitude:SE.M                                 NA         NA      NA\n",
       "SE.F:Females:SE.M                                         NA         NA      NA\n",
       "ContinentEU:Females:SE.M                                  NA         NA      NA\n",
       "Latitude:Females:SE.M                                     NA         NA      NA\n",
       "SE.F:Males:SE.M                                           NA         NA      NA\n",
       "ContinentEU:Males:SE.M                                    NA         NA      NA\n",
       "Latitude:Males:SE.M                                       NA         NA      NA\n",
       "Females:Males:SE.M                                        NA         NA      NA\n",
       "SE.F:ContinentEU:SE.R                                     NA         NA      NA\n",
       "SE.F:Latitude:SE.R                                        NA         NA      NA\n",
       "ContinentEU:Latitude:SE.R                                 NA         NA      NA\n",
       "SE.F:Females:SE.R                                         NA         NA      NA\n",
       "ContinentEU:Females:SE.R                                  NA         NA      NA\n",
       "Latitude:Females:SE.R                                     NA         NA      NA\n",
       "SE.F:Males:SE.R                                           NA         NA      NA\n",
       "ContinentEU:Males:SE.R                                    NA         NA      NA\n",
       "Latitude:Males:SE.R                                       NA         NA      NA\n",
       "Females:Males:SE.R                                        NA         NA      NA\n",
       "SE.F:SE.M:SE.R                                            NA         NA      NA\n",
       "ContinentEU:SE.M:SE.R                                     NA         NA      NA\n",
       "Latitude:SE.M:SE.R                                        NA         NA      NA\n",
       "Females:SE.M:SE.R                                         NA         NA      NA\n",
       "Males:SE.M:SE.R                                           NA         NA      NA\n",
       "SE.F:ContinentEU:Latitude:Females                         NA         NA      NA\n",
       "SE.F:ContinentEU:Latitude:Males                           NA         NA      NA\n",
       "SE.F:ContinentEU:Females:Males                            NA         NA      NA\n",
       "SE.F:Latitude:Females:Males                               NA         NA      NA\n",
       "ContinentEU:Latitude:Females:Males                        NA         NA      NA\n",
       "SE.F:ContinentEU:Latitude:SE.M                            NA         NA      NA\n",
       "SE.F:ContinentEU:Females:SE.M                             NA         NA      NA\n",
       "SE.F:Latitude:Females:SE.M                                NA         NA      NA\n",
       "ContinentEU:Latitude:Females:SE.M                         NA         NA      NA\n",
       "SE.F:ContinentEU:Males:SE.M                               NA         NA      NA\n",
       "SE.F:Latitude:Males:SE.M                                  NA         NA      NA\n",
       "ContinentEU:Latitude:Males:SE.M                           NA         NA      NA\n",
       "SE.F:Females:Males:SE.M                                   NA         NA      NA\n",
       "ContinentEU:Females:Males:SE.M                            NA         NA      NA\n",
       "Latitude:Females:Males:SE.M                               NA         NA      NA\n",
       "SE.F:ContinentEU:Latitude:SE.R                            NA         NA      NA\n",
       "SE.F:ContinentEU:Females:SE.R                             NA         NA      NA\n",
       "SE.F:Latitude:Females:SE.R                                NA         NA      NA\n",
       "ContinentEU:Latitude:Females:SE.R                         NA         NA      NA\n",
       "SE.F:ContinentEU:Males:SE.R                               NA         NA      NA\n",
       "SE.F:Latitude:Males:SE.R                                  NA         NA      NA\n",
       "ContinentEU:Latitude:Males:SE.R                           NA         NA      NA\n",
       "SE.F:Females:Males:SE.R                                   NA         NA      NA\n",
       "ContinentEU:Females:Males:SE.R                            NA         NA      NA\n",
       "Latitude:Females:Males:SE.R                               NA         NA      NA\n",
       "SE.F:ContinentEU:SE.M:SE.R                                NA         NA      NA\n",
       "SE.F:Latitude:SE.M:SE.R                                   NA         NA      NA\n",
       "ContinentEU:Latitude:SE.M:SE.R                            NA         NA      NA\n",
       "SE.F:Females:SE.M:SE.R                                    NA         NA      NA\n",
       "ContinentEU:Females:SE.M:SE.R                             NA         NA      NA\n",
       "Latitude:Females:SE.M:SE.R                                NA         NA      NA\n",
       "SE.F:Males:SE.M:SE.R                                      NA         NA      NA\n",
       "ContinentEU:Males:SE.M:SE.R                               NA         NA      NA\n",
       "Latitude:Males:SE.M:SE.R                                  NA         NA      NA\n",
       "Females:Males:SE.M:SE.R                                   NA         NA      NA\n",
       "SE.F:ContinentEU:Latitude:Females:Males                   NA         NA      NA\n",
       "SE.F:ContinentEU:Latitude:Females:SE.M                    NA         NA      NA\n",
       "SE.F:ContinentEU:Latitude:Males:SE.M                      NA         NA      NA\n",
       "SE.F:ContinentEU:Females:Males:SE.M                       NA         NA      NA\n",
       "SE.F:Latitude:Females:Males:SE.M                          NA         NA      NA\n",
       "ContinentEU:Latitude:Females:Males:SE.M                   NA         NA      NA\n",
       "SE.F:ContinentEU:Latitude:Females:SE.R                    NA         NA      NA\n",
       "SE.F:ContinentEU:Latitude:Males:SE.R                      NA         NA      NA\n",
       "SE.F:ContinentEU:Females:Males:SE.R                       NA         NA      NA\n",
       "SE.F:Latitude:Females:Males:SE.R                          NA         NA      NA\n",
       "ContinentEU:Latitude:Females:Males:SE.R                   NA         NA      NA\n",
       "SE.F:ContinentEU:Latitude:SE.M:SE.R                       NA         NA      NA\n",
       "SE.F:ContinentEU:Females:SE.M:SE.R                        NA         NA      NA\n",
       "SE.F:Latitude:Females:SE.M:SE.R                           NA         NA      NA\n",
       "ContinentEU:Latitude:Females:SE.M:SE.R                    NA         NA      NA\n",
       "SE.F:ContinentEU:Males:SE.M:SE.R                          NA         NA      NA\n",
       "SE.F:Latitude:Males:SE.M:SE.R                             NA         NA      NA\n",
       "ContinentEU:Latitude:Males:SE.M:SE.R                      NA         NA      NA\n",
       "SE.F:Females:Males:SE.M:SE.R                              NA         NA      NA\n",
       "ContinentEU:Females:Males:SE.M:SE.R                       NA         NA      NA\n",
       "Latitude:Females:Males:SE.M:SE.R                          NA         NA      NA\n",
       "SE.F:ContinentEU:Latitude:Females:Males:SE.M              NA         NA      NA\n",
       "SE.F:ContinentEU:Latitude:Females:Males:SE.R              NA         NA      NA\n",
       "SE.F:ContinentEU:Latitude:Females:SE.M:SE.R               NA         NA      NA\n",
       "SE.F:ContinentEU:Latitude:Males:SE.M:SE.R                 NA         NA      NA\n",
       "SE.F:ContinentEU:Females:Males:SE.M:SE.R                  NA         NA      NA\n",
       "SE.F:Latitude:Females:Males:SE.M:SE.R                     NA         NA      NA\n",
       "ContinentEU:Latitude:Females:Males:SE.M:SE.R              NA         NA      NA\n",
       "SE.F:ContinentEU:Latitude:Females:Males:SE.M:SE.R         NA         NA      NA\n",
       "                                                  Pr(>|t|)\n",
       "(Intercept)                                            NaN\n",
       "SE.F                                                   NaN\n",
       "ContinentEU                                            NaN\n",
       "Latitude                                               NaN\n",
       "Females                                                NaN\n",
       "Males                                                  NaN\n",
       "SE.M                                                   NaN\n",
       "SE.R                                                   NaN\n",
       "SE.F:ContinentEU                                       NaN\n",
       "SE.F:Latitude                                          NaN\n",
       "ContinentEU:Latitude                                   NaN\n",
       "SE.F:Females                                           NaN\n",
       "ContinentEU:Females                                    NaN\n",
       "Latitude:Females                                       NaN\n",
       "SE.F:Males                                             NaN\n",
       "ContinentEU:Males                                      NaN\n",
       "Latitude:Males                                         NaN\n",
       "Females:Males                                          NaN\n",
       "SE.F:SE.M                                              NaN\n",
       "ContinentEU:SE.M                                       NaN\n",
       "Latitude:SE.M                                          NaN\n",
       "Females:SE.M                                            NA\n",
       "Males:SE.M                                              NA\n",
       "SE.F:SE.R                                               NA\n",
       "ContinentEU:SE.R                                        NA\n",
       "Latitude:SE.R                                           NA\n",
       "Females:SE.R                                            NA\n",
       "Males:SE.R                                              NA\n",
       "SE.M:SE.R                                               NA\n",
       "SE.F:ContinentEU:Latitude                               NA\n",
       "SE.F:ContinentEU:Females                                NA\n",
       "SE.F:Latitude:Females                                   NA\n",
       "ContinentEU:Latitude:Females                            NA\n",
       "SE.F:ContinentEU:Males                                  NA\n",
       "SE.F:Latitude:Males                                     NA\n",
       "ContinentEU:Latitude:Males                              NA\n",
       "SE.F:Females:Males                                      NA\n",
       "ContinentEU:Females:Males                               NA\n",
       "Latitude:Females:Males                                  NA\n",
       "SE.F:ContinentEU:SE.M                                   NA\n",
       "SE.F:Latitude:SE.M                                      NA\n",
       "ContinentEU:Latitude:SE.M                               NA\n",
       "SE.F:Females:SE.M                                       NA\n",
       "ContinentEU:Females:SE.M                                NA\n",
       "Latitude:Females:SE.M                                   NA\n",
       "SE.F:Males:SE.M                                         NA\n",
       "ContinentEU:Males:SE.M                                  NA\n",
       "Latitude:Males:SE.M                                     NA\n",
       "Females:Males:SE.M                                      NA\n",
       "SE.F:ContinentEU:SE.R                                   NA\n",
       "SE.F:Latitude:SE.R                                      NA\n",
       "ContinentEU:Latitude:SE.R                               NA\n",
       "SE.F:Females:SE.R                                       NA\n",
       "ContinentEU:Females:SE.R                                NA\n",
       "Latitude:Females:SE.R                                   NA\n",
       "SE.F:Males:SE.R                                         NA\n",
       "ContinentEU:Males:SE.R                                  NA\n",
       "Latitude:Males:SE.R                                     NA\n",
       "Females:Males:SE.R                                      NA\n",
       "SE.F:SE.M:SE.R                                          NA\n",
       "ContinentEU:SE.M:SE.R                                   NA\n",
       "Latitude:SE.M:SE.R                                      NA\n",
       "Females:SE.M:SE.R                                       NA\n",
       "Males:SE.M:SE.R                                         NA\n",
       "SE.F:ContinentEU:Latitude:Females                       NA\n",
       "SE.F:ContinentEU:Latitude:Males                         NA\n",
       "SE.F:ContinentEU:Females:Males                          NA\n",
       "SE.F:Latitude:Females:Males                             NA\n",
       "ContinentEU:Latitude:Females:Males                      NA\n",
       "SE.F:ContinentEU:Latitude:SE.M                          NA\n",
       "SE.F:ContinentEU:Females:SE.M                           NA\n",
       "SE.F:Latitude:Females:SE.M                              NA\n",
       "ContinentEU:Latitude:Females:SE.M                       NA\n",
       "SE.F:ContinentEU:Males:SE.M                             NA\n",
       "SE.F:Latitude:Males:SE.M                                NA\n",
       "ContinentEU:Latitude:Males:SE.M                         NA\n",
       "SE.F:Females:Males:SE.M                                 NA\n",
       "ContinentEU:Females:Males:SE.M                          NA\n",
       "Latitude:Females:Males:SE.M                             NA\n",
       "SE.F:ContinentEU:Latitude:SE.R                          NA\n",
       "SE.F:ContinentEU:Females:SE.R                           NA\n",
       "SE.F:Latitude:Females:SE.R                              NA\n",
       "ContinentEU:Latitude:Females:SE.R                       NA\n",
       "SE.F:ContinentEU:Males:SE.R                             NA\n",
       "SE.F:Latitude:Males:SE.R                                NA\n",
       "ContinentEU:Latitude:Males:SE.R                         NA\n",
       "SE.F:Females:Males:SE.R                                 NA\n",
       "ContinentEU:Females:Males:SE.R                          NA\n",
       "Latitude:Females:Males:SE.R                             NA\n",
       "SE.F:ContinentEU:SE.M:SE.R                              NA\n",
       "SE.F:Latitude:SE.M:SE.R                                 NA\n",
       "ContinentEU:Latitude:SE.M:SE.R                          NA\n",
       "SE.F:Females:SE.M:SE.R                                  NA\n",
       "ContinentEU:Females:SE.M:SE.R                           NA\n",
       "Latitude:Females:SE.M:SE.R                              NA\n",
       "SE.F:Males:SE.M:SE.R                                    NA\n",
       "ContinentEU:Males:SE.M:SE.R                             NA\n",
       "Latitude:Males:SE.M:SE.R                                NA\n",
       "Females:Males:SE.M:SE.R                                 NA\n",
       "SE.F:ContinentEU:Latitude:Females:Males                 NA\n",
       "SE.F:ContinentEU:Latitude:Females:SE.M                  NA\n",
       "SE.F:ContinentEU:Latitude:Males:SE.M                    NA\n",
       "SE.F:ContinentEU:Females:Males:SE.M                     NA\n",
       "SE.F:Latitude:Females:Males:SE.M                        NA\n",
       "ContinentEU:Latitude:Females:Males:SE.M                 NA\n",
       "SE.F:ContinentEU:Latitude:Females:SE.R                  NA\n",
       "SE.F:ContinentEU:Latitude:Males:SE.R                    NA\n",
       "SE.F:ContinentEU:Females:Males:SE.R                     NA\n",
       "SE.F:Latitude:Females:Males:SE.R                        NA\n",
       "ContinentEU:Latitude:Females:Males:SE.R                 NA\n",
       "SE.F:ContinentEU:Latitude:SE.M:SE.R                     NA\n",
       "SE.F:ContinentEU:Females:SE.M:SE.R                      NA\n",
       "SE.F:Latitude:Females:SE.M:SE.R                         NA\n",
       "ContinentEU:Latitude:Females:SE.M:SE.R                  NA\n",
       "SE.F:ContinentEU:Males:SE.M:SE.R                        NA\n",
       "SE.F:Latitude:Males:SE.M:SE.R                           NA\n",
       "ContinentEU:Latitude:Males:SE.M:SE.R                    NA\n",
       "SE.F:Females:Males:SE.M:SE.R                            NA\n",
       "ContinentEU:Females:Males:SE.M:SE.R                     NA\n",
       "Latitude:Females:Males:SE.M:SE.R                        NA\n",
       "SE.F:ContinentEU:Latitude:Females:Males:SE.M            NA\n",
       "SE.F:ContinentEU:Latitude:Females:Males:SE.R            NA\n",
       "SE.F:ContinentEU:Latitude:Females:SE.M:SE.R             NA\n",
       "SE.F:ContinentEU:Latitude:Males:SE.M:SE.R               NA\n",
       "SE.F:ContinentEU:Females:Males:SE.M:SE.R                NA\n",
       "SE.F:Latitude:Females:Males:SE.M:SE.R                   NA\n",
       "ContinentEU:Latitude:Females:Males:SE.M:SE.R            NA\n",
       "SE.F:ContinentEU:Latitude:Females:Males:SE.M:SE.R       NA\n",
       "\n",
       "Residual standard error: NaN on 0 degrees of freedom\n",
       "Multiple R-squared:      1,\tAdjusted R-squared:    NaN \n",
       "F-statistic:   NaN on 20 and 0 DF,  p-value: NA\n"
      ]
     },
     "metadata": {},
     "output_type": "display_data"
    }
   ],
   "execution_count": 71
  },
  {
   "metadata": {},
   "cell_type": "markdown",
   "source": "V modelu s interakcemi se zdá, že dochází k singularitám, což způsobuje problémy při odhadu koeficientů a výpočtu standardních chyb.",
   "id": "dedbc0b012e5acae"
  },
  {
   "metadata": {
    "ExecuteTime": {
     "end_time": "2024-04-24T20:08:26.370013Z",
     "start_time": "2024-04-24T20:08:26.231357Z"
    }
   },
   "cell_type": "code",
   "source": [
    "# spojíme některé regresory\n",
    "fit_int_2 <- lm(Ratio ~ SE.F + SE.M * Continent + Latitude * Females * Males * SE.R, data = ex0918)\n",
    "\n",
    "# Sumarizace modelu\n",
    "summary(fit_int_2)"
   ],
   "id": "1b9d709142150a92",
   "outputs": [
    {
     "data": {
      "text/plain": [
       "\n",
       "Call:\n",
       "lm(formula = Ratio ~ SE.F + SE.M * Continent + Latitude * Females * \n",
       "    Males * SE.R, data = ex0918)\n",
       "\n",
       "Residuals:\n",
       "         1          2          3          4          5          6          7 \n",
       " 2.826e-04 -1.787e-03  1.777e-03  5.992e-04  3.700e-06  6.903e-04 -3.875e-04 \n",
       "         8          9         10         11         12         13         14 \n",
       "-1.147e-03 -3.132e-05  3.150e-04  2.715e-04  4.042e-05  2.850e-04 -1.052e-03 \n",
       "        15         16         17         18         19         20         21 \n",
       "-6.849e-06 -2.733e-04  1.026e-04 -9.322e-06  2.247e-04  2.764e-04 -1.739e-04 \n",
       "\n",
       "Coefficients:\n",
       "                              Estimate Std. Error t value Pr(>|t|)\n",
       "(Intercept)                  5.397e+02  8.202e+02   0.658    0.629\n",
       "SE.F                         7.018e-03  5.950e-03   1.179    0.448\n",
       "SE.M                         6.234e-03  1.257e-02   0.496    0.707\n",
       "ContinentEU                  2.558e-02  3.897e-02   0.656    0.630\n",
       "Latitude                    -7.050e+00  1.822e+01  -0.387    0.765\n",
       "Females                     -6.024e-01  8.880e-01  -0.678    0.621\n",
       "Males                       -6.739e-01  1.025e+00  -0.657    0.630\n",
       "SE.R                        -5.939e+04  7.732e+04  -0.768    0.583\n",
       "SE.M:ContinentEU            -6.117e-03  1.074e-02  -0.569    0.671\n",
       "Latitude:Females             8.090e-03  1.974e-02   0.410    0.752\n",
       "Latitude:Males               8.902e-03  2.273e-02   0.392    0.762\n",
       "Females:Males                7.529e-04  1.110e-03   0.678    0.620\n",
       "Latitude:SE.R                9.452e+02  1.606e+03   0.588    0.661\n",
       "Females:SE.R                 6.566e+01  8.422e+01   0.780    0.578\n",
       "Males:SE.R                   7.408e+01  9.638e+01   0.769    0.583\n",
       "Latitude:Females:Males      -1.020e-05  2.461e-05  -0.415    0.750\n",
       "Latitude:Females:SE.R       -1.056e+00  1.751e+00  -0.603    0.654\n",
       "Latitude:Males:SE.R         -1.185e+00  2.001e+00  -0.592    0.660\n",
       "Females:Males:SE.R          -8.188e-02  1.049e-01  -0.780    0.578\n",
       "Latitude:Females:Males:SE.R  1.324e-03  2.181e-03   0.607    0.653\n",
       "\n",
       "Residual standard error: 0.003216 on 1 degrees of freedom\n",
       "Multiple R-squared:  0.9875,\tAdjusted R-squared:  0.749 \n",
       "F-statistic: 4.142 on 19 and 1 DF,  p-value: 0.3712\n"
      ]
     },
     "metadata": {},
     "output_type": "display_data"
    }
   ],
   "execution_count": 99
  },
  {
   "metadata": {},
   "cell_type": "markdown",
   "source": "Porovnáme model s interakcemi s modelem bez nich:",
   "id": "a01d3a839a19af13"
  },
  {
   "metadata": {
    "ExecuteTime": {
     "end_time": "2024-04-24T14:13:10.772849Z",
     "start_time": "2024-04-24T14:13:10.668061Z"
    }
   },
   "cell_type": "code",
   "source": "anova(fit_all,fit_int_2)",
   "id": "8bd86423bc9a1bba",
   "outputs": [
    {
     "data": {
      "text/html": [
       "<table class=\"dataframe\">\n",
       "<caption>A anova: 2 × 6</caption>\n",
       "<thead>\n",
       "\t<tr><th></th><th scope=col>Res.Df</th><th scope=col>RSS</th><th scope=col>Df</th><th scope=col>Sum of Sq</th><th scope=col>F</th><th scope=col>Pr(&gt;F)</th></tr>\n",
       "\t<tr><th></th><th scope=col>&lt;dbl&gt;</th><th scope=col>&lt;dbl&gt;</th><th scope=col>&lt;dbl&gt;</th><th scope=col>&lt;dbl&gt;</th><th scope=col>&lt;dbl&gt;</th><th scope=col>&lt;dbl&gt;</th></tr>\n",
       "</thead>\n",
       "<tbody>\n",
       "\t<tr><th scope=row>1</th><td>13</td><td>3.305628e-04</td><td>NA</td><td>          NA</td><td>      NA</td><td>      NA</td></tr>\n",
       "\t<tr><th scope=row>2</th><td> 1</td><td>1.033965e-05</td><td>12</td><td>0.0003202232</td><td>2.580867</td><td>0.454719</td></tr>\n",
       "</tbody>\n",
       "</table>\n"
      ],
      "text/markdown": "\nA anova: 2 × 6\n\n| <!--/--> | Res.Df &lt;dbl&gt; | RSS &lt;dbl&gt; | Df &lt;dbl&gt; | Sum of Sq &lt;dbl&gt; | F &lt;dbl&gt; | Pr(&gt;F) &lt;dbl&gt; |\n|---|---|---|---|---|---|---|\n| 1 | 13 | 3.305628e-04 | NA |           NA |       NA |       NA |\n| 2 |  1 | 1.033965e-05 | 12 | 0.0003202232 | 2.580867 | 0.454719 |\n\n",
      "text/latex": "A anova: 2 × 6\n\\begin{tabular}{r|llllll}\n  & Res.Df & RSS & Df & Sum of Sq & F & Pr(>F)\\\\\n  & <dbl> & <dbl> & <dbl> & <dbl> & <dbl> & <dbl>\\\\\n\\hline\n\t1 & 13 & 3.305628e-04 & NA &           NA &       NA &       NA\\\\\n\t2 &  1 & 1.033965e-05 & 12 & 0.0003202232 & 2.580867 & 0.454719\\\\\n\\end{tabular}\n",
      "text/plain": [
       "  Res.Df RSS          Df Sum of Sq    F        Pr(>F)  \n",
       "1 13     3.305628e-04 NA           NA       NA       NA\n",
       "2  1     1.033965e-05 12 0.0003202232 2.580867 0.454719"
      ]
     },
     "metadata": {},
     "output_type": "display_data"
    }
   ],
   "execution_count": 76
  },
  {
   "metadata": {},
   "cell_type": "markdown",
   "source": [
    "Výsledky testu ANOVA pro srovnání dvou modelů jsou následující:\n",
    "\n",
    "1. **Model s interakcemi (`fit_int_2`):**\n",
    "   - Residuální stupeň volnosti (Res.Df): 13\n",
    "   - Residuální součet čtverců (RSS): 3.305628e-04\n",
    "\n",
    "2. **Model bez interakcí (`fit_all`):**\n",
    "   - Residuální stupeň volnosti (Res.Df): 1\n",
    "   - Residuální součet čtverců (RSS): 1.033965e-05\n",
    "\n",
    "Testovací statistika F je 2.580867 s p-hodnotou 0.454719.\n",
    "\n",
    "Pokud je p-hodnota vyšší než zvolená hladina významnosti (např. 0.05), nemůžeme zamítnout nulovou hypotézu, což znamená, že není statisticky významný rozdíl mezi modelem s interakcemi a modelem bez nich. To naznačuje, že model bez interakcí nemusí být signifikantně horší než model s interakcemi."
   ],
   "id": "3682c5570fe1cad6"
  },
  {
   "metadata": {},
   "cell_type": "markdown",
   "source": "Můžeme porovnat model s interakcemi s osekaným modelem:",
   "id": "e818c5b162ae473"
  },
  {
   "metadata": {
    "ExecuteTime": {
     "end_time": "2024-04-24T14:17:42.828186Z",
     "start_time": "2024-04-24T14:17:42.705719Z"
    }
   },
   "cell_type": "code",
   "source": "anova(fit_all_bez_ser,fit_int_2)",
   "id": "450168bafe8c20b9",
   "outputs": [
    {
     "data": {
      "text/html": [
       "<table class=\"dataframe\">\n",
       "<caption>A anova: 2 × 6</caption>\n",
       "<thead>\n",
       "\t<tr><th></th><th scope=col>Res.Df</th><th scope=col>RSS</th><th scope=col>Df</th><th scope=col>Sum of Sq</th><th scope=col>F</th><th scope=col>Pr(&gt;F)</th></tr>\n",
       "\t<tr><th></th><th scope=col>&lt;dbl&gt;</th><th scope=col>&lt;dbl&gt;</th><th scope=col>&lt;dbl&gt;</th><th scope=col>&lt;dbl&gt;</th><th scope=col>&lt;dbl&gt;</th><th scope=col>&lt;dbl&gt;</th></tr>\n",
       "</thead>\n",
       "<tbody>\n",
       "\t<tr><th scope=row>1</th><td>16</td><td>3.327314e-04</td><td>NA</td><td>          NA</td><td>      NA</td><td>       NA</td></tr>\n",
       "\t<tr><th scope=row>2</th><td> 1</td><td>1.033965e-05</td><td>15</td><td>0.0003223918</td><td>2.078676</td><td>0.5014636</td></tr>\n",
       "</tbody>\n",
       "</table>\n"
      ],
      "text/markdown": "\nA anova: 2 × 6\n\n| <!--/--> | Res.Df &lt;dbl&gt; | RSS &lt;dbl&gt; | Df &lt;dbl&gt; | Sum of Sq &lt;dbl&gt; | F &lt;dbl&gt; | Pr(&gt;F) &lt;dbl&gt; |\n|---|---|---|---|---|---|---|\n| 1 | 16 | 3.327314e-04 | NA |           NA |       NA |        NA |\n| 2 |  1 | 1.033965e-05 | 15 | 0.0003223918 | 2.078676 | 0.5014636 |\n\n",
      "text/latex": "A anova: 2 × 6\n\\begin{tabular}{r|llllll}\n  & Res.Df & RSS & Df & Sum of Sq & F & Pr(>F)\\\\\n  & <dbl> & <dbl> & <dbl> & <dbl> & <dbl> & <dbl>\\\\\n\\hline\n\t1 & 16 & 3.327314e-04 & NA &           NA &       NA &        NA\\\\\n\t2 &  1 & 1.033965e-05 & 15 & 0.0003223918 & 2.078676 & 0.5014636\\\\\n\\end{tabular}\n",
      "text/plain": [
       "  Res.Df RSS          Df Sum of Sq    F        Pr(>F)   \n",
       "1 16     3.327314e-04 NA           NA       NA        NA\n",
       "2  1     1.033965e-05 15 0.0003223918 2.078676 0.5014636"
      ]
     },
     "metadata": {},
     "output_type": "display_data"
    }
   ],
   "execution_count": 77
  },
  {
   "metadata": {},
   "cell_type": "markdown",
   "source": [
    "V porovnání modelu s interakcemi a osekaného modelu jsou výsledky následující:\n",
    "\n",
    "1. **Osekaný model (`fit_all_bez_ser`):**\n",
    "   - Residuální stupeň volnosti (Res.Df): 16\n",
    "   - Residuální součet čtverců (RSS): 3.327314e-04\n",
    "\n",
    "2. **Model s interakcemi (`fit_int_2`):**\n",
    "   - Residuální stupeň volnosti (Res.Df): 1\n",
    "   - Residuální součet čtverců (RSS): 1.033965e-05\n",
    "\n",
    "Testovací statistika F má hodnotu 2.078676 s p-hodnotou 0.5014636.\n",
    "\n",
    "P-hodnota je vyšší než standardní hladina významnosti 0.05, což naznačuje, že není statisticky významný rozdíl mezi modelem s interakcemi a osekaným modelem. To znamená, že z pohledu statistické významnosti není důvod preferovat model s interakcemi před osekaným modelem."
   ],
   "id": "89f1ca348d6bffc"
  },
  {
   "metadata": {},
   "cell_type": "markdown",
   "source": "#### Test poměrem věrohodností",
   "id": "8ba72a1b999e7b98"
  },
  {
   "metadata": {
    "ExecuteTime": {
     "end_time": "2024-04-24T14:35:23.570724Z",
     "start_time": "2024-04-24T14:35:23.386794Z"
    }
   },
   "cell_type": "code",
   "source": "anova(fit_all_bez_ser,fit_all, test=\"Chisq\")",
   "id": "1e7eaef8a5b6cfb7",
   "outputs": [
    {
     "data": {
      "text/html": [
       "<table class=\"dataframe\">\n",
       "<caption>A anova: 2 × 5</caption>\n",
       "<thead>\n",
       "\t<tr><th></th><th scope=col>Res.Df</th><th scope=col>RSS</th><th scope=col>Df</th><th scope=col>Sum of Sq</th><th scope=col>Pr(&gt;Chi)</th></tr>\n",
       "\t<tr><th></th><th scope=col>&lt;dbl&gt;</th><th scope=col>&lt;dbl&gt;</th><th scope=col>&lt;dbl&gt;</th><th scope=col>&lt;dbl&gt;</th><th scope=col>&lt;dbl&gt;</th></tr>\n",
       "</thead>\n",
       "<tbody>\n",
       "\t<tr><th scope=row>1</th><td>16</td><td>0.0003327314</td><td>NA</td><td>          NA</td><td>       NA</td></tr>\n",
       "\t<tr><th scope=row>2</th><td>13</td><td>0.0003305628</td><td> 3</td><td>2.168598e-06</td><td>0.9935429</td></tr>\n",
       "</tbody>\n",
       "</table>\n"
      ],
      "text/markdown": "\nA anova: 2 × 5\n\n| <!--/--> | Res.Df &lt;dbl&gt; | RSS &lt;dbl&gt; | Df &lt;dbl&gt; | Sum of Sq &lt;dbl&gt; | Pr(&gt;Chi) &lt;dbl&gt; |\n|---|---|---|---|---|---|\n| 1 | 16 | 0.0003327314 | NA |           NA |        NA |\n| 2 | 13 | 0.0003305628 |  3 | 2.168598e-06 | 0.9935429 |\n\n",
      "text/latex": "A anova: 2 × 5\n\\begin{tabular}{r|lllll}\n  & Res.Df & RSS & Df & Sum of Sq & Pr(>Chi)\\\\\n  & <dbl> & <dbl> & <dbl> & <dbl> & <dbl>\\\\\n\\hline\n\t1 & 16 & 0.0003327314 & NA &           NA &        NA\\\\\n\t2 & 13 & 0.0003305628 &  3 & 2.168598e-06 & 0.9935429\\\\\n\\end{tabular}\n",
      "text/plain": [
       "  Res.Df RSS          Df Sum of Sq    Pr(>Chi) \n",
       "1 16     0.0003327314 NA           NA        NA\n",
       "2 13     0.0003305628  3 2.168598e-06 0.9935429"
      ]
     },
     "metadata": {},
     "output_type": "display_data"
    }
   ],
   "execution_count": 78
  },
  {
   "metadata": {},
   "cell_type": "markdown",
   "source": [
    "V testu poměru věrohodností pro porovnání osekaného modelu (`fit_all_bez_ser`) a modelu s všemi regresory (`fit_all`) jsou výsledky následující:\n",
    "\n",
    "1. **Osekaný model (`fit_all_bez_ser`):**\n",
    "   - Residuální stupeň volnosti (Res.Df): 16\n",
    "   - Residuální součet čtverců (RSS): 0.0003327314\n",
    "\n",
    "2. **Model s všemi regresory (`fit_all`):**\n",
    "   - Residuální stupeň volnosti (Res.Df): 13\n",
    "   - Residuální součet čtverců (RSS): 0.0003305628\n",
    "\n",
    "Testovací statistika Chi-square má p-hodnotu 0.9935429.\n",
    "\n",
    "P-hodnota je vysoká, což naznačuje, že není statisticky významný rozdíl mezi osekaným modelem a modelem s všemi regresory. To znamená, že z pohledu testu poměru věrohodností není důvod preferovat model s všemi regresory před osekaným modelem."
   ],
   "id": "6a0d5c4658c13ebd"
  },
  {
   "metadata": {
    "ExecuteTime": {
     "end_time": "2024-04-24T14:35:26.458132Z",
     "start_time": "2024-04-24T14:35:26.325428Z"
    }
   },
   "cell_type": "code",
   "source": "anova(fit_all_bez_ser,fit_int_2, test=\"Chisq\")",
   "id": "65bcb7b53137ceff",
   "outputs": [
    {
     "data": {
      "text/html": [
       "<table class=\"dataframe\">\n",
       "<caption>A anova: 2 × 5</caption>\n",
       "<thead>\n",
       "\t<tr><th></th><th scope=col>Res.Df</th><th scope=col>RSS</th><th scope=col>Df</th><th scope=col>Sum of Sq</th><th scope=col>Pr(&gt;Chi)</th></tr>\n",
       "\t<tr><th></th><th scope=col>&lt;dbl&gt;</th><th scope=col>&lt;dbl&gt;</th><th scope=col>&lt;dbl&gt;</th><th scope=col>&lt;dbl&gt;</th><th scope=col>&lt;dbl&gt;</th></tr>\n",
       "</thead>\n",
       "<tbody>\n",
       "\t<tr><th scope=row>1</th><td>16</td><td>3.327314e-04</td><td>NA</td><td>          NA</td><td>        NA</td></tr>\n",
       "\t<tr><th scope=row>2</th><td> 1</td><td>1.033965e-05</td><td>15</td><td>0.0003223918</td><td>0.00830984</td></tr>\n",
       "</tbody>\n",
       "</table>\n"
      ],
      "text/markdown": "\nA anova: 2 × 5\n\n| <!--/--> | Res.Df &lt;dbl&gt; | RSS &lt;dbl&gt; | Df &lt;dbl&gt; | Sum of Sq &lt;dbl&gt; | Pr(&gt;Chi) &lt;dbl&gt; |\n|---|---|---|---|---|---|\n| 1 | 16 | 3.327314e-04 | NA |           NA |         NA |\n| 2 |  1 | 1.033965e-05 | 15 | 0.0003223918 | 0.00830984 |\n\n",
      "text/latex": "A anova: 2 × 5\n\\begin{tabular}{r|lllll}\n  & Res.Df & RSS & Df & Sum of Sq & Pr(>Chi)\\\\\n  & <dbl> & <dbl> & <dbl> & <dbl> & <dbl>\\\\\n\\hline\n\t1 & 16 & 3.327314e-04 & NA &           NA &         NA\\\\\n\t2 &  1 & 1.033965e-05 & 15 & 0.0003223918 & 0.00830984\\\\\n\\end{tabular}\n",
      "text/plain": [
       "  Res.Df RSS          Df Sum of Sq    Pr(>Chi)  \n",
       "1 16     3.327314e-04 NA           NA         NA\n",
       "2  1     1.033965e-05 15 0.0003223918 0.00830984"
      ]
     },
     "metadata": {},
     "output_type": "display_data"
    }
   ],
   "execution_count": 79
  },
  {
   "metadata": {},
   "cell_type": "markdown",
   "source": [
    "V testu poměru věrohodností pro porovnání osekaného modelu (`fit_all_bez_ser`) a modelu s interakcemi (`fit_int_2`) jsou výsledky následující:\n",
    "\n",
    "1. **Osekaný model (`fit_all_bez_ser`):**\n",
    "- Residuální stupeň volnosti (Res.Df): 16\n",
    "- Residuální součet čtverců (RSS): 0.0003327314\n",
    "\n",
    "2. **Model s interakcemi (`fit_int_2`):**\n",
    "- Residuální stupeň volnosti (Res.Df): 1\n",
    "- Residuální součet čtverců (RSS): 0.0003223918\n",
    "\n",
    "Testovací statistika Chi-square má p-hodnotu 0.00830984.\n",
    "\n",
    "P-hodnota je nízká, což naznačuje, že existuje statisticky významný rozdíl mezi modelem s interakcemi a osekaným modelem. To znamená, že z pohledu testu poměru věrohodností je **preferován model s interakcemi před osekaným modelem**."
   ],
   "id": "b981d0540e938b3a"
  },
  {
   "metadata": {
    "ExecuteTime": {
     "end_time": "2024-04-24T14:41:22.294962Z",
     "start_time": "2024-04-24T14:41:22.186024Z"
    }
   },
   "cell_type": "code",
   "source": "anova(fit_all,fit_int_2, test=\"Chisq\")",
   "id": "c0f9221cfcd698aa",
   "outputs": [
    {
     "data": {
      "text/html": [
       "<table class=\"dataframe\">\n",
       "<caption>A anova: 2 × 5</caption>\n",
       "<thead>\n",
       "\t<tr><th></th><th scope=col>Res.Df</th><th scope=col>RSS</th><th scope=col>Df</th><th scope=col>Sum of Sq</th><th scope=col>Pr(&gt;Chi)</th></tr>\n",
       "\t<tr><th></th><th scope=col>&lt;dbl&gt;</th><th scope=col>&lt;dbl&gt;</th><th scope=col>&lt;dbl&gt;</th><th scope=col>&lt;dbl&gt;</th><th scope=col>&lt;dbl&gt;</th></tr>\n",
       "</thead>\n",
       "<tbody>\n",
       "\t<tr><th scope=row>1</th><td>13</td><td>3.305628e-04</td><td>NA</td><td>          NA</td><td>         NA</td></tr>\n",
       "\t<tr><th scope=row>2</th><td> 1</td><td>1.033965e-05</td><td>12</td><td>0.0003202232</td><td>0.001990584</td></tr>\n",
       "</tbody>\n",
       "</table>\n"
      ],
      "text/markdown": "\nA anova: 2 × 5\n\n| <!--/--> | Res.Df &lt;dbl&gt; | RSS &lt;dbl&gt; | Df &lt;dbl&gt; | Sum of Sq &lt;dbl&gt; | Pr(&gt;Chi) &lt;dbl&gt; |\n|---|---|---|---|---|---|\n| 1 | 13 | 3.305628e-04 | NA |           NA |          NA |\n| 2 |  1 | 1.033965e-05 | 12 | 0.0003202232 | 0.001990584 |\n\n",
      "text/latex": "A anova: 2 × 5\n\\begin{tabular}{r|lllll}\n  & Res.Df & RSS & Df & Sum of Sq & Pr(>Chi)\\\\\n  & <dbl> & <dbl> & <dbl> & <dbl> & <dbl>\\\\\n\\hline\n\t1 & 13 & 3.305628e-04 & NA &           NA &          NA\\\\\n\t2 &  1 & 1.033965e-05 & 12 & 0.0003202232 & 0.001990584\\\\\n\\end{tabular}\n",
      "text/plain": [
       "  Res.Df RSS          Df Sum of Sq    Pr(>Chi)   \n",
       "1 13     3.305628e-04 NA           NA          NA\n",
       "2  1     1.033965e-05 12 0.0003202232 0.001990584"
      ]
     },
     "metadata": {},
     "output_type": "display_data"
    }
   ],
   "execution_count": 81
  },
  {
   "metadata": {},
   "cell_type": "markdown",
   "source": [
    "V testu poměru věrohodností pro porovnání modelu se všemi regresory (`fit_all`) a modelu s interakcemi (`fit_int_2`) jsou výsledky následující:\n",
    "\n",
    "1. **Model se všemi regresory (`fit_all`):**\n",
    "- Residuální stupeň volnosti (Res.Df): 13\n",
    "- Residuální součet čtverců (RSS): 0.0003305628\n",
    "\n",
    "2. **Model s interakcemi (`fit_int_2`):**\n",
    "- Residuální stupeň volnosti (Res.Df): 1\n",
    "- Residuální součet čtverců (RSS): 0.0003223918\n",
    "\n",
    "Testovací statistika Chi-square má p-hodnotu 0.001990584.\n",
    "\n",
    "P-hodnota je nízká, což naznačuje, že existuje statisticky významný rozdíl mezi modelem se všemi regresory a modelem s interakcemi. To znamená, že z pohledu testu poměru věrohodností je **preferován model se všemi regresory před modelem s interakcemi**."
   ],
   "id": "273fbeb010f1ce1f"
  },
  {
   "metadata": {},
   "cell_type": "markdown",
   "source": [
    "#### Informační kritéria\n",
    "spočítáme Akaikeho a Bayesovské informační kritérium pro použité modely (bez interakcí, zjednodušená verze, s interakcemi)."
   ],
   "id": "1e7da805d7870606"
  },
  {
   "metadata": {
    "ExecuteTime": {
     "end_time": "2024-04-24T14:51:00.237135Z",
     "start_time": "2024-04-24T14:50:58.833770Z"
    }
   },
   "cell_type": "code",
   "source": "AIC(fit_all, fit_all_bez_ser, fit_int_2)",
   "id": "40cccaa9dfcbf286",
   "outputs": [
    {
     "data": {
      "text/html": [
       "<table class=\"dataframe\">\n",
       "<caption>A data.frame: 3 × 2</caption>\n",
       "<thead>\n",
       "\t<tr><th></th><th scope=col>df</th><th scope=col>AIC</th></tr>\n",
       "\t<tr><th></th><th scope=col>&lt;dbl&gt;</th><th scope=col>&lt;dbl&gt;</th></tr>\n",
       "</thead>\n",
       "<tbody>\n",
       "\t<tr><th scope=row>fit_all</th><td> 9</td><td>-154.6485</td></tr>\n",
       "\t<tr><th scope=row>fit_all_bez_ser</th><td> 6</td><td>-160.5112</td></tr>\n",
       "\t<tr><th scope=row>fit_int_2</th><td>21</td><td>-203.4096</td></tr>\n",
       "</tbody>\n",
       "</table>\n"
      ],
      "text/markdown": "\nA data.frame: 3 × 2\n\n| <!--/--> | df &lt;dbl&gt; | AIC &lt;dbl&gt; |\n|---|---|---|\n| fit_all |  9 | -154.6485 |\n| fit_all_bez_ser |  6 | -160.5112 |\n| fit_int_2 | 21 | -203.4096 |\n\n",
      "text/latex": "A data.frame: 3 × 2\n\\begin{tabular}{r|ll}\n  & df & AIC\\\\\n  & <dbl> & <dbl>\\\\\n\\hline\n\tfit\\_all &  9 & -154.6485\\\\\n\tfit\\_all\\_bez\\_ser &  6 & -160.5112\\\\\n\tfit\\_int\\_2 & 21 & -203.4096\\\\\n\\end{tabular}\n",
      "text/plain": [
       "                df AIC      \n",
       "fit_all          9 -154.6485\n",
       "fit_all_bez_ser  6 -160.5112\n",
       "fit_int_2       21 -203.4096"
      ]
     },
     "metadata": {},
     "output_type": "display_data"
    }
   ],
   "execution_count": 82
  },
  {
   "metadata": {
    "ExecuteTime": {
     "end_time": "2024-04-24T15:04:24.291212Z",
     "start_time": "2024-04-24T15:04:23.989212Z"
    }
   },
   "cell_type": "code",
   "source": "BIC(fit_all, fit_all_bez_ser, fit_int_2)",
   "id": "ba45ec96e5fcefe3",
   "outputs": [
    {
     "data": {
      "text/html": [
       "<table class=\"dataframe\">\n",
       "<caption>A data.frame: 3 × 2</caption>\n",
       "<thead>\n",
       "\t<tr><th></th><th scope=col>df</th><th scope=col>BIC</th></tr>\n",
       "\t<tr><th></th><th scope=col>&lt;dbl&gt;</th><th scope=col>&lt;dbl&gt;</th></tr>\n",
       "</thead>\n",
       "<tbody>\n",
       "\t<tr><th scope=row>fit_all</th><td> 9</td><td>-145.2478</td></tr>\n",
       "\t<tr><th scope=row>fit_all_bez_ser</th><td> 6</td><td>-154.2441</td></tr>\n",
       "\t<tr><th scope=row>fit_int_2</th><td>21</td><td>-181.4746</td></tr>\n",
       "</tbody>\n",
       "</table>\n"
      ],
      "text/markdown": "\nA data.frame: 3 × 2\n\n| <!--/--> | df &lt;dbl&gt; | BIC &lt;dbl&gt; |\n|---|---|---|\n| fit_all |  9 | -145.2478 |\n| fit_all_bez_ser |  6 | -154.2441 |\n| fit_int_2 | 21 | -181.4746 |\n\n",
      "text/latex": "A data.frame: 3 × 2\n\\begin{tabular}{r|ll}\n  & df & BIC\\\\\n  & <dbl> & <dbl>\\\\\n\\hline\n\tfit\\_all &  9 & -145.2478\\\\\n\tfit\\_all\\_bez\\_ser &  6 & -154.2441\\\\\n\tfit\\_int\\_2 & 21 & -181.4746\\\\\n\\end{tabular}\n",
      "text/plain": [
       "                df BIC      \n",
       "fit_all          9 -145.2478\n",
       "fit_all_bez_ser  6 -154.2441\n",
       "fit_int_2       21 -181.4746"
      ]
     },
     "metadata": {},
     "output_type": "display_data"
    }
   ],
   "execution_count": 83
  },
  {
   "metadata": {},
   "cell_type": "markdown",
   "source": "Podle obou kritérií je model `fit_int_2` nejšikovnější.",
   "id": "bc3bd9127b087948"
  },
  {
   "metadata": {},
   "cell_type": "markdown",
   "source": [
    "#### Sekvenční výběr\n",
    "Zvolíme vhodně minimální a maximální model a nalezněte optimální model pomocí sekvenčního výběru."
   ],
   "id": "555d384bf02724ab"
  },
  {
   "metadata": {
    "ExecuteTime": {
     "end_time": "2024-04-24T20:43:08.661299Z",
     "start_time": "2024-04-24T20:43:07.459623Z"
    }
   },
   "cell_type": "code",
   "source": "step(lm(Ratio~1,data=ex0918),scope=list(lower=~1,upper=~SE.F + SE.M * Continent + Latitude * Females * Males * SE.R))",
   "id": "8e220dfd505231c9",
   "outputs": [
    {
     "name": "stdout",
     "output_type": "stream",
     "text": [
      "Start:  AIC=-211.06\n",
      "Ratio ~ 1\n",
      "\n",
      "            Df  Sum of Sq        RSS     AIC\n",
      "+ Continent  1 3.1111e-04 0.00051289 -219.02\n",
      "+ SE.F       1 1.1930e-04 0.00070470 -212.35\n",
      "<none>                    0.00082400 -211.06\n",
      "+ SE.M       1 1.3303e-05 0.00081070 -209.41\n",
      "+ SE.R       1 1.0098e-05 0.00081390 -209.32\n",
      "+ Males      1 9.5170e-06 0.00081448 -209.31\n",
      "+ Females    1 6.0070e-06 0.00081799 -209.22\n",
      "+ Latitude   1 5.2170e-06 0.00081878 -209.20\n",
      "\n",
      "Step:  AIC=-219.02\n",
      "Ratio ~ Continent\n",
      "\n",
      "            Df  Sum of Sq        RSS     AIC\n",
      "+ Females    1 1.3222e-04 0.00038067 -223.28\n",
      "<none>                    0.00051289 -219.02\n",
      "+ Latitude   1 3.8323e-05 0.00047457 -218.65\n",
      "+ SE.F       1 2.9151e-05 0.00048374 -218.25\n",
      "+ Males      1 1.4185e-05 0.00049870 -217.61\n",
      "+ SE.M       1 2.6800e-07 0.00051262 -217.03\n",
      "+ SE.R       1 1.8000e-08 0.00051287 -217.02\n",
      "- Continent  1 3.1111e-04 0.00082400 -211.06\n",
      "\n",
      "Step:  AIC=-223.28\n",
      "Ratio ~ Continent + Females\n",
      "\n",
      "            Df  Sum of Sq        RSS     AIC\n",
      "<none>                    0.00038067 -223.28\n",
      "+ Males      1 0.00001695 0.00036372 -222.24\n",
      "+ SE.M       1 0.00000586 0.00037481 -221.61\n",
      "+ Latitude   1 0.00000438 0.00037629 -221.52\n",
      "+ SE.F       1 0.00000424 0.00037643 -221.52\n",
      "+ SE.R       1 0.00000052 0.00038015 -221.31\n",
      "- Females    1 0.00013222 0.00051289 -219.02\n",
      "- Continent  1 0.00043732 0.00081799 -209.22\n"
     ]
    },
    {
     "data": {
      "text/plain": [
       "\n",
       "Call:\n",
       "lm(formula = Ratio ~ Continent + Females, data = ex0918)\n",
       "\n",
       "Coefficients:\n",
       "(Intercept)  ContinentEU      Females  \n",
       "  0.6627105   -0.0102966    0.0001862  \n"
      ]
     },
     "metadata": {},
     "output_type": "display_data"
    }
   ],
   "execution_count": 104
  },
  {
   "metadata": {},
   "cell_type": "markdown",
   "source": "#### Interpretace",
   "id": "bb89957f7340857a"
  },
  {
   "metadata": {},
   "cell_type": "markdown",
   "source": [
    "* Koeficient pro **ContinentEU** je -0.0102966. To znamená, že pro jednotkový nárůst v kategorické proměnné ContinentEU se očekává průměrný pokles výsledné proměnné Ratio o 0.0102966 jednotek, za předpokladu, že všechny ostatní proměnné zůstávají stejné.\n",
    "* Koeficient pro **Females** je 0.0001862. To znamená, že pro jednotkový nárůst v počtu žen se očekává průměrný nárůst výsledné proměnné Ratio o 0.0001862 jednotek, za předpokladu, že všechny ostatní proměnné zůstávají stejné.\n",
    "\n",
    "Tento výsledný model obsahuje pouze dvě proměnné - Continent a Females - a je vybrán na základě sekvenčního výběru, který minimalizoval hodnotu AIC."
   ],
   "id": "29750aea9235d35f"
  },
  {
   "metadata": {},
   "cell_type": "markdown",
   "source": [
    "## Úloha 6\n",
    "Pro ověření předpokladů modelu můžeme použít několik testů.\n",
    "Začněme získáním reziduí z finálního modelu:"
   ],
   "id": "78a2569a38ae085a"
  },
  {
   "metadata": {
    "ExecuteTime": {
     "end_time": "2024-04-24T21:53:42.653173Z",
     "start_time": "2024-04-24T21:53:42.467816Z"
    }
   },
   "cell_type": "code",
   "source": [
    "# Finální model\n",
    "final_model <- lm(Ratio ~ Continent + Females, data = ex0918)\n",
    "\n",
    "# Získání reziduí\n",
    "residuals <- resid(final_model)"
   ],
   "id": "e1b2fc45399056bc",
   "outputs": [],
   "execution_count": 106
  },
  {
   "metadata": {},
   "cell_type": "markdown",
   "source": [
    "Nyní provedeme jednotlivé testy:\n",
    "\n",
    "Normalita reziduí:"
   ],
   "id": "534b52b414c6d080"
  },
  {
   "metadata": {
    "ExecuteTime": {
     "end_time": "2024-04-24T21:54:08.851445Z",
     "start_time": "2024-04-24T21:54:08.628765Z"
    }
   },
   "cell_type": "code",
   "source": [
    "# Shapiro-Wilkův test\n",
    "shapiro.test(residuals)"
   ],
   "id": "e5ec4541f6c8f13f",
   "outputs": [
    {
     "data": {
      "text/plain": [
       "\n",
       "\tShapiro-Wilk normality test\n",
       "\n",
       "data:  residuals\n",
       "W = 0.96411, p-value = 0.6024\n"
      ]
     },
     "metadata": {},
     "output_type": "display_data"
    }
   ],
   "execution_count": 107
  },
  {
   "metadata": {},
   "cell_type": "markdown",
   "source": "Vypadá to, že test normálnosti Shapiro-Wilk pro rezidua nemá důkazy proti normální distribuci (p-hodnota = 0,6024). To naznačuje, že rezidua našeho modelu mohou být aproximována normálním rozdělením.",
   "id": "299df12337216bc"
  },
  {
   "metadata": {},
   "cell_type": "markdown",
   "source": "Absence multicolinearity mezi prediktory:",
   "id": "4df1c969fe7b8ebe"
  },
  {
   "metadata": {
    "ExecuteTime": {
     "end_time": "2024-04-24T21:58:30.904428Z",
     "start_time": "2024-04-24T21:58:30.485620Z"
    }
   },
   "cell_type": "code",
   "source": [
    "# Spočítání VIF\n",
    "vif(final_model)"
   ],
   "id": "28ae25a385ddda44",
   "outputs": [
    {
     "data": {
      "text/html": [
       "<style>\n",
       ".dl-inline {width: auto; margin:0; padding: 0}\n",
       ".dl-inline>dt, .dl-inline>dd {float: none; width: auto; display: inline-block}\n",
       ".dl-inline>dt::after {content: \":\\0020\"; padding-right: .5ex}\n",
       ".dl-inline>dt:not(:first-of-type) {padding-left: .5ex}\n",
       "</style><dl class=dl-inline><dt>Continent</dt><dd>1.24677367833445</dd><dt>Females</dt><dd>1.24677367833445</dd></dl>\n"
      ],
      "text/markdown": "Continent\n:   1.24677367833445Females\n:   1.24677367833445\n\n",
      "text/latex": "\\begin{description*}\n\\item[Continent] 1.24677367833445\n\\item[Females] 1.24677367833445\n\\end{description*}\n",
      "text/plain": [
       "Continent   Females \n",
       " 1.246774  1.246774 "
      ]
     },
     "metadata": {},
     "output_type": "display_data"
    }
   ],
   "execution_count": 111
  },
  {
   "metadata": {},
   "cell_type": "markdown",
   "source": [
    "To naznačuje, že tyto proměnné mají menší vliv na normalitu reziduí.\n",
    "\n",
    "Můžeme tedy konstatovat, že předpoklad normality residuí pro náš model nebyl porušen."
   ],
   "id": "110e9ebe870ba779"
  },
  {
   "metadata": {},
   "cell_type": "markdown",
   "source": "Použijeme Breusch-Pagan test pro testování homoskedasticity",
   "id": "bb5107adf0dd2705"
  },
  {
   "metadata": {
    "ExecuteTime": {
     "end_time": "2024-04-24T22:15:24.466330Z",
     "start_time": "2024-04-24T22:15:24.344698Z"
    }
   },
   "cell_type": "code",
   "source": [
    "library(lmtest)\n",
    "\n",
    "# Předpoklad homoskedasticity pomocí Breusch-Pagan testu\n",
    "bptest(final_model)"
   ],
   "id": "4321a1b8b0e43b43",
   "outputs": [
    {
     "data": {
      "text/plain": [
       "\n",
       "\tstudentized Breusch-Pagan test\n",
       "\n",
       "data:  final_model\n",
       "BP = 0.90466, df = 2, p-value = 0.6361\n"
      ]
     },
     "metadata": {},
     "output_type": "display_data"
    }
   ],
   "execution_count": 116
  },
  {
   "metadata": {},
   "cell_type": "markdown",
   "source": "Výsledek studentizovaného Breusch-Pagan testu na finálním modelu naznačuje, že není nalezena statisticky významná evidence proti homoskedasticitě reziduí (p-hodnota = 0.6361). To naznačuje, že neexistují důkazy o tom, že rozptyl reziduí je závislý na hodnotách nezávislých proměnných, a model tedy může splňovat předpoklad homoskedasticity.",
   "id": "42fff2436362ba07"
  },
  {
   "metadata": {},
   "cell_type": "code",
   "outputs": [],
   "execution_count": null,
   "source": "",
   "id": "78143b51d4d7c290"
  }
 ],
 "metadata": {
  "kernelspec": {
   "display_name": "R",
   "language": "R",
   "name": "ir"
  },
  "language_info": {
   "codemirror_mode": "r",
   "file_extension": ".r",
   "mimetype": "text/x-r-source",
   "name": "R",
   "pygments_lexer": "r",
   "version": "4.3.2"
  }
 },
 "nbformat": 4,
 "nbformat_minor": 5
}
