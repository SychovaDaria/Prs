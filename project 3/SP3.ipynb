{
 "cells": [
  {
   "cell_type": "markdown",
   "id": "c52fc17d7dc4f539",
   "metadata": {},
   "source": [
    "# BI-PRS: semestrální projekt 3\n",
    "\n",
    "Cílem třetího semestrálního projektu je analýza hrubého domácího produktu evropských zemí.\n",
    "\n",
    "Náš tým se skládá ze tří lidí: Ruslana Orazbekova (orazbrus), Nelly Shikina (shikinel), Daria Sychova (sychodar). Reprezentatntem ve třetím semestrálním projektu je Nelly Shikina.\n",
    "\n",
    "Nejprve určíme, který soubor dat a kterou proměnnou budeme v rámci semestrálního projektu analyzovat."
   ]
  },
  {
   "metadata": {
    "ExecuteTime": {
     "end_time": "2024-04-27T16:09:15.466265Z",
     "start_time": "2024-04-27T16:09:15.353429Z"
    }
   },
   "cell_type": "code",
   "source": [
    "# K = den narození reprezentanta skupiny (1-31)\n",
    "# L = počet písmen v příjmení reprezentanta\n",
    "# M = ((K+L)×47)mod11+1\n",
    "\n",
    "K <- 10\n",
    "L <- nchar('Shikina')\n",
    "M <- ((K + L) * 47) %% 11 + 1\n",
    "print(M)\n",
    "print(2011 + M)"
   ],
   "id": "cbf7aa6e67e5412b",
   "outputs": [
    {
     "name": "stdout",
     "output_type": "stream",
     "text": [
      "[1] 8\n",
      "[1] 2019\n"
     ]
    }
   ],
   "execution_count": 13
  },
  {
   "metadata": {},
   "cell_type": "markdown",
   "source": "Uvažujeme data z roku: 2019",
   "id": "ae394146b5df3731"
  },
  {
   "metadata": {},
   "cell_type": "markdown",
   "source": "#### Načtěme knihovny a požadovanou datovou sadu.",
   "id": "65740c9a0ca9e886"
  },
  {
   "metadata": {},
   "cell_type": "code",
   "outputs": [],
   "execution_count": null,
   "source": [
    "library(eurostat)\n",
    "library(tidyverse)"
   ],
   "id": "3398031fc449befe"
  },
  {
   "metadata": {
    "ExecuteTime": {
     "end_time": "2024-04-28T00:17:49.409436Z",
     "start_time": "2024-04-28T00:17:47.783349Z"
    }
   },
   "cell_type": "code",
   "source": [
    "# Načtení dat o HDP v tržních cenách v eurech na obyvatele\n",
    "data <- get_eurostat(\"nama_10_pc\", time_format = \"num\", filters = list(na_item = \"B1GQ\", unit = \"CP_EUR_HAB\", time = 2019))\n",
    "\n",
    "# Zobrazení prvních řádků dat pro kontrolu\n",
    "head(data)"
   ],
   "id": "676d74eeded209f1",
   "outputs": [
    {
     "name": "stderr",
     "output_type": "stream",
     "text": [
      "Table nama_10_pc cached at C:\\Users\\User\\AppData\\Local\\Temp\\RtmpKyPUKN/eurostat/8172b3455db62aceb090af98776071df.rds\n",
      "\n"
     ]
    },
    {
     "data": {
      "text/html": [
       "<table class=\"dataframe\">\n",
       "<caption>A tibble: 6 × 6</caption>\n",
       "<thead>\n",
       "\t<tr><th scope=col>freq</th><th scope=col>unit</th><th scope=col>na_item</th><th scope=col>geo</th><th scope=col>time</th><th scope=col>values</th></tr>\n",
       "\t<tr><th scope=col>&lt;chr&gt;</th><th scope=col>&lt;chr&gt;</th><th scope=col>&lt;chr&gt;</th><th scope=col>&lt;chr&gt;</th><th scope=col>&lt;dbl&gt;</th><th scope=col>&lt;int&gt;</th></tr>\n",
       "</thead>\n",
       "<tbody>\n",
       "\t<tr><td>A</td><td>CP_EUR_HAB</td><td>B1GQ</td><td>EU27_2020</td><td>2019</td><td>31310</td></tr>\n",
       "\t<tr><td>A</td><td>CP_EUR_HAB</td><td>B1GQ</td><td>EU28     </td><td>2019</td><td>32150</td></tr>\n",
       "\t<tr><td>A</td><td>CP_EUR_HAB</td><td>B1GQ</td><td>EU15     </td><td>2019</td><td>36580</td></tr>\n",
       "\t<tr><td>A</td><td>CP_EUR_HAB</td><td>B1GQ</td><td>EA       </td><td>2019</td><td>35010</td></tr>\n",
       "\t<tr><td>A</td><td>CP_EUR_HAB</td><td>B1GQ</td><td>EA20     </td><td>2019</td><td>34760</td></tr>\n",
       "\t<tr><td>A</td><td>CP_EUR_HAB</td><td>B1GQ</td><td>EA19     </td><td>2019</td><td>35010</td></tr>\n",
       "</tbody>\n",
       "</table>\n"
      ],
      "text/markdown": "\nA tibble: 6 × 6\n\n| freq &lt;chr&gt; | unit &lt;chr&gt; | na_item &lt;chr&gt; | geo &lt;chr&gt; | time &lt;dbl&gt; | values &lt;int&gt; |\n|---|---|---|---|---|---|\n| A | CP_EUR_HAB | B1GQ | EU27_2020 | 2019 | 31310 |\n| A | CP_EUR_HAB | B1GQ | EU28      | 2019 | 32150 |\n| A | CP_EUR_HAB | B1GQ | EU15      | 2019 | 36580 |\n| A | CP_EUR_HAB | B1GQ | EA        | 2019 | 35010 |\n| A | CP_EUR_HAB | B1GQ | EA20      | 2019 | 34760 |\n| A | CP_EUR_HAB | B1GQ | EA19      | 2019 | 35010 |\n\n",
      "text/latex": "A tibble: 6 × 6\n\\begin{tabular}{llllll}\n freq & unit & na\\_item & geo & time & values\\\\\n <chr> & <chr> & <chr> & <chr> & <dbl> & <int>\\\\\n\\hline\n\t A & CP\\_EUR\\_HAB & B1GQ & EU27\\_2020 & 2019 & 31310\\\\\n\t A & CP\\_EUR\\_HAB & B1GQ & EU28      & 2019 & 32150\\\\\n\t A & CP\\_EUR\\_HAB & B1GQ & EU15      & 2019 & 36580\\\\\n\t A & CP\\_EUR\\_HAB & B1GQ & EA        & 2019 & 35010\\\\\n\t A & CP\\_EUR\\_HAB & B1GQ & EA20      & 2019 & 34760\\\\\n\t A & CP\\_EUR\\_HAB & B1GQ & EA19      & 2019 & 35010\\\\\n\\end{tabular}\n",
      "text/plain": [
       "  freq unit       na_item geo       time values\n",
       "1 A    CP_EUR_HAB B1GQ    EU27_2020 2019 31310 \n",
       "2 A    CP_EUR_HAB B1GQ    EU28      2019 32150 \n",
       "3 A    CP_EUR_HAB B1GQ    EU15      2019 36580 \n",
       "4 A    CP_EUR_HAB B1GQ    EA        2019 35010 \n",
       "5 A    CP_EUR_HAB B1GQ    EA20      2019 34760 \n",
       "6 A    CP_EUR_HAB B1GQ    EA19      2019 35010 "
      ]
     },
     "metadata": {},
     "output_type": "display_data"
    }
   ],
   "execution_count": 57
  },
  {
   "metadata": {},
   "cell_type": "markdown",
   "source": [
    "Prozkoumejme, co znamenají jednotlivé sloupce datsetu.\n",
    "\n",
    "1. **freq**: Tento sloupec udává frekvenci, s jakou jsou data zaznamenána. V tomto případě je to \"A\", což znamená, že data jsou roční.\n",
    "\n",
    "2. **unit**: Sloupec `unit` označuje jednotku, v níž jsou hodnoty udávány. Zde je uvedeno \"CP_EUR_HAB\", což znamená \"current prices, euros per inhabitant\", tedy hodnoty jsou vyjádřeny v eurech na obyvatele.\n",
    "\n",
    "3. **na_item**: Tento sloupec označuje položku Národních účtů podle zvoleného kritéria.\n",
    "\n",
    "4. **geo**: Sloupec `geo` označuje geografickou oblast, pro kterou jsou hodnoty uvedeny.\n",
    "\n",
    "5. **time**: Tento sloupec obsahuje rok, ke kterému se údaje vztahují.\n",
    "\n",
    "6. **values**: Sloupec `values` obsahuje samotné hodnoty HDP vyjádřené v eurech na obyvatele pro danou oblast (země/region) a rok."
   ],
   "id": "81dad8c625fdf8b"
  },
  {
   "metadata": {
    "ExecuteTime": {
     "end_time": "2024-04-28T00:17:53.793663Z",
     "start_time": "2024-04-28T00:17:51.061759Z"
    }
   },
   "cell_type": "code",
   "source": [
    "# Label the data with label_eurostat\n",
    "data <- label_eurostat(data)\n",
    "head(data)"
   ],
   "id": "dead3f5f7ddd2d60",
   "outputs": [
    {
     "data": {
      "text/html": [
       "<table class=\"dataframe\">\n",
       "<caption>A tibble: 6 × 6</caption>\n",
       "<thead>\n",
       "\t<tr><th scope=col>freq</th><th scope=col>unit</th><th scope=col>na_item</th><th scope=col>geo</th><th scope=col>time</th><th scope=col>values</th></tr>\n",
       "\t<tr><th scope=col>&lt;chr&gt;</th><th scope=col>&lt;chr&gt;</th><th scope=col>&lt;chr&gt;</th><th scope=col>&lt;chr&gt;</th><th scope=col>&lt;dbl&gt;</th><th scope=col>&lt;int&gt;</th></tr>\n",
       "</thead>\n",
       "<tbody>\n",
       "\t<tr><td>Annual</td><td>Current prices, euro per capita</td><td>Gross domestic product at market prices</td><td>European Union - 27 countries (from 2020)                                                                    </td><td>2019</td><td>31310</td></tr>\n",
       "\t<tr><td>Annual</td><td>Current prices, euro per capita</td><td>Gross domestic product at market prices</td><td>European Union - 28 countries (2013-2020)                                                                    </td><td>2019</td><td>32150</td></tr>\n",
       "\t<tr><td>Annual</td><td>Current prices, euro per capita</td><td>Gross domestic product at market prices</td><td>European Union - 15 countries (1995-2004)                                                                    </td><td>2019</td><td>36580</td></tr>\n",
       "\t<tr><td>Annual</td><td>Current prices, euro per capita</td><td>Gross domestic product at market prices</td><td>Euro area (EA11-1999, EA12-2001, EA13-2007, EA15-2008, EA16-2009, EA17-2011, EA18-2014, EA19-2015, EA20-2023)</td><td>2019</td><td>35010</td></tr>\n",
       "\t<tr><td>Annual</td><td>Current prices, euro per capita</td><td>Gross domestic product at market prices</td><td>Euro area – 20 countries (from 2023)                                                                         </td><td>2019</td><td>34760</td></tr>\n",
       "\t<tr><td>Annual</td><td>Current prices, euro per capita</td><td>Gross domestic product at market prices</td><td>Euro area - 19 countries  (2015-2022)                                                                        </td><td>2019</td><td>35010</td></tr>\n",
       "</tbody>\n",
       "</table>\n"
      ],
      "text/markdown": "\nA tibble: 6 × 6\n\n| freq &lt;chr&gt; | unit &lt;chr&gt; | na_item &lt;chr&gt; | geo &lt;chr&gt; | time &lt;dbl&gt; | values &lt;int&gt; |\n|---|---|---|---|---|---|\n| Annual | Current prices, euro per capita | Gross domestic product at market prices | European Union - 27 countries (from 2020)                                                                     | 2019 | 31310 |\n| Annual | Current prices, euro per capita | Gross domestic product at market prices | European Union - 28 countries (2013-2020)                                                                     | 2019 | 32150 |\n| Annual | Current prices, euro per capita | Gross domestic product at market prices | European Union - 15 countries (1995-2004)                                                                     | 2019 | 36580 |\n| Annual | Current prices, euro per capita | Gross domestic product at market prices | Euro area (EA11-1999, EA12-2001, EA13-2007, EA15-2008, EA16-2009, EA17-2011, EA18-2014, EA19-2015, EA20-2023) | 2019 | 35010 |\n| Annual | Current prices, euro per capita | Gross domestic product at market prices | Euro area – 20 countries (from 2023)                                                                          | 2019 | 34760 |\n| Annual | Current prices, euro per capita | Gross domestic product at market prices | Euro area - 19 countries  (2015-2022)                                                                         | 2019 | 35010 |\n\n",
      "text/latex": "A tibble: 6 × 6\n\\begin{tabular}{llllll}\n freq & unit & na\\_item & geo & time & values\\\\\n <chr> & <chr> & <chr> & <chr> & <dbl> & <int>\\\\\n\\hline\n\t Annual & Current prices, euro per capita & Gross domestic product at market prices & European Union - 27 countries (from 2020)                                                                     & 2019 & 31310\\\\\n\t Annual & Current prices, euro per capita & Gross domestic product at market prices & European Union - 28 countries (2013-2020)                                                                     & 2019 & 32150\\\\\n\t Annual & Current prices, euro per capita & Gross domestic product at market prices & European Union - 15 countries (1995-2004)                                                                     & 2019 & 36580\\\\\n\t Annual & Current prices, euro per capita & Gross domestic product at market prices & Euro area (EA11-1999, EA12-2001, EA13-2007, EA15-2008, EA16-2009, EA17-2011, EA18-2014, EA19-2015, EA20-2023) & 2019 & 35010\\\\\n\t Annual & Current prices, euro per capita & Gross domestic product at market prices & Euro area – 20 countries (from 2023)                                                                          & 2019 & 34760\\\\\n\t Annual & Current prices, euro per capita & Gross domestic product at market prices & Euro area - 19 countries  (2015-2022)                                                                         & 2019 & 35010\\\\\n\\end{tabular}\n",
      "text/plain": [
       "  freq   unit                           \n",
       "1 Annual Current prices, euro per capita\n",
       "2 Annual Current prices, euro per capita\n",
       "3 Annual Current prices, euro per capita\n",
       "4 Annual Current prices, euro per capita\n",
       "5 Annual Current prices, euro per capita\n",
       "6 Annual Current prices, euro per capita\n",
       "  na_item                                \n",
       "1 Gross domestic product at market prices\n",
       "2 Gross domestic product at market prices\n",
       "3 Gross domestic product at market prices\n",
       "4 Gross domestic product at market prices\n",
       "5 Gross domestic product at market prices\n",
       "6 Gross domestic product at market prices\n",
       "  geo                                                                                                          \n",
       "1 European Union - 27 countries (from 2020)                                                                    \n",
       "2 European Union - 28 countries (2013-2020)                                                                    \n",
       "3 European Union - 15 countries (1995-2004)                                                                    \n",
       "4 Euro area (EA11-1999, EA12-2001, EA13-2007, EA15-2008, EA16-2009, EA17-2011, EA18-2014, EA19-2015, EA20-2023)\n",
       "5 Euro area – 20 countries (from 2023)                                                                         \n",
       "6 Euro area - 19 countries  (2015-2022)                                                                        \n",
       "  time values\n",
       "1 2019 31310 \n",
       "2 2019 32150 \n",
       "3 2019 36580 \n",
       "4 2019 35010 \n",
       "5 2019 34760 \n",
       "6 2019 35010 "
      ]
     },
     "metadata": {},
     "output_type": "display_data"
    }
   ],
   "execution_count": 58
  },
  {
   "metadata": {},
   "cell_type": "markdown",
   "source": "Je vidět, že dataset obsahuje redundantní sloupce, takže než přejdeme k úkolům samotným, data trochu upravíme. Zbavíme se některých sloupců.",
   "id": "dcf058b0fcf6e732"
  },
  {
   "metadata": {
    "ExecuteTime": {
     "end_time": "2024-04-28T00:17:55.099390Z",
     "start_time": "2024-04-28T00:17:55.008738Z"
    }
   },
   "cell_type": "code",
   "source": [
    "# Drop unnecessary columns\n",
    "data <- subset(data, select = c(\"geo\", \"values\"))\n",
    "head(data)"
   ],
   "id": "6ebf1e27aa8ab8e7",
   "outputs": [
    {
     "data": {
      "text/html": [
       "<table class=\"dataframe\">\n",
       "<caption>A tibble: 6 × 2</caption>\n",
       "<thead>\n",
       "\t<tr><th scope=col>geo</th><th scope=col>values</th></tr>\n",
       "\t<tr><th scope=col>&lt;chr&gt;</th><th scope=col>&lt;int&gt;</th></tr>\n",
       "</thead>\n",
       "<tbody>\n",
       "\t<tr><td>European Union - 27 countries (from 2020)                                                                    </td><td>31310</td></tr>\n",
       "\t<tr><td>European Union - 28 countries (2013-2020)                                                                    </td><td>32150</td></tr>\n",
       "\t<tr><td>European Union - 15 countries (1995-2004)                                                                    </td><td>36580</td></tr>\n",
       "\t<tr><td>Euro area (EA11-1999, EA12-2001, EA13-2007, EA15-2008, EA16-2009, EA17-2011, EA18-2014, EA19-2015, EA20-2023)</td><td>35010</td></tr>\n",
       "\t<tr><td>Euro area – 20 countries (from 2023)                                                                         </td><td>34760</td></tr>\n",
       "\t<tr><td>Euro area - 19 countries  (2015-2022)                                                                        </td><td>35010</td></tr>\n",
       "</tbody>\n",
       "</table>\n"
      ],
      "text/markdown": "\nA tibble: 6 × 2\n\n| geo &lt;chr&gt; | values &lt;int&gt; |\n|---|---|\n| European Union - 27 countries (from 2020)                                                                     | 31310 |\n| European Union - 28 countries (2013-2020)                                                                     | 32150 |\n| European Union - 15 countries (1995-2004)                                                                     | 36580 |\n| Euro area (EA11-1999, EA12-2001, EA13-2007, EA15-2008, EA16-2009, EA17-2011, EA18-2014, EA19-2015, EA20-2023) | 35010 |\n| Euro area – 20 countries (from 2023)                                                                          | 34760 |\n| Euro area - 19 countries  (2015-2022)                                                                         | 35010 |\n\n",
      "text/latex": "A tibble: 6 × 2\n\\begin{tabular}{ll}\n geo & values\\\\\n <chr> & <int>\\\\\n\\hline\n\t European Union - 27 countries (from 2020)                                                                     & 31310\\\\\n\t European Union - 28 countries (2013-2020)                                                                     & 32150\\\\\n\t European Union - 15 countries (1995-2004)                                                                     & 36580\\\\\n\t Euro area (EA11-1999, EA12-2001, EA13-2007, EA15-2008, EA16-2009, EA17-2011, EA18-2014, EA19-2015, EA20-2023) & 35010\\\\\n\t Euro area – 20 countries (from 2023)                                                                          & 34760\\\\\n\t Euro area - 19 countries  (2015-2022)                                                                         & 35010\\\\\n\\end{tabular}\n",
      "text/plain": [
       "  geo                                                                                                          \n",
       "1 European Union - 27 countries (from 2020)                                                                    \n",
       "2 European Union - 28 countries (2013-2020)                                                                    \n",
       "3 European Union - 15 countries (1995-2004)                                                                    \n",
       "4 Euro area (EA11-1999, EA12-2001, EA13-2007, EA15-2008, EA16-2009, EA17-2011, EA18-2014, EA19-2015, EA20-2023)\n",
       "5 Euro area – 20 countries (from 2023)                                                                         \n",
       "6 Euro area - 19 countries  (2015-2022)                                                                        \n",
       "  values\n",
       "1 31310 \n",
       "2 32150 \n",
       "3 36580 \n",
       "4 35010 \n",
       "5 34760 \n",
       "6 35010 "
      ]
     },
     "metadata": {},
     "output_type": "display_data"
    }
   ],
   "execution_count": 59
  },
  {
   "metadata": {
    "ExecuteTime": {
     "end_time": "2024-04-28T00:17:56.700545Z",
     "start_time": "2024-04-28T00:17:56.646153Z"
    }
   },
   "cell_type": "code",
   "source": [
    "# Checking if we have NaN values\n",
    "any_na <- any(is.na(data))\n",
    "print(any_na)"
   ],
   "id": "fdbf2d26a2b4d99a",
   "outputs": [
    {
     "name": "stdout",
     "output_type": "stream",
     "text": [
      "[1] TRUE\n"
     ]
    }
   ],
   "execution_count": 60
  },
  {
   "metadata": {},
   "cell_type": "markdown",
   "source": "Náš dataset má NA hodnoty. Podívejme se, kde přesně nám chybí data.",
   "id": "b0f290e841396903"
  },
  {
   "metadata": {
    "ExecuteTime": {
     "end_time": "2024-04-28T00:17:59.226258Z",
     "start_time": "2024-04-28T00:17:59.161983Z"
    }
   },
   "cell_type": "code",
   "source": [
    "# Identifikace chybějících hodnot\n",
    "missing_values <- is.na(data)\n",
    "\n",
    "# Zobrazení řádků s chybějícími hodnotami\n",
    "rows_with_missing <- data[apply(missing_values, 1, any), ]\n",
    "print(rows_with_missing)\n"
   ],
   "id": "5df973acc5e316db",
   "outputs": [
    {
     "name": "stdout",
     "output_type": "stream",
     "text": [
      "\u001B[90m# A tibble: 2 × 2\u001B[39m\n",
      "  geo                    values\n",
      "  \u001B[3m\u001B[90m<chr>\u001B[39m\u001B[23m                   \u001B[3m\u001B[90m<int>\u001B[39m\u001B[23m\n",
      "\u001B[90m1\u001B[39m Bosnia and Herzegovina     \u001B[31mNA\u001B[39m\n",
      "\u001B[90m2\u001B[39m Kosovo*                    \u001B[31mNA\u001B[39m\n"
     ]
    }
   ],
   "execution_count": 61
  },
  {
   "metadata": {},
   "cell_type": "markdown",
   "source": "Chybějící hodnoty identifikovány v zemích \"Bosnia a Herzegovina\" a \"Kosovo*\". Hodnoty HDP pro tyto země v roce 2019 chybí (označeny jako NA).",
   "id": "eb2629580eb422be"
  },
  {
   "metadata": {
    "ExecuteTime": {
     "end_time": "2024-04-28T00:18:06.723309Z",
     "start_time": "2024-04-28T00:18:06.602078Z"
    }
   },
   "cell_type": "code",
   "source": [
    "# Identifying neighboring countries for Bosnia and Herzegovina and Kosovo\n",
    "neighbors_BiH <- c(\"Croatia\", \"Serbia\", \"Montenegro\")\n",
    "neighbors_Kosovo <- c(\"Albania\", \"North Macedonia\", \"Serbia\")\n",
    "\n",
    "# Selecting data for neighboring countries\n",
    "data_neighbors_BiH <- subset(data, geo %in% neighbors_BiH)\n",
    "data_neighbors_Kosovo <- subset(data, geo %in% neighbors_Kosovo)\n",
    "\n",
    "# Calculating the average GDP of neighboring countries\n",
    "mean_BiH <- mean(data_neighbors_BiH$values, na.rm = TRUE)\n",
    "mean_Kosovo <- mean(data_neighbors_Kosovo$values, na.rm = TRUE)\n",
    "\n",
    "# Replacing missing values with the averages of neighboring countries\n",
    "data$values[data$geo == \"Bosnia and Herzegovina\" & is.na(data$values)] <- mean_BiH\n",
    "data$values[data$geo == \"Kosovo*\" & is.na(data$values)] <- mean_Kosovo\n",
    "\n",
    "# Displaying the modified data\n",
    "print(data[data$geo %in% c(\"Bosnia and Herzegovina\", \"Kosovo*\"), ])\n"
   ],
   "id": "25c65e20d3e86086",
   "outputs": [
    {
     "name": "stdout",
     "output_type": "stream",
     "text": [
      "\u001B[90m# A tibble: 2 × 2\u001B[39m\n",
      "  geo                    values\n",
      "  \u001B[3m\u001B[90m<chr>\u001B[39m\u001B[23m                   \u001B[3m\u001B[90m<dbl>\u001B[39m\u001B[23m\n",
      "\u001B[90m1\u001B[39m Bosnia and Herzegovina  \u001B[4m9\u001B[24m460 \n",
      "\u001B[90m2\u001B[39m Kosovo*                 \u001B[4m5\u001B[24m813.\n"
     ]
    }
   ],
   "execution_count": 62
  },
  {
   "metadata": {},
   "cell_type": "markdown",
   "source": "Tímto způsobem jsme nahradili chybějící hodnoty průměrným HDP sousedních zemí.",
   "id": "4b3a8ab076cc0c13"
  },
  {
   "metadata": {
    "ExecuteTime": {
     "end_time": "2024-04-28T00:18:09.656419Z",
     "start_time": "2024-04-28T00:18:09.611057Z"
    }
   },
   "cell_type": "code",
   "source": [
    "# Checking if we have NaN values\n",
    "any_na <- any(is.na(data))\n",
    "print(any_na)"
   ],
   "id": "de84bbd74d367c59",
   "outputs": [
    {
     "name": "stdout",
     "output_type": "stream",
     "text": [
      "[1] FALSE\n"
     ]
    }
   ],
   "execution_count": 63
  },
  {
   "metadata": {},
   "cell_type": "markdown",
   "source": [
    "Data jsou v pořádku.\n",
    "\n",
    "## Úloha 1:"
   ],
   "id": "a4cde3caee25abb"
  },
  {
   "metadata": {
    "ExecuteTime": {
     "end_time": "2024-04-28T00:18:12.805589Z",
     "start_time": "2024-04-28T00:18:12.738790Z"
    }
   },
   "cell_type": "code",
   "source": [
    "# Základní charakteristiky HDP\n",
    "summary(data$values)"
   ],
   "id": "5ad561b26f5e14",
   "outputs": [
    {
     "data": {
      "text/plain": [
       "   Min. 1st Qu.  Median    Mean 3rd Qu.    Max. \n",
       "   4820   15245   29205   33347   41773  146830 "
      ]
     },
     "metadata": {},
     "output_type": "display_data"
    }
   ],
   "execution_count": 64
  },
  {
   "metadata": {},
   "cell_type": "markdown",
   "source": [
    "Tyto číselné charakteristiky poskytují užitečné informace o rozdělení HDP v evropských zemích v roce 2019:\n",
    "\n",
    "- **Minimální hodnota**: Nejnižší hodnota HDP v eurech na obyvatele z celého souboru je 4820. To ukazuje na nejmenší úroveň ekonomické prosperity mezi zkoumanými zeměmi.\n",
    "\n",
    "- **První kvartil (1st Qu.)**: Hodnota, pod kterou spadá první čtvrtina dat, je 15245 eur na obyvatele. To znamená, že 25 % zemí má HDP nižší než tato hodnota.\n",
    "\n",
    "- **Medián**: Medián, což je střední hodnota datového souboru, je 29205 eur na obyvatele. To znamená, že polovina zemí má HDP nižší než tento medián a polovina má vyšší.\n",
    "\n",
    "- **Průměr (Mean)**: Průměrná hodnota HDP v evropských zemích v roce 2019 je 33347 eur na obyvatele. To je aritmetický průměr všech hodnot HDP.\n",
    "\n",
    "- **Třetí kvartil (3rd Qu.)**: Hodnota, pod kterou spadá třetí čtvrtina dat, je 41773 eur na obyvatele. To znamená, že 75 % zemí má HDP nižší než tato hodnota.\n",
    "\n",
    "- **Maximální hodnota**: Nejvyšší hodnota HDP v eurech na obyvatele z celého souboru je 146830. Tato hodnota představuje nejvyšší úroveň ekonomické prosperity mezi zkoumanými zeměmi.\n",
    "\n",
    "Tyto statistické údaje nám poskytují přehled o rozdělení HDP a jeho variabilitě mezi evropskými zeměmi v roce 2019."
   ],
   "id": "87ab7f356cae5ece"
  },
  {
   "metadata": {
    "ExecuteTime": {
     "end_time": "2024-04-28T00:18:17.447494Z",
     "start_time": "2024-04-28T00:18:16.846266Z"
    }
   },
   "cell_type": "code",
   "source": [
    "# Vytvoření histogramu s lepším nastavením\n",
    "ggplot(data, aes(x = values)) +\n",
    "  geom_histogram(binwidth = 5000, fill = \"skyblue\", color = \"black\", alpha = 0.8) +  # Alfa kanál pro průhlednost\n",
    "  labs(title = \"Rozdělení HDP v evropských zemích v roce 2019\",\n",
    "       x = \"HDP v eurech na obyvatele\",\n",
    "       y = \"Počet zemí\") +\n",
    "  scale_x_continuous(labels = scales::comma) +  # Přidání oddělovačů tisíců na osu x\n",
    "  theme_minimal() +\n",
    "  theme(plot.title = element_text(size = 16, face = \"bold\"),  # Velikost a styl titulku\n",
    "        axis.text = element_text(size = 12),  # Velikost textu na osách\n",
    "        axis.title = element_text(size = 14))  # Velikost popisků os"
   ],
   "id": "f8a7965c23c418af",
   "outputs": [
    {
     "data": {
      "text/plain": [
       "plot without title"
      ],
      "image/png": "[encoded data removed]"
     },
     "metadata": {
      "image/png": {
       "width": 420,
       "height": 420
      }
     },
     "output_type": "display_data"
    }
   ],
   "execution_count": 65
  },
  {
   "metadata": {},
   "cell_type": "markdown",
   "source": [
    "Tento histogram zobrazuje rozdělení hrubého domácího produktu (HDP) v evropských zemích v roce 2019. Na osu x je uvedeno HDP v eurech na obyvatele a na osu y počet zemí, které dosáhly dané úrovně HDP.\n",
    "\n",
    "Graf ukazuje, že většina zemí má HDP mezi 10 000 a 50 000 eur na obyvatele. Existuje také menší počet zemí s HDP nad 50 000 eur na obyvatele, což může zahrnovat země s vyššími úrovněmi ekonomické prosperity.\n",
    "\n",
    "Různé faktory mohou ovlivňovat HDP zemí. Některé z hlavních faktorů zahrnují:\n",
    "\n",
    "* **Ekonomická politika**: Makroekonomická politika vlád, včetně monetární politiky a fiskální politiky, může mít vliv na HDP.\n",
    "\n",
    "* **Obchodní politika**: Otevřenost země obchodu s ostatními zeměmi může ovlivnit HDP prostřednictvím exportu a importu zboží a služeb.\n",
    "\n",
    "* **Technologický pokrok**: Inovace a technologický pokrok mohou zvyšovat produktivitu a stimulovat růst HDP.\n",
    "\n",
    "* **Pracovní trh**: Zaměstnanost, úroveň mezd a pracovní podmínky mohou ovlivnit schopnost země generovat HDP.\n",
    "\n",
    "* **Infrastruktura**: Kvalita infrastruktury, včetně dopravních sítí a telekomunikací, může mít vliv na efektivitu ekonomiky a tím i na HDP.\n",
    "\n",
    "* **Politická stabilita**: Politická stabilita a právní rámec mohou ovlivnit investice a obchod, což může mít vliv na HDP."
   ],
   "id": "2a3f5922cd196bdd"
  },
  {
   "metadata": {},
   "cell_type": "markdown",
   "source": [
    "## Úloha 2:\n",
    "Pro zkoumané země můžeme zvolit následující čtyři údaje jako regresory pro analýzu vztahu k HDP:\n",
    "\n",
    "1. **Průměrný věk obyvatelstva**: Tato numerická proměnná může poskytnout informace o demografické struktuře země a jejím vlivu na ekonomiku, jako je například pracovní síla a spotřeba.\n",
    "\n",
    "2. **Hustota obyvatelstva**: Další numerická proměnná, která může ovlivnit HDP, je hustota obyvatelstva. Vyšší hustota obvykle znamená větší ekonomickou aktivitu a přístup k většímu trhu.\n",
    "\n",
    "3. **Přístup k moři**: Tato kategoriální proměnná může být užitečná pro rozlišení mezi zeměmi s přístupem k moři a vnitrozemskými zeměmi. Země s přístupem k moři mohou mít výhodu v obchodu a cestovním ruchu.\n",
    "\n",
    "4. **Měna**: Další kategoriální proměnná, která může být důležitá, je měna, kterou země používá. Země používající euro mohou mít výhodu v obchodě a stabilitě měny ve srovnání s zeměmi, které používají jiné měny.\n",
    "\n",
    "Nyní bychom mohli použít regresní analýzu k určení vztahu mezi těmito proměnnými a HDP. Bylo by možné provést analýzu pomocí lineární regrese nebo jiných pokročilejších metod, abychom lépe porozuměli, jak tyto faktory ovlivňují ekonomický výkon zemí."
   ],
   "id": "db5b818e2c95342e"
  },
  {
   "metadata": {},
   "cell_type": "markdown",
   "source": "Chceme získat data o průměrném věku obyvatelstva z Eurostatu pro rok 2019 s pomocí identifikátoru MEDAGEPOP pro střední věk obyvatelstva. Vytvořím dotaz do databáze Eurostatu, abychom mohli získat požadovaná data.",
   "id": "1788256b4904c40c"
  },
  {
   "metadata": {
    "ExecuteTime": {
     "end_time": "2024-04-28T00:18:24.662147Z",
     "start_time": "2024-04-28T00:18:24.051023Z"
    }
   },
   "cell_type": "code",
   "source": [
    "# Dotaz na data o průměrném věku obyvatelstva za rok 2019\n",
    "data_age <- get_eurostat(\"eq_pop04\", filters = list(time=\"2019\", indic_de = \"MEDAGEPOP\"))\n",
    "# Zobrazení prvních řádků dat\n",
    "head(data_age)"
   ],
   "id": "982167681af105a",
   "outputs": [
    {
     "name": "stderr",
     "output_type": "stream",
     "text": [
      "Dataset query already saved in cache_list.json...\n",
      "\n",
      "Reading cache file C:\\Users\\User\\AppData\\Local\\Temp\\RtmpKyPUKN/eurostat/afdd4e6e27b94a0fbe944e9f388e8116.rds\n",
      "\n",
      "Table  eq_pop04  read from cache file:  C:\\Users\\User\\AppData\\Local\\Temp\\RtmpKyPUKN/eurostat/afdd4e6e27b94a0fbe944e9f388e8116.rds\n",
      "\n"
     ]
    },
    {
     "data": {
      "text/html": [
       "<table class=\"dataframe\">\n",
       "<caption>A tibble: 6 × 5</caption>\n",
       "<thead>\n",
       "\t<tr><th scope=col>freq</th><th scope=col>indic_de</th><th scope=col>geo</th><th scope=col>time</th><th scope=col>values</th></tr>\n",
       "\t<tr><th scope=col>&lt;chr&gt;</th><th scope=col>&lt;chr&gt;</th><th scope=col>&lt;chr&gt;</th><th scope=col>&lt;date&gt;</th><th scope=col>&lt;dbl&gt;</th></tr>\n",
       "</thead>\n",
       "<tbody>\n",
       "\t<tr><td>A</td><td>MEDAGEPOP</td><td>EU27_2020</td><td>2019-01-01</td><td>43.7</td></tr>\n",
       "\t<tr><td>A</td><td>MEDAGEPOP</td><td>EA20     </td><td>2019-01-01</td><td>  NA</td></tr>\n",
       "\t<tr><td>A</td><td>MEDAGEPOP</td><td>EA19     </td><td>2019-01-01</td><td>44.3</td></tr>\n",
       "\t<tr><td>A</td><td>MEDAGEPOP</td><td>BE       </td><td>2019-01-01</td><td>41.7</td></tr>\n",
       "\t<tr><td>A</td><td>MEDAGEPOP</td><td>BG       </td><td>2019-01-01</td><td>44.5</td></tr>\n",
       "\t<tr><td>A</td><td>MEDAGEPOP</td><td>CZ       </td><td>2019-01-01</td><td>42.6</td></tr>\n",
       "</tbody>\n",
       "</table>\n"
      ],
      "text/markdown": "\nA tibble: 6 × 5\n\n| freq &lt;chr&gt; | indic_de &lt;chr&gt; | geo &lt;chr&gt; | time &lt;date&gt; | values &lt;dbl&gt; |\n|---|---|---|---|---|\n| A | MEDAGEPOP | EU27_2020 | 2019-01-01 | 43.7 |\n| A | MEDAGEPOP | EA20      | 2019-01-01 |   NA |\n| A | MEDAGEPOP | EA19      | 2019-01-01 | 44.3 |\n| A | MEDAGEPOP | BE        | 2019-01-01 | 41.7 |\n| A | MEDAGEPOP | BG        | 2019-01-01 | 44.5 |\n| A | MEDAGEPOP | CZ        | 2019-01-01 | 42.6 |\n\n",
      "text/latex": "A tibble: 6 × 5\n\\begin{tabular}{lllll}\n freq & indic\\_de & geo & time & values\\\\\n <chr> & <chr> & <chr> & <date> & <dbl>\\\\\n\\hline\n\t A & MEDAGEPOP & EU27\\_2020 & 2019-01-01 & 43.7\\\\\n\t A & MEDAGEPOP & EA20      & 2019-01-01 &   NA\\\\\n\t A & MEDAGEPOP & EA19      & 2019-01-01 & 44.3\\\\\n\t A & MEDAGEPOP & BE        & 2019-01-01 & 41.7\\\\\n\t A & MEDAGEPOP & BG        & 2019-01-01 & 44.5\\\\\n\t A & MEDAGEPOP & CZ        & 2019-01-01 & 42.6\\\\\n\\end{tabular}\n",
      "text/plain": [
       "  freq indic_de  geo       time       values\n",
       "1 A    MEDAGEPOP EU27_2020 2019-01-01 43.7  \n",
       "2 A    MEDAGEPOP EA20      2019-01-01   NA  \n",
       "3 A    MEDAGEPOP EA19      2019-01-01 44.3  \n",
       "4 A    MEDAGEPOP BE        2019-01-01 41.7  \n",
       "5 A    MEDAGEPOP BG        2019-01-01 44.5  \n",
       "6 A    MEDAGEPOP CZ        2019-01-01 42.6  "
      ]
     },
     "metadata": {},
     "output_type": "display_data"
    }
   ],
   "execution_count": 66
  },
  {
   "metadata": {
    "ExecuteTime": {
     "end_time": "2024-04-28T00:41:59.753573Z",
     "start_time": "2024-04-28T00:41:58.151596Z"
    }
   },
   "cell_type": "code",
   "source": [
    "# Drop unnecessary columns\n",
    "data_age <- subset(data_age, select = c(\"geo\", \"values\"))\n",
    "data_age <- label_eurostat(data_age)\n",
    "head(data_age)"
   ],
   "id": "fddde99d13fa1bb1",
   "outputs": [
    {
     "data": {
      "text/html": [
       "<table class=\"dataframe\">\n",
       "<caption>A tibble: 6 × 2</caption>\n",
       "<thead>\n",
       "\t<tr><th scope=col>geo</th><th scope=col>values</th></tr>\n",
       "\t<tr><th scope=col>&lt;chr&gt;</th><th scope=col>&lt;dbl&gt;</th></tr>\n",
       "</thead>\n",
       "<tbody>\n",
       "\t<tr><td>European Union - 27 countries (from 2020)</td><td>43.7</td></tr>\n",
       "\t<tr><td>Euro area – 20 countries (from 2023)     </td><td>  NA</td></tr>\n",
       "\t<tr><td>Euro area - 19 countries  (2015-2022)    </td><td>44.3</td></tr>\n",
       "\t<tr><td>Belgium                                  </td><td>41.7</td></tr>\n",
       "\t<tr><td>Bulgaria                                 </td><td>44.5</td></tr>\n",
       "\t<tr><td>Czechia                                  </td><td>42.6</td></tr>\n",
       "</tbody>\n",
       "</table>\n"
      ],
      "text/markdown": "\nA tibble: 6 × 2\n\n| geo &lt;chr&gt; | values &lt;dbl&gt; |\n|---|---|\n| European Union - 27 countries (from 2020) | 43.7 |\n| Euro area – 20 countries (from 2023)      |   NA |\n| Euro area - 19 countries  (2015-2022)     | 44.3 |\n| Belgium                                   | 41.7 |\n| Bulgaria                                  | 44.5 |\n| Czechia                                   | 42.6 |\n\n",
      "text/latex": "A tibble: 6 × 2\n\\begin{tabular}{ll}\n geo & values\\\\\n <chr> & <dbl>\\\\\n\\hline\n\t European Union - 27 countries (from 2020) & 43.7\\\\\n\t Euro area – 20 countries (from 2023)      &   NA\\\\\n\t Euro area - 19 countries  (2015-2022)     & 44.3\\\\\n\t Belgium                                   & 41.7\\\\\n\t Bulgaria                                  & 44.5\\\\\n\t Czechia                                   & 42.6\\\\\n\\end{tabular}\n",
      "text/plain": [
       "  geo                                       values\n",
       "1 European Union - 27 countries (from 2020) 43.7  \n",
       "2 Euro area – 20 countries (from 2023)        NA  \n",
       "3 Euro area - 19 countries  (2015-2022)     44.3  \n",
       "4 Belgium                                   41.7  \n",
       "5 Bulgaria                                  44.5  \n",
       "6 Czechia                                   42.6  "
      ]
     },
     "metadata": {},
     "output_type": "display_data"
    }
   ],
   "execution_count": 69
  },
  {
   "metadata": {},
   "cell_type": "markdown",
   "source": "Pro získání dat o hustotě obyvatelstva z Eurostatu pro rok 2019 s pomocí identifikátoru tps00003 pro hustotu obyvatelstva vytvořím dotaz do databáze Eurostatu.",
   "id": "971b065ad91a2e5e"
  },
  {
   "metadata": {
    "ExecuteTime": {
     "end_time": "2024-04-28T00:18:26.780078Z",
     "start_time": "2024-04-28T00:18:26.167965Z"
    }
   },
   "cell_type": "code",
   "source": [
    "data_density <- get_eurostat(\"tps00003\", filters = list(time=\"2019\"))\n",
    "\n",
    "# Zobrazení prvních řádků dat\n",
    "head(data_density)"
   ],
   "id": "ca9a2c38cf829426",
   "outputs": [
    {
     "name": "stderr",
     "output_type": "stream",
     "text": [
      "Dataset query already saved in cache_list.json...\n",
      "\n",
      "Reading cache file C:\\Users\\User\\AppData\\Local\\Temp\\RtmpKyPUKN/eurostat/7f206ce4fb9af7257f000f792c782fa5.rds\n",
      "\n",
      "Table  tps00003  read from cache file:  C:\\Users\\User\\AppData\\Local\\Temp\\RtmpKyPUKN/eurostat/7f206ce4fb9af7257f000f792c782fa5.rds\n",
      "\n"
     ]
    },
    {
     "data": {
      "text/html": [
       "<table class=\"dataframe\">\n",
       "<caption>A tibble: 6 × 5</caption>\n",
       "<thead>\n",
       "\t<tr><th scope=col>freq</th><th scope=col>unit</th><th scope=col>geo</th><th scope=col>time</th><th scope=col>values</th></tr>\n",
       "\t<tr><th scope=col>&lt;chr&gt;</th><th scope=col>&lt;chr&gt;</th><th scope=col>&lt;chr&gt;</th><th scope=col>&lt;date&gt;</th><th scope=col>&lt;dbl&gt;</th></tr>\n",
       "</thead>\n",
       "<tbody>\n",
       "\t<tr><td>A</td><td>PER_KM2</td><td>EU27_2020</td><td>2019-01-01</td><td>109.0</td></tr>\n",
       "\t<tr><td>A</td><td>PER_KM2</td><td>EA20     </td><td>2019-01-01</td><td>   NA</td></tr>\n",
       "\t<tr><td>A</td><td>PER_KM2</td><td>EA19     </td><td>2019-01-01</td><td>   NA</td></tr>\n",
       "\t<tr><td>A</td><td>PER_KM2</td><td>BE       </td><td>2019-01-01</td><td>377.3</td></tr>\n",
       "\t<tr><td>A</td><td>PER_KM2</td><td>BG       </td><td>2019-01-01</td><td> 63.4</td></tr>\n",
       "\t<tr><td>A</td><td>PER_KM2</td><td>CZ       </td><td>2019-01-01</td><td>138.2</td></tr>\n",
       "</tbody>\n",
       "</table>\n"
      ],
      "text/markdown": "\nA tibble: 6 × 5\n\n| freq &lt;chr&gt; | unit &lt;chr&gt; | geo &lt;chr&gt; | time &lt;date&gt; | values &lt;dbl&gt; |\n|---|---|---|---|---|\n| A | PER_KM2 | EU27_2020 | 2019-01-01 | 109.0 |\n| A | PER_KM2 | EA20      | 2019-01-01 |    NA |\n| A | PER_KM2 | EA19      | 2019-01-01 |    NA |\n| A | PER_KM2 | BE        | 2019-01-01 | 377.3 |\n| A | PER_KM2 | BG        | 2019-01-01 |  63.4 |\n| A | PER_KM2 | CZ        | 2019-01-01 | 138.2 |\n\n",
      "text/latex": "A tibble: 6 × 5\n\\begin{tabular}{lllll}\n freq & unit & geo & time & values\\\\\n <chr> & <chr> & <chr> & <date> & <dbl>\\\\\n\\hline\n\t A & PER\\_KM2 & EU27\\_2020 & 2019-01-01 & 109.0\\\\\n\t A & PER\\_KM2 & EA20      & 2019-01-01 &    NA\\\\\n\t A & PER\\_KM2 & EA19      & 2019-01-01 &    NA\\\\\n\t A & PER\\_KM2 & BE        & 2019-01-01 & 377.3\\\\\n\t A & PER\\_KM2 & BG        & 2019-01-01 &  63.4\\\\\n\t A & PER\\_KM2 & CZ        & 2019-01-01 & 138.2\\\\\n\\end{tabular}\n",
      "text/plain": [
       "  freq unit    geo       time       values\n",
       "1 A    PER_KM2 EU27_2020 2019-01-01 109.0 \n",
       "2 A    PER_KM2 EA20      2019-01-01    NA \n",
       "3 A    PER_KM2 EA19      2019-01-01    NA \n",
       "4 A    PER_KM2 BE        2019-01-01 377.3 \n",
       "5 A    PER_KM2 BG        2019-01-01  63.4 \n",
       "6 A    PER_KM2 CZ        2019-01-01 138.2 "
      ]
     },
     "metadata": {},
     "output_type": "display_data"
    }
   ],
   "execution_count": 67
  },
  {
   "metadata": {
    "ExecuteTime": {
     "end_time": "2024-04-28T00:50:16.777903Z",
     "start_time": "2024-04-28T00:50:16.153860Z"
    }
   },
   "cell_type": "code",
   "source": [
    "# Identifikace chybějících hodnot\n",
    "missing_values <- is.na(data_age)\n",
    "\n",
    "# Zobrazení řádků s chybějícími hodnotami\n",
    "rows_with_missing <- data_age[apply(missing_values, 1, any), ]\n",
    "print(rows_with_missing)\n"
   ],
   "id": "c83582bfde83194b",
   "outputs": [
    {
     "name": "stdout",
     "output_type": "stream",
     "text": [
      "\u001B[90m# A tibble: 5 × 2\u001B[39m\n",
      "  geo                                  values\n",
      "  \u001B[3m\u001B[90m<chr>\u001B[39m\u001B[23m                                 \u001B[3m\u001B[90m<dbl>\u001B[39m\u001B[23m\n",
      "\u001B[90m1\u001B[39m Euro area – 20 countries (from 2023)     \u001B[31mNA\u001B[39m\n",
      "\u001B[90m2\u001B[39m Metropolitan France                      \u001B[31mNA\u001B[39m\n",
      "\u001B[90m3\u001B[39m Moldova                                  \u001B[31mNA\u001B[39m\n",
      "\u001B[90m4\u001B[39m Russia                                   \u001B[31mNA\u001B[39m\n",
      "\u001B[90m5\u001B[39m San Marino                               \u001B[31mNA\u001B[39m\n"
     ]
    }
   ],
   "execution_count": 71
  },
  {
   "metadata": {},
   "cell_type": "code",
   "outputs": [
    {
     "data": {
      "text/html": [
       "<table class=\"dataframe\">\n",
       "<caption>A tibble: 6 × 2</caption>\n",
       "<thead>\n",
       "\t<tr><th scope=col>geo</th><th scope=col>values</th></tr>\n",
       "\t<tr><th scope=col>&lt;chr&gt;</th><th scope=col>&lt;dbl&gt;</th></tr>\n",
       "</thead>\n",
       "<tbody>\n",
       "\t<tr><td>European Union - 27 countries (from 2020)</td><td>109.0</td></tr>\n",
       "\t<tr><td>Euro area – 20 countries (from 2023)     </td><td>   NA</td></tr>\n",
       "\t<tr><td>Euro area - 19 countries  (2015-2022)    </td><td>   NA</td></tr>\n",
       "\t<tr><td>Belgium                                  </td><td>377.3</td></tr>\n",
       "\t<tr><td>Bulgaria                                 </td><td> 63.4</td></tr>\n",
       "\t<tr><td>Czechia                                  </td><td>138.2</td></tr>\n",
       "</tbody>\n",
       "</table>\n"
      ],
      "text/markdown": "\nA tibble: 6 × 2\n\n| geo &lt;chr&gt; | values &lt;dbl&gt; |\n|---|---|\n| European Union - 27 countries (from 2020) | 109.0 |\n| Euro area – 20 countries (from 2023)      |    NA |\n| Euro area - 19 countries  (2015-2022)     |    NA |\n| Belgium                                   | 377.3 |\n| Bulgaria                                  |  63.4 |\n| Czechia                                   | 138.2 |\n\n",
      "text/latex": "A tibble: 6 × 2\n\\begin{tabular}{ll}\n geo & values\\\\\n <chr> & <dbl>\\\\\n\\hline\n\t European Union - 27 countries (from 2020) & 109.0\\\\\n\t Euro area – 20 countries (from 2023)      &    NA\\\\\n\t Euro area - 19 countries  (2015-2022)     &    NA\\\\\n\t Belgium                                   & 377.3\\\\\n\t Bulgaria                                  &  63.4\\\\\n\t Czechia                                   & 138.2\\\\\n\\end{tabular}\n",
      "text/plain": [
       "  geo                                       values\n",
       "1 European Union - 27 countries (from 2020) 109.0 \n",
       "2 Euro area – 20 countries (from 2023)         NA \n",
       "3 Euro area - 19 countries  (2015-2022)        NA \n",
       "4 Belgium                                   377.3 \n",
       "5 Bulgaria                                   63.4 \n",
       "6 Czechia                                   138.2 "
      ]
     },
     "metadata": {},
     "output_type": "display_data"
    }
   ],
   "execution_count": 70,
   "source": [
    "# Drop unnecessary columns\n",
    "data_density <- subset(data_density, select = c(\"geo\", \"values\"))\n",
    "data_density <- label_eurostat(data_density)\n",
    "head(data_density)"
   ],
   "id": "1fb6b8e18e2fbf"
  },
  {
   "metadata": {
    "ExecuteTime": {
     "end_time": "2024-04-28T00:51:57.105957Z",
     "start_time": "2024-04-28T00:51:56.920361Z"
    }
   },
   "cell_type": "code",
   "source": [
    "# Identifikace chybějících hodnot\n",
    "missing_values <- is.na(data_density)\n",
    "\n",
    "# Zobrazení řádků s chybějícími hodnotami\n",
    "rows_with_missing <- data_density[apply(missing_values, 1, any), ]\n",
    "print(rows_with_missing)\n"
   ],
   "id": "9961e9d6a97d5de",
   "outputs": [
    {
     "name": "stdout",
     "output_type": "stream",
     "text": [
      "\u001B[90m# A tibble: 3 × 2\u001B[39m\n",
      "  geo                                   values\n",
      "  \u001B[3m\u001B[90m<chr>\u001B[39m\u001B[23m                                  \u001B[3m\u001B[90m<dbl>\u001B[39m\u001B[23m\n",
      "\u001B[90m1\u001B[39m Euro area – 20 countries (from 2023)      \u001B[31mNA\u001B[39m\n",
      "\u001B[90m2\u001B[39m Euro area - 19 countries  (2015-2022)     \u001B[31mNA\u001B[39m\n",
      "\u001B[90m3\u001B[39m United Kingdom                            \u001B[31mNA\u001B[39m\n"
     ]
    }
   ],
   "execution_count": 72
  },
  {
   "metadata": {},
   "cell_type": "markdown",
   "source": "",
   "id": "1e62feee2042119b"
  },
  {
   "metadata": {},
   "cell_type": "code",
   "outputs": [],
   "execution_count": null,
   "source": "",
   "id": "87bb3b8b4eaa3d5d"
  }
 ],
 "metadata": {
  "kernelspec": {
   "display_name": "R",
   "language": "R",
   "name": "ir"
  },
  "language_info": {
   "codemirror_mode": "r",
   "file_extension": ".r",
   "mimetype": "text/x-r-source",
   "name": "R",
   "pygments_lexer": "r",
   "version": "4.3.2"
  }
 },
 "nbformat": 4,
 "nbformat_minor": 5
}
