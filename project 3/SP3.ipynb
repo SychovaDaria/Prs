{
 "cells": [
  {
   "metadata": {},
   "cell_type": "markdown",
   "source": [
    "# BI-PRS: semestrální projekt 3\n",
    "\n",
    "Cílem třetího semestrálního projektu je analýza hrubého domácího produktu evropských zemí. Zaměříme se na srovnání HDP různých evropských zemí v nějakém konkrétním roce a identifikujeme trendy a vzory ve vývoji jejich ekonomik. Dále se pokusíme porozumět faktorům, které ovlivňují rozdíly v HDP mezi jednotlivými zeměmi a jakým způsobem politické, sociální a ekonomické faktory formují ekonomickou prosperitu Evropy. Naše analýza by měla poskytnout ucelený pohled na ekonomickou situaci a trendy v Evropě a sloužit jako základ pro diskusi o možných politikách a opatřeních pro podporu ekonomického růstu a prosperity v regionu.\n",
    "\n",
    "Náš tým se skládá ze tří lidí: Ruslana Orazbekova (orazbrus), Nelly Shikina (shikinel), Daria Sychova (sychodar). Nejprve zjistíme, pro který rok budeme data zkoumat pomocí známého vzorce. Reprezentatntem ve třetím semestrálním projektu je Nelly Shikina.\n"
   ],
   "id": "7d59f7f32424be97"
  },
  {
   "cell_type": "code",
   "id": "cbf7aa6e67e5412b",
   "metadata": {
    "ExecuteTime": {
     "end_time": "2024-05-17T21:15:28.513652Z",
     "start_time": "2024-05-17T21:15:28.473997Z"
    }
   },
   "source": [
    "# K = den narození reprezentanta skupiny (1-31)\n",
    "# L = počet písmen v příjmení reprezentanta\n",
    "# M = ((K+L)×47)mod11+1\n",
    "\n",
    "K <- 16\n",
    "L <- nchar('Shikina')\n",
    "M <- ((K + L) * 47) %% 11 + 1\n",
    "print(M)\n",
    "print(2011 + M)"
   ],
   "outputs": [
    {
     "name": "stdout",
     "output_type": "stream",
     "text": [
      "[1] 4\n",
      "[1] 2015\n"
     ]
    }
   ],
   "execution_count": 266
  },
  {
   "cell_type": "markdown",
   "id": "ae394146b5df3731",
   "metadata": {},
   "source": [
    "Uvažujeme tedy data z roku 2015.\n",
    "\n",
    "Nejdříve načteme potřebné knihovny a požadovaný dataset."
   ]
  },
  {
   "cell_type": "code",
   "id": "3398031fc449befe",
   "metadata": {
    "ExecuteTime": {
     "end_time": "2024-05-17T21:15:29.590148Z",
     "start_time": "2024-05-17T21:15:29.556209Z"
    }
   },
   "source": [
    "library(eurostat)\n",
    "library(tidyverse)\n",
    "library(dplyr)\n",
    "library(ggplot2)\n",
    "library(lmtest)\n",
    "library(car)"
   ],
   "outputs": [],
   "execution_count": 267
  },
  {
   "cell_type": "code",
   "id": "676d74eeded209f1",
   "metadata": {
    "ExecuteTime": {
     "end_time": "2024-05-17T21:15:30.288990Z",
     "start_time": "2024-05-17T21:15:29.616821Z"
    }
   },
   "source": [
    "# Retrieving GDP data at market prices in euro per capita\n",
    "data <- get_eurostat(\"nama_10_pc\", time_format = \"num\", filters = list(na_item = \"B1GQ\", unit = \"CP_EUR_HAB\", time = 2015))\n",
    "\n",
    "# Display the first rows of data for checking\n",
    "head(data)"
   ],
   "outputs": [
    {
     "name": "stderr",
     "output_type": "stream",
     "text": [
      "Dataset query already saved in cache_list.json...\n",
      "\n",
      "Reading cache file C:\\Users\\Nelly\\AppData\\Local\\Temp\\RtmpGqcgoB/eurostat/8e0c9884893cac1136cea0b1301f4747.rds\n",
      "\n",
      "Table  nama_10_pc  read from cache file:  C:\\Users\\Nelly\\AppData\\Local\\Temp\\RtmpGqcgoB/eurostat/8e0c9884893cac1136cea0b1301f4747.rds\n",
      "\n"
     ]
    },
    {
     "data": {
      "text/html": [
       "<table class=\"dataframe\">\n",
       "<caption>A tibble: 6 × 6</caption>\n",
       "<thead>\n",
       "\t<tr><th scope=col>freq</th><th scope=col>unit</th><th scope=col>na_item</th><th scope=col>geo</th><th scope=col>time</th><th scope=col>values</th></tr>\n",
       "\t<tr><th scope=col>&lt;chr&gt;</th><th scope=col>&lt;chr&gt;</th><th scope=col>&lt;chr&gt;</th><th scope=col>&lt;chr&gt;</th><th scope=col>&lt;dbl&gt;</th><th scope=col>&lt;int&gt;</th></tr>\n",
       "</thead>\n",
       "<tbody>\n",
       "\t<tr><td>A</td><td>CP_EUR_HAB</td><td>B1GQ</td><td>EU27_2020</td><td>2015</td><td>27500</td></tr>\n",
       "\t<tr><td>A</td><td>CP_EUR_HAB</td><td>B1GQ</td><td>EU28     </td><td>2015</td><td>29180</td></tr>\n",
       "\t<tr><td>A</td><td>CP_EUR_HAB</td><td>B1GQ</td><td>EU15     </td><td>2015</td><td>33810</td></tr>\n",
       "\t<tr><td>A</td><td>CP_EUR_HAB</td><td>B1GQ</td><td>EA       </td><td>2015</td><td>31080</td></tr>\n",
       "\t<tr><td>A</td><td>CP_EUR_HAB</td><td>B1GQ</td><td>EA20     </td><td>2015</td><td>30830</td></tr>\n",
       "\t<tr><td>A</td><td>CP_EUR_HAB</td><td>B1GQ</td><td>EA19     </td><td>2015</td><td>31080</td></tr>\n",
       "</tbody>\n",
       "</table>\n"
      ],
      "text/markdown": "\nA tibble: 6 × 6\n\n| freq &lt;chr&gt; | unit &lt;chr&gt; | na_item &lt;chr&gt; | geo &lt;chr&gt; | time &lt;dbl&gt; | values &lt;int&gt; |\n|---|---|---|---|---|---|\n| A | CP_EUR_HAB | B1GQ | EU27_2020 | 2015 | 27500 |\n| A | CP_EUR_HAB | B1GQ | EU28      | 2015 | 29180 |\n| A | CP_EUR_HAB | B1GQ | EU15      | 2015 | 33810 |\n| A | CP_EUR_HAB | B1GQ | EA        | 2015 | 31080 |\n| A | CP_EUR_HAB | B1GQ | EA20      | 2015 | 30830 |\n| A | CP_EUR_HAB | B1GQ | EA19      | 2015 | 31080 |\n\n",
      "text/latex": "A tibble: 6 × 6\n\\begin{tabular}{llllll}\n freq & unit & na\\_item & geo & time & values\\\\\n <chr> & <chr> & <chr> & <chr> & <dbl> & <int>\\\\\n\\hline\n\t A & CP\\_EUR\\_HAB & B1GQ & EU27\\_2020 & 2015 & 27500\\\\\n\t A & CP\\_EUR\\_HAB & B1GQ & EU28      & 2015 & 29180\\\\\n\t A & CP\\_EUR\\_HAB & B1GQ & EU15      & 2015 & 33810\\\\\n\t A & CP\\_EUR\\_HAB & B1GQ & EA        & 2015 & 31080\\\\\n\t A & CP\\_EUR\\_HAB & B1GQ & EA20      & 2015 & 30830\\\\\n\t A & CP\\_EUR\\_HAB & B1GQ & EA19      & 2015 & 31080\\\\\n\\end{tabular}\n",
      "text/plain": [
       "  freq unit       na_item geo       time values\n",
       "1 A    CP_EUR_HAB B1GQ    EU27_2020 2015 27500 \n",
       "2 A    CP_EUR_HAB B1GQ    EU28      2015 29180 \n",
       "3 A    CP_EUR_HAB B1GQ    EU15      2015 33810 \n",
       "4 A    CP_EUR_HAB B1GQ    EA        2015 31080 \n",
       "5 A    CP_EUR_HAB B1GQ    EA20      2015 30830 \n",
       "6 A    CP_EUR_HAB B1GQ    EA19      2015 31080 "
      ]
     },
     "metadata": {},
     "output_type": "display_data"
    }
   ],
   "execution_count": 268
  },
  {
   "cell_type": "markdown",
   "id": "81dad8c625fdf8b",
   "metadata": {},
   "source": [
    "Prozkoumejme, co znamenají jednotlivé sloupce datsetu.\n",
    "\n",
    "1. **freq**: Tento sloupec udává frekvenci, s jakou jsou data zaznamenána. V tomto případě je to \"A\", což znamená, že data jsou roční.\n",
    "\n",
    "2. **unit**: Sloupec `unit` označuje jednotku, v níž jsou hodnoty udávány. Zde je uvedeno \"CP_EUR_HAB\", což znamená \"current prices, euros per inhabitant\", tedy hodnoty jsou vyjádřeny v eurech na obyvatele.\n",
    "\n",
    "3. **na_item**: Tento sloupec označuje položku Národních účtů podle zvoleného kritéria.\n",
    "\n",
    "4. **geo**: Sloupec `geo` označuje geografickou oblast, pro kterou jsou hodnoty uvedeny.\n",
    "\n",
    "5. **time**: Tento sloupec obsahuje rok, ke kterému se údaje vztahují.\n",
    "\n",
    "6. **values**: Sloupec `values` obsahuje samotné hodnoty HDP vyjádřené v eurech na obyvatele pro danou oblast (země/region) a rok."
   ]
  },
  {
   "cell_type": "code",
   "id": "dead3f5f7ddd2d60",
   "metadata": {
    "ExecuteTime": {
     "end_time": "2024-05-17T21:15:34.171653Z",
     "start_time": "2024-05-17T21:15:30.293677Z"
    }
   },
   "source": [
    "# Label the data with label_eurostat\n",
    "data <- label_eurostat(data)\n",
    "head(data)"
   ],
   "outputs": [
    {
     "data": {
      "text/html": [
       "<table class=\"dataframe\">\n",
       "<caption>A tibble: 6 × 6</caption>\n",
       "<thead>\n",
       "\t<tr><th scope=col>freq</th><th scope=col>unit</th><th scope=col>na_item</th><th scope=col>geo</th><th scope=col>time</th><th scope=col>values</th></tr>\n",
       "\t<tr><th scope=col>&lt;chr&gt;</th><th scope=col>&lt;chr&gt;</th><th scope=col>&lt;chr&gt;</th><th scope=col>&lt;chr&gt;</th><th scope=col>&lt;dbl&gt;</th><th scope=col>&lt;int&gt;</th></tr>\n",
       "</thead>\n",
       "<tbody>\n",
       "\t<tr><td>Annual</td><td>Current prices, euro per capita</td><td>Gross domestic product at market prices</td><td>European Union - 27 countries (from 2020)                                                                    </td><td>2015</td><td>27500</td></tr>\n",
       "\t<tr><td>Annual</td><td>Current prices, euro per capita</td><td>Gross domestic product at market prices</td><td>European Union - 28 countries (2013-2020)                                                                    </td><td>2015</td><td>29180</td></tr>\n",
       "\t<tr><td>Annual</td><td>Current prices, euro per capita</td><td>Gross domestic product at market prices</td><td>European Union - 15 countries (1995-2004)                                                                    </td><td>2015</td><td>33810</td></tr>\n",
       "\t<tr><td>Annual</td><td>Current prices, euro per capita</td><td>Gross domestic product at market prices</td><td>Euro area (EA11-1999, EA12-2001, EA13-2007, EA15-2008, EA16-2009, EA17-2011, EA18-2014, EA19-2015, EA20-2023)</td><td>2015</td><td>31080</td></tr>\n",
       "\t<tr><td>Annual</td><td>Current prices, euro per capita</td><td>Gross domestic product at market prices</td><td>Euro area – 20 countries (from 2023)                                                                         </td><td>2015</td><td>30830</td></tr>\n",
       "\t<tr><td>Annual</td><td>Current prices, euro per capita</td><td>Gross domestic product at market prices</td><td>Euro area - 19 countries  (2015-2022)                                                                        </td><td>2015</td><td>31080</td></tr>\n",
       "</tbody>\n",
       "</table>\n"
      ],
      "text/markdown": "\nA tibble: 6 × 6\n\n| freq &lt;chr&gt; | unit &lt;chr&gt; | na_item &lt;chr&gt; | geo &lt;chr&gt; | time &lt;dbl&gt; | values &lt;int&gt; |\n|---|---|---|---|---|---|\n| Annual | Current prices, euro per capita | Gross domestic product at market prices | European Union - 27 countries (from 2020)                                                                     | 2015 | 27500 |\n| Annual | Current prices, euro per capita | Gross domestic product at market prices | European Union - 28 countries (2013-2020)                                                                     | 2015 | 29180 |\n| Annual | Current prices, euro per capita | Gross domestic product at market prices | European Union - 15 countries (1995-2004)                                                                     | 2015 | 33810 |\n| Annual | Current prices, euro per capita | Gross domestic product at market prices | Euro area (EA11-1999, EA12-2001, EA13-2007, EA15-2008, EA16-2009, EA17-2011, EA18-2014, EA19-2015, EA20-2023) | 2015 | 31080 |\n| Annual | Current prices, euro per capita | Gross domestic product at market prices | Euro area – 20 countries (from 2023)                                                                          | 2015 | 30830 |\n| Annual | Current prices, euro per capita | Gross domestic product at market prices | Euro area - 19 countries  (2015-2022)                                                                         | 2015 | 31080 |\n\n",
      "text/latex": "A tibble: 6 × 6\n\\begin{tabular}{llllll}\n freq & unit & na\\_item & geo & time & values\\\\\n <chr> & <chr> & <chr> & <chr> & <dbl> & <int>\\\\\n\\hline\n\t Annual & Current prices, euro per capita & Gross domestic product at market prices & European Union - 27 countries (from 2020)                                                                     & 2015 & 27500\\\\\n\t Annual & Current prices, euro per capita & Gross domestic product at market prices & European Union - 28 countries (2013-2020)                                                                     & 2015 & 29180\\\\\n\t Annual & Current prices, euro per capita & Gross domestic product at market prices & European Union - 15 countries (1995-2004)                                                                     & 2015 & 33810\\\\\n\t Annual & Current prices, euro per capita & Gross domestic product at market prices & Euro area (EA11-1999, EA12-2001, EA13-2007, EA15-2008, EA16-2009, EA17-2011, EA18-2014, EA19-2015, EA20-2023) & 2015 & 31080\\\\\n\t Annual & Current prices, euro per capita & Gross domestic product at market prices & Euro area – 20 countries (from 2023)                                                                          & 2015 & 30830\\\\\n\t Annual & Current prices, euro per capita & Gross domestic product at market prices & Euro area - 19 countries  (2015-2022)                                                                         & 2015 & 31080\\\\\n\\end{tabular}\n",
      "text/plain": [
       "  freq   unit                           \n",
       "1 Annual Current prices, euro per capita\n",
       "2 Annual Current prices, euro per capita\n",
       "3 Annual Current prices, euro per capita\n",
       "4 Annual Current prices, euro per capita\n",
       "5 Annual Current prices, euro per capita\n",
       "6 Annual Current prices, euro per capita\n",
       "  na_item                                \n",
       "1 Gross domestic product at market prices\n",
       "2 Gross domestic product at market prices\n",
       "3 Gross domestic product at market prices\n",
       "4 Gross domestic product at market prices\n",
       "5 Gross domestic product at market prices\n",
       "6 Gross domestic product at market prices\n",
       "  geo                                                                                                          \n",
       "1 European Union - 27 countries (from 2020)                                                                    \n",
       "2 European Union - 28 countries (2013-2020)                                                                    \n",
       "3 European Union - 15 countries (1995-2004)                                                                    \n",
       "4 Euro area (EA11-1999, EA12-2001, EA13-2007, EA15-2008, EA16-2009, EA17-2011, EA18-2014, EA19-2015, EA20-2023)\n",
       "5 Euro area – 20 countries (from 2023)                                                                         \n",
       "6 Euro area - 19 countries  (2015-2022)                                                                        \n",
       "  time values\n",
       "1 2015 27500 \n",
       "2 2015 29180 \n",
       "3 2015 33810 \n",
       "4 2015 31080 \n",
       "5 2015 30830 \n",
       "6 2015 31080 "
      ]
     },
     "metadata": {},
     "output_type": "display_data"
    }
   ],
   "execution_count": 269
  },
  {
   "cell_type": "markdown",
   "id": "dcf058b0fcf6e732",
   "metadata": {},
   "source": [
    "Je vidět, že dataset obsahuje redundantní sloupce, takže než přejdeme k úkolům samotným, data trochu upravíme. Zbavíme se některých sloupců."
   ]
  },
  {
   "cell_type": "code",
   "id": "6ebf1e27aa8ab8e7",
   "metadata": {
    "ExecuteTime": {
     "end_time": "2024-05-17T21:15:34.214622Z",
     "start_time": "2024-05-17T21:15:34.177231Z"
    }
   },
   "source": [
    "# Drop unnecessary columns\n",
    "data <- subset(data, select = c(\"geo\", \"values\"))\n",
    "head(data)"
   ],
   "outputs": [
    {
     "data": {
      "text/html": [
       "<table class=\"dataframe\">\n",
       "<caption>A tibble: 6 × 2</caption>\n",
       "<thead>\n",
       "\t<tr><th scope=col>geo</th><th scope=col>values</th></tr>\n",
       "\t<tr><th scope=col>&lt;chr&gt;</th><th scope=col>&lt;int&gt;</th></tr>\n",
       "</thead>\n",
       "<tbody>\n",
       "\t<tr><td>European Union - 27 countries (from 2020)                                                                    </td><td>27500</td></tr>\n",
       "\t<tr><td>European Union - 28 countries (2013-2020)                                                                    </td><td>29180</td></tr>\n",
       "\t<tr><td>European Union - 15 countries (1995-2004)                                                                    </td><td>33810</td></tr>\n",
       "\t<tr><td>Euro area (EA11-1999, EA12-2001, EA13-2007, EA15-2008, EA16-2009, EA17-2011, EA18-2014, EA19-2015, EA20-2023)</td><td>31080</td></tr>\n",
       "\t<tr><td>Euro area – 20 countries (from 2023)                                                                         </td><td>30830</td></tr>\n",
       "\t<tr><td>Euro area - 19 countries  (2015-2022)                                                                        </td><td>31080</td></tr>\n",
       "</tbody>\n",
       "</table>\n"
      ],
      "text/markdown": "\nA tibble: 6 × 2\n\n| geo &lt;chr&gt; | values &lt;int&gt; |\n|---|---|\n| European Union - 27 countries (from 2020)                                                                     | 27500 |\n| European Union - 28 countries (2013-2020)                                                                     | 29180 |\n| European Union - 15 countries (1995-2004)                                                                     | 33810 |\n| Euro area (EA11-1999, EA12-2001, EA13-2007, EA15-2008, EA16-2009, EA17-2011, EA18-2014, EA19-2015, EA20-2023) | 31080 |\n| Euro area – 20 countries (from 2023)                                                                          | 30830 |\n| Euro area - 19 countries  (2015-2022)                                                                         | 31080 |\n\n",
      "text/latex": "A tibble: 6 × 2\n\\begin{tabular}{ll}\n geo & values\\\\\n <chr> & <int>\\\\\n\\hline\n\t European Union - 27 countries (from 2020)                                                                     & 27500\\\\\n\t European Union - 28 countries (2013-2020)                                                                     & 29180\\\\\n\t European Union - 15 countries (1995-2004)                                                                     & 33810\\\\\n\t Euro area (EA11-1999, EA12-2001, EA13-2007, EA15-2008, EA16-2009, EA17-2011, EA18-2014, EA19-2015, EA20-2023) & 31080\\\\\n\t Euro area – 20 countries (from 2023)                                                                          & 30830\\\\\n\t Euro area - 19 countries  (2015-2022)                                                                         & 31080\\\\\n\\end{tabular}\n",
      "text/plain": [
       "  geo                                                                                                          \n",
       "1 European Union - 27 countries (from 2020)                                                                    \n",
       "2 European Union - 28 countries (2013-2020)                                                                    \n",
       "3 European Union - 15 countries (1995-2004)                                                                    \n",
       "4 Euro area (EA11-1999, EA12-2001, EA13-2007, EA15-2008, EA16-2009, EA17-2011, EA18-2014, EA19-2015, EA20-2023)\n",
       "5 Euro area – 20 countries (from 2023)                                                                         \n",
       "6 Euro area - 19 countries  (2015-2022)                                                                        \n",
       "  values\n",
       "1 27500 \n",
       "2 29180 \n",
       "3 33810 \n",
       "4 31080 \n",
       "5 30830 \n",
       "6 31080 "
      ]
     },
     "metadata": {},
     "output_type": "display_data"
    }
   ],
   "execution_count": 270
  },
  {
   "cell_type": "code",
   "id": "fdbf2d26a2b4d99a",
   "metadata": {
    "ExecuteTime": {
     "end_time": "2024-05-17T21:15:34.256344Z",
     "start_time": "2024-05-17T21:15:34.219995Z"
    }
   },
   "source": [
    "# Checking if we have NaN values\n",
    "any_na <- any(is.na(data))\n",
    "print(any_na)"
   ],
   "outputs": [
    {
     "name": "stdout",
     "output_type": "stream",
     "text": [
      "[1] TRUE\n"
     ]
    }
   ],
   "execution_count": 271
  },
  {
   "cell_type": "markdown",
   "id": "b0f290e841396903",
   "metadata": {},
   "source": [
    "Náš dataset má NA hodnoty. Podívejme se, kde přesně nám chybí data."
   ]
  },
  {
   "cell_type": "code",
   "id": "5df973acc5e316db",
   "metadata": {
    "ExecuteTime": {
     "end_time": "2024-05-17T21:15:34.299496Z",
     "start_time": "2024-05-17T21:15:34.263737Z"
    }
   },
   "source": [
    "# Identifying missing values\n",
    "missing_values <- is.na(data)\n",
    "\n",
    "# Display rows with missing values\n",
    "rows_with_missing <- data[apply(missing_values, 1, any), ]\n",
    "print(rows_with_missing)"
   ],
   "outputs": [
    {
     "name": "stdout",
     "output_type": "stream",
     "text": [
      "\u001B[90m# A tibble: 2 × 2\u001B[39m\n",
      "  geo                    values\n",
      "  \u001B[3m\u001B[90m<chr>\u001B[39m\u001B[23m                   \u001B[3m\u001B[90m<int>\u001B[39m\u001B[23m\n",
      "\u001B[90m1\u001B[39m Bosnia and Herzegovina     \u001B[31mNA\u001B[39m\n",
      "\u001B[90m2\u001B[39m Kosovo*                    \u001B[31mNA\u001B[39m\n"
     ]
    }
   ],
   "execution_count": 272
  },
  {
   "cell_type": "markdown",
   "id": "eb2629580eb422be",
   "metadata": {},
   "source": "Chybějící hodnoty jsou identifikovány v zemích \"Bosnia and Herzegovina\" a \"Kosovo*\". Hodnoty HDP pro tyto země v roce 2015 chybí (označeny jako NA)."
  },
  {
   "cell_type": "code",
   "id": "25c65e20d3e86086",
   "metadata": {
    "ExecuteTime": {
     "end_time": "2024-05-17T21:15:34.357820Z",
     "start_time": "2024-05-17T21:15:34.306085Z"
    }
   },
   "source": [
    "# Identifying neighboring countries for Bosnia and Herzegovina and Kosovo\n",
    "neighbors_BiH <- c(\"Croatia\", \"Serbia\", \"Montenegro\")\n",
    "neighbors_Kosovo <- c(\"Albania\", \"North Macedonia\", \"Serbia\")\n",
    "\n",
    "# Selecting data for neighboring countries\n",
    "data_neighbors_BiH <- subset(data, geo %in% neighbors_BiH)\n",
    "data_neighbors_Kosovo <- subset(data, geo %in% neighbors_Kosovo)\n",
    "\n",
    "# Calculating the average GDP of neighboring countries\n",
    "mean_BiH <- mean(data_neighbors_BiH$values, na.rm = TRUE)\n",
    "mean_Kosovo <- mean(data_neighbors_Kosovo$values, na.rm = TRUE)\n",
    "\n",
    "# Replacing missing values with the averages of neighboring countries\n",
    "data$values[data$geo == \"Bosnia and Herzegovina\" & is.na(data$values)] <- mean_BiH\n",
    "data$values[data$geo == \"Kosovo*\" & is.na(data$values)] <- mean_Kosovo\n",
    "\n",
    "# Displaying the modified data\n",
    "print(data[data$geo %in% c(\"Bosnia and Herzegovina\", \"Kosovo*\"), ])"
   ],
   "outputs": [
    {
     "name": "stdout",
     "output_type": "stream",
     "text": [
      "\u001B[90m# A tibble: 2 × 2\u001B[39m\n",
      "  geo                    values\n",
      "  \u001B[3m\u001B[90m<chr>\u001B[39m\u001B[23m                   \u001B[3m\u001B[90m<dbl>\u001B[39m\u001B[23m\n",
      "\u001B[90m1\u001B[39m Bosnia and Herzegovina  \u001B[4m7\u001B[24m240 \n",
      "\u001B[90m2\u001B[39m Kosovo*                 \u001B[4m4\u001B[24m447.\n"
     ]
    }
   ],
   "execution_count": 273
  },
  {
   "cell_type": "markdown",
   "id": "4b3a8ab076cc0c13",
   "metadata": {},
   "source": [
    "Tímto způsobem jsme nahradily chybějící hodnoty průměrným HDP sousedních zemí."
   ]
  },
  {
   "cell_type": "code",
   "id": "de84bbd74d367c59",
   "metadata": {
    "ExecuteTime": {
     "end_time": "2024-05-17T21:15:34.394081Z",
     "start_time": "2024-05-17T21:15:34.366409Z"
    }
   },
   "source": [
    "# Checking if we have NaN values\n",
    "any_na <- any(is.na(data))\n",
    "print(any_na)"
   ],
   "outputs": [
    {
     "name": "stdout",
     "output_type": "stream",
     "text": [
      "[1] FALSE\n"
     ]
    }
   ],
   "execution_count": 274
  },
  {
   "cell_type": "markdown",
   "id": "a4cde3caee25abb",
   "metadata": {},
   "source": [
    "Data jsou v pořádku. Pojďme na ty úlohy."
   ]
  },
  {
   "cell_type": "markdown",
   "id": "fe805d78-2bbd-4388-9a02-66b18a4a4f70",
   "metadata": {},
   "source": [
    "## ✭ Úloha 1\n",
    "\n",
    "Krátce prezentujeme rozdělení HDP a jeho charakteristiky číselně i graficky. Probereme si, jaké údaje o jednotlivých zemích mohou mít vliv na HDP."
   ]
  },
  {
   "cell_type": "code",
   "id": "5ad561b26f5e14",
   "metadata": {
    "ExecuteTime": {
     "end_time": "2024-05-17T21:15:34.433222Z",
     "start_time": "2024-05-17T21:15:34.404198Z"
    }
   },
   "source": [
    "# Basic GDP characteristics\n",
    "summary(data$values)"
   ],
   "outputs": [
    {
     "data": {
      "text/plain": [
       "   Min. 1st Qu.  Median    Mean 3rd Qu.    Max. \n",
       "   3560   11702   25355   29899   38190  148440 "
      ]
     },
     "metadata": {},
     "output_type": "display_data"
    }
   ],
   "execution_count": 275
  },
  {
   "cell_type": "markdown",
   "id": "87ab7f356cae5ece",
   "metadata": {},
   "source": [
    "Tyto číselné charakteristiky poskytují užitečné informace o rozdělení HDP v evropských zemích v roce 2015:\n",
    "\n",
    "- **Minimální hodnota**: Nejnižší hodnota HDP v eurech na obyvatele z celého souboru je 3560. To ukazuje na nejmenší úroveň ekonomické prosperity mezi zkoumanými zeměmi.\n",
    "\n",
    "- **První kvartil (1st Qu.)**: Hodnota, pod kterou spadá první čtvrtina dat, je 11702 eur na obyvatele. To znamená, že 25 % zemí má HDP nižší než tato hodnota.\n",
    "\n",
    "- **Medián**: Medián, což je střední hodnota datového souboru, je 25355 eur na obyvatele. To znamená, že polovina zemí má HDP nižší než tento medián a polovina má vyšší.\n",
    "\n",
    "- **Průměr (Mean)**: Průměrná hodnota HDP v evropských zemích v roce 2015 je 29879 eur na obyvatele. To je aritmetický průměr všech hodnot HDP.\n",
    "\n",
    "- **Třetí kvartil (3rd Qu.)**: Hodnota, pod kterou spadá třetí čtvrtina dat, je 38190 eur na obyvatele. To znamená, že 75 % zemí má HDP nižší než tato hodnota.\n",
    "\n",
    "- **Maximální hodnota**: Nejvyšší hodnota HDP v eurech na obyvatele z celého souboru je 148440. Jedná se o nejvyšší úroveň ekonomické prosperity mezi zkoumanými zeměmi.\n",
    "\n",
    "Tyto statistické údaje nám poskytují přehled o rozdělení HDP a jeho variabilitě mezi evropskými zeměmi v roce 2015. Pro přehlednost nyní vykreslíme histogram rozdělení HDP v roce 2015."
   ]
  },
  {
   "cell_type": "code",
   "id": "f8a7965c23c418af",
   "metadata": {
    "ExecuteTime": {
     "end_time": "2024-05-17T21:15:34.695538Z",
     "start_time": "2024-05-17T21:15:34.439292Z"
    }
   },
   "source": [
    "# Histogram\n",
    "ggplot(data, aes(x = values)) +\n",
    "  geom_histogram(binwidth = 5000, fill = \"#F5DAD2\", color = \"black\", alpha = 0.8) +  # Alpha channel for clarity\n",
    "  labs(title = \"Distribution of GDP in European countries in 2015\",\n",
    "       x = \"GDP in euro per capita\",\n",
    "       y = \"Number of countries\") +\n",
    "  scale_x_continuous(labels = scales::comma) +  # Adding thousands separators to the x-axis\n",
    "  theme_minimal() +\n",
    "  theme(plot.title = element_text(size = 20, face = \"bold\"),  # Caption size and style\n",
    "        axis.text = element_text(size = 12),  # Text size on axes\n",
    "        axis.title = element_text(size = 14))  # Size of axis labels"
   ],
   "outputs": [
    {
     "data": {
      "text/plain": [
       "plot without title"
      ],
      "image/png": "[encoded data removed]"
     },
     "metadata": {
      "image/png": {
       "width": 420,
       "height": 420
      }
     },
     "output_type": "display_data"
    }
   ],
   "execution_count": 276
  },
  {
   "cell_type": "markdown",
   "id": "2a3f5922cd196bdd",
   "metadata": {},
   "source": [
    "Tento histogram zobrazuje rozdělení hrubého domácího produktu (HDP) v evropských zemích v roce 2015. Na osu x je uvedeno HDP v eurech na obyvatele a na osu y počet zemí, které dosáhly dané úrovně HDP.\n",
    "\n",
    "Graf ukazuje, že většina zemí má HDP mezi 10 000 a 50 000 eur na obyvatele. Existuje také menší počet zemí s HDP nad 50 000 eur na obyvatele, což může zahrnovat země s vyššími úrovněmi ekonomické prosperity.\n",
    "\n",
    "Různé faktory mohou ovlivňovat HDP zemí. Některé z hlavních faktorů zahrnují:\n",
    "\n",
    "* **Ekonomická politika**: Makroekonomická politika vlád, včetně monetární politiky a fiskální politiky, může mít vliv na HDP.\n",
    "\n",
    "* **Obchodní politika**: Otevřenost země obchodu s ostatními zeměmi může ovlivnit HDP prostřednictvím exportu a importu zboží a služeb.\n",
    "\n",
    "* **Technologický pokrok**: Inovace a technologický pokrok mohou zvyšovat produktivitu a stimulovat růst HDP.\n",
    "\n",
    "* **Pracovní trh**: Zaměstnanost, úroveň mezd a pracovní podmínky mohou ovlivnit schopnost země generovat HDP.\n",
    "\n",
    "* **Infrastruktura**: Kvalita infrastruktury, včetně dopravních sítí a telekomunikací, může mít vliv na efektivitu ekonomiky a tím i na HDP.\n",
    "\n",
    "* **Politická stabilita**: Politická stabilita a právní rámec mohou ovlivnit investice a obchod, což může mít vliv na HDP.\n",
    "\n",
    "Nyní můžeme pokračovat úlohou 2."
   ]
  },
  {
   "cell_type": "markdown",
   "id": "db5b818e2c95342e",
   "metadata": {},
   "source": [
    "## ✭ Úloha 2\n",
    "\n",
    "Rozhodly jsme se přidat další [dataset](https://www.kaggle.com/datasets/nelgiriyewithana/countries-of-the-world-2023) s informacemi o různých zemích, včetně evropských zemí z našeho projektu.\n",
    "\n",
    "> This comprehensive dataset provides a wealth of information about all countries worldwide, covering a wide range of indicators and attributes. It encompasses demographic statistics, economic indicators, environmental factors, healthcare metrics, education statistics, and much more. With every country represented, this dataset offers a complete global perspective on various aspects of nations, enabling in-depth analyses and cross-country comparisons.\n",
    "\n",
    "Pro zkoumané země můžeme jako regresory zvolit následující čtyři příznaky:\n",
    "\n",
    "1. **Průměrný věk obyvatelstva**: tato numerická proměnná může poskytnout informace o demografické struktuře země a jejím vlivu na ekonomiku, jako je například pracovní síla a spotřeba.\n",
    "\n",
    "2. **Hustota zalidnění**: další numerická proměnná, která může ovlivnit HDP, je hustota zalidnění. Vyšší hustota obvykle znamená větší ekonomickou aktivitu a přístup k většímu trhu.\n",
    "\n",
    "3. **Jazyk**: tato kategoriální proměnná může být užitečná pro rozlišení mezi zeměmi na základě oficiálního nebo dominantního jazyka. Země se shodným jazykem mohou mít lepší obchodní vztahy a komunikaci, což může mít pozitivní vliv na ekonomiku a cestovní ruch.\n",
    "\n",
    "4. **Měna**: další kategoriální proměnná, která může být důležitá, je měna, kterou země používá. Země používající euro mohou mít výhodu v obchodě a stabilitě měny ve srovnání s zeměmi, které používají jiné měny.\n",
    "\n",
    "Nyní bychom mohly použít regresní analýzu k určení vztahu mezi těmito proměnnými a HDP (např. pomocí lineární regrese).\n",
    "\n",
    "Chceme získat data o průměrném věku obyvatelstva z Eurostatu pro rok 2015 s pomocí identifikátoru MEDAGEPOP pro střední věk obyvatelstva. Vytvoříme dotaz do databáze Eurostatu, abychom mohly získat požadovaná data."
   ]
  },
  {
   "cell_type": "markdown",
   "id": "0166fefc-cb37-4d43-a30a-448166bfd639",
   "metadata": {},
   "source": [
    "#### ✦ Průměrný věk a hustota zalidnění"
   ]
  },
  {
   "cell_type": "code",
   "id": "982167681af105a",
   "metadata": {
    "scrolled": true,
    "ExecuteTime": {
     "end_time": "2024-05-17T21:15:35.864322Z",
     "start_time": "2024-05-17T21:15:34.702730Z"
    }
   },
   "source": [
    "# Data query on the average age of the population in 2019\n",
    "data_age <- get_eurostat(\"eq_pop04\", filters = list(time=\"2015\", indic_de = \"MEDAGEPOP\"))\n",
    "\n",
    "# Displaying first rows of data\n",
    "head(data_age)"
   ],
   "outputs": [
    {
     "name": "stderr",
     "output_type": "stream",
     "text": [
      "Dataset query already saved in cache_list.json...\n",
      "\n",
      "Reading cache file C:\\Users\\Nelly\\AppData\\Local\\Temp\\RtmpGqcgoB/eurostat/a2cb954d105b1c38f2e5b96f745df4fb.rds\n",
      "\n",
      "Table  eq_pop04  read from cache file:  C:\\Users\\Nelly\\AppData\\Local\\Temp\\RtmpGqcgoB/eurostat/a2cb954d105b1c38f2e5b96f745df4fb.rds\n",
      "\n"
     ]
    },
    {
     "data": {
      "text/html": [
       "<table class=\"dataframe\">\n",
       "<caption>A tibble: 6 × 5</caption>\n",
       "<thead>\n",
       "\t<tr><th scope=col>freq</th><th scope=col>indic_de</th><th scope=col>geo</th><th scope=col>time</th><th scope=col>values</th></tr>\n",
       "\t<tr><th scope=col>&lt;chr&gt;</th><th scope=col>&lt;chr&gt;</th><th scope=col>&lt;chr&gt;</th><th scope=col>&lt;date&gt;</th><th scope=col>&lt;dbl&gt;</th></tr>\n",
       "</thead>\n",
       "<tbody>\n",
       "\t<tr><td>A</td><td>MEDAGEPOP</td><td>EU27_2020</td><td>2015-01-01</td><td>42.7</td></tr>\n",
       "\t<tr><td>A</td><td>MEDAGEPOP</td><td>EA20     </td><td>2015-01-01</td><td>  NA</td></tr>\n",
       "\t<tr><td>A</td><td>MEDAGEPOP</td><td>EA19     </td><td>2015-01-01</td><td>43.3</td></tr>\n",
       "\t<tr><td>A</td><td>MEDAGEPOP</td><td>BE       </td><td>2015-01-01</td><td>41.4</td></tr>\n",
       "\t<tr><td>A</td><td>MEDAGEPOP</td><td>BG       </td><td>2015-01-01</td><td>43.4</td></tr>\n",
       "\t<tr><td>A</td><td>MEDAGEPOP</td><td>CZ       </td><td>2015-01-01</td><td>41.1</td></tr>\n",
       "</tbody>\n",
       "</table>\n"
      ],
      "text/markdown": "\nA tibble: 6 × 5\n\n| freq &lt;chr&gt; | indic_de &lt;chr&gt; | geo &lt;chr&gt; | time &lt;date&gt; | values &lt;dbl&gt; |\n|---|---|---|---|---|\n| A | MEDAGEPOP | EU27_2020 | 2015-01-01 | 42.7 |\n| A | MEDAGEPOP | EA20      | 2015-01-01 |   NA |\n| A | MEDAGEPOP | EA19      | 2015-01-01 | 43.3 |\n| A | MEDAGEPOP | BE        | 2015-01-01 | 41.4 |\n| A | MEDAGEPOP | BG        | 2015-01-01 | 43.4 |\n| A | MEDAGEPOP | CZ        | 2015-01-01 | 41.1 |\n\n",
      "text/latex": "A tibble: 6 × 5\n\\begin{tabular}{lllll}\n freq & indic\\_de & geo & time & values\\\\\n <chr> & <chr> & <chr> & <date> & <dbl>\\\\\n\\hline\n\t A & MEDAGEPOP & EU27\\_2020 & 2015-01-01 & 42.7\\\\\n\t A & MEDAGEPOP & EA20      & 2015-01-01 &   NA\\\\\n\t A & MEDAGEPOP & EA19      & 2015-01-01 & 43.3\\\\\n\t A & MEDAGEPOP & BE        & 2015-01-01 & 41.4\\\\\n\t A & MEDAGEPOP & BG        & 2015-01-01 & 43.4\\\\\n\t A & MEDAGEPOP & CZ        & 2015-01-01 & 41.1\\\\\n\\end{tabular}\n",
      "text/plain": [
       "  freq indic_de  geo       time       values\n",
       "1 A    MEDAGEPOP EU27_2020 2015-01-01 42.7  \n",
       "2 A    MEDAGEPOP EA20      2015-01-01   NA  \n",
       "3 A    MEDAGEPOP EA19      2015-01-01 43.3  \n",
       "4 A    MEDAGEPOP BE        2015-01-01 41.4  \n",
       "5 A    MEDAGEPOP BG        2015-01-01 43.4  \n",
       "6 A    MEDAGEPOP CZ        2015-01-01 41.1  "
      ]
     },
     "metadata": {},
     "output_type": "display_data"
    }
   ],
   "execution_count": 277
  },
  {
   "cell_type": "code",
   "id": "fddde99d13fa1bb1",
   "metadata": {
    "ExecuteTime": {
     "end_time": "2024-05-17T21:15:37.532689Z",
     "start_time": "2024-05-17T21:15:35.870654Z"
    }
   },
   "source": [
    "# Drop unnecessary columns\n",
    "data_age <- subset(data_age, select = c(\"geo\", \"values\"))\n",
    "data_age <- label_eurostat(data_age)\n",
    "head(data_age)"
   ],
   "outputs": [
    {
     "data": {
      "text/html": [
       "<table class=\"dataframe\">\n",
       "<caption>A tibble: 6 × 2</caption>\n",
       "<thead>\n",
       "\t<tr><th scope=col>geo</th><th scope=col>values</th></tr>\n",
       "\t<tr><th scope=col>&lt;chr&gt;</th><th scope=col>&lt;dbl&gt;</th></tr>\n",
       "</thead>\n",
       "<tbody>\n",
       "\t<tr><td>European Union - 27 countries (from 2020)</td><td>42.7</td></tr>\n",
       "\t<tr><td>Euro area – 20 countries (from 2023)     </td><td>  NA</td></tr>\n",
       "\t<tr><td>Euro area - 19 countries  (2015-2022)    </td><td>43.3</td></tr>\n",
       "\t<tr><td>Belgium                                  </td><td>41.4</td></tr>\n",
       "\t<tr><td>Bulgaria                                 </td><td>43.4</td></tr>\n",
       "\t<tr><td>Czechia                                  </td><td>41.1</td></tr>\n",
       "</tbody>\n",
       "</table>\n"
      ],
      "text/markdown": "\nA tibble: 6 × 2\n\n| geo &lt;chr&gt; | values &lt;dbl&gt; |\n|---|---|\n| European Union - 27 countries (from 2020) | 42.7 |\n| Euro area – 20 countries (from 2023)      |   NA |\n| Euro area - 19 countries  (2015-2022)     | 43.3 |\n| Belgium                                   | 41.4 |\n| Bulgaria                                  | 43.4 |\n| Czechia                                   | 41.1 |\n\n",
      "text/latex": "A tibble: 6 × 2\n\\begin{tabular}{ll}\n geo & values\\\\\n <chr> & <dbl>\\\\\n\\hline\n\t European Union - 27 countries (from 2020) & 42.7\\\\\n\t Euro area – 20 countries (from 2023)      &   NA\\\\\n\t Euro area - 19 countries  (2015-2022)     & 43.3\\\\\n\t Belgium                                   & 41.4\\\\\n\t Bulgaria                                  & 43.4\\\\\n\t Czechia                                   & 41.1\\\\\n\\end{tabular}\n",
      "text/plain": [
       "  geo                                       values\n",
       "1 European Union - 27 countries (from 2020) 42.7  \n",
       "2 Euro area – 20 countries (from 2023)        NA  \n",
       "3 Euro area - 19 countries  (2015-2022)     43.3  \n",
       "4 Belgium                                   41.4  \n",
       "5 Bulgaria                                  43.4  \n",
       "6 Czechia                                   41.1  "
      ]
     },
     "metadata": {},
     "output_type": "display_data"
    }
   ],
   "execution_count": 278
  },
  {
   "cell_type": "markdown",
   "id": "971b065ad91a2e5e",
   "metadata": {},
   "source": [
    "Pro získání dat o hustotě zalidnění z Eurostatu pro rok 2015 s pomocí identifikátoru tps00003 pro hustotu zalidnění vytvoříme dotaz do databáze Eurostatu."
   ]
  },
  {
   "cell_type": "code",
   "id": "ca9a2c38cf829426",
   "metadata": {
    "ExecuteTime": {
     "end_time": "2024-05-17T21:15:38.386795Z",
     "start_time": "2024-05-17T21:15:37.537662Z"
    }
   },
   "source": [
    "data_density <- get_eurostat(\"tps00003\", filters = list(time=\"2015\"))\n",
    "\n",
    "head(data_density)"
   ],
   "outputs": [
    {
     "name": "stderr",
     "output_type": "stream",
     "text": [
      "Dataset query already saved in cache_list.json...\n",
      "\n",
      "Reading cache file C:\\Users\\Nelly\\AppData\\Local\\Temp\\RtmpGqcgoB/eurostat/9baac2369ca5e1e14c00f14afeba1a84.rds\n",
      "\n",
      "Table  tps00003  read from cache file:  C:\\Users\\Nelly\\AppData\\Local\\Temp\\RtmpGqcgoB/eurostat/9baac2369ca5e1e14c00f14afeba1a84.rds\n",
      "\n"
     ]
    },
    {
     "data": {
      "text/html": [
       "<table class=\"dataframe\">\n",
       "<caption>A tibble: 6 × 5</caption>\n",
       "<thead>\n",
       "\t<tr><th scope=col>freq</th><th scope=col>unit</th><th scope=col>geo</th><th scope=col>time</th><th scope=col>values</th></tr>\n",
       "\t<tr><th scope=col>&lt;chr&gt;</th><th scope=col>&lt;chr&gt;</th><th scope=col>&lt;chr&gt;</th><th scope=col>&lt;date&gt;</th><th scope=col>&lt;dbl&gt;</th></tr>\n",
       "</thead>\n",
       "<tbody>\n",
       "\t<tr><td>A</td><td>PER_KM2</td><td>EU27_2020</td><td>2015-01-01</td><td>108.1</td></tr>\n",
       "\t<tr><td>A</td><td>PER_KM2</td><td>EA20     </td><td>2015-01-01</td><td>   NA</td></tr>\n",
       "\t<tr><td>A</td><td>PER_KM2</td><td>EA19     </td><td>2015-01-01</td><td>   NA</td></tr>\n",
       "\t<tr><td>A</td><td>PER_KM2</td><td>BE       </td><td>2015-01-01</td><td>371.8</td></tr>\n",
       "\t<tr><td>A</td><td>PER_KM2</td><td>BG       </td><td>2015-01-01</td><td> 66.2</td></tr>\n",
       "\t<tr><td>A</td><td>PER_KM2</td><td>CZ       </td><td>2015-01-01</td><td>136.6</td></tr>\n",
       "</tbody>\n",
       "</table>\n"
      ],
      "text/markdown": "\nA tibble: 6 × 5\n\n| freq &lt;chr&gt; | unit &lt;chr&gt; | geo &lt;chr&gt; | time &lt;date&gt; | values &lt;dbl&gt; |\n|---|---|---|---|---|\n| A | PER_KM2 | EU27_2020 | 2015-01-01 | 108.1 |\n| A | PER_KM2 | EA20      | 2015-01-01 |    NA |\n| A | PER_KM2 | EA19      | 2015-01-01 |    NA |\n| A | PER_KM2 | BE        | 2015-01-01 | 371.8 |\n| A | PER_KM2 | BG        | 2015-01-01 |  66.2 |\n| A | PER_KM2 | CZ        | 2015-01-01 | 136.6 |\n\n",
      "text/latex": "A tibble: 6 × 5\n\\begin{tabular}{lllll}\n freq & unit & geo & time & values\\\\\n <chr> & <chr> & <chr> & <date> & <dbl>\\\\\n\\hline\n\t A & PER\\_KM2 & EU27\\_2020 & 2015-01-01 & 108.1\\\\\n\t A & PER\\_KM2 & EA20      & 2015-01-01 &    NA\\\\\n\t A & PER\\_KM2 & EA19      & 2015-01-01 &    NA\\\\\n\t A & PER\\_KM2 & BE        & 2015-01-01 & 371.8\\\\\n\t A & PER\\_KM2 & BG        & 2015-01-01 &  66.2\\\\\n\t A & PER\\_KM2 & CZ        & 2015-01-01 & 136.6\\\\\n\\end{tabular}\n",
      "text/plain": [
       "  freq unit    geo       time       values\n",
       "1 A    PER_KM2 EU27_2020 2015-01-01 108.1 \n",
       "2 A    PER_KM2 EA20      2015-01-01    NA \n",
       "3 A    PER_KM2 EA19      2015-01-01    NA \n",
       "4 A    PER_KM2 BE        2015-01-01 371.8 \n",
       "5 A    PER_KM2 BG        2015-01-01  66.2 \n",
       "6 A    PER_KM2 CZ        2015-01-01 136.6 "
      ]
     },
     "metadata": {},
     "output_type": "display_data"
    }
   ],
   "execution_count": 279
  },
  {
   "cell_type": "code",
   "id": "c83582bfde83194b",
   "metadata": {
    "ExecuteTime": {
     "end_time": "2024-05-17T21:15:38.426156Z",
     "start_time": "2024-05-17T21:15:38.391556Z"
    }
   },
   "source": [
    "# Identifying missing values\n",
    "missing_values <- is.na(data_age)\n",
    "\n",
    "# Display rows with missing values\n",
    "rows_with_missing <- data_age[apply(missing_values, 1, any), ]\n",
    "print(rows_with_missing)"
   ],
   "outputs": [
    {
     "name": "stdout",
     "output_type": "stream",
     "text": [
      "\u001B[90m# A tibble: 7 × 2\u001B[39m\n",
      "  geo                                  values\n",
      "  \u001B[3m\u001B[90m<chr>\u001B[39m\u001B[23m                                 \u001B[3m\u001B[90m<dbl>\u001B[39m\u001B[23m\n",
      "\u001B[90m1\u001B[39m Euro area – 20 countries (from 2023)     \u001B[31mNA\u001B[39m\n",
      "\u001B[90m2\u001B[39m Metropolitan France                      \u001B[31mNA\u001B[39m\n",
      "\u001B[90m3\u001B[39m Norway                                   \u001B[31mNA\u001B[39m\n",
      "\u001B[90m4\u001B[39m Kosovo*                                  \u001B[31mNA\u001B[39m\n",
      "\u001B[90m5\u001B[39m Andorra                                  \u001B[31mNA\u001B[39m\n",
      "\u001B[90m6\u001B[39m Russia                                   \u001B[31mNA\u001B[39m\n",
      "\u001B[90m7\u001B[39m San Marino                               \u001B[31mNA\u001B[39m\n"
     ]
    }
   ],
   "execution_count": 280
  },
  {
   "cell_type": "code",
   "id": "1fb6b8e18e2fbf",
   "metadata": {
    "ExecuteTime": {
     "end_time": "2024-05-17T21:15:40.738188Z",
     "start_time": "2024-05-17T21:15:38.430777Z"
    }
   },
   "source": [
    "# Drop unnecessary columns\n",
    "data_density <- subset(data_density, select = c(\"geo\", \"values\"))\n",
    "data_density <- label_eurostat(data_density)\n",
    "head(data_density)"
   ],
   "outputs": [
    {
     "data": {
      "text/html": [
       "<table class=\"dataframe\">\n",
       "<caption>A tibble: 6 × 2</caption>\n",
       "<thead>\n",
       "\t<tr><th scope=col>geo</th><th scope=col>values</th></tr>\n",
       "\t<tr><th scope=col>&lt;chr&gt;</th><th scope=col>&lt;dbl&gt;</th></tr>\n",
       "</thead>\n",
       "<tbody>\n",
       "\t<tr><td>European Union - 27 countries (from 2020)</td><td>108.1</td></tr>\n",
       "\t<tr><td>Euro area – 20 countries (from 2023)     </td><td>   NA</td></tr>\n",
       "\t<tr><td>Euro area - 19 countries  (2015-2022)    </td><td>   NA</td></tr>\n",
       "\t<tr><td>Belgium                                  </td><td>371.8</td></tr>\n",
       "\t<tr><td>Bulgaria                                 </td><td> 66.2</td></tr>\n",
       "\t<tr><td>Czechia                                  </td><td>136.6</td></tr>\n",
       "</tbody>\n",
       "</table>\n"
      ],
      "text/markdown": "\nA tibble: 6 × 2\n\n| geo &lt;chr&gt; | values &lt;dbl&gt; |\n|---|---|\n| European Union - 27 countries (from 2020) | 108.1 |\n| Euro area – 20 countries (from 2023)      |    NA |\n| Euro area - 19 countries  (2015-2022)     |    NA |\n| Belgium                                   | 371.8 |\n| Bulgaria                                  |  66.2 |\n| Czechia                                   | 136.6 |\n\n",
      "text/latex": "A tibble: 6 × 2\n\\begin{tabular}{ll}\n geo & values\\\\\n <chr> & <dbl>\\\\\n\\hline\n\t European Union - 27 countries (from 2020) & 108.1\\\\\n\t Euro area – 20 countries (from 2023)      &    NA\\\\\n\t Euro area - 19 countries  (2015-2022)     &    NA\\\\\n\t Belgium                                   & 371.8\\\\\n\t Bulgaria                                  &  66.2\\\\\n\t Czechia                                   & 136.6\\\\\n\\end{tabular}\n",
      "text/plain": [
       "  geo                                       values\n",
       "1 European Union - 27 countries (from 2020) 108.1 \n",
       "2 Euro area – 20 countries (from 2023)         NA \n",
       "3 Euro area - 19 countries  (2015-2022)        NA \n",
       "4 Belgium                                   371.8 \n",
       "5 Bulgaria                                   66.2 \n",
       "6 Czechia                                   136.6 "
      ]
     },
     "metadata": {},
     "output_type": "display_data"
    }
   ],
   "execution_count": 281
  },
  {
   "cell_type": "code",
   "id": "9961e9d6a97d5de",
   "metadata": {
    "ExecuteTime": {
     "end_time": "2024-05-17T21:15:40.772464Z",
     "start_time": "2024-05-17T21:15:40.742868Z"
    }
   },
   "source": [
    "# Identifying missing values\n",
    "missing_values <- is.na(data_density)\n",
    "\n",
    "# Display rows with missing values\n",
    "rows_with_missing <- data_density[apply(missing_values, 1, any), ]\n",
    "print(rows_with_missing)"
   ],
   "outputs": [
    {
     "name": "stdout",
     "output_type": "stream",
     "text": [
      "\u001B[90m# A tibble: 3 × 2\u001B[39m\n",
      "  geo                                   values\n",
      "  \u001B[3m\u001B[90m<chr>\u001B[39m\u001B[23m                                  \u001B[3m\u001B[90m<dbl>\u001B[39m\u001B[23m\n",
      "\u001B[90m1\u001B[39m Euro area – 20 countries (from 2023)      \u001B[31mNA\u001B[39m\n",
      "\u001B[90m2\u001B[39m Euro area - 19 countries  (2015-2022)     \u001B[31mNA\u001B[39m\n",
      "\u001B[90m3\u001B[39m Serbia                                    \u001B[31mNA\u001B[39m\n"
     ]
    }
   ],
   "execution_count": 282
  },
  {
   "cell_type": "code",
   "id": "87bb3b8b4eaa3d5d",
   "metadata": {
    "ExecuteTime": {
     "end_time": "2024-05-17T21:15:40.796127Z",
     "start_time": "2024-05-17T21:15:40.777363Z"
    }
   },
   "source": [
    "summary(data_age$values)"
   ],
   "outputs": [
    {
     "data": {
      "text/plain": [
       "   Min. 1st Qu.  Median    Mean 3rd Qu.    Max.    NA's \n",
       "  30.50   38.67   41.25   40.25   42.73   45.90       7 "
      ]
     },
     "metadata": {},
     "output_type": "display_data"
    }
   ],
   "execution_count": 283
  },
  {
   "cell_type": "code",
   "id": "d2c802c7-61e5-4680-87d6-f7c5c3c137e3",
   "metadata": {
    "ExecuteTime": {
     "end_time": "2024-05-17T21:15:40.820061Z",
     "start_time": "2024-05-17T21:15:40.801613Z"
    }
   },
   "source": [
    "summary(data_density$values)"
   ],
   "outputs": [
    {
     "data": {
      "text/plain": [
       "   Min. 1st Qu.  Median    Mean 3rd Qu.    Max.    NA's \n",
       "    3.3    68.5   102.4   158.3   136.6  1408.4       3 "
      ]
     },
     "metadata": {},
     "output_type": "display_data"
    }
   ],
   "execution_count": 284
  },
  {
   "cell_type": "code",
   "id": "8c755781-f438-4cb5-a0d5-4a450435f8f6",
   "metadata": {
    "ExecuteTime": {
     "end_time": "2024-05-17T21:15:41.221930Z",
     "start_time": "2024-05-17T21:15:40.825395Z"
    }
   },
   "source": [
    "# Age histogram\n",
    "ggplot(data_age, aes(x=values)) + \n",
    "  geom_histogram(binwidth=5, fill=\"#BACD92\", color=\"black\", alpha = 0.8) +\n",
    "  labs(title = \"Distribution of Average Age\",\n",
    "       x = \"Average Age\",\n",
    "       y = \"Frequency\") +\n",
    "  theme_minimal() +\n",
    "  theme(plot.title = element_text(size = 20, face = \"bold\"),  # Caption size and style\n",
    "        axis.text = element_text(size = 12),  # Text size on axes\n",
    "        axis.title = element_text(size = 14))  # Size of axis labels\n",
    "\n",
    "\n",
    "# Density histogram\n",
    "ggplot(data_density, aes(x=values)) + \n",
    "  geom_histogram(binwidth=100, fill=\"#BACD92\", color=\"black\") +  \n",
    "  labs(title = \"Population Density Distribution\",\n",
    "       x = \"Density (people per sq km)\",\n",
    "       y = \"Frequency\") +\n",
    "  theme_minimal() +\n",
    "  theme(plot.title = element_text(size = 20, face = \"bold\"),  # Caption size and style\n",
    "        axis.text = element_text(size = 12),  # Text size on axes\n",
    "        axis.title = element_text(size = 14))  # Size of axis labels"
   ],
   "outputs": [
    {
     "name": "stderr",
     "output_type": "stream",
     "text": [
      "Warning message:\n",
      "\"\u001B[1m\u001B[22mRemoved 7 rows containing non-finite outside the scale range (`stat_bin()`).\"\n",
      "Warning message:\n",
      "\"\u001B[1m\u001B[22mRemoved 3 rows containing non-finite outside the scale range (`stat_bin()`).\"\n"
     ]
    },
    {
     "data": {
      "text/plain": [
       "plot without title"
      ],
      "image/png": "[encoded data removed]"
     },
     "metadata": {
      "image/png": {
       "width": 420,
       "height": 420
      }
     },
     "output_type": "display_data"
    },
    {
     "data": {
      "text/plain": [
       "plot without title"
      ],
      "image/png": "[encoded data removed]"
     },
     "metadata": {
      "image/png": {
       "width": 420,
       "height": 420
      }
     },
     "output_type": "display_data"
    }
   ],
   "execution_count": 285
  },
  {
   "cell_type": "markdown",
   "id": "6e294623-3b94-4588-9759-724ad77698bb",
   "metadata": {},
   "source": [
    "Na histogramu distribuce průměrného věku vidíme, že největší počet zemí má průměrný věk obyvatelstva kolem 40 let, zatímco distribuce hustoty zalidnění ukazuje, že většina zemí má nízkou hustotu zalidnění, s několika zeměmi výrazně odlišnými s velmi vysokou hustotou."
   ]
  },
  {
   "cell_type": "code",
   "id": "5a803e66-4ea7-4764-9b68-dad213df0644",
   "metadata": {
    "ExecuteTime": {
     "end_time": "2024-05-17T21:15:41.255486Z",
     "start_time": "2024-05-17T21:15:41.227989Z"
    }
   },
   "source": [
    "# Rename\n",
    "data_age_renamed <- data_age %>% rename(age = values)\n",
    "data_density_renamed <- data_density %>% rename(density = values)\n",
    "\n",
    "# Join\n",
    "combined_data <- left_join(data_age_renamed, data_density_renamed, by = \"geo\")\n",
    "\n",
    "# Correlation\n",
    "correlation_result <- cor(combined_data$age, combined_data$density, use = \"complete.obs\")\n",
    "print(correlation_result)"
   ],
   "outputs": [
    {
     "name": "stdout",
     "output_type": "stream",
     "text": [
      "[1] 0.07637682\n"
     ]
    }
   ],
   "execution_count": 286
  },
  {
   "cell_type": "markdown",
   "id": "2cd619a0-a759-4e4c-bf8c-5168ba37ba54",
   "metadata": {},
   "source": [
    "Korelace ve výši 0,07637682 ukazuje velmi slabou pozitivní souvislost mezi průměrným věkem a hustotou zalidnění. To znamená, že vztah mezi těmito dvěma proměnnými je téměř zanedbatelný a není významným faktorem ve většině ekonomických modelů."
   ]
  },
  {
   "cell_type": "code",
   "id": "b7478697-7ff0-4cd9-bb70-c6cc8263842d",
   "metadata": {
    "ExecuteTime": {
     "end_time": "2024-05-17T21:15:41.276036Z",
     "start_time": "2024-05-17T21:15:41.259764Z"
    }
   },
   "source": [
    "data_hdp_renamed <- data %>% rename(hdp = values)"
   ],
   "outputs": [],
   "execution_count": 287
  },
  {
   "cell_type": "code",
   "id": "a7e0e245-3b66-4146-89df-6c88bb24491f",
   "metadata": {
    "ExecuteTime": {
     "end_time": "2024-05-17T21:15:41.301318Z",
     "start_time": "2024-05-17T21:15:41.281771Z"
    }
   },
   "source": [
    "data1 <- merge(data_hdp_renamed, data_age_renamed, by = \"geo\")\n",
    "data2 <- merge(data1, data_density_renamed, by = \"geo\")"
   ],
   "outputs": [],
   "execution_count": 288
  },
  {
   "cell_type": "code",
   "id": "cf1a1910-c4a5-4142-9121-974452b9d562",
   "metadata": {
    "ExecuteTime": {
     "end_time": "2024-05-17T21:15:41.333278Z",
     "start_time": "2024-05-17T21:15:41.306961Z"
    }
   },
   "source": [
    "head(data2)"
   ],
   "outputs": [
    {
     "data": {
      "text/html": [
       "<table class=\"dataframe\">\n",
       "<caption>A data.frame: 6 × 4</caption>\n",
       "<thead>\n",
       "\t<tr><th></th><th scope=col>geo</th><th scope=col>hdp</th><th scope=col>age</th><th scope=col>density</th></tr>\n",
       "\t<tr><th></th><th scope=col>&lt;chr&gt;</th><th scope=col>&lt;dbl&gt;</th><th scope=col>&lt;dbl&gt;</th><th scope=col>&lt;dbl&gt;</th></tr>\n",
       "</thead>\n",
       "<tbody>\n",
       "\t<tr><th scope=row>1</th><td>Albania </td><td> 3560</td><td>34.7</td><td>100.1</td></tr>\n",
       "\t<tr><th scope=row>2</th><td>Austria </td><td>39890</td><td>43.0</td><td>104.9</td></tr>\n",
       "\t<tr><th scope=row>3</th><td>Belgium </td><td>36960</td><td>41.4</td><td>371.8</td></tr>\n",
       "\t<tr><th scope=row>4</th><td>Bulgaria</td><td> 6380</td><td>43.4</td><td> 66.2</td></tr>\n",
       "\t<tr><th scope=row>5</th><td>Croatia </td><td>10810</td><td>42.8</td><td> 74.4</td></tr>\n",
       "\t<tr><th scope=row>6</th><td>Cyprus  </td><td>21170</td><td>37.0</td><td> 92.0</td></tr>\n",
       "</tbody>\n",
       "</table>\n"
      ],
      "text/markdown": "\nA data.frame: 6 × 4\n\n| <!--/--> | geo &lt;chr&gt; | hdp &lt;dbl&gt; | age &lt;dbl&gt; | density &lt;dbl&gt; |\n|---|---|---|---|---|\n| 1 | Albania  |  3560 | 34.7 | 100.1 |\n| 2 | Austria  | 39890 | 43.0 | 104.9 |\n| 3 | Belgium  | 36960 | 41.4 | 371.8 |\n| 4 | Bulgaria |  6380 | 43.4 |  66.2 |\n| 5 | Croatia  | 10810 | 42.8 |  74.4 |\n| 6 | Cyprus   | 21170 | 37.0 |  92.0 |\n\n",
      "text/latex": "A data.frame: 6 × 4\n\\begin{tabular}{r|llll}\n  & geo & hdp & age & density\\\\\n  & <chr> & <dbl> & <dbl> & <dbl>\\\\\n\\hline\n\t1 & Albania  &  3560 & 34.7 & 100.1\\\\\n\t2 & Austria  & 39890 & 43.0 & 104.9\\\\\n\t3 & Belgium  & 36960 & 41.4 & 371.8\\\\\n\t4 & Bulgaria &  6380 & 43.4 &  66.2\\\\\n\t5 & Croatia  & 10810 & 42.8 &  74.4\\\\\n\t6 & Cyprus   & 21170 & 37.0 &  92.0\\\\\n\\end{tabular}\n",
      "text/plain": [
       "  geo      hdp   age  density\n",
       "1 Albania   3560 34.7 100.1  \n",
       "2 Austria  39890 43.0 104.9  \n",
       "3 Belgium  36960 41.4 371.8  \n",
       "4 Bulgaria  6380 43.4  66.2  \n",
       "5 Croatia  10810 42.8  74.4  \n",
       "6 Cyprus   21170 37.0  92.0  "
      ]
     },
     "metadata": {},
     "output_type": "display_data"
    }
   ],
   "execution_count": 289
  },
  {
   "cell_type": "markdown",
   "id": "dba26bf9-b3d6-4b5d-b6e9-080f960ca7cb",
   "metadata": {},
   "source": [
    "#### ✦ Jazyk a měna"
   ]
  },
  {
   "cell_type": "code",
   "id": "aa9abc7e-5751-49fe-8ad0-cc7fa8481cb8",
   "metadata": {
    "ExecuteTime": {
     "end_time": "2024-05-17T21:15:41.391808Z",
     "start_time": "2024-05-17T21:15:41.338114Z"
    }
   },
   "source": [
    "# Loading data from a CSV file\n",
    "world_data <- read.csv(\"world-data-2023.csv\", header = TRUE, sep = \",\", quote = \"\\\"\", dec = \".\", fill = TRUE, na.strings = c(\"\", \"NA\"))\n",
    "\n",
    "head(world_data)"
   ],
   "outputs": [
    {
     "data": {
      "text/html": [
       "<table class=\"dataframe\">\n",
       "<caption>A data.frame: 6 × 35</caption>\n",
       "<thead>\n",
       "\t<tr><th></th><th scope=col>Country</th><th scope=col>Density..P.Km2.</th><th scope=col>Abbreviation</th><th scope=col>Agricultural.Land....</th><th scope=col>Land.Area.Km2.</th><th scope=col>Armed.Forces.size</th><th scope=col>Birth.Rate</th><th scope=col>Calling.Code</th><th scope=col>Capital.Major.City</th><th scope=col>Co2.Emissions</th><th scope=col>⋯</th><th scope=col>Out.of.pocket.health.expenditure</th><th scope=col>Physicians.per.thousand</th><th scope=col>Population</th><th scope=col>Population..Labor.force.participation....</th><th scope=col>Tax.revenue....</th><th scope=col>Total.tax.rate</th><th scope=col>Unemployment.rate</th><th scope=col>Urban_population</th><th scope=col>Latitude</th><th scope=col>Longitude</th></tr>\n",
       "\t<tr><th></th><th scope=col>&lt;chr&gt;</th><th scope=col>&lt;chr&gt;</th><th scope=col>&lt;chr&gt;</th><th scope=col>&lt;chr&gt;</th><th scope=col>&lt;chr&gt;</th><th scope=col>&lt;chr&gt;</th><th scope=col>&lt;dbl&gt;</th><th scope=col>&lt;int&gt;</th><th scope=col>&lt;chr&gt;</th><th scope=col>&lt;chr&gt;</th><th scope=col>⋯</th><th scope=col>&lt;chr&gt;</th><th scope=col>&lt;dbl&gt;</th><th scope=col>&lt;chr&gt;</th><th scope=col>&lt;chr&gt;</th><th scope=col>&lt;chr&gt;</th><th scope=col>&lt;chr&gt;</th><th scope=col>&lt;chr&gt;</th><th scope=col>&lt;chr&gt;</th><th scope=col>&lt;dbl&gt;</th><th scope=col>&lt;dbl&gt;</th></tr>\n",
       "</thead>\n",
       "<tbody>\n",
       "\t<tr><th scope=row>1</th><td>Afghanistan        </td><td>60 </td><td>AF</td><td>58.10%</td><td>652,230  </td><td>323,000</td><td>32.49</td><td> 93</td><td>Kabul                 </td><td>8,672  </td><td>⋯</td><td>78.40%</td><td>0.28</td><td>38,041,754</td><td>48.90%</td><td>9.30% </td><td>71.40%</td><td>11.12%</td><td>9,797,273 </td><td> 33.93911</td><td> 67.709953</td></tr>\n",
       "\t<tr><th scope=row>2</th><td>Albania            </td><td>105</td><td>AL</td><td>43.10%</td><td>28,748   </td><td>9,000  </td><td>11.78</td><td>355</td><td>Tirana                </td><td>4,536  </td><td>⋯</td><td>56.90%</td><td>1.20</td><td>2,854,191 </td><td>55.70%</td><td>18.60%</td><td>36.60%</td><td>12.33%</td><td>1,747,593 </td><td> 41.15333</td><td> 20.168331</td></tr>\n",
       "\t<tr><th scope=row>3</th><td>Algeria            </td><td>18 </td><td>DZ</td><td>17.40%</td><td>2,381,741</td><td>317,000</td><td>24.28</td><td>213</td><td>Algiers               </td><td>150,006</td><td>⋯</td><td>28.10%</td><td>1.72</td><td>43,053,054</td><td>41.20%</td><td>37.20%</td><td>66.10%</td><td>11.70%</td><td>31,510,100</td><td> 28.03389</td><td>  1.659626</td></tr>\n",
       "\t<tr><th scope=row>4</th><td>Andorra            </td><td>164</td><td>AD</td><td>40.00%</td><td>468      </td><td>NA     </td><td> 7.20</td><td>376</td><td>Andorra la Vella      </td><td>469    </td><td>⋯</td><td>36.40%</td><td>3.33</td><td>77,142    </td><td>NA    </td><td>NA    </td><td>NA    </td><td>NA    </td><td>67,873    </td><td> 42.50628</td><td>  1.521801</td></tr>\n",
       "\t<tr><th scope=row>5</th><td>Angola             </td><td>26 </td><td>AO</td><td>47.50%</td><td>1,246,700</td><td>117,000</td><td>40.73</td><td>244</td><td>Luanda                </td><td>34,693 </td><td>⋯</td><td>33.40%</td><td>0.21</td><td>31,825,295</td><td>77.50%</td><td>9.20% </td><td>49.10%</td><td>6.89% </td><td>21,061,025</td><td>-11.20269</td><td> 17.873887</td></tr>\n",
       "\t<tr><th scope=row>6</th><td>Antigua and Barbuda</td><td>223</td><td>AG</td><td>20.50%</td><td>443      </td><td>0      </td><td>15.33</td><td>  1</td><td>St. John's, Saint John</td><td>557    </td><td>⋯</td><td>24.30%</td><td>2.76</td><td>97,118    </td><td>NA    </td><td>16.50%</td><td>43.00%</td><td>NA    </td><td>23,800    </td><td> 17.06082</td><td>-61.796428</td></tr>\n",
       "</tbody>\n",
       "</table>\n"
      ],
      "text/markdown": "\nA data.frame: 6 × 35\n\n| <!--/--> | Country &lt;chr&gt; | Density..P.Km2. &lt;chr&gt; | Abbreviation &lt;chr&gt; | Agricultural.Land.... &lt;chr&gt; | Land.Area.Km2. &lt;chr&gt; | Armed.Forces.size &lt;chr&gt; | Birth.Rate &lt;dbl&gt; | Calling.Code &lt;int&gt; | Capital.Major.City &lt;chr&gt; | Co2.Emissions &lt;chr&gt; | ⋯ ⋯ | Out.of.pocket.health.expenditure &lt;chr&gt; | Physicians.per.thousand &lt;dbl&gt; | Population &lt;chr&gt; | Population..Labor.force.participation.... &lt;chr&gt; | Tax.revenue.... &lt;chr&gt; | Total.tax.rate &lt;chr&gt; | Unemployment.rate &lt;chr&gt; | Urban_population &lt;chr&gt; | Latitude &lt;dbl&gt; | Longitude &lt;dbl&gt; |\n|---|---|---|---|---|---|---|---|---|---|---|---|---|---|---|---|---|---|---|---|---|---|\n| 1 | Afghanistan         | 60  | AF | 58.10% | 652,230   | 323,000 | 32.49 |  93 | Kabul                  | 8,672   | ⋯ | 78.40% | 0.28 | 38,041,754 | 48.90% | 9.30%  | 71.40% | 11.12% | 9,797,273  |  33.93911 |  67.709953 |\n| 2 | Albania             | 105 | AL | 43.10% | 28,748    | 9,000   | 11.78 | 355 | Tirana                 | 4,536   | ⋯ | 56.90% | 1.20 | 2,854,191  | 55.70% | 18.60% | 36.60% | 12.33% | 1,747,593  |  41.15333 |  20.168331 |\n| 3 | Algeria             | 18  | DZ | 17.40% | 2,381,741 | 317,000 | 24.28 | 213 | Algiers                | 150,006 | ⋯ | 28.10% | 1.72 | 43,053,054 | 41.20% | 37.20% | 66.10% | 11.70% | 31,510,100 |  28.03389 |   1.659626 |\n| 4 | Andorra             | 164 | AD | 40.00% | 468       | NA      |  7.20 | 376 | Andorra la Vella       | 469     | ⋯ | 36.40% | 3.33 | 77,142     | NA     | NA     | NA     | NA     | 67,873     |  42.50628 |   1.521801 |\n| 5 | Angola              | 26  | AO | 47.50% | 1,246,700 | 117,000 | 40.73 | 244 | Luanda                 | 34,693  | ⋯ | 33.40% | 0.21 | 31,825,295 | 77.50% | 9.20%  | 49.10% | 6.89%  | 21,061,025 | -11.20269 |  17.873887 |\n| 6 | Antigua and Barbuda | 223 | AG | 20.50% | 443       | 0       | 15.33 |   1 | St. John's, Saint John | 557     | ⋯ | 24.30% | 2.76 | 97,118     | NA     | 16.50% | 43.00% | NA     | 23,800     |  17.06082 | -61.796428 |\n\n",
      "text/latex": "A data.frame: 6 × 35\n\\begin{tabular}{r|lllllllllllllllllllll}\n  & Country & Density..P.Km2. & Abbreviation & Agricultural.Land.... & Land.Area.Km2. & Armed.Forces.size & Birth.Rate & Calling.Code & Capital.Major.City & Co2.Emissions & ⋯ & Out.of.pocket.health.expenditure & Physicians.per.thousand & Population & Population..Labor.force.participation.... & Tax.revenue.... & Total.tax.rate & Unemployment.rate & Urban\\_population & Latitude & Longitude\\\\\n  & <chr> & <chr> & <chr> & <chr> & <chr> & <chr> & <dbl> & <int> & <chr> & <chr> & ⋯ & <chr> & <dbl> & <chr> & <chr> & <chr> & <chr> & <chr> & <chr> & <dbl> & <dbl>\\\\\n\\hline\n\t1 & Afghanistan         & 60  & AF & 58.10\\% & 652,230   & 323,000 & 32.49 &  93 & Kabul                  & 8,672   & ⋯ & 78.40\\% & 0.28 & 38,041,754 & 48.90\\% & 9.30\\%  & 71.40\\% & 11.12\\% & 9,797,273  &  33.93911 &  67.709953\\\\\n\t2 & Albania             & 105 & AL & 43.10\\% & 28,748    & 9,000   & 11.78 & 355 & Tirana                 & 4,536   & ⋯ & 56.90\\% & 1.20 & 2,854,191  & 55.70\\% & 18.60\\% & 36.60\\% & 12.33\\% & 1,747,593  &  41.15333 &  20.168331\\\\\n\t3 & Algeria             & 18  & DZ & 17.40\\% & 2,381,741 & 317,000 & 24.28 & 213 & Algiers                & 150,006 & ⋯ & 28.10\\% & 1.72 & 43,053,054 & 41.20\\% & 37.20\\% & 66.10\\% & 11.70\\% & 31,510,100 &  28.03389 &   1.659626\\\\\n\t4 & Andorra             & 164 & AD & 40.00\\% & 468       & NA      &  7.20 & 376 & Andorra la Vella       & 469     & ⋯ & 36.40\\% & 3.33 & 77,142     & NA     & NA     & NA     & NA     & 67,873     &  42.50628 &   1.521801\\\\\n\t5 & Angola              & 26  & AO & 47.50\\% & 1,246,700 & 117,000 & 40.73 & 244 & Luanda                 & 34,693  & ⋯ & 33.40\\% & 0.21 & 31,825,295 & 77.50\\% & 9.20\\%  & 49.10\\% & 6.89\\%  & 21,061,025 & -11.20269 &  17.873887\\\\\n\t6 & Antigua and Barbuda & 223 & AG & 20.50\\% & 443       & 0       & 15.33 &   1 & St. John's, Saint John & 557     & ⋯ & 24.30\\% & 2.76 & 97,118     & NA     & 16.50\\% & 43.00\\% & NA     & 23,800     &  17.06082 & -61.796428\\\\\n\\end{tabular}\n",
      "text/plain": [
       "  Country             Density..P.Km2. Abbreviation Agricultural.Land....\n",
       "1 Afghanistan         60              AF           58.10%               \n",
       "2 Albania             105             AL           43.10%               \n",
       "3 Algeria             18              DZ           17.40%               \n",
       "4 Andorra             164             AD           40.00%               \n",
       "5 Angola              26              AO           47.50%               \n",
       "6 Antigua and Barbuda 223             AG           20.50%               \n",
       "  Land.Area.Km2. Armed.Forces.size Birth.Rate Calling.Code\n",
       "1 652,230        323,000           32.49       93         \n",
       "2 28,748         9,000             11.78      355         \n",
       "3 2,381,741      317,000           24.28      213         \n",
       "4 468            NA                 7.20      376         \n",
       "5 1,246,700      117,000           40.73      244         \n",
       "6 443            0                 15.33        1         \n",
       "  Capital.Major.City     Co2.Emissions ⋯ Out.of.pocket.health.expenditure\n",
       "1 Kabul                  8,672         ⋯ 78.40%                          \n",
       "2 Tirana                 4,536         ⋯ 56.90%                          \n",
       "3 Algiers                150,006       ⋯ 28.10%                          \n",
       "4 Andorra la Vella       469           ⋯ 36.40%                          \n",
       "5 Luanda                 34,693        ⋯ 33.40%                          \n",
       "6 St. John's, Saint John 557           ⋯ 24.30%                          \n",
       "  Physicians.per.thousand Population Population..Labor.force.participation....\n",
       "1 0.28                    38,041,754 48.90%                                   \n",
       "2 1.20                    2,854,191  55.70%                                   \n",
       "3 1.72                    43,053,054 41.20%                                   \n",
       "4 3.33                    77,142     NA                                       \n",
       "5 0.21                    31,825,295 77.50%                                   \n",
       "6 2.76                    97,118     NA                                       \n",
       "  Tax.revenue.... Total.tax.rate Unemployment.rate Urban_population Latitude \n",
       "1 9.30%           71.40%         11.12%            9,797,273         33.93911\n",
       "2 18.60%          36.60%         12.33%            1,747,593         41.15333\n",
       "3 37.20%          66.10%         11.70%            31,510,100        28.03389\n",
       "4 NA              NA             NA                67,873            42.50628\n",
       "5 9.20%           49.10%         6.89%             21,061,025       -11.20269\n",
       "6 16.50%          43.00%         NA                23,800            17.06082\n",
       "  Longitude \n",
       "1  67.709953\n",
       "2  20.168331\n",
       "3   1.659626\n",
       "4   1.521801\n",
       "5  17.873887\n",
       "6 -61.796428"
      ]
     },
     "metadata": {},
     "output_type": "display_data"
    }
   ],
   "execution_count": 290
  },
  {
   "cell_type": "code",
   "id": "e6e19e45-b7f3-40ae-b144-a9ae9fff239c",
   "metadata": {
    "ExecuteTime": {
     "end_time": "2024-05-17T21:15:41.416131Z",
     "start_time": "2024-05-17T21:15:41.396719Z"
    }
   },
   "source": [
    "colnames(world_data)"
   ],
   "outputs": [
    {
     "data": {
      "text/html": [
       "<style>\n",
       ".list-inline {list-style: none; margin:0; padding: 0}\n",
       ".list-inline>li {display: inline-block}\n",
       ".list-inline>li:not(:last-child)::after {content: \"\\00b7\"; padding: 0 .5ex}\n",
       "</style>\n",
       "<ol class=list-inline><li>'Country'</li><li>'Density..P.Km2.'</li><li>'Abbreviation'</li><li>'Agricultural.Land....'</li><li>'Land.Area.Km2.'</li><li>'Armed.Forces.size'</li><li>'Birth.Rate'</li><li>'Calling.Code'</li><li>'Capital.Major.City'</li><li>'Co2.Emissions'</li><li>'CPI'</li><li>'CPI.Change....'</li><li>'Currency.Code'</li><li>'Fertility.Rate'</li><li>'Forested.Area....'</li><li>'Gasoline.Price'</li><li>'GDP'</li><li>'Gross.primary.education.enrollment....'</li><li>'Gross.tertiary.education.enrollment....'</li><li>'Infant.mortality'</li><li>'Largest.city'</li><li>'Life.expectancy'</li><li>'Maternal.mortality.ratio'</li><li>'Minimum.wage'</li><li>'Official.language'</li><li>'Out.of.pocket.health.expenditure'</li><li>'Physicians.per.thousand'</li><li>'Population'</li><li>'Population..Labor.force.participation....'</li><li>'Tax.revenue....'</li><li>'Total.tax.rate'</li><li>'Unemployment.rate'</li><li>'Urban_population'</li><li>'Latitude'</li><li>'Longitude'</li></ol>\n"
      ],
      "text/markdown": "1. 'Country'\n2. 'Density..P.Km2.'\n3. 'Abbreviation'\n4. 'Agricultural.Land....'\n5. 'Land.Area.Km2.'\n6. 'Armed.Forces.size'\n7. 'Birth.Rate'\n8. 'Calling.Code'\n9. 'Capital.Major.City'\n10. 'Co2.Emissions'\n11. 'CPI'\n12. 'CPI.Change....'\n13. 'Currency.Code'\n14. 'Fertility.Rate'\n15. 'Forested.Area....'\n16. 'Gasoline.Price'\n17. 'GDP'\n18. 'Gross.primary.education.enrollment....'\n19. 'Gross.tertiary.education.enrollment....'\n20. 'Infant.mortality'\n21. 'Largest.city'\n22. 'Life.expectancy'\n23. 'Maternal.mortality.ratio'\n24. 'Minimum.wage'\n25. 'Official.language'\n26. 'Out.of.pocket.health.expenditure'\n27. 'Physicians.per.thousand'\n28. 'Population'\n29. 'Population..Labor.force.participation....'\n30. 'Tax.revenue....'\n31. 'Total.tax.rate'\n32. 'Unemployment.rate'\n33. 'Urban_population'\n34. 'Latitude'\n35. 'Longitude'\n\n\n",
      "text/latex": "\\begin{enumerate*}\n\\item 'Country'\n\\item 'Density..P.Km2.'\n\\item 'Abbreviation'\n\\item 'Agricultural.Land....'\n\\item 'Land.Area.Km2.'\n\\item 'Armed.Forces.size'\n\\item 'Birth.Rate'\n\\item 'Calling.Code'\n\\item 'Capital.Major.City'\n\\item 'Co2.Emissions'\n\\item 'CPI'\n\\item 'CPI.Change....'\n\\item 'Currency.Code'\n\\item 'Fertility.Rate'\n\\item 'Forested.Area....'\n\\item 'Gasoline.Price'\n\\item 'GDP'\n\\item 'Gross.primary.education.enrollment....'\n\\item 'Gross.tertiary.education.enrollment....'\n\\item 'Infant.mortality'\n\\item 'Largest.city'\n\\item 'Life.expectancy'\n\\item 'Maternal.mortality.ratio'\n\\item 'Minimum.wage'\n\\item 'Official.language'\n\\item 'Out.of.pocket.health.expenditure'\n\\item 'Physicians.per.thousand'\n\\item 'Population'\n\\item 'Population..Labor.force.participation....'\n\\item 'Tax.revenue....'\n\\item 'Total.tax.rate'\n\\item 'Unemployment.rate'\n\\item 'Urban\\_population'\n\\item 'Latitude'\n\\item 'Longitude'\n\\end{enumerate*}\n",
      "text/plain": [
       " [1] \"Country\"                                  \n",
       " [2] \"Density..P.Km2.\"                          \n",
       " [3] \"Abbreviation\"                             \n",
       " [4] \"Agricultural.Land....\"                    \n",
       " [5] \"Land.Area.Km2.\"                           \n",
       " [6] \"Armed.Forces.size\"                        \n",
       " [7] \"Birth.Rate\"                               \n",
       " [8] \"Calling.Code\"                             \n",
       " [9] \"Capital.Major.City\"                       \n",
       "[10] \"Co2.Emissions\"                            \n",
       "[11] \"CPI\"                                      \n",
       "[12] \"CPI.Change....\"                           \n",
       "[13] \"Currency.Code\"                            \n",
       "[14] \"Fertility.Rate\"                           \n",
       "[15] \"Forested.Area....\"                        \n",
       "[16] \"Gasoline.Price\"                           \n",
       "[17] \"GDP\"                                      \n",
       "[18] \"Gross.primary.education.enrollment....\"   \n",
       "[19] \"Gross.tertiary.education.enrollment....\"  \n",
       "[20] \"Infant.mortality\"                         \n",
       "[21] \"Largest.city\"                             \n",
       "[22] \"Life.expectancy\"                          \n",
       "[23] \"Maternal.mortality.ratio\"                 \n",
       "[24] \"Minimum.wage\"                             \n",
       "[25] \"Official.language\"                        \n",
       "[26] \"Out.of.pocket.health.expenditure\"         \n",
       "[27] \"Physicians.per.thousand\"                  \n",
       "[28] \"Population\"                               \n",
       "[29] \"Population..Labor.force.participation....\"\n",
       "[30] \"Tax.revenue....\"                          \n",
       "[31] \"Total.tax.rate\"                           \n",
       "[32] \"Unemployment.rate\"                        \n",
       "[33] \"Urban_population\"                         \n",
       "[34] \"Latitude\"                                 \n",
       "[35] \"Longitude\"                                "
      ]
     },
     "metadata": {},
     "output_type": "display_data"
    }
   ],
   "execution_count": 291
  },
  {
   "cell_type": "code",
   "id": "80513e26-727a-4eae-8cde-84bf8fd1c8e2",
   "metadata": {
    "ExecuteTime": {
     "end_time": "2024-05-17T21:15:41.445585Z",
     "start_time": "2024-05-17T21:15:41.420965Z"
    }
   },
   "source": [
    "data_language <- world_data %>% select(Country, Official.language) "
   ],
   "outputs": [
    {
     "ename": "ERROR",
     "evalue": "Error in select(., Country, Official.language): unused arguments (Country, Official.language)\n",
     "output_type": "error",
     "traceback": [
      "Error in select(., Country, Official.language): unused arguments (Country, Official.language)\nTraceback:\n",
      "1. world_data %>% select(Country, Official.language)"
     ]
    }
   ],
   "execution_count": 292
  },
  {
   "cell_type": "code",
   "id": "19466fa9-421a-4ac2-80ce-ab047021653d",
   "metadata": {},
   "source": [
    "data_language_renamed <- data_language %>% rename(geo = Country, language = Official.language)"
   ],
   "outputs": [],
   "execution_count": null
  },
  {
   "cell_type": "code",
   "id": "551a0d1e-7b24-4d64-b620-a833a9118557",
   "metadata": {},
   "source": [
    "data_currency <- world_data %>% select(Country, Currency.Code) "
   ],
   "outputs": [],
   "execution_count": null
  },
  {
   "cell_type": "code",
   "id": "c02ac1b9-7984-496f-8437-f30060189361",
   "metadata": {},
   "source": [
    "data_currency_renamed <- data_currency %>% rename(geo = Country, currency = Currency.Code)"
   ],
   "outputs": [],
   "execution_count": null
  },
  {
   "cell_type": "code",
   "id": "1b3df550-4e2f-417d-9ca7-88fde88f2217",
   "metadata": {},
   "source": [
    "summary(data_language_renamed)"
   ],
   "outputs": [],
   "execution_count": null
  },
  {
   "cell_type": "code",
   "id": "4c7369a5-f599-4b6a-ae38-115465fe7302",
   "metadata": {},
   "source": [
    "summary(data_currency_renamed)"
   ],
   "outputs": [],
   "execution_count": null
  },
  {
   "cell_type": "code",
   "id": "ca031fcd-ab2c-461f-8e61-13143431a230",
   "metadata": {},
   "source": [
    "data3 <- merge(data_hdp_renamed, data_language_renamed, by = \"geo\")\n",
    "data4 <- merge(data3, data_currency_renamed, by = \"geo\")"
   ],
   "outputs": [],
   "execution_count": null
  },
  {
   "cell_type": "code",
   "id": "92ddc4ac-2bf3-4852-b5d1-c88f49997f8a",
   "metadata": {
    "scrolled": true
   },
   "source": [
    "head(data4)"
   ],
   "outputs": [],
   "execution_count": null
  },
  {
   "cell_type": "code",
   "id": "7b131374-4261-4378-8af4-ae7bc197b81a",
   "metadata": {},
   "source": [
    "#  1 - German, 0 - anything else\n",
    "data4$language_cat <- ifelse(data4$language == \"German\", 1, 0)\n",
    "\n",
    "# 1 - EUR, 0 - anything else\n",
    "data4$currency_cat <- ifelse(data4$currency == \"EUR\", 1, 0)\n",
    "\n",
    "print(head(data4))"
   ],
   "outputs": [],
   "execution_count": null
  },
  {
   "cell_type": "code",
   "id": "c28c9fa5-6216-447b-b37a-2fca5902b8a9",
   "metadata": {},
   "source": [
    "data4$currency_cat[is.na(data4$currency_cat)] <- 0"
   ],
   "outputs": [],
   "execution_count": null
  },
  {
   "cell_type": "code",
   "id": "4ee2cdaa-5c82-4ef0-8e65-b4550b8f3858",
   "metadata": {},
   "source": [
    "library(ggplot2)\n",
    "library(dplyr)\n",
    "\n",
    "# Create new categories for labels\n",
    "data4 <- data4 %>%\n",
    "  mutate(language_label = ifelse(language_cat == 1, \"German\", \"Else\"),\n",
    "         currency_label = ifelse(currency_cat == 1, \"EUR\", \"Else\"))\n",
    "\n",
    "# Summarize data for language pie chart\n",
    "language_counts <- data4 %>%\n",
    "  count(language_label) %>%\n",
    "  mutate(percentage = n / sum(n) * 100,\n",
    "         label = paste0(language_label, \" (\", round(percentage, 1), \"%)\"))\n",
    "\n",
    "# Define custom colors for languages\n",
    "language_colors <- c(\"German\"=\"#FCFFE0\", \"Else\"=\"#FFA500\")\n",
    "# Update names based on your labels\n",
    "language_colors <- setNames(language_colors[names(language_colors)], language_counts$label)\n",
    "\n",
    "# Language pie chart\n",
    "ggplot(language_counts, aes(x = \"\", y = n, fill = label)) +\n",
    "  geom_bar(width = 1, stat = \"identity\", color = \"black\") +\n",
    "  coord_polar(theta = \"y\") +\n",
    "  labs(title = \"Distribution of Languages\") +\n",
    "  theme_minimal() +\n",
    "  theme(axis.title = element_blank(),\n",
    "        axis.text = element_blank(),\n",
    "        axis.ticks = element_blank(),\n",
    "        plot.title = element_text(size = 20, face = \"bold\"),\n",
    "        legend.title = element_blank(),\n",
    "        legend.text = element_text(size = 12)) +\n",
    "  scale_fill_manual(values = language_colors) # Custom colors\n",
    "\n",
    "# Summarize data for currency pie chart\n",
    "currency_counts <- data4 %>%\n",
    "  count(currency_label) %>%\n",
    "  mutate(percentage = n / sum(n) * 100,\n",
    "         label = paste0(currency_label, \" (\", round(percentage, 1), \"%)\"))\n",
    "\n",
    "# Define custom colors for currencies\n",
    "currency_colors <- c(\"EUR\"=\"#FCFFE0\", \"Else\"=\"#FFA500\")\n",
    "# Update names based on labels\n",
    "currency_colors <- setNames(currency_colors[names(currency_colors)], currency_counts$label)\n",
    "\n",
    "# Currency pie chart\n",
    "ggplot(currency_counts, aes(x = \"\", y = n, fill = label)) +\n",
    "  geom_bar(width = 1, stat = \"identity\", color = \"black\") +\n",
    "  coord_polar(theta = \"y\") +\n",
    "  labs(title = \"Distribution of Currencies\") +\n",
    "  theme_minimal() +\n",
    "  theme(axis.title = element_blank(),\n",
    "        axis.text = element_blank(),\n",
    "        axis.ticks = element_blank(),\n",
    "        plot.title = element_text(size = 20, face = \"bold\"),\n",
    "        legend.title = element_blank(),\n",
    "        legend.text = element_text(size = 12)) +\n",
    "  scale_fill_manual(values = currency_colors) # Custom colors"
   ],
   "outputs": [],
   "execution_count": null
  },
  {
   "cell_type": "code",
   "id": "279ea4c4-4c01-48f0-ac5c-44eb3fe3a340",
   "metadata": {},
   "source": [
    "table_language_currency <- table(data4$language, data4$currency)\n",
    "\n",
    "# Fisher's test\n",
    "fisher_test <- fisher.test(table_language_currency)\n",
    "print(fisher_test)"
   ],
   "outputs": [],
   "execution_count": null
  },
  {
   "cell_type": "markdown",
   "id": "ec60d5c3-0842-4031-bf86-dff84c32b1fe",
   "metadata": {},
   "source": [
    "Výsledky Fisherova přesného testu s p-hodnotou 1.375e-11 ukazují, že mezi jazykem a měnou existuje statisticky významná závislost."
   ]
  },
  {
   "cell_type": "markdown",
   "id": "b261de11-9e5b-4522-8f5a-c214797ead4f",
   "metadata": {},
   "source": [
    "## ✭ Úloha 3\n",
    "\n",
    "Pomocí lineárního regresního modelu zkoumejme závislost HDP na všech regresorech.\n",
    "\n",
    "### ✦ Průměrný věk a hustota zalidnění"
   ]
  },
  {
   "cell_type": "code",
   "id": "2f777a5d-ddba-477e-b98c-a94bf48d8f5d",
   "metadata": {},
   "source": [
    "model1 <- lm(hdp ~ age + density, data = data2)\n",
    "summary(model1)"
   ],
   "outputs": [],
   "execution_count": null
  },
  {
   "cell_type": "markdown",
   "id": "c0c9ce6b-f4d1-4f38-aaaf-2b6bfcff082f",
   "metadata": {},
   "source": [
    "#### ❀ Interpretace hodnot odhadů regresních koeficientů\n",
    "**Intercept** představuje odhadovanou střední hodnotu závislé proměnné (hdp), pokud jsou všechny nezávislé proměnné (age a density) nulové. V tomto případě je intercept -17192,40, ale není statisticky významný, protože p-hodnota (0,794) je větší než zvolená hladina významnosti (např. 0,05). Proto není vhodné interpretovat intercept v tomto modelu.\n",
    "\n",
    "**Age** má koeficient 1120,52. To znamená, že při zachování ostatních proměnných se s každou jednotkou zvýšení věku odhadovaná hodnota hdp zvýší o 1120,52 jednotky. Koeficient však není statisticky významný (p-hodnota = 0,489 > 0,05), což naznačuje, že věk nemá v tomto modelu významný lineární vztah s hdp.\n",
    "\n",
    "**Density** má koeficient 13.14. To znamená, že při zachování ostatních proměnných se při každém jednotkovém zvýšení hustoty odhadovaná hodnota hdp zvýší o 13,14 jednotky. Podobně jako u proměnné věk není koeficient pro hustotu statisticky významný (p-hodnota = 0,533 > 0,05), což naznačuje, že hustota nemusí mít v tomto modelu významný lineární vztah s hdp.\n",
    "\n",
    "#### ❀ Kvalita modelu\n",
    "První model je regrese založená na HDP a věku/hustotě zalidnění. Koeficient determinace (Multiple R-squared) je 0,02827, což je hodnota blízká nule; to znamená, že pouze 2,83 % rozptylu závislé proměnné (HDP) je vysvětleno nezávislými proměnnými (věk a hustota). V nejhorším případě bude mít model 𝑅2 = 0, a nejsme od toho daleko. Adjustovaný koeficient determinace je ještě nižší a činí -0,03063 (jeho hodnota bude vždy menší nebo rovna hodnotě 𝑅2). Hodnota menší než 0 opět znamená, že model nemá žádnou vypovídací hodnotu.\n",
    "\n",
    "F-statistika testuje celkovou významnost regresního modelu. Hodnota F-statistiky se porovnává s prahovou hodnotou, která je odvozena z F-rozdělení. Výsledek testu se zjišťuje pomocí p-hodnoty, která je v našém případě 0.623, což je vyšší než běžná hladina významnosti 0.05. To znamená, že nemáme dostatečné statistické důkazy k závěru, že alespoň jedna z nezávislých proměnných má statisticky významný vliv na závislou proměnnou. Takže F-statistika není statisticky významná a regresní model jako celek taky není významný.\n",
    "\n",
    "#### ❀ Analýza reziduí\n",
    "\n",
    "Zajímájí nás především **průměr reziduí** (ideálně hodnota okolo nuly) a **normalita reziduí** (pomocí testu normality)."
   ]
  },
  {
   "cell_type": "code",
   "id": "d248bc92-a3dc-4c0a-bd8e-610047cb51fd",
   "metadata": {},
   "source": [
    "# Histogram of residuals\n",
    "ggplot(data = data.frame(residuals = resid(model1)), aes(x = residuals)) +\n",
    "  geom_histogram(binwidth=10000, fill = \"#BACD92\", color = \"black\") +\n",
    "  labs(title = \"Histogram of Residuals\",\n",
    "       x = \"Residuals\",\n",
    "       y = \"Frequency\") +\n",
    "  theme_minimal() +\n",
    "  theme(plot.title = element_text(size = 20, face = \"bold\"),\n",
    "        axis.text = element_text(size = 12),\n",
    "        axis.title = element_text(size = 14))\n",
    "\n",
    "# Q-Q plot of residuals\n",
    "ggplot(data = data.frame(residuals = resid(model1)), aes(sample = residuals)) +\n",
    "  stat_qq() +\n",
    "  stat_qq_line() +\n",
    "  labs(title = \"Q-Q Plot of Residuals\",\n",
    "       x = \"Theoretical Quantiles\",\n",
    "       y = \"Sample Quantiles\") +\n",
    "  theme_minimal() +\n",
    "  theme(plot.title = element_text(size = 20, face = \"bold\"),\n",
    "        axis.text = element_text(size = 12),\n",
    "        axis.title = element_text(size = 14))\n",
    "\n",
    "# Plot of residuals vs fitted values\n",
    "ggplot(data = data.frame(fitted_values = fitted(model1), residuals = resid(model1)), \n",
    "                              aes(x = fitted_values, y = residuals)) +\n",
    "  geom_point(fill = \"#FCFFE0\", color = \"black\") +\n",
    "  labs(title = \"Residuals vs Fitted Values\",\n",
    "       x = \"Fitted Values\",\n",
    "       y = \"Residuals\") +\n",
    "  theme_minimal() +\n",
    "  theme(plot.title = element_text(size = 20, face = \"bold\"),\n",
    "        axis.text = element_text(size = 12),\n",
    "        axis.title = element_text(size = 14))"
   ],
   "outputs": [],
   "execution_count": null
  },
  {
   "cell_type": "code",
   "id": "0d88621b-d86b-4c37-a9e6-8e6b685d6ace",
   "metadata": {},
   "source": [
    "# Calculate mean of residuals\n",
    "mean_residuals <- mean(resid(model1))\n",
    "print(mean_residuals)\n",
    "\n",
    "# Normality of residuals: Shapiro-Wilk test\n",
    "shapiro_test <- shapiro.test(resid(model1))\n",
    "normality <- ifelse(shapiro_test$p.value >= 0.05, \"Normally distributed\", \"Not normally distributed\")\n",
    "print(normality)"
   ],
   "outputs": [],
   "execution_count": null
  },
  {
   "cell_type": "markdown",
   "id": "d4a3e04b-d25a-4fac-8a28-3b887d26bf51",
   "metadata": {},
   "source": [
    "Průměr reziduí je hodnota velmi blízká nule, což znamená, že rezidua jsou v průměru soustředěna kolem nuly, což je pro rezidua lineárního regresního modelu žádoucí vlastnost.\n",
    "\n",
    "Výsledky Shapiro-Wilkova testu ukazují, že p-hodnota je nižší než hladina významnosti 0,05. Proto zamítáme nulovou hypotézu o normalitě, což znamená, že rezidua nejsou normálně rozdělena.\n",
    "\n",
    "#### ❀ Odlehlá pozorování a multikolinearita\n",
    "\n",
    "Odlehlé hodnoty identifikujeme pomocí Cookovy vzdálenosti. Multikolinearitu zkoumáme pomocí VIF a korelační matice."
   ]
  },
  {
   "cell_type": "code",
   "id": "c0c41544-2bb6-48d8-a248-43954b08ed95",
   "metadata": {},
   "source": [
    "# Identify outliers\n",
    "# Residual Analysis\n",
    "plot(fitted(model1), resid(model1), main = \"Residuals vs Fitted Values\", xlab = \"Fitted Values\", ylab = \"Residuals\")\n",
    "\n",
    "# Leverage-Residual plot\n",
    "plot(hatvalues(model1), rstandard(model1), main = \"Leverage vs Standardized Residuals\", xlab = \"Leverage\", ylab = \"Standardized Residuals\")\n",
    "\n",
    "# Cook's distance\n",
    "cooks_dist <- cooks.distance(model1)\n",
    "plot(cooks_dist, pch = 19, main = \"Cook's Distance\", xlab = \"Observation\", ylab = \"Cook's Distance\")\n",
    "abline(h = 4/length(cooks_dist), col = \"red\")  # Highlight a threshold for influential observations"
   ],
   "outputs": [],
   "execution_count": null
  },
  {
   "metadata": {},
   "cell_type": "code",
   "source": [
    "# Explore multicollinearity using VIF\n",
    "vif_values <- vif(model1)\n",
    "print(\"VIF values:\")\n",
    "print(vif_values)\n",
    "\n",
    "# Correlation matrix\n",
    "correlation_matrix <- cor(data2[, c(\"age\", \"density\")])\n",
    "print(\"Correlation Matrix:\")\n",
    "print(correlation_matrix)"
   ],
   "id": "15d5ddd821b78d35",
   "outputs": [],
   "execution_count": null
  },
  {
   "cell_type": "markdown",
   "id": "279737e0-3702-4f83-b2d7-272297f9c661",
   "metadata": {},
   "source": [
    "**VIF (Variance Inflation Factor)**  je míra používaná ke zjištění přítomnosti a závažnosti multikolinearity v regresní analýze. K multikolinearitě dochází, když jsou dvě nebo více predikčních proměnných v regresním modelu vysoce korelované, což znamená, že jednu predikční proměnnou lze lineárně předpovědět z ostatních se značnou mírou přesnosti. To může způsobit problémy, protože to oslabuje statistickou významnost predikčních proměnných. V našem případě jsou hodnoty VIF pro \"age\" i \"density\" přibližně 1. To znamená, že mezi těmito predikčními proměnnými neexistuje významná multikolinearita.\n",
    "\n",
    "**Korelační matice** ukazuje párové korelační koeficienty mezi predikčními proměnnými. Korelační koeficient 1 nebo -1 znamená dokonalou pozitivní, resp. negativní korelaci. Korelační koeficient blízký 0 naznačuje, že mezi proměnnými neexistuje lineární korelace.\n",
    "V našem výstupu není k dispozici korelační koeficient mezi \"age\" a \"density\" (NA). To znamená, že mezi těmito dvěma proměnnými neexistuje žádná korelace.\n",
    "\n",
    "Otestujeme předpoklady modelu - pokud nebudou splněny, vyvíjíme a otestujeme metody, které toto selhání kompenzují nebo předpoklady odstraňují. Na to použijeme ANOVA test rozptylu. Stanovíme příslušné hypotézy.\n",
    "\n",
    "**● Proměnná \"age\"**\n",
    "\n",
    "$H_0:$ Koeficient proměnné \"age\" v regresním modelu je roven nule.\n",
    "\n",
    "$H_A:$ Koeficient proměnné \"age\" v regresním modelu není roven nule (což naznačuje významný vliv na závislou proměnnou).\n",
    "\n",
    "**● Proměnná \"density\"**\n",
    "\n",
    "$H_0:$ Koeficient proměnné \"density\" v regresním modelu je roven nule.\n",
    "\n",
    "$H_A:$ Koeficient proměnné \"density\" v regresním modelu není roven nule (což naznačuje významný vliv na závislou proměnnou)."
   ]
  },
  {
   "cell_type": "code",
   "id": "35ca594e-f53e-4125-9228-101ed6650d0e",
   "metadata": {},
   "source": [
    "# Fit the linear regression model\n",
    "model1 <- lm(hdp ~ age + density, data = data2)\n",
    "\n",
    "# Perform ANOVA test\n",
    "anova_result <- anova(model1)\n",
    "\n",
    "# Print ANOVA table\n",
    "print(anova_result)"
   ],
   "outputs": [],
   "execution_count": null
  },
  {
   "cell_type": "markdown",
   "id": "9273d22b-f663-496b-95f8-a04d20243277",
   "metadata": {},
   "source": [
    "Na základě výsledků ANOVA vyvozujeme závěry.\n",
    "\n",
    "Proměnná \"age\": p-hodnota (0,4581) je vyšší než zvolená hladina významnosti (0,05). Nulovou hypotézu pro „věk“ tedy nezamítáme. Není dostatek důkazů pro závěr, že věk má významný vliv na HDP.\n",
    "\n",
    "Proměnná \"density\": p-hodnota (0.5333) je opět vyšší než zvolená hladina významnosti. Proto nezamítáme nulovou hypotézu ani pro hustotu. Neexistuje dostatek důkazů pro závěr, že hustota má významný vliv na HDP.\n",
    "\n",
    "Na základě výsledků testu ANOVA se zdá, že ani věk, ani hustota zalidnění nejsou významnými prediktory HDP v tomto regresním modelu.\n",
    "\n",
    "Nyní nakreslíme grafy, které odhalí vztah mezi závislou proměnnou HDP a proměnnými age/density."
   ]
  },
  {
   "cell_type": "code",
   "id": "e398c386-4fbb-4e05-af09-6342626e2f68",
   "metadata": {},
   "source": [
    "# HDP/Age\n",
    "ggplot(data2, aes(x = age, y = hdp)) +\n",
    "  geom_point() +\n",
    "  geom_smooth(method = \"lm\", col = \"#75A47F\") +\n",
    "  labs(title = \"Relationship between HDP and age\",\n",
    "       x = \"Average age of the population\",\n",
    "       y = \"HDP\") +\n",
    "  theme_minimal() +\n",
    "  theme(plot.title = element_text(size = 20, face = \"bold\"),  # Caption size and style\n",
    "        axis.text = element_text(size = 12),  # Text size on axes\n",
    "        axis.title = element_text(size = 14),  # Size of axis labels\n",
    "        axis.text.x = element_text(angle = 45, hjust = 1))  # Rotate and align x-axis labels\n",
    "\n",
    "# HDP/Density\n",
    "ggplot(data2, aes(x = density, y = hdp)) +\n",
    "  geom_point() +\n",
    "  geom_smooth(method = \"lm\", col = \"#75A47F\") +\n",
    "  labs(title = \"Relationship between HDP and density\",\n",
    "       x = \"Density\",\n",
    "       y = \"HDP\") +\n",
    "  theme_minimal() +\n",
    "  theme(plot.title = element_text(size = 20, face = \"bold\"),  # Caption size and style\n",
    "        axis.text = element_text(size = 12),  # Text size on axes\n",
    "        axis.title = element_text(size = 14),  # Size of axis labels\n",
    "        axis.text.x = element_text(angle = 45, hjust = 1))  # Rotate and align x-axis labels"
   ],
   "outputs": [],
   "execution_count": null
  },
  {
   "cell_type": "markdown",
   "id": "876b7e31-adaf-44e1-a852-44636d05a2c9",
   "metadata": {},
   "source": [
    "Grafy ukazují, že i když existuje pozitivní trend mezi průměrným věkem obyvatelstva a HDP, a negativní trend mezi hustotou obyvatelstva a HDP, oba tyto vztahy nejsou statisticky významné, což potvrzují analýzy regresních modelů.\n",
    "\n",
    "### ✦ Jazyk a měna"
   ]
  },
  {
   "cell_type": "markdown",
   "id": "2666941c-4241-4b39-b37a-c4506229e201",
   "metadata": {},
   "source": [
    "U kategoriální a spojité proměnné lze multikolinearitu měřit pomocí t-testu (pokud má kategoriální proměnná 2 kategorie) nebo ANOVA (pokud má více než 2 kategorie). ANOVA test stejně potřebujeme při zkoumání hypotéz, takže pustíme se do toho."
   ]
  },
  {
   "metadata": {},
   "cell_type": "code",
   "source": [
    "model2 <- lm(hdp ~ language_cat + currency_cat, data = data4)\n",
    "summary(model2)"
   ],
   "id": "fd5c0fdb-34e3-4469-8ad2-e6e27a63067c",
   "outputs": [],
   "execution_count": null
  },
  {
   "metadata": {},
   "cell_type": "markdown",
   "source": [
    "#### ❀ Interpretace hodnot odhadů regresních koeficientů\n",
    "**Intercept** má hodnotu 28,472, což je statisticky významné, protože p-hodnota je 9.08e-05, což je mnohem nižší než obvyklá hladina významnosti 0.05. To naznačuje, že průměrná hodnota závislé proměnné je statisticky odlišná od nuly, když jsou všechny nezávislé proměnné nulové.\n",
    "\n",
    "**Regresní koeficienty pro jazyk (Language)** , který činí 50,194, naznačuje, že HDP je statisticky významně vyšší pro kategorie označené jako language_cat. Vysoká statistická významnost tohoto koeficientu, podpořená p-hodnotou 0.000767, ukazuje na silný vliv jazyka na HDP v těchto kategoriích.\n",
    "\n",
    "**Regresní koeficienty pro měnu (Currency)** je -6,878, což signalizuje, že HDP je nižší pro kategorie pod currency_cat. Avšak s p-hodnotou 0.429333 tento koeficient není statisticky významný, což naznačuje, že vliv měny na HDP není statisticky podložený a může být ovlivněn jinými faktory nebo šumem v datech.\n",
    "\n",
    "#### ❀ Kvalita modelu\n",
    "Model regresní analýzy, zkoumající vztah mezi HDP a proměnnými language_cat a currency_cat, vykazuje koeficient determinace R2=0,3123R2=0,3123, což znamená, že model vysvětluje přibližně 31.23% variability závislé proměnné HDP. Nicméně, upravený koeficient determinace, který bere v úvahu počet prediktorů a velikost vzorku, je pouze 0,2693. Toto relativně nízké číslo může naznačovat, že přidané prediktory nepřispívají významně k vysvětlení variability HDP a model může být přeučený.\n",
    "\n",
    "F-statistika, která testuje celkovou významnost modelu, má hodnotu 7.265 na 2 a 32 stupních volnosti s p-hodnotou 0.002504. Ačkoliv tato p-hodnota naznačuje, že model jako celek má statisticky významný přínos k vysvětlení variability HDP, je třeba být opatrný vzhledem k nízkému upravenému R2R2 a potenciálnímu přeučení. Rozdíly v p-hodnotách mezi F-statistikou a individuálními koeficienty také ukazují na možnou nekonzistenci ve významnosti jednotlivých prediktorů ve srovnání s celkovým modelem.\n",
    "\n",
    "#### ❀ Analýza reziduí\n",
    "\n",
    "Analyzujeme stejná kritéria jako v prvním modelu."
   ],
   "id": "3d63f6ff-4fbb-4362-8884-6265a4f8d751"
  },
  {
   "metadata": {},
   "cell_type": "code",
   "source": [
    "# Histogram of residuals\n",
    "ggplot(data = data.frame(residuals = resid(model2)), aes(x = residuals)) +\n",
    "  geom_histogram(binwidth = 10000, fill = \"#BACD92\", color = \"black\") +\n",
    "  labs(title = \"Histogram of Residuals\",\n",
    "       x = \"Residuals\",\n",
    "       y = \"Frequency\") +\n",
    "  theme_minimal() +\n",
    "  theme(plot.title = element_text(size = 20, face = \"bold\"),\n",
    "        axis.text = element_text(size = 12),\n",
    "        axis.title = element_text(size = 14))\n",
    "\n",
    "# Q-Q plot of residuals\n",
    "ggplot(data = data.frame(residuals = resid(model2)), aes(sample = residuals)) +\n",
    "  stat_qq() +\n",
    "  stat_qq_line() +\n",
    "  labs(title = \"Q-Q Plot of Residuals\",\n",
    "       x = \"Theoretical Quantiles\",\n",
    "       y = \"Sample Quantiles\") +\n",
    "  theme_minimal() +\n",
    "  theme(plot.title = element_text(size = 20, face = \"bold\"),\n",
    "        axis.text = element_text(size = 12),\n",
    "        axis.title = element_text(size = 14))\n",
    "\n",
    "# Plot of residuals vs fitted values\n",
    "ggplot(data = data.frame(fitted_values = fitted(model2), residuals = resid(model2)), \n",
    "                              aes(x = fitted_values, y = residuals)) +\n",
    "  geom_point(fill = \"#FCFFE0\", color = \"black\") +\n",
    "  labs(title = \"Residuals vs Fitted Values\",\n",
    "       x = \"Fitted Values\",\n",
    "       y = \"Residuals\") +\n",
    "  theme_minimal() +\n",
    "  theme(plot.title = element_text(size = 20, face = \"bold\"),\n",
    "        axis.text = element_text(size = 12),\n",
    "        axis.title = element_text(size = 14))"
   ],
   "id": "41378b89-b30c-4a17-bac1-457484ec9466",
   "outputs": [],
   "execution_count": null
  },
  {
   "metadata": {},
   "cell_type": "code",
   "source": [
    "# Calculate mean of residuals\n",
    "mean_residuals <- mean(resid(model2))\n",
    "print(mean_residuals)\n",
    "\n",
    "# Normality of residuals: Shapiro-Wilk test\n",
    "shapiro_test <- shapiro.test(resid(model2))\n",
    "normality <- ifelse(shapiro_test$p.value >= 0.05, \"Normally distributed\", \"Not normally distributed\")\n",
    "print(normality)"
   ],
   "id": "ad97cffe-f5e2-414f-808d-701ec5877dd8",
   "outputs": [],
   "execution_count": null
  },
  {
   "metadata": {},
   "cell_type": "markdown",
   "source": [
    "Průměr reziduí v našem modelu je přibližně 2.333118e-13, což je velmi blízko nule. To naznačuje, že v průměru jsou rezidua soustředěna kolem nuly, což je obecně dobré znamení v regresní analýze, jelikož ukazuje, že model nemá systematickou chybu ve svých predikcích.\n",
    "\n",
    "Nicméně, výsledky Shapiro-Wilkova testu na normalitu reziduí ukazují, že p-hodnota je nižší než 0.05. Tento výsledek nás vede k zamítnutí nulové hypotézy o normalitě rozdělení reziduí. Dospíváme tedy k závěru, že rezidua nejsou normálně rozdělena, což může mít dopad na výsledky některých statistických testů, které předpokládají normalitu reziduí pro plnou validitu svých inferencí.\n",
    "\n",
    "#### ❀ Odlehlá pozorování a multikolinearita\n",
    "\n",
    "Analogicky jako v prvním modelu."
   ],
   "id": "fafde4c2-8067-4236-9005-f64e440f1b04"
  },
  {
   "metadata": {},
   "cell_type": "code",
   "source": [
    "# Identify outliers\n",
    "# Residual Analysis\n",
    "plot(fitted(model2), resid(model2), main = \"Residuals vs Fitted Values\", xlab = \"Fitted Values\", ylab = \"Residuals\")\n",
    "\n",
    "# Leverage-Residual plot\n",
    "plot(hatvalues(model2), rstandard(model2), main = \"Leverage vs Standardized Residuals\", xlab = \"Leverage\", ylab = \"Standardized Residuals\")\n",
    "\n",
    "# Cook's distance\n",
    "cooks_dist <- cooks.distance(model2)\n",
    "plot(cooks_dist, pch = 19, main = \"Cook's Distance\", xlab = \"Observation\", ylab = \"Cook's Distance\")\n",
    "abline(h = 4/length(cooks_dist), col = \"#75A47F\")  # Highlight a threshold for influential observations"
   ],
   "id": "919da483-30f3-4063-873a-742178bf679f",
   "outputs": [],
   "execution_count": null
  },
  {
   "metadata": {},
   "cell_type": "code",
   "source": [
    "# Explore multicollinearity\n",
    "\n",
    "# Correlation matrix\n",
    "cor_matrix <- cor(data4[c(\"language_cat\", \"currency_cat\")])\n",
    "print(cor_matrix)"
   ],
   "id": "baa9a53ac4c96d83",
   "outputs": [],
   "execution_count": null
  },
  {
   "metadata": {},
   "cell_type": "code",
   "source": [
    "# Fit the model\n",
    "model2 <- lm(hdp ~ language_cat + currency_cat, data = data4)\n",
    "\n",
    "# Calculate VIF\n",
    "vif_values <- vif(model2)\n",
    "\n",
    "# Interpretation\n",
    "if(any(vif_values > 5)){\n",
    "  print(\"Potential multicollinearity problem detected.\")\n",
    "} else {\n",
    "  print(\"No significant multicollinearity detected.\")\n",
    "}"
   ],
   "id": "157b8bec827548c2",
   "outputs": [],
   "execution_count": null
  },
  {
   "metadata": {},
   "cell_type": "markdown",
   "source": [
    "**VIF** v tomto případě leží v intervalu (1, 5), což znamená, že predikční proměnné jsou do jisté míry korelované, ale míra multikolinearity není natolik závažná, aby významně ovlivnila odhady regresních koeficientů.\n",
    "\n",
    "**Korelační matice**  ukazuje, že neexistuje žádný významný lineární vztah mezi language_cat a currency_cat.\n",
    "\n",
    "Otestujeme předpoklady modelu pomoci ANOVA testu. Stanovíme příslušné hypotézy.\n",
    "\n",
    "**● Proměnná \"language\"**\n",
    "\n",
    "$H_0:$ Proměnná \"language\" nemá významný vliv na proměnnou \"HDP\".\n",
    "\n",
    "$H_A:$ Alespoň jedna z kategorie proměnné \"language\" má významný vliv na proměnnou \"HDP\".\n",
    "\n",
    "**● Proměnná \"currency\"**\n",
    "\n",
    "$H_0:$ Proměnná \"currency\" nemá významný vliv na proměnnou \"HDP\".\n",
    "\n",
    "$H_A:$ Alespoň jedna z kategorie proměnné \"currency\" má významný vliv na proměnnou \"HDP\"."
   ],
   "id": "b27043061932d6ac"
  },
  {
   "cell_type": "code",
   "id": "447b8ff9-8118-4c20-a98a-e837ba7d4f06",
   "metadata": {},
   "source": [
    "# Perform ANOVA test\n",
    "anova_result <- anova(model2)\n",
    "\n",
    "# Print ANOVA table\n",
    "print(anova_result)"
   ],
   "outputs": [],
   "execution_count": null
  },
  {
   "cell_type": "markdown",
   "id": "b28c78ac-767d-4d45-9bd7-b85e3a6c7260",
   "metadata": {},
   "source": [
    "Výsledky ANOVA testu ukazují následující:\n",
    "\n",
    "Proměnná \"language\": p-hodnota je 0,4828, což je více než hladina významnosti 0,05. Nulovou hypotézu tedy nezamítáme. Z toho vyplývá, že kategorie jazyka nemají významný vliv na HDP.\n",
    "\n",
    "Proměnná \"currency\": p-hodnota je 0.1091, která je yase větší než 0,05. Nulovou hypotézu tedy nezamítáme ani v případě měny. To znamená, že kategorie měny nemají na HDP žádný významný vliv.\n",
    "\n",
    "A opět dva grafy, které ukazují vztah mezi HDP a (tentokrát) jazykem/měnou."
   ]
  },
  {
   "metadata": {},
   "cell_type": "code",
   "source": [
    "# Box plot for HDP/language with separate categories\n",
    "ggplot(data4, aes(x = factor(language_cat), y = hdp)) +\n",
    "  geom_boxplot() +\n",
    "  labs(title = \"HDP vs Language Category\",\n",
    "       x = \"Language Category (1 = German, 0 = Other)\",\n",
    "       y = \"HDP\") +\n",
    "  theme_minimal()"
   ],
   "id": "bd006574d4cf2f9f",
   "outputs": [],
   "execution_count": null
  },
  {
   "metadata": {},
   "cell_type": "markdown",
   "source": [
    "**Medián HDP** v zemích, kde je hlavním jazykem němčina, je vyšší než medián HDP v zemích, kde hlavním jazykem není němčina.\n",
    "\n",
    "**IQR (výška rámečku)** pro obě jazykové kategorie ukazuje rozpětí středních 50 % hodnot HDP. U neněmecky mluvících zemí je IQR užší, což ukazuje na menší variabilitu HDP. U německy mluvících zemí je IQR širší, což naznačuje větší variabilitu HDP mezi těmito zeměmi.\n",
    "\n",
    "V neněmecky mluvících zemích je nápadná **odlehlá hodnota**, která představuje zemi s neobvykle vysokým HDP ve srovnání s ostatními zeměmi v této skupině. Skupina německy mluvících zemí nemá tak extrémní **odlehlé hodnoty**, což naznačuje větší konzistenci mezi vysokými hodnotami HDP.\n",
    "\n",
    "Skupina německých zemí má celkově širší **distribuce** hodnot HDP ve srovnání se skupinou neněmeckých zemí. Horní whisker pro německé země se rozšiřuje výše, což znamená, že nejvýkonnější země v této skupině mají vyšší hodnoty HDP ve srovnání s nejvýkonnějšími zeměmi ve skupině neněmeckých zemí.\n",
    "\n",
    "**Závěr**: v zemích, kde je němčina hlavním jazykem, jsou hodnoty HDP v průměru vyšší než v zemích, kde němčina hlavním jazykem není. Mezi německy mluvícími zeměmi je také větší variabilita hodnot HDP, což naznačuje širší škálu ekonomických podmínek v těchto zemích. Neněmecky mluvící země mají tendenci vykazovat konzistentnější, i když obecně nižší hodnoty HDP, s jednou výraznou odchylkou. Tato pozorování naznačují, že primární jazyk (ať už německý, nebo jiný) je spojen s rozdíly v hodnotách HDP, přičemž německy mluvící země mají obecně vyšší HDP, ale také vykazují větší variabilitu. To může být způsobeno různými socioekonomickými faktory specifickými pro německy mluvící země."
   ],
   "id": "be73e76819c33b34"
  },
  {
   "metadata": {},
   "cell_type": "code",
   "source": [
    "# Box plot for HDP/currency with separate categories\n",
    "ggplot(data4, aes(x = factor(currency_cat), y = hdp)) +\n",
    "  geom_boxplot() +\n",
    "  labs(title = \"HDP vs Language Category\",\n",
    "       x = \"Currency Category (1 = Euro, 0 = Other)\",\n",
    "       y = \"HDP\") +\n",
    "  theme_minimal()"
   ],
   "id": "384cc70f5bd45764",
   "outputs": [],
   "execution_count": null
  },
  {
   "cell_type": "markdown",
   "id": "36bc743d-807c-4481-bd04-c5d402b5daf5",
   "metadata": {},
   "source": [
    "**Medián HDP** je vyšší v zemích používajících euro ve srovnání se zeměmi používajícími jiné měny.\n",
    "\n",
    "**IQR (výška rámečku)** je užší u zemí platících eurem, což naznačuje menší variabilitu HDP mezi těmito zeměmi ve srovnání s ostatními.\n",
    "\n",
    "V obou kategoriích se vyskytují výrazné **odlehlé hodnoty**, zejména však mezi zeměmi nepoužívajícími euro, což naznačuje, že některé země mají mimořádně vysoké hodnoty HDP.\n",
    "\n",
    "HDP v zemích, které nepoužívají euro, se pohybuje v širším **rozmezí**, což naznačuje větší rozdíly v ekonomických podmínkách mezi těmito zeměmi.\n",
    "\n",
    "**Závěr**: Země používající euro mají tendenci vykazovat vyšší a konzistentnější hodnoty HDP ve srovnání se zeměmi používajícími jiné měny. To znamená, že země eurozóny mají jednotnější ekonomické podmínky, zatímco země s jinými měnami vykazují různorodější ekonomickou výkonnost.\n",
    "\n",
    "Nyní se pokusíme najít finální model, který chování HDP dobře vysvětluje, ale neobsahuje nevýznamné komponenty.\n",
    "\n",
    "### ⚘ Výběr finálního modelu"
   ]
  },
  {
   "cell_type": "code",
   "id": "253b91eb-ae62-4ab3-8ede-b36aa889b493",
   "metadata": {},
   "source": [
    "str(data4)"
   ],
   "outputs": [],
   "execution_count": null
  },
  {
   "cell_type": "code",
   "id": "2a3f96d7-c07a-47cf-a94d-b26b05d3654e",
   "metadata": {},
   "source": [
    "str(data2)"
   ],
   "outputs": [],
   "execution_count": null
  },
  {
   "cell_type": "code",
   "id": "64844be1-f0b3-41f9-912b-f137b1f931dd",
   "metadata": {},
   "source": [
    "# Merge datasets based on 'geo' and 'hdp' columns\n",
    "merged_data <- merge(data4, data2, by = c(\"geo\", \"hdp\"), all = TRUE)"
   ],
   "outputs": [],
   "execution_count": null
  },
  {
   "cell_type": "code",
   "id": "462158fd-3850-4c7f-b9ff-5a294b5f30ce",
   "metadata": {},
   "source": [
    "str(merged_data)"
   ],
   "outputs": [],
   "execution_count": null
  },
  {
   "metadata": {},
   "cell_type": "code",
   "source": [
    "any_na <- any(is.na(merged_data))\n",
    "print(any_na)"
   ],
   "id": "489e772358c0e93a",
   "outputs": [],
   "execution_count": null
  },
  {
   "metadata": {},
   "cell_type": "code",
   "source": [
    "# Identifying missing values\n",
    "missing_values <- is.na(merged_data)\n",
    "\n",
    "# Display rows with missing values\n",
    "rows_with_missing <- merged_data[apply(missing_values, 1, any), ]\n",
    "print(rows_with_missing)"
   ],
   "id": "78d5fd2a51fe918c",
   "outputs": [],
   "execution_count": null
  },
  {
   "cell_type": "code",
   "id": "c6c4cf7a-80d5-487f-97c4-e4d0fe822c57",
   "metadata": {},
   "source": [
    "# Fitting the model with all regressors\n",
    "fit_all <- lm(hdp ~ age + density + language_cat + currency_cat, data=merged_data)\n",
    "\n",
    "# Model summary\n",
    "summary(fit_all)"
   ],
   "outputs": [],
   "execution_count": null
  },
  {
   "cell_type": "markdown",
   "id": "6cd20207-b5e2-4ff6-97d4-65a267c50fd2",
   "metadata": {},
   "source": [
    "Z výsledků modelu můžeme vidět, které regresory jsou statisticky významné a které ne.\n",
    "\n",
    "Statisticky významné regresory:\n",
    "\n",
    "**language_cat**: p-hodnota je rovna 0,00189, což je menší než zvolená hladina významnosti 0,01.\n",
    "\n",
    "Nevýznamné regresory:\n",
    "\n",
    "**intercept**: je roven 48784,76, ale není statisticky významný (p-hodnota = 0,55227), což znamená, že základní HDP (když jsou všechny prediktory nulové) se významně neliší od nuly.\n",
    "\n",
    "**age**: koeficient pro věk je -543,46 s p-hodnotou 0,78958, což znamená, že věk není významným prediktorem HDP.\n",
    "\n",
    "**density**: koeficient hustoty je 13,53 s p-hodnotou 0,47137, což znamená, že hustota není rovněž významným prediktorem HDP.\n",
    "\n",
    "**currency_cat**: koeficient pro currency_cat je -7168,74 s p-hodnotou 0,46165, což znamená, že kategorie měny není statisticky významným prediktorem HDP.\n",
    "\n",
    "Nevýznamnost musíme interpretovat z hlediska každého z regresorů zvlášť.\n",
    "\n",
    "Nejdříve vybereme nejméně signifikantní proměnnou z původního modelu. V našem případě, když se podíváme na p-hodnoty, můžeme vidět, že nejméně významnou proměnnou je \"age\" (má největší p-hodnotu)."
   ]
  },
  {
   "cell_type": "code",
   "id": "45e349dc-be52-4631-aaf0-0b65adb63624",
   "metadata": {},
   "source": [
    "fit_all_exc_age <- lm(hdp ~ density + language_cat + currency_cat, data=merged_data)\n",
    "\n",
    "# Model summary\n",
    "summary(fit_all_exc_age)"
   ],
   "outputs": [],
   "execution_count": null
  },
  {
   "metadata": {},
   "cell_type": "markdown",
   "source": [
    "Koeficient determinace (Multiple R-squared) je 0.3297,\n",
    "adjustovaný koeficient determinace (Adjusted R-squared) je 0.2604.\n",
    "\n",
    "Porovnáme s koeficienty determinace původního modelu:"
   ],
   "id": "3c1ad18de1a9da35"
  },
  {
   "metadata": {},
   "cell_type": "code",
   "source": [
    "summary(fit_all)$r.squared\n",
    "summary(fit_all)$adj.r.squared"
   ],
   "id": "a35d876ed90043f",
   "outputs": [],
   "execution_count": null
  },
  {
   "metadata": {},
   "cell_type": "markdown",
   "source": "Odstranění nejméně významné proměnné (věk) z modelu vedlo k nepatrnému snížení R-kvadrátu, ale k mírnému zvýšení upraveného R-kvadrátu, což ukazuje na efektivnější model bez zbytečných prediktorů. Oba modely však stále vykazují poměrně nízký koeficient determinace. Podobnou analýzu můžeme provést i pro zbývající regresory a zjistit, zda jejich odstranění povede k dalšímu zlepšení modelu.",
   "id": "e091b31ecfa306cb"
  },
  {
   "metadata": {},
   "cell_type": "code",
   "source": [
    "# Density is the worst in this case with p-value = 0.553648\n",
    "fit_all_exc_density <- lm(hdp ~ language_cat + currency_cat, data=merged_data)\n",
    "\n",
    "# Model summary\n",
    "summary(fit_all_exc_density)"
   ],
   "id": "c2cb7c016390f21",
   "outputs": [],
   "execution_count": null
  },
  {
   "metadata": {},
   "cell_type": "markdown",
   "source": "Aktualizovaný model (s vyloučením hustoty) je lepší z hlediska upraveného R-kvadrátu, i když celkový vysvětlený rozptyl (R-kvadrát) je o něco nižší. To znamená, že hustota nepřispívala k užitečným informacím a její odstranění vedlo k robustnějšímu modelu. Zkusíme odebrat proměnnou currency_cat.",
   "id": "1cf6aca98326b0a"
  },
  {
   "metadata": {},
   "cell_type": "code",
   "source": [
    "fit_all_exc_currency <- lm(hdp ~ language_cat, data=merged_data)\n",
    "\n",
    "# Model summary\n",
    "summary(fit_all_exc_currency)"
   ],
   "id": "75777157db3c936d",
   "outputs": [],
   "execution_count": null
  },
  {
   "metadata": {},
   "cell_type": "markdown",
   "source": [
    "Porovnáme s koeficienty determinace původního modelu fit_all. Odstranění dalšího regresoru opět vedlo ke zlepšení upraveného koeficientu determinace, což znamená, že nový model o něco lépe vysvětluje variabilitu dat než původní. Ačkoli je však upravený koeficient determinace vyšší, stále zůstává relativně nízký, což vede k tomu, že model stále není schopen plně vysvětlit veškerou variabilitu v datech.\n",
    "\n",
    "### ⚘ Model vs. podmodel\n",
    "\n",
    "Testujeme, zda jsme schopny redukovat původní model na nějaký podmodel. Zkoumáme tedy, zda je rozdíl reziduálních součtů čtverců významně velký, tj. zda širší model vnáší do dat více variability, než je nezbytně nutné k vysvětlení pozorované variability.\n",
    "\n",
    "Protože fit_all_exc_currency je jednodušší, je podmodelem fit_all. V našem případě se však fit_all_exc_currency jeví jako restriktivnější model (vypadává příliš mnoho proměnných). Nemůžeme je tedy přímo porovnat pomocí ANOVA. Místo toho budeme porovnávat jejich hodnoty AIC (Akaikeho informační kritérium) a BIC (Bayesovo informační kritérium)."
   ],
   "id": "d9a6b81dee729ab6"
  },
  {
   "metadata": {},
   "cell_type": "code",
   "source": [
    "# Compare models using AIC\n",
    "AIC(fit_all, fit_all_exc_age, fit_all_exc_density, fit_all_exc_currency)\n",
    "\n",
    "# Compare models using BIC\n",
    "BIC(fit_all, fit_all_exc_age, fit_all_exc_density, fit_all_exc_currency)"
   ],
   "id": "e287e09170e0b6dd",
   "outputs": [],
   "execution_count": null
  },
  {
   "metadata": {},
   "cell_type": "markdown",
   "source": [
    "Na základě hodnot AIC a BIC má fit_all přednost před fit_all_exc_currency, protože poskytuje lepší kompromis mezi vhodností a složitostí modelu, což naznačuje lepší celkový model (nižší hodnota AIC nebo BIC znamená šikovnější model).\n",
    "\n",
    "Nakonec můžeme použít nějaký automatický optimalizátor k nalezení nejlepšího modelu. Například pomocí knihovny glmulti."
   ],
   "id": "629aceb95fb1f9b6"
  },
  {
   "metadata": {},
   "cell_type": "code",
   "source": [
    "# Load the glmulti package\n",
    "library(glmulti)\n",
    "\n",
    "# Fit models with all possible combinations of predictors\n",
    "models <- glmulti(hdp ~ age + density + language_cat + currency_cat, data = merged_data, level = 1)\n",
    "\n",
    "# Print result\n",
    "print(models)"
   ],
   "id": "35c3e37020830270",
   "outputs": [],
   "execution_count": null
  },
  {
   "metadata": {},
   "cell_type": "markdown",
   "source": [
    "Pro fitování modelu jsme použili metodu vyčerpávajícího vyhledávání (exhaustive search) a pro výběr modelu kritérium AIC. Úroveň 1 znamená, že při vyčerpávajícím hledání byly zvažovány všechny možné kombinace prediktorů bez zohlednění interakcí nebo členů vyššího řádu.\n",
    "\n",
    "Nejlepší model je \"hdp ~ 1 + age + density + language_cat\" s AIC = 745,737735166038. Váha důkazu (šance, že tento model je nejlepším modelem ze souboru kandidátů) nejlepšího modelu je přibližně 66 %.\n",
    "\n",
    "Můžeme vykreslit všechny modely s jejich hodnotami AIC."
   ],
   "id": "2efbf2f84052c43a"
  },
  {
   "metadata": {},
   "cell_type": "code",
   "source": "plot(models)",
   "id": "88d84eda1f99878f",
   "outputs": [],
   "execution_count": null
  },
  {
   "metadata": {},
   "cell_type": "markdown",
   "source": "Vodorovná červená čára rozlišuje modely, jejichž hodnota AIC je menší nebo větší než 2 jednotky od hodnoty „nejlepšího“ modelu (tj. modelu s nejnižší hodnotou AIC). Výše uvedený výstup ukazuje, že existují 2 takové modely. Vypíšeme je.",
   "id": "e78c5ef96501950d"
  },
  {
   "metadata": {},
   "cell_type": "code",
   "source": [
    "top <- weightable(models)\n",
    "top <- top[top$aic <= min(top$aic) + 2,]\n",
    "top"
   ],
   "id": "e75a35ad7b71b8f2",
   "outputs": [],
   "execution_count": null
  },
  {
   "metadata": {},
   "cell_type": "code",
   "source": [
    "# Retrieve the best model\n",
    "summary(models@objects[[1]])"
   ],
   "id": "22c3dd2c3fe0f01a",
   "outputs": [],
   "execution_count": null
  },
  {
   "metadata": {},
   "cell_type": "markdown",
   "source": [
    "Popišme a interpretujme nejlepší model.\n",
    "\n",
    "#### ⊹ Koeficienty\n",
    "\n",
    "(Intercept): intercept je 62 751,45 s vysokou standardní chybou 78 240,54, což naznačuje vysokou nejistotu tohoto odhadu. p-hodnota je 0,42929, což není významné.\n",
    "\n",
    "age: koeficient je -981,04, což naznačuje negativní vztah k hdp; p-hodnota je však 0,61230, což není významné.\n",
    "\n",
    "density: koeficient je 12,33, což naznačuje pozitivní vztah k hdp; p-hodnota je však 0,50606, což není významné.\n",
    "\n",
    "language_cat: koeficient je 52 754,29, což ukazuje na silný pozitivní vztah s hdp. p-hodnota je 0,00112, takže tento prediktor je statisticky významný na 1% hladině (**).\n",
    "\n",
    "#### ⊹ Statistiky přizpůsobení modelu\n",
    "\n",
    "Parametr rozptylu: U Gaussovy rodiny je to rozptyl reziduí, který udává variabilitu odezvy, která není vysvětlena modelem.\n",
    "\n",
    "Nulová odchylka: 2,7476e+10 na 31 stupních volnosti. Tím se měří celková variabilita proměnné odpovědi hdp.\n",
    "\n",
    "Reziduální odchylka: 1,8109e+10 na 28 stupních volnosti. Tím se měří variabilita proměnné odezvy, která zůstává modelem nevysvětlena.\n",
    "\n",
    "AIC: 745.74. Jedná se o Akaikeho informační kritérium, což je míra vhodnosti modelu penalizovaná počtem parametrů. Nižší hodnoty ukazují na lepší model.\n",
    "\n",
    "Počet iterací Fisherova bodování: 2. Tento údaj udává počet iterací, které algoritmus fitování potřeboval ke konvergenci.\n",
    "\n",
    "#### ⊹ Interpretace a závěr\n",
    "\n",
    "Nejlepší model zahrnuje věk, hustotu a jazyk_cat jako prediktory hdp.\n",
    "\n",
    "Jazyk_cat je jediným statisticky významným prediktorem, což naznačuje silný pozitivní vztah k hdp.\n",
    "\n",
    "Věk ani hustota nejsou v tomto modelu statisticky významnými prediktory.\n",
    "\n",
    "Poměrně vysoká hodnota AIC naznačuje, že ačkoli je tento model mezi uvažovanými nejlepší, může být ještě co zlepšovat."
   ],
   "id": "93d388b3b577f7e"
  },
  {
   "metadata": {},
   "cell_type": "code",
   "source": " ",
   "id": "b9c7f35e9c092a85",
   "outputs": [],
   "execution_count": null
  }
 ],
 "metadata": {
  "kernelspec": {
   "display_name": "R",
   "language": "R",
   "name": "ir"
  },
  "language_info": {
   "codemirror_mode": "r",
   "file_extension": ".r",
   "mimetype": "text/x-r-source",
   "name": "R",
   "pygments_lexer": "r",
   "version": "4.3.3"
  }
 },
 "nbformat": 4,
 "nbformat_minor": 5
}
