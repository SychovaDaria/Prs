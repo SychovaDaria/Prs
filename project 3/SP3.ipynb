{
 "cells": [
  {
   "cell_type": "markdown",
   "id": "c52fc17d7dc4f539",
   "metadata": {},
   "source": [
    "# BI-PRS: semestrální projekt 3\n",
    "\n",
    "Cílem třetího semestrálního projektu je analýza hrubého domácího produktu evropských zemí. Zaměříme se na srovnání HDP různých evropských zemí v nějakém konkrétním roce a identifikujeme trendy a vzory ve vývoji jejich ekonomik. Dále se pokusíme porozumět faktorům, které ovlivňují rozdíly v HDP mezi jednotlivými zeměmi a jakým způsobem politické, sociální a ekonomické faktory formují ekonomickou prosperitu Evropy. Naše analýza by měla poskytnout ucelený pohled na ekonomickou situaci a trendy v Evropě a sloužit jako základ pro diskusi o možných politikách a opatřeních pro podporu ekonomického růstu a prosperity v regionu.\n",
    "\n",
    "Náš tým se skládá ze tří lidí: Ruslana Orazbekova (orazbrus), Nelly Shikina (shikinel), Daria Sychova (sychodar). Nejprve zjistíme, pro který rok budeme data zkoumat pomocí známého vzorce. Reprezentatntem ve třetím semestrálním projektu je Nelly Shikina."
   ]
  },
  {
   "cell_type": "code",
   "execution_count": 1,
   "id": "cbf7aa6e67e5412b",
   "metadata": {
    "ExecuteTime": {
     "end_time": "2024-05-09T11:30:20.610673Z",
     "start_time": "2024-05-09T11:30:20.516860Z"
    }
   },
   "outputs": [
    {
     "name": "stdout",
     "output_type": "stream",
     "text": [
      "[1] 4\n",
      "[1] 2015\n"
     ]
    }
   ],
   "source": [
    "# K = den narození reprezentanta skupiny (1-31)\n",
    "# L = počet písmen v příjmení reprezentanta\n",
    "# M = ((K+L)×47)mod11+1\n",
    "\n",
    "K <- 16\n",
    "L <- nchar('Shikina')\n",
    "M <- ((K + L) * 47) %% 11 + 1\n",
    "print(M)\n",
    "print(2011 + M)"
   ]
  },
  {
   "cell_type": "markdown",
   "id": "ae394146b5df3731",
   "metadata": {},
   "source": [
    "Uvažujeme tedy data z roku 2015.\n",
    "\n",
    "Nejdříve načteme potřebné knihovny a požadovaný dataset."
   ]
  },
  {
   "cell_type": "code",
   "execution_count": 2,
   "id": "3398031fc449befe",
   "metadata": {
    "ExecuteTime": {
     "end_time": "2024-05-09T11:30:20.714164Z",
     "start_time": "2024-05-09T11:30:20.622279Z"
    }
   },
   "outputs": [
    {
     "name": "stderr",
     "output_type": "stream",
     "text": [
      "── \u001b[1mAttaching core tidyverse packages\u001b[22m ──────────────────────── tidyverse 2.0.0 ──\n",
      "\u001b[32m✔\u001b[39m \u001b[34mdplyr    \u001b[39m 1.1.4     \u001b[32m✔\u001b[39m \u001b[34mreadr    \u001b[39m 2.1.5\n",
      "\u001b[32m✔\u001b[39m \u001b[34mforcats  \u001b[39m 1.0.0     \u001b[32m✔\u001b[39m \u001b[34mstringr  \u001b[39m 1.5.1\n",
      "\u001b[32m✔\u001b[39m \u001b[34mggplot2  \u001b[39m 3.5.0     \u001b[32m✔\u001b[39m \u001b[34mtibble   \u001b[39m 3.2.1\n",
      "\u001b[32m✔\u001b[39m \u001b[34mlubridate\u001b[39m 1.9.3     \u001b[32m✔\u001b[39m \u001b[34mtidyr    \u001b[39m 1.3.1\n",
      "\u001b[32m✔\u001b[39m \u001b[34mpurrr    \u001b[39m 1.0.2     \n",
      "── \u001b[1mConflicts\u001b[22m ────────────────────────────────────────── tidyverse_conflicts() ──\n",
      "\u001b[31m✖\u001b[39m \u001b[34mdplyr\u001b[39m::\u001b[32mfilter()\u001b[39m masks \u001b[34mstats\u001b[39m::filter()\n",
      "\u001b[31m✖\u001b[39m \u001b[34mdplyr\u001b[39m::\u001b[32mlag()\u001b[39m    masks \u001b[34mstats\u001b[39m::lag()\n",
      "\u001b[36mℹ\u001b[39m Use the conflicted package (\u001b[3m\u001b[34m<http://conflicted.r-lib.org/>\u001b[39m\u001b[23m) to force all conflicts to become errors\n"
     ]
    }
   ],
   "source": [
    "library(eurostat)\n",
    "library(tidyverse)\n",
    "library(dplyr)\n",
    "library(ggplot2)"
   ]
  },
  {
   "cell_type": "code",
   "execution_count": 3,
   "id": "676d74eeded209f1",
   "metadata": {},
   "outputs": [
    {
     "name": "stderr",
     "output_type": "stream",
     "text": [
      "Table nama_10_pc cached at C:\\Users\\Nelly\\AppData\\Local\\Temp\\RtmpcNz4dJ/eurostat/3f47a5d100e403ee12aa1049cc69cbc6.rds\n",
      "\n"
     ]
    },
    {
     "data": {
      "text/html": [
       "<table class=\"dataframe\">\n",
       "<caption>A tibble: 6 × 6</caption>\n",
       "<thead>\n",
       "\t<tr><th scope=col>freq</th><th scope=col>unit</th><th scope=col>na_item</th><th scope=col>geo</th><th scope=col>time</th><th scope=col>values</th></tr>\n",
       "\t<tr><th scope=col>&lt;chr&gt;</th><th scope=col>&lt;chr&gt;</th><th scope=col>&lt;chr&gt;</th><th scope=col>&lt;chr&gt;</th><th scope=col>&lt;dbl&gt;</th><th scope=col>&lt;int&gt;</th></tr>\n",
       "</thead>\n",
       "<tbody>\n",
       "\t<tr><td>A</td><td>CP_EUR_HAB</td><td>B1GQ</td><td>EU27_2020</td><td>2015</td><td>27500</td></tr>\n",
       "\t<tr><td>A</td><td>CP_EUR_HAB</td><td>B1GQ</td><td>EU28     </td><td>2015</td><td>29180</td></tr>\n",
       "\t<tr><td>A</td><td>CP_EUR_HAB</td><td>B1GQ</td><td>EU15     </td><td>2015</td><td>33810</td></tr>\n",
       "\t<tr><td>A</td><td>CP_EUR_HAB</td><td>B1GQ</td><td>EA       </td><td>2015</td><td>31080</td></tr>\n",
       "\t<tr><td>A</td><td>CP_EUR_HAB</td><td>B1GQ</td><td>EA20     </td><td>2015</td><td>30830</td></tr>\n",
       "\t<tr><td>A</td><td>CP_EUR_HAB</td><td>B1GQ</td><td>EA19     </td><td>2015</td><td>31080</td></tr>\n",
       "</tbody>\n",
       "</table>\n"
      ],
      "text/latex": [
       "A tibble: 6 × 6\n",
       "\\begin{tabular}{llllll}\n",
       " freq & unit & na\\_item & geo & time & values\\\\\n",
       " <chr> & <chr> & <chr> & <chr> & <dbl> & <int>\\\\\n",
       "\\hline\n",
       "\t A & CP\\_EUR\\_HAB & B1GQ & EU27\\_2020 & 2015 & 27500\\\\\n",
       "\t A & CP\\_EUR\\_HAB & B1GQ & EU28      & 2015 & 29180\\\\\n",
       "\t A & CP\\_EUR\\_HAB & B1GQ & EU15      & 2015 & 33810\\\\\n",
       "\t A & CP\\_EUR\\_HAB & B1GQ & EA        & 2015 & 31080\\\\\n",
       "\t A & CP\\_EUR\\_HAB & B1GQ & EA20      & 2015 & 30830\\\\\n",
       "\t A & CP\\_EUR\\_HAB & B1GQ & EA19      & 2015 & 31080\\\\\n",
       "\\end{tabular}\n"
      ],
      "text/markdown": [
       "\n",
       "A tibble: 6 × 6\n",
       "\n",
       "| freq &lt;chr&gt; | unit &lt;chr&gt; | na_item &lt;chr&gt; | geo &lt;chr&gt; | time &lt;dbl&gt; | values &lt;int&gt; |\n",
       "|---|---|---|---|---|---|\n",
       "| A | CP_EUR_HAB | B1GQ | EU27_2020 | 2015 | 27500 |\n",
       "| A | CP_EUR_HAB | B1GQ | EU28      | 2015 | 29180 |\n",
       "| A | CP_EUR_HAB | B1GQ | EU15      | 2015 | 33810 |\n",
       "| A | CP_EUR_HAB | B1GQ | EA        | 2015 | 31080 |\n",
       "| A | CP_EUR_HAB | B1GQ | EA20      | 2015 | 30830 |\n",
       "| A | CP_EUR_HAB | B1GQ | EA19      | 2015 | 31080 |\n",
       "\n"
      ],
      "text/plain": [
       "  freq unit       na_item geo       time values\n",
       "1 A    CP_EUR_HAB B1GQ    EU27_2020 2015 27500 \n",
       "2 A    CP_EUR_HAB B1GQ    EU28      2015 29180 \n",
       "3 A    CP_EUR_HAB B1GQ    EU15      2015 33810 \n",
       "4 A    CP_EUR_HAB B1GQ    EA        2015 31080 \n",
       "5 A    CP_EUR_HAB B1GQ    EA20      2015 30830 \n",
       "6 A    CP_EUR_HAB B1GQ    EA19      2015 31080 "
      ]
     },
     "metadata": {},
     "output_type": "display_data"
    }
   ],
   "source": [
    "# Retrieving GDP data at market prices in euro per capita\n",
    "data <- get_eurostat(\"nama_10_pc\", time_format = \"num\", filters = list(na_item = \"B1GQ\", unit = \"CP_EUR_HAB\", time = 2015))\n",
    "\n",
    "# Display the first rows of data for checking\n",
    "head(data)"
   ]
  },
  {
   "cell_type": "markdown",
   "id": "81dad8c625fdf8b",
   "metadata": {},
   "source": [
    "Prozkoumejme, co znamenají jednotlivé sloupce datsetu.\n",
    "\n",
    "1. **freq**: Tento sloupec udává frekvenci, s jakou jsou data zaznamenána. V tomto případě je to \"A\", což znamená, že data jsou roční.\n",
    "\n",
    "2. **unit**: Sloupec `unit` označuje jednotku, v níž jsou hodnoty udávány. Zde je uvedeno \"CP_EUR_HAB\", což znamená \"current prices, euros per inhabitant\", tedy hodnoty jsou vyjádřeny v eurech na obyvatele.\n",
    "\n",
    "3. **na_item**: Tento sloupec označuje položku Národních účtů podle zvoleného kritéria.\n",
    "\n",
    "4. **geo**: Sloupec `geo` označuje geografickou oblast, pro kterou jsou hodnoty uvedeny.\n",
    "\n",
    "5. **time**: Tento sloupec obsahuje rok, ke kterému se údaje vztahují.\n",
    "\n",
    "6. **values**: Sloupec `values` obsahuje samotné hodnoty HDP vyjádřené v eurech na obyvatele pro danou oblast (země/region) a rok."
   ]
  },
  {
   "cell_type": "code",
   "execution_count": 4,
   "id": "dead3f5f7ddd2d60",
   "metadata": {},
   "outputs": [
    {
     "data": {
      "text/html": [
       "<table class=\"dataframe\">\n",
       "<caption>A tibble: 6 × 6</caption>\n",
       "<thead>\n",
       "\t<tr><th scope=col>freq</th><th scope=col>unit</th><th scope=col>na_item</th><th scope=col>geo</th><th scope=col>time</th><th scope=col>values</th></tr>\n",
       "\t<tr><th scope=col>&lt;chr&gt;</th><th scope=col>&lt;chr&gt;</th><th scope=col>&lt;chr&gt;</th><th scope=col>&lt;chr&gt;</th><th scope=col>&lt;dbl&gt;</th><th scope=col>&lt;int&gt;</th></tr>\n",
       "</thead>\n",
       "<tbody>\n",
       "\t<tr><td>Annual</td><td>Current prices, euro per capita</td><td>Gross domestic product at market prices</td><td>European Union - 27 countries (from 2020)                                                                    </td><td>2015</td><td>27500</td></tr>\n",
       "\t<tr><td>Annual</td><td>Current prices, euro per capita</td><td>Gross domestic product at market prices</td><td>European Union - 28 countries (2013-2020)                                                                    </td><td>2015</td><td>29180</td></tr>\n",
       "\t<tr><td>Annual</td><td>Current prices, euro per capita</td><td>Gross domestic product at market prices</td><td>European Union - 15 countries (1995-2004)                                                                    </td><td>2015</td><td>33810</td></tr>\n",
       "\t<tr><td>Annual</td><td>Current prices, euro per capita</td><td>Gross domestic product at market prices</td><td>Euro area (EA11-1999, EA12-2001, EA13-2007, EA15-2008, EA16-2009, EA17-2011, EA18-2014, EA19-2015, EA20-2023)</td><td>2015</td><td>31080</td></tr>\n",
       "\t<tr><td>Annual</td><td>Current prices, euro per capita</td><td>Gross domestic product at market prices</td><td>Euro area – 20 countries (from 2023)                                                                         </td><td>2015</td><td>30830</td></tr>\n",
       "\t<tr><td>Annual</td><td>Current prices, euro per capita</td><td>Gross domestic product at market prices</td><td>Euro area - 19 countries  (2015-2022)                                                                        </td><td>2015</td><td>31080</td></tr>\n",
       "</tbody>\n",
       "</table>\n"
      ],
      "text/latex": [
       "A tibble: 6 × 6\n",
       "\\begin{tabular}{llllll}\n",
       " freq & unit & na\\_item & geo & time & values\\\\\n",
       " <chr> & <chr> & <chr> & <chr> & <dbl> & <int>\\\\\n",
       "\\hline\n",
       "\t Annual & Current prices, euro per capita & Gross domestic product at market prices & European Union - 27 countries (from 2020)                                                                     & 2015 & 27500\\\\\n",
       "\t Annual & Current prices, euro per capita & Gross domestic product at market prices & European Union - 28 countries (2013-2020)                                                                     & 2015 & 29180\\\\\n",
       "\t Annual & Current prices, euro per capita & Gross domestic product at market prices & European Union - 15 countries (1995-2004)                                                                     & 2015 & 33810\\\\\n",
       "\t Annual & Current prices, euro per capita & Gross domestic product at market prices & Euro area (EA11-1999, EA12-2001, EA13-2007, EA15-2008, EA16-2009, EA17-2011, EA18-2014, EA19-2015, EA20-2023) & 2015 & 31080\\\\\n",
       "\t Annual & Current prices, euro per capita & Gross domestic product at market prices & Euro area – 20 countries (from 2023)                                                                          & 2015 & 30830\\\\\n",
       "\t Annual & Current prices, euro per capita & Gross domestic product at market prices & Euro area - 19 countries  (2015-2022)                                                                         & 2015 & 31080\\\\\n",
       "\\end{tabular}\n"
      ],
      "text/markdown": [
       "\n",
       "A tibble: 6 × 6\n",
       "\n",
       "| freq &lt;chr&gt; | unit &lt;chr&gt; | na_item &lt;chr&gt; | geo &lt;chr&gt; | time &lt;dbl&gt; | values &lt;int&gt; |\n",
       "|---|---|---|---|---|---|\n",
       "| Annual | Current prices, euro per capita | Gross domestic product at market prices | European Union - 27 countries (from 2020)                                                                     | 2015 | 27500 |\n",
       "| Annual | Current prices, euro per capita | Gross domestic product at market prices | European Union - 28 countries (2013-2020)                                                                     | 2015 | 29180 |\n",
       "| Annual | Current prices, euro per capita | Gross domestic product at market prices | European Union - 15 countries (1995-2004)                                                                     | 2015 | 33810 |\n",
       "| Annual | Current prices, euro per capita | Gross domestic product at market prices | Euro area (EA11-1999, EA12-2001, EA13-2007, EA15-2008, EA16-2009, EA17-2011, EA18-2014, EA19-2015, EA20-2023) | 2015 | 31080 |\n",
       "| Annual | Current prices, euro per capita | Gross domestic product at market prices | Euro area – 20 countries (from 2023)                                                                          | 2015 | 30830 |\n",
       "| Annual | Current prices, euro per capita | Gross domestic product at market prices | Euro area - 19 countries  (2015-2022)                                                                         | 2015 | 31080 |\n",
       "\n"
      ],
      "text/plain": [
       "  freq   unit                           \n",
       "1 Annual Current prices, euro per capita\n",
       "2 Annual Current prices, euro per capita\n",
       "3 Annual Current prices, euro per capita\n",
       "4 Annual Current prices, euro per capita\n",
       "5 Annual Current prices, euro per capita\n",
       "6 Annual Current prices, euro per capita\n",
       "  na_item                                \n",
       "1 Gross domestic product at market prices\n",
       "2 Gross domestic product at market prices\n",
       "3 Gross domestic product at market prices\n",
       "4 Gross domestic product at market prices\n",
       "5 Gross domestic product at market prices\n",
       "6 Gross domestic product at market prices\n",
       "  geo                                                                                                          \n",
       "1 European Union - 27 countries (from 2020)                                                                    \n",
       "2 European Union - 28 countries (2013-2020)                                                                    \n",
       "3 European Union - 15 countries (1995-2004)                                                                    \n",
       "4 Euro area (EA11-1999, EA12-2001, EA13-2007, EA15-2008, EA16-2009, EA17-2011, EA18-2014, EA19-2015, EA20-2023)\n",
       "5 Euro area – 20 countries (from 2023)                                                                         \n",
       "6 Euro area - 19 countries  (2015-2022)                                                                        \n",
       "  time values\n",
       "1 2015 27500 \n",
       "2 2015 29180 \n",
       "3 2015 33810 \n",
       "4 2015 31080 \n",
       "5 2015 30830 \n",
       "6 2015 31080 "
      ]
     },
     "metadata": {},
     "output_type": "display_data"
    }
   ],
   "source": [
    "# Label the data with label_eurostat\n",
    "data <- label_eurostat(data)\n",
    "head(data)"
   ]
  },
  {
   "cell_type": "markdown",
   "id": "dcf058b0fcf6e732",
   "metadata": {},
   "source": [
    "Je vidět, že dataset obsahuje redundantní sloupce, takže než přejdeme k úkolům samotným, data trochu upravíme. Zbavíme se některých sloupců."
   ]
  },
  {
   "cell_type": "code",
   "execution_count": 5,
   "id": "6ebf1e27aa8ab8e7",
   "metadata": {},
   "outputs": [
    {
     "data": {
      "text/html": [
       "<table class=\"dataframe\">\n",
       "<caption>A tibble: 6 × 2</caption>\n",
       "<thead>\n",
       "\t<tr><th scope=col>geo</th><th scope=col>values</th></tr>\n",
       "\t<tr><th scope=col>&lt;chr&gt;</th><th scope=col>&lt;int&gt;</th></tr>\n",
       "</thead>\n",
       "<tbody>\n",
       "\t<tr><td>European Union - 27 countries (from 2020)                                                                    </td><td>27500</td></tr>\n",
       "\t<tr><td>European Union - 28 countries (2013-2020)                                                                    </td><td>29180</td></tr>\n",
       "\t<tr><td>European Union - 15 countries (1995-2004)                                                                    </td><td>33810</td></tr>\n",
       "\t<tr><td>Euro area (EA11-1999, EA12-2001, EA13-2007, EA15-2008, EA16-2009, EA17-2011, EA18-2014, EA19-2015, EA20-2023)</td><td>31080</td></tr>\n",
       "\t<tr><td>Euro area – 20 countries (from 2023)                                                                         </td><td>30830</td></tr>\n",
       "\t<tr><td>Euro area - 19 countries  (2015-2022)                                                                        </td><td>31080</td></tr>\n",
       "</tbody>\n",
       "</table>\n"
      ],
      "text/latex": [
       "A tibble: 6 × 2\n",
       "\\begin{tabular}{ll}\n",
       " geo & values\\\\\n",
       " <chr> & <int>\\\\\n",
       "\\hline\n",
       "\t European Union - 27 countries (from 2020)                                                                     & 27500\\\\\n",
       "\t European Union - 28 countries (2013-2020)                                                                     & 29180\\\\\n",
       "\t European Union - 15 countries (1995-2004)                                                                     & 33810\\\\\n",
       "\t Euro area (EA11-1999, EA12-2001, EA13-2007, EA15-2008, EA16-2009, EA17-2011, EA18-2014, EA19-2015, EA20-2023) & 31080\\\\\n",
       "\t Euro area – 20 countries (from 2023)                                                                          & 30830\\\\\n",
       "\t Euro area - 19 countries  (2015-2022)                                                                         & 31080\\\\\n",
       "\\end{tabular}\n"
      ],
      "text/markdown": [
       "\n",
       "A tibble: 6 × 2\n",
       "\n",
       "| geo &lt;chr&gt; | values &lt;int&gt; |\n",
       "|---|---|\n",
       "| European Union - 27 countries (from 2020)                                                                     | 27500 |\n",
       "| European Union - 28 countries (2013-2020)                                                                     | 29180 |\n",
       "| European Union - 15 countries (1995-2004)                                                                     | 33810 |\n",
       "| Euro area (EA11-1999, EA12-2001, EA13-2007, EA15-2008, EA16-2009, EA17-2011, EA18-2014, EA19-2015, EA20-2023) | 31080 |\n",
       "| Euro area – 20 countries (from 2023)                                                                          | 30830 |\n",
       "| Euro area - 19 countries  (2015-2022)                                                                         | 31080 |\n",
       "\n"
      ],
      "text/plain": [
       "  geo                                                                                                          \n",
       "1 European Union - 27 countries (from 2020)                                                                    \n",
       "2 European Union - 28 countries (2013-2020)                                                                    \n",
       "3 European Union - 15 countries (1995-2004)                                                                    \n",
       "4 Euro area (EA11-1999, EA12-2001, EA13-2007, EA15-2008, EA16-2009, EA17-2011, EA18-2014, EA19-2015, EA20-2023)\n",
       "5 Euro area – 20 countries (from 2023)                                                                         \n",
       "6 Euro area - 19 countries  (2015-2022)                                                                        \n",
       "  values\n",
       "1 27500 \n",
       "2 29180 \n",
       "3 33810 \n",
       "4 31080 \n",
       "5 30830 \n",
       "6 31080 "
      ]
     },
     "metadata": {},
     "output_type": "display_data"
    }
   ],
   "source": [
    "# Drop unnecessary columns\n",
    "data <- subset(data, select = c(\"geo\", \"values\"))\n",
    "head(data)"
   ]
  },
  {
   "cell_type": "code",
   "execution_count": 6,
   "id": "fdbf2d26a2b4d99a",
   "metadata": {},
   "outputs": [
    {
     "name": "stdout",
     "output_type": "stream",
     "text": [
      "[1] TRUE\n"
     ]
    }
   ],
   "source": [
    "# Checking if we have NaN values\n",
    "any_na <- any(is.na(data))\n",
    "print(any_na)"
   ]
  },
  {
   "cell_type": "markdown",
   "id": "b0f290e841396903",
   "metadata": {},
   "source": [
    "Náš dataset má NA hodnoty. Podívejme se, kde přesně nám chybí data."
   ]
  },
  {
   "cell_type": "code",
   "execution_count": 7,
   "id": "5df973acc5e316db",
   "metadata": {},
   "outputs": [
    {
     "name": "stdout",
     "output_type": "stream",
     "text": [
      "\u001b[90m# A tibble: 2 × 2\u001b[39m\n",
      "  geo                    values\n",
      "  \u001b[3m\u001b[90m<chr>\u001b[39m\u001b[23m                   \u001b[3m\u001b[90m<int>\u001b[39m\u001b[23m\n",
      "\u001b[90m1\u001b[39m Bosnia and Herzegovina     \u001b[31mNA\u001b[39m\n",
      "\u001b[90m2\u001b[39m Kosovo*                    \u001b[31mNA\u001b[39m\n"
     ]
    }
   ],
   "source": [
    "# Identifying missing values\n",
    "missing_values <- is.na(data)\n",
    "\n",
    "# Display rows with missing values\n",
    "rows_with_missing <- data[apply(missing_values, 1, any), ]\n",
    "print(rows_with_missing)"
   ]
  },
  {
   "cell_type": "markdown",
   "id": "eb2629580eb422be",
   "metadata": {},
   "source": [
    "Chybějící hodnoty jsou identifikovány v zemích \"Bosnia a Herzegovina\" a \"Kosovo*\". Hodnoty HDP pro tyto země v roce 2015 chybí (označeny jako NA)."
   ]
  },
  {
   "cell_type": "code",
   "execution_count": 8,
   "id": "25c65e20d3e86086",
   "metadata": {},
   "outputs": [
    {
     "name": "stdout",
     "output_type": "stream",
     "text": [
      "\u001b[90m# A tibble: 2 × 2\u001b[39m\n",
      "  geo                    values\n",
      "  \u001b[3m\u001b[90m<chr>\u001b[39m\u001b[23m                   \u001b[3m\u001b[90m<dbl>\u001b[39m\u001b[23m\n",
      "\u001b[90m1\u001b[39m Bosnia and Herzegovina  \u001b[4m7\u001b[24m240 \n",
      "\u001b[90m2\u001b[39m Kosovo*                 \u001b[4m4\u001b[24m447.\n"
     ]
    }
   ],
   "source": [
    "# Identifying neighboring countries for Bosnia and Herzegovina and Kosovo\n",
    "neighbors_BiH <- c(\"Croatia\", \"Serbia\", \"Montenegro\")\n",
    "neighbors_Kosovo <- c(\"Albania\", \"North Macedonia\", \"Serbia\")\n",
    "\n",
    "# Selecting data for neighboring countries\n",
    "data_neighbors_BiH <- subset(data, geo %in% neighbors_BiH)\n",
    "data_neighbors_Kosovo <- subset(data, geo %in% neighbors_Kosovo)\n",
    "\n",
    "# Calculating the average GDP of neighboring countries\n",
    "mean_BiH <- mean(data_neighbors_BiH$values, na.rm = TRUE)\n",
    "mean_Kosovo <- mean(data_neighbors_Kosovo$values, na.rm = TRUE)\n",
    "\n",
    "# Replacing missing values with the averages of neighboring countries\n",
    "data$values[data$geo == \"Bosnia and Herzegovina\" & is.na(data$values)] <- mean_BiH\n",
    "data$values[data$geo == \"Kosovo*\" & is.na(data$values)] <- mean_Kosovo\n",
    "\n",
    "# Displaying the modified data\n",
    "print(data[data$geo %in% c(\"Bosnia and Herzegovina\", \"Kosovo*\"), ])"
   ]
  },
  {
   "cell_type": "markdown",
   "id": "4b3a8ab076cc0c13",
   "metadata": {},
   "source": [
    "Tímto způsobem jsme nahradily chybějící hodnoty průměrným HDP sousedních zemí."
   ]
  },
  {
   "cell_type": "code",
   "execution_count": 9,
   "id": "de84bbd74d367c59",
   "metadata": {
    "ExecuteTime": {
     "end_time": "2024-05-09T11:30:21.015460Z",
     "start_time": "2024-05-09T11:30:20.972357Z"
    }
   },
   "outputs": [
    {
     "name": "stdout",
     "output_type": "stream",
     "text": [
      "[1] FALSE\n"
     ]
    }
   ],
   "source": [
    "# Checking if we have NaN values\n",
    "any_na <- any(is.na(data))\n",
    "print(any_na)"
   ]
  },
  {
   "cell_type": "markdown",
   "id": "a4cde3caee25abb",
   "metadata": {},
   "source": [
    "Data jsou v pořádku. Pojďme na ty úlohy."
   ]
  },
  {
   "cell_type": "markdown",
   "id": "fe805d78-2bbd-4388-9a02-66b18a4a4f70",
   "metadata": {},
   "source": [
    "## ✭ Úloha 1\n",
    "\n",
    "Krátce prezentujeme rozdělení HDP a jeho charakteristiky číselně i graficky. Probereme si, jaké údaje o jednotlivých zemích mohou mít vliv na HDP."
   ]
  },
  {
   "cell_type": "code",
   "execution_count": 10,
   "id": "5ad561b26f5e14",
   "metadata": {
    "ExecuteTime": {
     "end_time": "2024-05-09T11:30:21.669728Z",
     "start_time": "2024-05-09T11:30:21.621114Z"
    }
   },
   "outputs": [
    {
     "data": {
      "text/plain": [
       "   Min. 1st Qu.  Median    Mean 3rd Qu.    Max. \n",
       "   3560   11702   25355   29879   38190  148440 "
      ]
     },
     "metadata": {},
     "output_type": "display_data"
    }
   ],
   "source": [
    "# Basic GDP characteristics\n",
    "summary(data$values)"
   ]
  },
  {
   "cell_type": "markdown",
   "id": "87ab7f356cae5ece",
   "metadata": {},
   "source": [
    "Tyto číselné charakteristiky poskytují užitečné informace o rozdělení HDP v evropských zemích v roce 2015:\n",
    "\n",
    "- **Minimální hodnota**: Nejnižší hodnota HDP v eurech na obyvatele z celého souboru je 3560. To ukazuje na nejmenší úroveň ekonomické prosperity mezi zkoumanými zeměmi.\n",
    "\n",
    "- **První kvartil (1st Qu.)**: Hodnota, pod kterou spadá první čtvrtina dat, je 11702 eur na obyvatele. To znamená, že 25 % zemí má HDP nižší než tato hodnota.\n",
    "\n",
    "- **Medián**: Medián, což je střední hodnota datového souboru, je 25355 eur na obyvatele. To znamená, že polovina zemí má HDP nižší než tento medián a polovina má vyšší.\n",
    "\n",
    "- **Průměr (Mean)**: Průměrná hodnota HDP v evropských zemích v roce 2015 je 29879 eur na obyvatele. To je aritmetický průměr všech hodnot HDP.\n",
    "\n",
    "- **Třetí kvartil (3rd Qu.)**: Hodnota, pod kterou spadá třetí čtvrtina dat, je 38190 eur na obyvatele. To znamená, že 75 % zemí má HDP nižší než tato hodnota.\n",
    "\n",
    "- **Maximální hodnota**: Nejvyšší hodnota HDP v eurech na obyvatele z celého souboru je 148440. Jedná se o nejvyšší úroveň ekonomické prosperity mezi zkoumanými zeměmi.\n",
    "\n",
    "Tyto statistické údaje nám poskytují přehled o rozdělení HDP a jeho variabilitě mezi evropskými zeměmi v roce 2015. Pro přehlednost nyní vykreslíme histogram rozdělení HDP v roce 2015."
   ]
  },
  {
   "cell_type": "code",
   "execution_count": 11,
   "id": "f8a7965c23c418af",
   "metadata": {
    "ExecuteTime": {
     "end_time": "2024-05-09T11:30:21.764828Z",
     "start_time": "2024-05-09T11:30:21.723957Z"
    }
   },
   "outputs": [
    {
     "data": {
      "image/png": "[encoded data removed]",
      "text/plain": [
       "plot without title"
      ]
     },
     "metadata": {
      "image/png": {
       "height": 420,
       "width": 420
      }
     },
     "output_type": "display_data"
    }
   ],
   "source": [
    "# Histogram\n",
    "ggplot(data, aes(x = values)) +\n",
    "  geom_histogram(binwidth = 5000, fill = \"#F5DAD2\", color = \"black\", alpha = 0.8) +  # Alpha channel for clarity\n",
    "  labs(title = \"Distribution of GDP in European countries in 2015\",\n",
    "       x = \"GDP in euro per capita\",\n",
    "       y = \"Number of countries\") +\n",
    "  scale_x_continuous(labels = scales::comma) +  # Adding thousands separators to the x-axis\n",
    "  theme_minimal() +\n",
    "  theme(plot.title = element_text(size = 20, face = \"bold\"),  # Caption size and style\n",
    "        axis.text = element_text(size = 12),  # Text size on axes\n",
    "        axis.title = element_text(size = 14))  # Size of axis labels"
   ]
  },
  {
   "cell_type": "markdown",
   "id": "2a3f5922cd196bdd",
   "metadata": {},
   "source": [
    "Tento histogram zobrazuje rozdělení hrubého domácího produktu (HDP) v evropských zemích v roce 2015. Na osu x je uvedeno HDP v eurech na obyvatele a na osu y počet zemí, které dosáhly dané úrovně HDP.\n",
    "\n",
    "Graf ukazuje, že většina zemí má HDP mezi 10 000 a 50 000 eur na obyvatele. Existuje také menší počet zemí s HDP nad 50 000 eur na obyvatele, což může zahrnovat země s vyššími úrovněmi ekonomické prosperity.\n",
    "\n",
    "Různé faktory mohou ovlivňovat HDP zemí. Některé z hlavních faktorů zahrnují:\n",
    "\n",
    "* **Ekonomická politika**: Makroekonomická politika vlád, včetně monetární politiky a fiskální politiky, může mít vliv na HDP.\n",
    "\n",
    "* **Obchodní politika**: Otevřenost země obchodu s ostatními zeměmi může ovlivnit HDP prostřednictvím exportu a importu zboží a služeb.\n",
    "\n",
    "* **Technologický pokrok**: Inovace a technologický pokrok mohou zvyšovat produktivitu a stimulovat růst HDP.\n",
    "\n",
    "* **Pracovní trh**: Zaměstnanost, úroveň mezd a pracovní podmínky mohou ovlivnit schopnost země generovat HDP.\n",
    "\n",
    "* **Infrastruktura**: Kvalita infrastruktury, včetně dopravních sítí a telekomunikací, může mít vliv na efektivitu ekonomiky a tím i na HDP.\n",
    "\n",
    "* **Politická stabilita**: Politická stabilita a právní rámec mohou ovlivnit investice a obchod, což může mít vliv na HDP.\n",
    "\n",
    "Nyní můžeme pokračovat úlohou 2."
   ]
  },
  {
   "cell_type": "markdown",
   "id": "db5b818e2c95342e",
   "metadata": {},
   "source": [
    "## ✭ Úloha 2\n",
    "\n",
    "Rozhodly jsme se přidat další [dataset](https://www.kaggle.com/datasets/nelgiriyewithana/countries-of-the-world-2023) s informacemi o různých zemích, včetně evropských zemí z našeho projektu.\n",
    "\n",
    "> This comprehensive dataset provides a wealth of information about all countries worldwide, covering a wide range of indicators and attributes. It encompasses demographic statistics, economic indicators, environmental factors, healthcare metrics, education statistics, and much more. With every country represented, this dataset offers a complete global perspective on various aspects of nations, enabling in-depth analyses and cross-country comparisons.\n",
    "\n",
    "Pro zkoumané země můžeme jako regresory zvolit následující čtyři příznaky:\n",
    "\n",
    "1. **Průměrný věk obyvatelstva**: tato numerická proměnná může poskytnout informace o demografické struktuře země a jejím vlivu na ekonomiku, jako je například pracovní síla a spotřeba.\n",
    "\n",
    "2. **Hustota zalidnění**: další numerická proměnná, která může ovlivnit HDP, je hustota zalidnění. Vyšší hustota obvykle znamená větší ekonomickou aktivitu a přístup k většímu trhu.\n",
    "\n",
    "3. **Jazyk**: tato kategoriální proměnná může být užitečná pro rozlišení mezi zeměmi na základě oficiálního nebo dominantního jazyka. Země se shodným jazykem mohou mít lepší obchodní vztahy a komunikaci, což může mít pozitivní vliv na ekonomiku a cestovní ruch.\n",
    "\n",
    "4. **Měna**: další kategoriální proměnná, která může být důležitá, je měna, kterou země používá. Země používající euro mohou mít výhodu v obchodě a stabilitě měny ve srovnání s zeměmi, které používají jiné měny.\n",
    "\n",
    "Nyní bychom mohly použít regresní analýzu k určení vztahu mezi těmito proměnnými a HDP (např. pomocí lineární regrese).\n",
    "\n",
    "Chceme získat data o průměrném věku obyvatelstva z Eurostatu pro rok 2015 s pomocí identifikátoru MEDAGEPOP pro střední věk obyvatelstva. Vytvoříme dotaz do databáze Eurostatu, abychom mohly získat požadovaná data."
   ]
  },
  {
   "cell_type": "markdown",
   "id": "0166fefc-cb37-4d43-a30a-448166bfd639",
   "metadata": {},
   "source": [
    "#### ✦ Průměrný věk a hustota zalidnění"
   ]
  },
  {
   "cell_type": "code",
   "execution_count": 12,
   "id": "982167681af105a",
   "metadata": {
    "ExecuteTime": {
     "end_time": "2024-05-09T11:30:21.916301Z",
     "start_time": "2024-05-09T11:30:21.873897Z"
    },
    "scrolled": true
   },
   "outputs": [
    {
     "name": "stderr",
     "output_type": "stream",
     "text": [
      "Table eq_pop04 cached at C:\\Users\\Nelly\\AppData\\Local\\Temp\\RtmpcNz4dJ/eurostat/3e0442175fb3c8fee503e0d0d7bd398c.rds\n",
      "\n"
     ]
    },
    {
     "data": {
      "text/html": [
       "<table class=\"dataframe\">\n",
       "<caption>A tibble: 6 × 5</caption>\n",
       "<thead>\n",
       "\t<tr><th scope=col>freq</th><th scope=col>indic_de</th><th scope=col>geo</th><th scope=col>time</th><th scope=col>values</th></tr>\n",
       "\t<tr><th scope=col>&lt;chr&gt;</th><th scope=col>&lt;chr&gt;</th><th scope=col>&lt;chr&gt;</th><th scope=col>&lt;date&gt;</th><th scope=col>&lt;dbl&gt;</th></tr>\n",
       "</thead>\n",
       "<tbody>\n",
       "\t<tr><td>A</td><td>MEDAGEPOP</td><td>EU27_2020</td><td>2015-01-01</td><td>42.7</td></tr>\n",
       "\t<tr><td>A</td><td>MEDAGEPOP</td><td>EA20     </td><td>2015-01-01</td><td>  NA</td></tr>\n",
       "\t<tr><td>A</td><td>MEDAGEPOP</td><td>EA19     </td><td>2015-01-01</td><td>43.3</td></tr>\n",
       "\t<tr><td>A</td><td>MEDAGEPOP</td><td>BE       </td><td>2015-01-01</td><td>41.4</td></tr>\n",
       "\t<tr><td>A</td><td>MEDAGEPOP</td><td>BG       </td><td>2015-01-01</td><td>43.4</td></tr>\n",
       "\t<tr><td>A</td><td>MEDAGEPOP</td><td>CZ       </td><td>2015-01-01</td><td>41.1</td></tr>\n",
       "</tbody>\n",
       "</table>\n"
      ],
      "text/latex": [
       "A tibble: 6 × 5\n",
       "\\begin{tabular}{lllll}\n",
       " freq & indic\\_de & geo & time & values\\\\\n",
       " <chr> & <chr> & <chr> & <date> & <dbl>\\\\\n",
       "\\hline\n",
       "\t A & MEDAGEPOP & EU27\\_2020 & 2015-01-01 & 42.7\\\\\n",
       "\t A & MEDAGEPOP & EA20      & 2015-01-01 &   NA\\\\\n",
       "\t A & MEDAGEPOP & EA19      & 2015-01-01 & 43.3\\\\\n",
       "\t A & MEDAGEPOP & BE        & 2015-01-01 & 41.4\\\\\n",
       "\t A & MEDAGEPOP & BG        & 2015-01-01 & 43.4\\\\\n",
       "\t A & MEDAGEPOP & CZ        & 2015-01-01 & 41.1\\\\\n",
       "\\end{tabular}\n"
      ],
      "text/markdown": [
       "\n",
       "A tibble: 6 × 5\n",
       "\n",
       "| freq &lt;chr&gt; | indic_de &lt;chr&gt; | geo &lt;chr&gt; | time &lt;date&gt; | values &lt;dbl&gt; |\n",
       "|---|---|---|---|---|\n",
       "| A | MEDAGEPOP | EU27_2020 | 2015-01-01 | 42.7 |\n",
       "| A | MEDAGEPOP | EA20      | 2015-01-01 |   NA |\n",
       "| A | MEDAGEPOP | EA19      | 2015-01-01 | 43.3 |\n",
       "| A | MEDAGEPOP | BE        | 2015-01-01 | 41.4 |\n",
       "| A | MEDAGEPOP | BG        | 2015-01-01 | 43.4 |\n",
       "| A | MEDAGEPOP | CZ        | 2015-01-01 | 41.1 |\n",
       "\n"
      ],
      "text/plain": [
       "  freq indic_de  geo       time       values\n",
       "1 A    MEDAGEPOP EU27_2020 2015-01-01 42.7  \n",
       "2 A    MEDAGEPOP EA20      2015-01-01   NA  \n",
       "3 A    MEDAGEPOP EA19      2015-01-01 43.3  \n",
       "4 A    MEDAGEPOP BE        2015-01-01 41.4  \n",
       "5 A    MEDAGEPOP BG        2015-01-01 43.4  \n",
       "6 A    MEDAGEPOP CZ        2015-01-01 41.1  "
      ]
     },
     "metadata": {},
     "output_type": "display_data"
    }
   ],
   "source": [
    "# Data query on the average age of the population in 2019\n",
    "data_age <- get_eurostat(\"eq_pop04\", filters = list(time=\"2015\", indic_de = \"MEDAGEPOP\"))\n",
    "\n",
    "# Displaying first rows of data\n",
    "head(data_age)"
   ]
  },
  {
   "cell_type": "code",
   "execution_count": 13,
   "id": "fddde99d13fa1bb1",
   "metadata": {
    "ExecuteTime": {
     "end_time": "2024-05-09T11:30:22.069034Z",
     "start_time": "2024-05-09T11:30:22.031382Z"
    }
   },
   "outputs": [
    {
     "data": {
      "text/html": [
       "<table class=\"dataframe\">\n",
       "<caption>A tibble: 6 × 2</caption>\n",
       "<thead>\n",
       "\t<tr><th scope=col>geo</th><th scope=col>values</th></tr>\n",
       "\t<tr><th scope=col>&lt;chr&gt;</th><th scope=col>&lt;dbl&gt;</th></tr>\n",
       "</thead>\n",
       "<tbody>\n",
       "\t<tr><td>European Union - 27 countries (from 2020)</td><td>42.7</td></tr>\n",
       "\t<tr><td>Euro area – 20 countries (from 2023)     </td><td>  NA</td></tr>\n",
       "\t<tr><td>Euro area - 19 countries  (2015-2022)    </td><td>43.3</td></tr>\n",
       "\t<tr><td>Belgium                                  </td><td>41.4</td></tr>\n",
       "\t<tr><td>Bulgaria                                 </td><td>43.4</td></tr>\n",
       "\t<tr><td>Czechia                                  </td><td>41.1</td></tr>\n",
       "</tbody>\n",
       "</table>\n"
      ],
      "text/latex": [
       "A tibble: 6 × 2\n",
       "\\begin{tabular}{ll}\n",
       " geo & values\\\\\n",
       " <chr> & <dbl>\\\\\n",
       "\\hline\n",
       "\t European Union - 27 countries (from 2020) & 42.7\\\\\n",
       "\t Euro area – 20 countries (from 2023)      &   NA\\\\\n",
       "\t Euro area - 19 countries  (2015-2022)     & 43.3\\\\\n",
       "\t Belgium                                   & 41.4\\\\\n",
       "\t Bulgaria                                  & 43.4\\\\\n",
       "\t Czechia                                   & 41.1\\\\\n",
       "\\end{tabular}\n"
      ],
      "text/markdown": [
       "\n",
       "A tibble: 6 × 2\n",
       "\n",
       "| geo &lt;chr&gt; | values &lt;dbl&gt; |\n",
       "|---|---|\n",
       "| European Union - 27 countries (from 2020) | 42.7 |\n",
       "| Euro area – 20 countries (from 2023)      |   NA |\n",
       "| Euro area - 19 countries  (2015-2022)     | 43.3 |\n",
       "| Belgium                                   | 41.4 |\n",
       "| Bulgaria                                  | 43.4 |\n",
       "| Czechia                                   | 41.1 |\n",
       "\n"
      ],
      "text/plain": [
       "  geo                                       values\n",
       "1 European Union - 27 countries (from 2020) 42.7  \n",
       "2 Euro area – 20 countries (from 2023)        NA  \n",
       "3 Euro area - 19 countries  (2015-2022)     43.3  \n",
       "4 Belgium                                   41.4  \n",
       "5 Bulgaria                                  43.4  \n",
       "6 Czechia                                   41.1  "
      ]
     },
     "metadata": {},
     "output_type": "display_data"
    }
   ],
   "source": [
    "# Drop unnecessary columns\n",
    "data_age <- subset(data_age, select = c(\"geo\", \"values\"))\n",
    "data_age <- label_eurostat(data_age)\n",
    "head(data_age)"
   ]
  },
  {
   "cell_type": "markdown",
   "id": "971b065ad91a2e5e",
   "metadata": {},
   "source": [
    "Pro získání dat o hustotě zalidnění z Eurostatu pro rok 2015 s pomocí identifikátoru tps00003 pro hustotu zalidnění vytvoříme dotaz do databáze Eurostatu."
   ]
  },
  {
   "cell_type": "code",
   "execution_count": 14,
   "id": "ca9a2c38cf829426",
   "metadata": {
    "ExecuteTime": {
     "end_time": "2024-05-09T11:30:22.188354Z",
     "start_time": "2024-05-09T11:30:22.150149Z"
    }
   },
   "outputs": [
    {
     "name": "stderr",
     "output_type": "stream",
     "text": [
      "Table tps00003 cached at C:\\Users\\Nelly\\AppData\\Local\\Temp\\RtmpcNz4dJ/eurostat/16064c173b4800427fbc9e177476c73a.rds\n",
      "\n"
     ]
    },
    {
     "data": {
      "text/html": [
       "<table class=\"dataframe\">\n",
       "<caption>A tibble: 6 × 5</caption>\n",
       "<thead>\n",
       "\t<tr><th scope=col>freq</th><th scope=col>unit</th><th scope=col>geo</th><th scope=col>time</th><th scope=col>values</th></tr>\n",
       "\t<tr><th scope=col>&lt;chr&gt;</th><th scope=col>&lt;chr&gt;</th><th scope=col>&lt;chr&gt;</th><th scope=col>&lt;date&gt;</th><th scope=col>&lt;dbl&gt;</th></tr>\n",
       "</thead>\n",
       "<tbody>\n",
       "\t<tr><td>A</td><td>PER_KM2</td><td>EU27_2020</td><td>2015-01-01</td><td>108.1</td></tr>\n",
       "\t<tr><td>A</td><td>PER_KM2</td><td>EA20     </td><td>2015-01-01</td><td>   NA</td></tr>\n",
       "\t<tr><td>A</td><td>PER_KM2</td><td>EA19     </td><td>2015-01-01</td><td>   NA</td></tr>\n",
       "\t<tr><td>A</td><td>PER_KM2</td><td>BE       </td><td>2015-01-01</td><td>371.8</td></tr>\n",
       "\t<tr><td>A</td><td>PER_KM2</td><td>BG       </td><td>2015-01-01</td><td> 66.2</td></tr>\n",
       "\t<tr><td>A</td><td>PER_KM2</td><td>CZ       </td><td>2015-01-01</td><td>136.6</td></tr>\n",
       "</tbody>\n",
       "</table>\n"
      ],
      "text/latex": [
       "A tibble: 6 × 5\n",
       "\\begin{tabular}{lllll}\n",
       " freq & unit & geo & time & values\\\\\n",
       " <chr> & <chr> & <chr> & <date> & <dbl>\\\\\n",
       "\\hline\n",
       "\t A & PER\\_KM2 & EU27\\_2020 & 2015-01-01 & 108.1\\\\\n",
       "\t A & PER\\_KM2 & EA20      & 2015-01-01 &    NA\\\\\n",
       "\t A & PER\\_KM2 & EA19      & 2015-01-01 &    NA\\\\\n",
       "\t A & PER\\_KM2 & BE        & 2015-01-01 & 371.8\\\\\n",
       "\t A & PER\\_KM2 & BG        & 2015-01-01 &  66.2\\\\\n",
       "\t A & PER\\_KM2 & CZ        & 2015-01-01 & 136.6\\\\\n",
       "\\end{tabular}\n"
      ],
      "text/markdown": [
       "\n",
       "A tibble: 6 × 5\n",
       "\n",
       "| freq &lt;chr&gt; | unit &lt;chr&gt; | geo &lt;chr&gt; | time &lt;date&gt; | values &lt;dbl&gt; |\n",
       "|---|---|---|---|---|\n",
       "| A | PER_KM2 | EU27_2020 | 2015-01-01 | 108.1 |\n",
       "| A | PER_KM2 | EA20      | 2015-01-01 |    NA |\n",
       "| A | PER_KM2 | EA19      | 2015-01-01 |    NA |\n",
       "| A | PER_KM2 | BE        | 2015-01-01 | 371.8 |\n",
       "| A | PER_KM2 | BG        | 2015-01-01 |  66.2 |\n",
       "| A | PER_KM2 | CZ        | 2015-01-01 | 136.6 |\n",
       "\n"
      ],
      "text/plain": [
       "  freq unit    geo       time       values\n",
       "1 A    PER_KM2 EU27_2020 2015-01-01 108.1 \n",
       "2 A    PER_KM2 EA20      2015-01-01    NA \n",
       "3 A    PER_KM2 EA19      2015-01-01    NA \n",
       "4 A    PER_KM2 BE        2015-01-01 371.8 \n",
       "5 A    PER_KM2 BG        2015-01-01  66.2 \n",
       "6 A    PER_KM2 CZ        2015-01-01 136.6 "
      ]
     },
     "metadata": {},
     "output_type": "display_data"
    }
   ],
   "source": [
    "data_density <- get_eurostat(\"tps00003\", filters = list(time=\"2015\"))\n",
    "\n",
    "head(data_density)"
   ]
  },
  {
   "cell_type": "code",
   "execution_count": 15,
   "id": "c83582bfde83194b",
   "metadata": {
    "ExecuteTime": {
     "end_time": "2024-05-09T11:30:22.417941Z",
     "start_time": "2024-05-09T11:30:22.374636Z"
    }
   },
   "outputs": [
    {
     "name": "stdout",
     "output_type": "stream",
     "text": [
      "\u001b[90m# A tibble: 7 × 2\u001b[39m\n",
      "  geo                                  values\n",
      "  \u001b[3m\u001b[90m<chr>\u001b[39m\u001b[23m                                 \u001b[3m\u001b[90m<dbl>\u001b[39m\u001b[23m\n",
      "\u001b[90m1\u001b[39m Euro area – 20 countries (from 2023)     \u001b[31mNA\u001b[39m\n",
      "\u001b[90m2\u001b[39m Metropolitan France                      \u001b[31mNA\u001b[39m\n",
      "\u001b[90m3\u001b[39m Norway                                   \u001b[31mNA\u001b[39m\n",
      "\u001b[90m4\u001b[39m Kosovo*                                  \u001b[31mNA\u001b[39m\n",
      "\u001b[90m5\u001b[39m Andorra                                  \u001b[31mNA\u001b[39m\n",
      "\u001b[90m6\u001b[39m Russia                                   \u001b[31mNA\u001b[39m\n",
      "\u001b[90m7\u001b[39m San Marino                               \u001b[31mNA\u001b[39m\n"
     ]
    }
   ],
   "source": [
    "# Identifying missing values\n",
    "missing_values <- is.na(data_age)\n",
    "\n",
    "# Display rows with missing values\n",
    "rows_with_missing <- data_age[apply(missing_values, 1, any), ]\n",
    "print(rows_with_missing)"
   ]
  },
  {
   "cell_type": "code",
   "execution_count": 16,
   "id": "1fb6b8e18e2fbf",
   "metadata": {
    "ExecuteTime": {
     "end_time": "2024-05-09T11:30:22.538479Z",
     "start_time": "2024-05-09T11:30:22.501686Z"
    }
   },
   "outputs": [
    {
     "data": {
      "text/html": [
       "<table class=\"dataframe\">\n",
       "<caption>A tibble: 6 × 2</caption>\n",
       "<thead>\n",
       "\t<tr><th scope=col>geo</th><th scope=col>values</th></tr>\n",
       "\t<tr><th scope=col>&lt;chr&gt;</th><th scope=col>&lt;dbl&gt;</th></tr>\n",
       "</thead>\n",
       "<tbody>\n",
       "\t<tr><td>European Union - 27 countries (from 2020)</td><td>108.1</td></tr>\n",
       "\t<tr><td>Euro area – 20 countries (from 2023)     </td><td>   NA</td></tr>\n",
       "\t<tr><td>Euro area - 19 countries  (2015-2022)    </td><td>   NA</td></tr>\n",
       "\t<tr><td>Belgium                                  </td><td>371.8</td></tr>\n",
       "\t<tr><td>Bulgaria                                 </td><td> 66.2</td></tr>\n",
       "\t<tr><td>Czechia                                  </td><td>136.6</td></tr>\n",
       "</tbody>\n",
       "</table>\n"
      ],
      "text/latex": [
       "A tibble: 6 × 2\n",
       "\\begin{tabular}{ll}\n",
       " geo & values\\\\\n",
       " <chr> & <dbl>\\\\\n",
       "\\hline\n",
       "\t European Union - 27 countries (from 2020) & 108.1\\\\\n",
       "\t Euro area – 20 countries (from 2023)      &    NA\\\\\n",
       "\t Euro area - 19 countries  (2015-2022)     &    NA\\\\\n",
       "\t Belgium                                   & 371.8\\\\\n",
       "\t Bulgaria                                  &  66.2\\\\\n",
       "\t Czechia                                   & 136.6\\\\\n",
       "\\end{tabular}\n"
      ],
      "text/markdown": [
       "\n",
       "A tibble: 6 × 2\n",
       "\n",
       "| geo &lt;chr&gt; | values &lt;dbl&gt; |\n",
       "|---|---|\n",
       "| European Union - 27 countries (from 2020) | 108.1 |\n",
       "| Euro area – 20 countries (from 2023)      |    NA |\n",
       "| Euro area - 19 countries  (2015-2022)     |    NA |\n",
       "| Belgium                                   | 371.8 |\n",
       "| Bulgaria                                  |  66.2 |\n",
       "| Czechia                                   | 136.6 |\n",
       "\n"
      ],
      "text/plain": [
       "  geo                                       values\n",
       "1 European Union - 27 countries (from 2020) 108.1 \n",
       "2 Euro area – 20 countries (from 2023)         NA \n",
       "3 Euro area - 19 countries  (2015-2022)        NA \n",
       "4 Belgium                                   371.8 \n",
       "5 Bulgaria                                   66.2 \n",
       "6 Czechia                                   136.6 "
      ]
     },
     "metadata": {},
     "output_type": "display_data"
    }
   ],
   "source": [
    "# Drop unnecessary columns\n",
    "data_density <- subset(data_density, select = c(\"geo\", \"values\"))\n",
    "data_density <- label_eurostat(data_density)\n",
    "head(data_density)"
   ]
  },
  {
   "cell_type": "code",
   "execution_count": 17,
   "id": "9961e9d6a97d5de",
   "metadata": {
    "ExecuteTime": {
     "end_time": "2024-05-09T11:30:22.619290Z",
     "start_time": "2024-05-09T11:30:22.579961Z"
    }
   },
   "outputs": [
    {
     "name": "stdout",
     "output_type": "stream",
     "text": [
      "\u001b[90m# A tibble: 3 × 2\u001b[39m\n",
      "  geo                                   values\n",
      "  \u001b[3m\u001b[90m<chr>\u001b[39m\u001b[23m                                  \u001b[3m\u001b[90m<dbl>\u001b[39m\u001b[23m\n",
      "\u001b[90m1\u001b[39m Euro area – 20 countries (from 2023)      \u001b[31mNA\u001b[39m\n",
      "\u001b[90m2\u001b[39m Euro area - 19 countries  (2015-2022)     \u001b[31mNA\u001b[39m\n",
      "\u001b[90m3\u001b[39m Serbia                                    \u001b[31mNA\u001b[39m\n"
     ]
    }
   ],
   "source": [
    "# Identifying missing values\n",
    "missing_values <- is.na(data_density)\n",
    "\n",
    "# Display rows with missing values\n",
    "rows_with_missing <- data_density[apply(missing_values, 1, any), ]\n",
    "print(rows_with_missing)"
   ]
  },
  {
   "cell_type": "code",
   "execution_count": 18,
   "id": "87bb3b8b4eaa3d5d",
   "metadata": {
    "ExecuteTime": {
     "end_time": "2024-05-09T11:30:22.765201Z",
     "start_time": "2024-05-09T11:30:22.732192Z"
    }
   },
   "outputs": [
    {
     "data": {
      "text/plain": [
       "   Min. 1st Qu.  Median    Mean 3rd Qu.    Max.    NA's \n",
       "  30.50   38.67   41.25   40.25   42.73   45.90       7 "
      ]
     },
     "metadata": {},
     "output_type": "display_data"
    }
   ],
   "source": [
    "summary(data_age$values)"
   ]
  },
  {
   "cell_type": "code",
   "execution_count": 19,
   "id": "d2c802c7-61e5-4680-87d6-f7c5c3c137e3",
   "metadata": {
    "ExecuteTime": {
     "end_time": "2024-05-09T11:30:22.893938Z",
     "start_time": "2024-05-09T11:30:22.856364Z"
    }
   },
   "outputs": [
    {
     "data": {
      "text/plain": [
       "   Min. 1st Qu.  Median    Mean 3rd Qu.    Max.    NA's \n",
       "    3.3    68.5   102.4   158.3   136.6  1408.4       3 "
      ]
     },
     "metadata": {},
     "output_type": "display_data"
    }
   ],
   "source": [
    "summary(data_density$values)"
   ]
  },
  {
   "cell_type": "code",
   "execution_count": 20,
   "id": "8c755781-f438-4cb5-a0d5-4a450435f8f6",
   "metadata": {
    "ExecuteTime": {
     "end_time": "2024-05-09T11:30:22.966120Z",
     "start_time": "2024-05-09T11:30:22.933531Z"
    }
   },
   "outputs": [
    {
     "name": "stderr",
     "output_type": "stream",
     "text": [
      "Warning message:\n",
      "\"\u001b[1m\u001b[22mRemoved 7 rows containing non-finite outside the scale range (`stat_bin()`).\"\n",
      "Warning message:\n",
      "\"\u001b[1m\u001b[22mRemoved 3 rows containing non-finite outside the scale range (`stat_bin()`).\"\n"
     ]
    },
    {
     "data": {
      "image/png": "[encoded data removed]",
      "text/plain": [
       "plot without title"
      ]
     },
     "metadata": {
      "image/png": {
       "height": 420,
       "width": 420
      }
     },
     "output_type": "display_data"
    },
    {
     "data": {
      "image/png": "[encoded data removed]",
      "text/plain": [
       "plot without title"
      ]
     },
     "metadata": {
      "image/png": {
       "height": 420,
       "width": 420
      }
     },
     "output_type": "display_data"
    }
   ],
   "source": [
    "# Age histogram\n",
    "ggplot(data_age, aes(x=values)) + \n",
    "  geom_histogram(binwidth=5, fill=\"#BACD92\", color=\"black\", alpha = 0.8) +\n",
    "  labs(title = \"Distribution of Average Age\",\n",
    "       x = \"Average Age\",\n",
    "       y = \"Frequency\") +\n",
    "  theme_minimal() +\n",
    "  theme(plot.title = element_text(size = 20, face = \"bold\"),  # Caption size and style\n",
    "        axis.text = element_text(size = 12),  # Text size on axes\n",
    "        axis.title = element_text(size = 14))  # Size of axis labels\n",
    "\n",
    "\n",
    "# Density histogram\n",
    "ggplot(data_density, aes(x=values)) + \n",
    "  geom_histogram(binwidth=100, fill=\"#BACD92\", color=\"black\") +  \n",
    "  labs(title = \"Population Density Distribution\",\n",
    "       x = \"Density (people per sq km)\",\n",
    "       y = \"Frequency\") +\n",
    "  theme_minimal() +\n",
    "  theme(plot.title = element_text(size = 20, face = \"bold\"),  # Caption size and style\n",
    "        axis.text = element_text(size = 12),  # Text size on axes\n",
    "        axis.title = element_text(size = 14))  # Size of axis labels"
   ]
  },
  {
   "cell_type": "markdown",
   "id": "6e294623-3b94-4588-9759-724ad77698bb",
   "metadata": {},
   "source": [
    "Na histogramu distribuce průměrného věku vidíme, že největší počet zemí má průměrný věk obyvatelstva kolem 40 let, zatímco distribuce hustoty zalidnění ukazuje, že většina zemí má nízkou hustotu zalidnění, s několika zeměmi výrazně odlišnými s velmi vysokou hustotou."
   ]
  },
  {
   "cell_type": "code",
   "execution_count": 21,
   "id": "5a803e66-4ea7-4764-9b68-dad213df0644",
   "metadata": {
    "ExecuteTime": {
     "end_time": "2024-05-09T11:30:23.116420Z",
     "start_time": "2024-05-09T11:30:23.076922Z"
    }
   },
   "outputs": [
    {
     "name": "stdout",
     "output_type": "stream",
     "text": [
      "[1] 0.07637682\n"
     ]
    }
   ],
   "source": [
    "# Rename\n",
    "data_age_renamed <- data_age %>% rename(age = values)\n",
    "data_density_renamed <- data_density %>% rename(density = values)\n",
    "\n",
    "# Join\n",
    "combined_data <- left_join(data_age_renamed, data_density_renamed, by = \"geo\")\n",
    "\n",
    "# Correlation\n",
    "correlation_result <- cor(combined_data$age, combined_data$density, use = \"complete.obs\")\n",
    "print(correlation_result)"
   ]
  },
  {
   "cell_type": "markdown",
   "id": "2cd619a0-a759-4e4c-bf8c-5168ba37ba54",
   "metadata": {},
   "source": [
    "Korelace ve výši 0,07637682 ukazuje velmi slabou pozitivní souvislost mezi průměrným věkem a hustotou zalidnění. To znamená, že vztah mezi těmito dvěma proměnnými je téměř zanedbatelný a není významným faktorem ve většině ekonomických modelů."
   ]
  },
  {
   "cell_type": "code",
   "execution_count": 22,
   "id": "b7478697-7ff0-4cd9-bb70-c6cc8263842d",
   "metadata": {
    "ExecuteTime": {
     "end_time": "2024-05-09T11:30:23.223546Z",
     "start_time": "2024-05-09T11:30:23.191473Z"
    }
   },
   "outputs": [],
   "source": [
    "data_hdp_renamed <- data %>% rename(hdp = values)"
   ]
  },
  {
   "cell_type": "code",
   "execution_count": 23,
   "id": "a7e0e245-3b66-4146-89df-6c88bb24491f",
   "metadata": {
    "ExecuteTime": {
     "end_time": "2024-05-09T11:30:23.322644Z",
     "start_time": "2024-05-09T11:30:23.290945Z"
    }
   },
   "outputs": [],
   "source": [
    "data1 <- merge(data_hdp_renamed, data_age_renamed, by = \"geo\")\n",
    "data2 <- merge(data1, data_density_renamed, by = \"geo\")"
   ]
  },
  {
   "cell_type": "code",
   "execution_count": 24,
   "id": "cf1a1910-c4a5-4142-9121-974452b9d562",
   "metadata": {
    "ExecuteTime": {
     "end_time": "2024-05-09T11:30:23.462199Z",
     "start_time": "2024-05-09T11:30:23.428652Z"
    }
   },
   "outputs": [
    {
     "data": {
      "text/html": [
       "<table class=\"dataframe\">\n",
       "<caption>A data.frame: 6 × 4</caption>\n",
       "<thead>\n",
       "\t<tr><th></th><th scope=col>geo</th><th scope=col>hdp</th><th scope=col>age</th><th scope=col>density</th></tr>\n",
       "\t<tr><th></th><th scope=col>&lt;chr&gt;</th><th scope=col>&lt;dbl&gt;</th><th scope=col>&lt;dbl&gt;</th><th scope=col>&lt;dbl&gt;</th></tr>\n",
       "</thead>\n",
       "<tbody>\n",
       "\t<tr><th scope=row>1</th><td>Albania </td><td> 3560</td><td>34.7</td><td>100.1</td></tr>\n",
       "\t<tr><th scope=row>2</th><td>Austria </td><td>39890</td><td>43.0</td><td>104.9</td></tr>\n",
       "\t<tr><th scope=row>3</th><td>Belgium </td><td>36960</td><td>41.4</td><td>371.8</td></tr>\n",
       "\t<tr><th scope=row>4</th><td>Bulgaria</td><td> 6380</td><td>43.4</td><td> 66.2</td></tr>\n",
       "\t<tr><th scope=row>5</th><td>Croatia </td><td>10810</td><td>42.8</td><td> 74.4</td></tr>\n",
       "\t<tr><th scope=row>6</th><td>Cyprus  </td><td>21170</td><td>37.0</td><td> 92.0</td></tr>\n",
       "</tbody>\n",
       "</table>\n"
      ],
      "text/latex": [
       "A data.frame: 6 × 4\n",
       "\\begin{tabular}{r|llll}\n",
       "  & geo & hdp & age & density\\\\\n",
       "  & <chr> & <dbl> & <dbl> & <dbl>\\\\\n",
       "\\hline\n",
       "\t1 & Albania  &  3560 & 34.7 & 100.1\\\\\n",
       "\t2 & Austria  & 39890 & 43.0 & 104.9\\\\\n",
       "\t3 & Belgium  & 36960 & 41.4 & 371.8\\\\\n",
       "\t4 & Bulgaria &  6380 & 43.4 &  66.2\\\\\n",
       "\t5 & Croatia  & 10810 & 42.8 &  74.4\\\\\n",
       "\t6 & Cyprus   & 21170 & 37.0 &  92.0\\\\\n",
       "\\end{tabular}\n"
      ],
      "text/markdown": [
       "\n",
       "A data.frame: 6 × 4\n",
       "\n",
       "| <!--/--> | geo &lt;chr&gt; | hdp &lt;dbl&gt; | age &lt;dbl&gt; | density &lt;dbl&gt; |\n",
       "|---|---|---|---|---|\n",
       "| 1 | Albania  |  3560 | 34.7 | 100.1 |\n",
       "| 2 | Austria  | 39890 | 43.0 | 104.9 |\n",
       "| 3 | Belgium  | 36960 | 41.4 | 371.8 |\n",
       "| 4 | Bulgaria |  6380 | 43.4 |  66.2 |\n",
       "| 5 | Croatia  | 10810 | 42.8 |  74.4 |\n",
       "| 6 | Cyprus   | 21170 | 37.0 |  92.0 |\n",
       "\n"
      ],
      "text/plain": [
       "  geo      hdp   age  density\n",
       "1 Albania   3560 34.7 100.1  \n",
       "2 Austria  39890 43.0 104.9  \n",
       "3 Belgium  36960 41.4 371.8  \n",
       "4 Bulgaria  6380 43.4  66.2  \n",
       "5 Croatia  10810 42.8  74.4  \n",
       "6 Cyprus   21170 37.0  92.0  "
      ]
     },
     "metadata": {},
     "output_type": "display_data"
    }
   ],
   "source": [
    "head(data2)"
   ]
  },
  {
   "cell_type": "markdown",
   "id": "dba26bf9-b3d6-4b5d-b6e9-080f960ca7cb",
   "metadata": {},
   "source": [
    "#### ✦ Jazyk a měna"
   ]
  },
  {
   "cell_type": "code",
   "execution_count": 25,
   "id": "aa9abc7e-5751-49fe-8ad0-cc7fa8481cb8",
   "metadata": {
    "ExecuteTime": {
     "end_time": "2024-05-09T11:30:23.633615Z",
     "start_time": "2024-05-09T11:30:23.532506Z"
    }
   },
   "outputs": [
    {
     "data": {
      "text/html": [
       "<table class=\"dataframe\">\n",
       "<caption>A data.frame: 6 × 35</caption>\n",
       "<thead>\n",
       "\t<tr><th></th><th scope=col>Country</th><th scope=col>Density..P.Km2.</th><th scope=col>Abbreviation</th><th scope=col>Agricultural.Land....</th><th scope=col>Land.Area.Km2.</th><th scope=col>Armed.Forces.size</th><th scope=col>Birth.Rate</th><th scope=col>Calling.Code</th><th scope=col>Capital.Major.City</th><th scope=col>Co2.Emissions</th><th scope=col>⋯</th><th scope=col>Out.of.pocket.health.expenditure</th><th scope=col>Physicians.per.thousand</th><th scope=col>Population</th><th scope=col>Population..Labor.force.participation....</th><th scope=col>Tax.revenue....</th><th scope=col>Total.tax.rate</th><th scope=col>Unemployment.rate</th><th scope=col>Urban_population</th><th scope=col>Latitude</th><th scope=col>Longitude</th></tr>\n",
       "\t<tr><th></th><th scope=col>&lt;chr&gt;</th><th scope=col>&lt;chr&gt;</th><th scope=col>&lt;chr&gt;</th><th scope=col>&lt;chr&gt;</th><th scope=col>&lt;chr&gt;</th><th scope=col>&lt;chr&gt;</th><th scope=col>&lt;dbl&gt;</th><th scope=col>&lt;int&gt;</th><th scope=col>&lt;chr&gt;</th><th scope=col>&lt;chr&gt;</th><th scope=col>⋯</th><th scope=col>&lt;chr&gt;</th><th scope=col>&lt;dbl&gt;</th><th scope=col>&lt;chr&gt;</th><th scope=col>&lt;chr&gt;</th><th scope=col>&lt;chr&gt;</th><th scope=col>&lt;chr&gt;</th><th scope=col>&lt;chr&gt;</th><th scope=col>&lt;chr&gt;</th><th scope=col>&lt;dbl&gt;</th><th scope=col>&lt;dbl&gt;</th></tr>\n",
       "</thead>\n",
       "<tbody>\n",
       "\t<tr><th scope=row>1</th><td>Afghanistan        </td><td>60 </td><td>AF</td><td>58.10%</td><td>652,230  </td><td>323,000</td><td>32.49</td><td> 93</td><td>Kabul                 </td><td>8,672  </td><td>⋯</td><td>78.40%</td><td>0.28</td><td>38,041,754</td><td>48.90%</td><td>9.30% </td><td>71.40%</td><td>11.12%</td><td>9,797,273 </td><td> 33.93911</td><td> 67.709953</td></tr>\n",
       "\t<tr><th scope=row>2</th><td>Albania            </td><td>105</td><td>AL</td><td>43.10%</td><td>28,748   </td><td>9,000  </td><td>11.78</td><td>355</td><td>Tirana                </td><td>4,536  </td><td>⋯</td><td>56.90%</td><td>1.20</td><td>2,854,191 </td><td>55.70%</td><td>18.60%</td><td>36.60%</td><td>12.33%</td><td>1,747,593 </td><td> 41.15333</td><td> 20.168331</td></tr>\n",
       "\t<tr><th scope=row>3</th><td>Algeria            </td><td>18 </td><td>DZ</td><td>17.40%</td><td>2,381,741</td><td>317,000</td><td>24.28</td><td>213</td><td>Algiers               </td><td>150,006</td><td>⋯</td><td>28.10%</td><td>1.72</td><td>43,053,054</td><td>41.20%</td><td>37.20%</td><td>66.10%</td><td>11.70%</td><td>31,510,100</td><td> 28.03389</td><td>  1.659626</td></tr>\n",
       "\t<tr><th scope=row>4</th><td>Andorra            </td><td>164</td><td>AD</td><td>40.00%</td><td>468      </td><td>NA     </td><td> 7.20</td><td>376</td><td>Andorra la Vella      </td><td>469    </td><td>⋯</td><td>36.40%</td><td>3.33</td><td>77,142    </td><td>NA    </td><td>NA    </td><td>NA    </td><td>NA    </td><td>67,873    </td><td> 42.50628</td><td>  1.521801</td></tr>\n",
       "\t<tr><th scope=row>5</th><td>Angola             </td><td>26 </td><td>AO</td><td>47.50%</td><td>1,246,700</td><td>117,000</td><td>40.73</td><td>244</td><td>Luanda                </td><td>34,693 </td><td>⋯</td><td>33.40%</td><td>0.21</td><td>31,825,295</td><td>77.50%</td><td>9.20% </td><td>49.10%</td><td>6.89% </td><td>21,061,025</td><td>-11.20269</td><td> 17.873887</td></tr>\n",
       "\t<tr><th scope=row>6</th><td>Antigua and Barbuda</td><td>223</td><td>AG</td><td>20.50%</td><td>443      </td><td>0      </td><td>15.33</td><td>  1</td><td>St. John's, Saint John</td><td>557    </td><td>⋯</td><td>24.30%</td><td>2.76</td><td>97,118    </td><td>NA    </td><td>16.50%</td><td>43.00%</td><td>NA    </td><td>23,800    </td><td> 17.06082</td><td>-61.796428</td></tr>\n",
       "</tbody>\n",
       "</table>\n"
      ],
      "text/latex": [
       "A data.frame: 6 × 35\n",
       "\\begin{tabular}{r|lllllllllllllllllllll}\n",
       "  & Country & Density..P.Km2. & Abbreviation & Agricultural.Land.... & Land.Area.Km2. & Armed.Forces.size & Birth.Rate & Calling.Code & Capital.Major.City & Co2.Emissions & ⋯ & Out.of.pocket.health.expenditure & Physicians.per.thousand & Population & Population..Labor.force.participation.... & Tax.revenue.... & Total.tax.rate & Unemployment.rate & Urban\\_population & Latitude & Longitude\\\\\n",
       "  & <chr> & <chr> & <chr> & <chr> & <chr> & <chr> & <dbl> & <int> & <chr> & <chr> & ⋯ & <chr> & <dbl> & <chr> & <chr> & <chr> & <chr> & <chr> & <chr> & <dbl> & <dbl>\\\\\n",
       "\\hline\n",
       "\t1 & Afghanistan         & 60  & AF & 58.10\\% & 652,230   & 323,000 & 32.49 &  93 & Kabul                  & 8,672   & ⋯ & 78.40\\% & 0.28 & 38,041,754 & 48.90\\% & 9.30\\%  & 71.40\\% & 11.12\\% & 9,797,273  &  33.93911 &  67.709953\\\\\n",
       "\t2 & Albania             & 105 & AL & 43.10\\% & 28,748    & 9,000   & 11.78 & 355 & Tirana                 & 4,536   & ⋯ & 56.90\\% & 1.20 & 2,854,191  & 55.70\\% & 18.60\\% & 36.60\\% & 12.33\\% & 1,747,593  &  41.15333 &  20.168331\\\\\n",
       "\t3 & Algeria             & 18  & DZ & 17.40\\% & 2,381,741 & 317,000 & 24.28 & 213 & Algiers                & 150,006 & ⋯ & 28.10\\% & 1.72 & 43,053,054 & 41.20\\% & 37.20\\% & 66.10\\% & 11.70\\% & 31,510,100 &  28.03389 &   1.659626\\\\\n",
       "\t4 & Andorra             & 164 & AD & 40.00\\% & 468       & NA      &  7.20 & 376 & Andorra la Vella       & 469     & ⋯ & 36.40\\% & 3.33 & 77,142     & NA     & NA     & NA     & NA     & 67,873     &  42.50628 &   1.521801\\\\\n",
       "\t5 & Angola              & 26  & AO & 47.50\\% & 1,246,700 & 117,000 & 40.73 & 244 & Luanda                 & 34,693  & ⋯ & 33.40\\% & 0.21 & 31,825,295 & 77.50\\% & 9.20\\%  & 49.10\\% & 6.89\\%  & 21,061,025 & -11.20269 &  17.873887\\\\\n",
       "\t6 & Antigua and Barbuda & 223 & AG & 20.50\\% & 443       & 0       & 15.33 &   1 & St. John's, Saint John & 557     & ⋯ & 24.30\\% & 2.76 & 97,118     & NA     & 16.50\\% & 43.00\\% & NA     & 23,800     &  17.06082 & -61.796428\\\\\n",
       "\\end{tabular}\n"
      ],
      "text/markdown": [
       "\n",
       "A data.frame: 6 × 35\n",
       "\n",
       "| <!--/--> | Country &lt;chr&gt; | Density..P.Km2. &lt;chr&gt; | Abbreviation &lt;chr&gt; | Agricultural.Land.... &lt;chr&gt; | Land.Area.Km2. &lt;chr&gt; | Armed.Forces.size &lt;chr&gt; | Birth.Rate &lt;dbl&gt; | Calling.Code &lt;int&gt; | Capital.Major.City &lt;chr&gt; | Co2.Emissions &lt;chr&gt; | ⋯ ⋯ | Out.of.pocket.health.expenditure &lt;chr&gt; | Physicians.per.thousand &lt;dbl&gt; | Population &lt;chr&gt; | Population..Labor.force.participation.... &lt;chr&gt; | Tax.revenue.... &lt;chr&gt; | Total.tax.rate &lt;chr&gt; | Unemployment.rate &lt;chr&gt; | Urban_population &lt;chr&gt; | Latitude &lt;dbl&gt; | Longitude &lt;dbl&gt; |\n",
       "|---|---|---|---|---|---|---|---|---|---|---|---|---|---|---|---|---|---|---|---|---|---|\n",
       "| 1 | Afghanistan         | 60  | AF | 58.10% | 652,230   | 323,000 | 32.49 |  93 | Kabul                  | 8,672   | ⋯ | 78.40% | 0.28 | 38,041,754 | 48.90% | 9.30%  | 71.40% | 11.12% | 9,797,273  |  33.93911 |  67.709953 |\n",
       "| 2 | Albania             | 105 | AL | 43.10% | 28,748    | 9,000   | 11.78 | 355 | Tirana                 | 4,536   | ⋯ | 56.90% | 1.20 | 2,854,191  | 55.70% | 18.60% | 36.60% | 12.33% | 1,747,593  |  41.15333 |  20.168331 |\n",
       "| 3 | Algeria             | 18  | DZ | 17.40% | 2,381,741 | 317,000 | 24.28 | 213 | Algiers                | 150,006 | ⋯ | 28.10% | 1.72 | 43,053,054 | 41.20% | 37.20% | 66.10% | 11.70% | 31,510,100 |  28.03389 |   1.659626 |\n",
       "| 4 | Andorra             | 164 | AD | 40.00% | 468       | NA      |  7.20 | 376 | Andorra la Vella       | 469     | ⋯ | 36.40% | 3.33 | 77,142     | NA     | NA     | NA     | NA     | 67,873     |  42.50628 |   1.521801 |\n",
       "| 5 | Angola              | 26  | AO | 47.50% | 1,246,700 | 117,000 | 40.73 | 244 | Luanda                 | 34,693  | ⋯ | 33.40% | 0.21 | 31,825,295 | 77.50% | 9.20%  | 49.10% | 6.89%  | 21,061,025 | -11.20269 |  17.873887 |\n",
       "| 6 | Antigua and Barbuda | 223 | AG | 20.50% | 443       | 0       | 15.33 |   1 | St. John's, Saint John | 557     | ⋯ | 24.30% | 2.76 | 97,118     | NA     | 16.50% | 43.00% | NA     | 23,800     |  17.06082 | -61.796428 |\n",
       "\n"
      ],
      "text/plain": [
       "  Country             Density..P.Km2. Abbreviation Agricultural.Land....\n",
       "1 Afghanistan         60              AF           58.10%               \n",
       "2 Albania             105             AL           43.10%               \n",
       "3 Algeria             18              DZ           17.40%               \n",
       "4 Andorra             164             AD           40.00%               \n",
       "5 Angola              26              AO           47.50%               \n",
       "6 Antigua and Barbuda 223             AG           20.50%               \n",
       "  Land.Area.Km2. Armed.Forces.size Birth.Rate Calling.Code\n",
       "1 652,230        323,000           32.49       93         \n",
       "2 28,748         9,000             11.78      355         \n",
       "3 2,381,741      317,000           24.28      213         \n",
       "4 468            NA                 7.20      376         \n",
       "5 1,246,700      117,000           40.73      244         \n",
       "6 443            0                 15.33        1         \n",
       "  Capital.Major.City     Co2.Emissions ⋯ Out.of.pocket.health.expenditure\n",
       "1 Kabul                  8,672         ⋯ 78.40%                          \n",
       "2 Tirana                 4,536         ⋯ 56.90%                          \n",
       "3 Algiers                150,006       ⋯ 28.10%                          \n",
       "4 Andorra la Vella       469           ⋯ 36.40%                          \n",
       "5 Luanda                 34,693        ⋯ 33.40%                          \n",
       "6 St. John's, Saint John 557           ⋯ 24.30%                          \n",
       "  Physicians.per.thousand Population Population..Labor.force.participation....\n",
       "1 0.28                    38,041,754 48.90%                                   \n",
       "2 1.20                    2,854,191  55.70%                                   \n",
       "3 1.72                    43,053,054 41.20%                                   \n",
       "4 3.33                    77,142     NA                                       \n",
       "5 0.21                    31,825,295 77.50%                                   \n",
       "6 2.76                    97,118     NA                                       \n",
       "  Tax.revenue.... Total.tax.rate Unemployment.rate Urban_population Latitude \n",
       "1 9.30%           71.40%         11.12%            9,797,273         33.93911\n",
       "2 18.60%          36.60%         12.33%            1,747,593         41.15333\n",
       "3 37.20%          66.10%         11.70%            31,510,100        28.03389\n",
       "4 NA              NA             NA                67,873            42.50628\n",
       "5 9.20%           49.10%         6.89%             21,061,025       -11.20269\n",
       "6 16.50%          43.00%         NA                23,800            17.06082\n",
       "  Longitude \n",
       "1  67.709953\n",
       "2  20.168331\n",
       "3   1.659626\n",
       "4   1.521801\n",
       "5  17.873887\n",
       "6 -61.796428"
      ]
     },
     "metadata": {},
     "output_type": "display_data"
    }
   ],
   "source": [
    "# Loading data from a CSV file\n",
    "world_data <- read.csv(\"world-data-2023.csv\", header = TRUE, sep = \",\", quote = \"\\\"\", dec = \".\", fill = TRUE, na.strings = c(\"\", \"NA\"))\n",
    "\n",
    "head(world_data)"
   ]
  },
  {
   "cell_type": "code",
   "execution_count": 26,
   "id": "e6e19e45-b7f3-40ae-b144-a9ae9fff239c",
   "metadata": {
    "ExecuteTime": {
     "end_time": "2024-05-09T11:30:23.680895Z",
     "start_time": "2024-05-09T11:30:23.640913Z"
    }
   },
   "outputs": [
    {
     "data": {
      "text/html": [
       "<style>\n",
       ".list-inline {list-style: none; margin:0; padding: 0}\n",
       ".list-inline>li {display: inline-block}\n",
       ".list-inline>li:not(:last-child)::after {content: \"\\00b7\"; padding: 0 .5ex}\n",
       "</style>\n",
       "<ol class=list-inline><li>'Country'</li><li>'Density..P.Km2.'</li><li>'Abbreviation'</li><li>'Agricultural.Land....'</li><li>'Land.Area.Km2.'</li><li>'Armed.Forces.size'</li><li>'Birth.Rate'</li><li>'Calling.Code'</li><li>'Capital.Major.City'</li><li>'Co2.Emissions'</li><li>'CPI'</li><li>'CPI.Change....'</li><li>'Currency.Code'</li><li>'Fertility.Rate'</li><li>'Forested.Area....'</li><li>'Gasoline.Price'</li><li>'GDP'</li><li>'Gross.primary.education.enrollment....'</li><li>'Gross.tertiary.education.enrollment....'</li><li>'Infant.mortality'</li><li>'Largest.city'</li><li>'Life.expectancy'</li><li>'Maternal.mortality.ratio'</li><li>'Minimum.wage'</li><li>'Official.language'</li><li>'Out.of.pocket.health.expenditure'</li><li>'Physicians.per.thousand'</li><li>'Population'</li><li>'Population..Labor.force.participation....'</li><li>'Tax.revenue....'</li><li>'Total.tax.rate'</li><li>'Unemployment.rate'</li><li>'Urban_population'</li><li>'Latitude'</li><li>'Longitude'</li></ol>\n"
      ],
      "text/latex": [
       "\\begin{enumerate*}\n",
       "\\item 'Country'\n",
       "\\item 'Density..P.Km2.'\n",
       "\\item 'Abbreviation'\n",
       "\\item 'Agricultural.Land....'\n",
       "\\item 'Land.Area.Km2.'\n",
       "\\item 'Armed.Forces.size'\n",
       "\\item 'Birth.Rate'\n",
       "\\item 'Calling.Code'\n",
       "\\item 'Capital.Major.City'\n",
       "\\item 'Co2.Emissions'\n",
       "\\item 'CPI'\n",
       "\\item 'CPI.Change....'\n",
       "\\item 'Currency.Code'\n",
       "\\item 'Fertility.Rate'\n",
       "\\item 'Forested.Area....'\n",
       "\\item 'Gasoline.Price'\n",
       "\\item 'GDP'\n",
       "\\item 'Gross.primary.education.enrollment....'\n",
       "\\item 'Gross.tertiary.education.enrollment....'\n",
       "\\item 'Infant.mortality'\n",
       "\\item 'Largest.city'\n",
       "\\item 'Life.expectancy'\n",
       "\\item 'Maternal.mortality.ratio'\n",
       "\\item 'Minimum.wage'\n",
       "\\item 'Official.language'\n",
       "\\item 'Out.of.pocket.health.expenditure'\n",
       "\\item 'Physicians.per.thousand'\n",
       "\\item 'Population'\n",
       "\\item 'Population..Labor.force.participation....'\n",
       "\\item 'Tax.revenue....'\n",
       "\\item 'Total.tax.rate'\n",
       "\\item 'Unemployment.rate'\n",
       "\\item 'Urban\\_population'\n",
       "\\item 'Latitude'\n",
       "\\item 'Longitude'\n",
       "\\end{enumerate*}\n"
      ],
      "text/markdown": [
       "1. 'Country'\n",
       "2. 'Density..P.Km2.'\n",
       "3. 'Abbreviation'\n",
       "4. 'Agricultural.Land....'\n",
       "5. 'Land.Area.Km2.'\n",
       "6. 'Armed.Forces.size'\n",
       "7. 'Birth.Rate'\n",
       "8. 'Calling.Code'\n",
       "9. 'Capital.Major.City'\n",
       "10. 'Co2.Emissions'\n",
       "11. 'CPI'\n",
       "12. 'CPI.Change....'\n",
       "13. 'Currency.Code'\n",
       "14. 'Fertility.Rate'\n",
       "15. 'Forested.Area....'\n",
       "16. 'Gasoline.Price'\n",
       "17. 'GDP'\n",
       "18. 'Gross.primary.education.enrollment....'\n",
       "19. 'Gross.tertiary.education.enrollment....'\n",
       "20. 'Infant.mortality'\n",
       "21. 'Largest.city'\n",
       "22. 'Life.expectancy'\n",
       "23. 'Maternal.mortality.ratio'\n",
       "24. 'Minimum.wage'\n",
       "25. 'Official.language'\n",
       "26. 'Out.of.pocket.health.expenditure'\n",
       "27. 'Physicians.per.thousand'\n",
       "28. 'Population'\n",
       "29. 'Population..Labor.force.participation....'\n",
       "30. 'Tax.revenue....'\n",
       "31. 'Total.tax.rate'\n",
       "32. 'Unemployment.rate'\n",
       "33. 'Urban_population'\n",
       "34. 'Latitude'\n",
       "35. 'Longitude'\n",
       "\n",
       "\n"
      ],
      "text/plain": [
       " [1] \"Country\"                                  \n",
       " [2] \"Density..P.Km2.\"                          \n",
       " [3] \"Abbreviation\"                             \n",
       " [4] \"Agricultural.Land....\"                    \n",
       " [5] \"Land.Area.Km2.\"                           \n",
       " [6] \"Armed.Forces.size\"                        \n",
       " [7] \"Birth.Rate\"                               \n",
       " [8] \"Calling.Code\"                             \n",
       " [9] \"Capital.Major.City\"                       \n",
       "[10] \"Co2.Emissions\"                            \n",
       "[11] \"CPI\"                                      \n",
       "[12] \"CPI.Change....\"                           \n",
       "[13] \"Currency.Code\"                            \n",
       "[14] \"Fertility.Rate\"                           \n",
       "[15] \"Forested.Area....\"                        \n",
       "[16] \"Gasoline.Price\"                           \n",
       "[17] \"GDP\"                                      \n",
       "[18] \"Gross.primary.education.enrollment....\"   \n",
       "[19] \"Gross.tertiary.education.enrollment....\"  \n",
       "[20] \"Infant.mortality\"                         \n",
       "[21] \"Largest.city\"                             \n",
       "[22] \"Life.expectancy\"                          \n",
       "[23] \"Maternal.mortality.ratio\"                 \n",
       "[24] \"Minimum.wage\"                             \n",
       "[25] \"Official.language\"                        \n",
       "[26] \"Out.of.pocket.health.expenditure\"         \n",
       "[27] \"Physicians.per.thousand\"                  \n",
       "[28] \"Population\"                               \n",
       "[29] \"Population..Labor.force.participation....\"\n",
       "[30] \"Tax.revenue....\"                          \n",
       "[31] \"Total.tax.rate\"                           \n",
       "[32] \"Unemployment.rate\"                        \n",
       "[33] \"Urban_population\"                         \n",
       "[34] \"Latitude\"                                 \n",
       "[35] \"Longitude\"                                "
      ]
     },
     "metadata": {},
     "output_type": "display_data"
    }
   ],
   "source": [
    "colnames(world_data)"
   ]
  },
  {
   "cell_type": "code",
   "execution_count": 27,
   "id": "80513e26-727a-4eae-8cde-84bf8fd1c8e2",
   "metadata": {
    "ExecuteTime": {
     "end_time": "2024-05-09T11:30:23.796700Z",
     "start_time": "2024-05-09T11:30:23.763593Z"
    }
   },
   "outputs": [],
   "source": [
    "data_language <- world_data %>% select(Country, Official.language) "
   ]
  },
  {
   "cell_type": "code",
   "execution_count": 28,
   "id": "19466fa9-421a-4ac2-80ce-ab047021653d",
   "metadata": {
    "ExecuteTime": {
     "end_time": "2024-05-09T11:30:23.850596Z",
     "start_time": "2024-05-09T11:30:23.816669Z"
    }
   },
   "outputs": [],
   "source": [
    "data_language_renamed <- data_language %>% rename(geo = Country, language = Official.language)"
   ]
  },
  {
   "cell_type": "code",
   "execution_count": 29,
   "id": "551a0d1e-7b24-4d64-b620-a833a9118557",
   "metadata": {
    "ExecuteTime": {
     "end_time": "2024-05-09T11:30:24.229692Z",
     "start_time": "2024-05-09T11:30:24.190387Z"
    }
   },
   "outputs": [],
   "source": [
    "data_currency <- world_data %>% select(Country, Currency.Code) "
   ]
  },
  {
   "cell_type": "code",
   "execution_count": 30,
   "id": "c02ac1b9-7984-496f-8437-f30060189361",
   "metadata": {
    "ExecuteTime": {
     "end_time": "2024-05-09T11:30:24.479614Z",
     "start_time": "2024-05-09T11:30:24.446058Z"
    }
   },
   "outputs": [],
   "source": [
    "data_currency_renamed <- data_currency %>% rename(geo = Country, currency = Currency.Code)"
   ]
  },
  {
   "cell_type": "code",
   "execution_count": 31,
   "id": "1b3df550-4e2f-417d-9ca7-88fde88f2217",
   "metadata": {
    "ExecuteTime": {
     "end_time": "2024-05-09T11:30:24.686650Z",
     "start_time": "2024-05-09T11:30:24.659827Z"
    }
   },
   "outputs": [
    {
     "data": {
      "text/plain": [
       "     geo              language        \n",
       " Length:195         Length:195        \n",
       " Class :character   Class :character  \n",
       " Mode  :character   Mode  :character  "
      ]
     },
     "metadata": {},
     "output_type": "display_data"
    }
   ],
   "source": [
    "summary(data_language_renamed)"
   ]
  },
  {
   "cell_type": "code",
   "execution_count": 32,
   "id": "4c7369a5-f599-4b6a-ae38-115465fe7302",
   "metadata": {
    "ExecuteTime": {
     "end_time": "2024-05-09T11:30:24.783123Z",
     "start_time": "2024-05-09T11:30:24.761503Z"
    }
   },
   "outputs": [
    {
     "data": {
      "text/plain": [
       "     geo              currency        \n",
       " Length:195         Length:195        \n",
       " Class :character   Class :character  \n",
       " Mode  :character   Mode  :character  "
      ]
     },
     "metadata": {},
     "output_type": "display_data"
    }
   ],
   "source": [
    "summary(data_currency_renamed)"
   ]
  },
  {
   "cell_type": "code",
   "execution_count": 33,
   "id": "ca031fcd-ab2c-461f-8e61-13143431a230",
   "metadata": {
    "ExecuteTime": {
     "end_time": "2024-05-09T11:30:24.887415Z",
     "start_time": "2024-05-09T11:30:24.866699Z"
    }
   },
   "outputs": [],
   "source": [
    "data3 <- merge(data_hdp_renamed, data_language_renamed, by = \"geo\")\n",
    "data4 <- merge(data3, data_currency_renamed, by = \"geo\")"
   ]
  },
  {
   "cell_type": "code",
   "execution_count": 34,
   "id": "92ddc4ac-2bf3-4852-b5d1-c88f49997f8a",
   "metadata": {
    "ExecuteTime": {
     "end_time": "2024-05-09T11:30:25.016024Z",
     "start_time": "2024-05-09T11:30:24.994539Z"
    },
    "scrolled": true
   },
   "outputs": [
    {
     "data": {
      "text/html": [
       "<table class=\"dataframe\">\n",
       "<caption>A data.frame: 6 × 4</caption>\n",
       "<thead>\n",
       "\t<tr><th></th><th scope=col>geo</th><th scope=col>hdp</th><th scope=col>language</th><th scope=col>currency</th></tr>\n",
       "\t<tr><th></th><th scope=col>&lt;chr&gt;</th><th scope=col>&lt;dbl&gt;</th><th scope=col>&lt;chr&gt;</th><th scope=col>&lt;chr&gt;</th></tr>\n",
       "</thead>\n",
       "<tbody>\n",
       "\t<tr><th scope=row>1</th><td>Albania               </td><td> 3560</td><td>Albanian </td><td>ALL</td></tr>\n",
       "\t<tr><th scope=row>2</th><td>Austria               </td><td>39890</td><td>German   </td><td>EUR</td></tr>\n",
       "\t<tr><th scope=row>3</th><td>Belgium               </td><td>36960</td><td>French   </td><td>EUR</td></tr>\n",
       "\t<tr><th scope=row>4</th><td>Bosnia and Herzegovina</td><td> 7240</td><td>Bosnian  </td><td>BAM</td></tr>\n",
       "\t<tr><th scope=row>5</th><td>Bulgaria              </td><td> 6380</td><td>Bulgarian</td><td>BGN</td></tr>\n",
       "\t<tr><th scope=row>6</th><td>Croatia               </td><td>10810</td><td>Croatian </td><td>HRK</td></tr>\n",
       "</tbody>\n",
       "</table>\n"
      ],
      "text/latex": [
       "A data.frame: 6 × 4\n",
       "\\begin{tabular}{r|llll}\n",
       "  & geo & hdp & language & currency\\\\\n",
       "  & <chr> & <dbl> & <chr> & <chr>\\\\\n",
       "\\hline\n",
       "\t1 & Albania                &  3560 & Albanian  & ALL\\\\\n",
       "\t2 & Austria                & 39890 & German    & EUR\\\\\n",
       "\t3 & Belgium                & 36960 & French    & EUR\\\\\n",
       "\t4 & Bosnia and Herzegovina &  7240 & Bosnian   & BAM\\\\\n",
       "\t5 & Bulgaria               &  6380 & Bulgarian & BGN\\\\\n",
       "\t6 & Croatia                & 10810 & Croatian  & HRK\\\\\n",
       "\\end{tabular}\n"
      ],
      "text/markdown": [
       "\n",
       "A data.frame: 6 × 4\n",
       "\n",
       "| <!--/--> | geo &lt;chr&gt; | hdp &lt;dbl&gt; | language &lt;chr&gt; | currency &lt;chr&gt; |\n",
       "|---|---|---|---|---|\n",
       "| 1 | Albania                |  3560 | Albanian  | ALL |\n",
       "| 2 | Austria                | 39890 | German    | EUR |\n",
       "| 3 | Belgium                | 36960 | French    | EUR |\n",
       "| 4 | Bosnia and Herzegovina |  7240 | Bosnian   | BAM |\n",
       "| 5 | Bulgaria               |  6380 | Bulgarian | BGN |\n",
       "| 6 | Croatia                | 10810 | Croatian  | HRK |\n",
       "\n"
      ],
      "text/plain": [
       "  geo                    hdp   language  currency\n",
       "1 Albania                 3560 Albanian  ALL     \n",
       "2 Austria                39890 German    EUR     \n",
       "3 Belgium                36960 French    EUR     \n",
       "4 Bosnia and Herzegovina  7240 Bosnian   BAM     \n",
       "5 Bulgaria                6380 Bulgarian BGN     \n",
       "6 Croatia                10810 Croatian  HRK     "
      ]
     },
     "metadata": {},
     "output_type": "display_data"
    }
   ],
   "source": [
    "head(data4)"
   ]
  },
  {
   "cell_type": "code",
   "execution_count": 35,
   "id": "c28c9fa5-6216-447b-b37a-2fca5902b8a9",
   "metadata": {
    "ExecuteTime": {
     "end_time": "2024-05-09T11:30:25.157207Z",
     "start_time": "2024-05-09T11:30:25.133959Z"
    }
   },
   "outputs": [],
   "source": [
    "data4 <- data4 %>%\n",
    "  mutate(language = as.factor(language),\n",
    "         currency = as.factor(currency))"
   ]
  },
  {
   "cell_type": "code",
   "execution_count": 36,
   "id": "a53e7c25-9887-40c5-b20d-a2589bad9c76",
   "metadata": {},
   "outputs": [
    {
     "data": {
      "image/png": "[encoded data removed]",
      "text/plain": [
       "plot without title"
      ]
     },
     "metadata": {
      "image/png": {
       "height": 420,
       "width": 420
      }
     },
     "output_type": "display_data"
    },
    {
     "data": {
      "image/png": "[encoded data removed]",
      "text/plain": [
       "plot without title"
      ]
     },
     "metadata": {
      "image/png": {
       "height": 420,
       "width": 420
      }
     },
     "output_type": "display_data"
    }
   ],
   "source": [
    "# language barplot\n",
    "ggplot(data4, aes(x=language)) + \n",
    "  geom_bar(fill=\"#FCFFE0\", color=\"black\") +\n",
    "  labs(title = \"Distribution of Languages\",\n",
    "       x = \"Language\",\n",
    "       y = \"Frequency\") +\n",
    "  theme_minimal() +\n",
    "  theme(plot.title = element_text(size = 20, face = \"bold\"),  # Caption size and style\n",
    "        axis.text = element_text(size = 12),  # Text size on axes\n",
    "        axis.title = element_text(size = 14),  # Size of axis labels\n",
    "        axis.text.x = element_text(angle = 45, hjust = 1))  # Rotate and align x-axis labels\n",
    "\n",
    "# Currency barplot\n",
    "ggplot(data4, aes(x=currency)) + \n",
    "  geom_bar(fill=\"#FCFFE0\", color=\"black\") +\n",
    "  labs(title = \"Distribution of Currencies\",\n",
    "       x = \"Currency\",\n",
    "       y = \"Frequency\") +\n",
    "  theme_minimal() +\n",
    "  theme(plot.title = element_text(size = 20, face = \"bold\"),  # Caption size and style\n",
    "        axis.text = element_text(size = 12),  # Text size on axes\n",
    "        axis.title = element_text(size = 14),  # Size of axis labels\n",
    "        axis.text.x = element_text(angle = 45, hjust = 1))  # Rotate and align x-axis labels"
   ]
  },
  {
   "cell_type": "code",
   "execution_count": 37,
   "id": "279ea4c4-4c01-48f0-ac5c-44eb3fe3a340",
   "metadata": {},
   "outputs": [
    {
     "name": "stdout",
     "output_type": "stream",
     "text": [
      "\n",
      "\tFisher's Exact Test for Count Data\n",
      "\n",
      "data:  table_language_currency\n",
      "p-value = 1.375e-11\n",
      "alternative hypothesis: two.sided\n",
      "\n"
     ]
    }
   ],
   "source": [
    "table_language_currency <- table(data4$language, data4$currency)\n",
    "\n",
    "# Fisher's test\n",
    "fisher_test <- fisher.test(table_language_currency)\n",
    "print(fisher_test)"
   ]
  },
  {
   "cell_type": "markdown",
   "id": "ec60d5c3-0842-4031-bf86-dff84c32b1fe",
   "metadata": {},
   "source": [
    "Výsledky Fisherova přesného testu s p-hodnotou 1.375e-11 ukazují, že mezi jazykem a měnou existuje statisticky významná závislost."
   ]
  },
  {
   "cell_type": "markdown",
   "id": "b261de11-9e5b-4522-8f5a-c214797ead4f",
   "metadata": {},
   "source": [
    "## ✭ Úloha 3\n",
    "\n",
    "Pomocí lineárního regresního modelu zkoumejme závislost HDP na všech regresorech.\n",
    "\n",
    "#### ✦ Průměrný věk a hustota zalidnění"
   ]
  },
  {
   "cell_type": "code",
   "execution_count": 38,
   "id": "2f777a5d-ddba-477e-b98c-a94bf48d8f5d",
   "metadata": {},
   "outputs": [
    {
     "data": {
      "text/plain": [
       "\n",
       "Call:\n",
       "lm(formula = hdp ~ age + density, data = data2)\n",
       "\n",
       "Residuals:\n",
       "   Min     1Q Median     3Q    Max \n",
       "-25928 -18463  -8590   7645 114444 \n",
       "\n",
       "Coefficients:\n",
       "             Estimate Std. Error t value Pr(>|t|)\n",
       "(Intercept) -17192.40   65230.19  -0.264    0.794\n",
       "age           1120.52    1599.63   0.700    0.489\n",
       "density         13.14      20.88   0.630    0.533\n",
       "\n",
       "Residual standard error: 29100 on 33 degrees of freedom\n",
       "  (4 observations deleted due to missingness)\n",
       "Multiple R-squared:  0.02827,\tAdjusted R-squared:  -0.03063 \n",
       "F-statistic:  0.48 on 2 and 33 DF,  p-value: 0.623\n"
      ]
     },
     "metadata": {},
     "output_type": "display_data"
    }
   ],
   "source": [
    "model1 <- lm(hdp ~ age + density, data = data2)\n",
    "summary(model1)"
   ]
  },
  {
   "cell_type": "code",
   "execution_count": 39,
   "id": "e398c386-4fbb-4e05-af09-6342626e2f68",
   "metadata": {},
   "outputs": [
    {
     "name": "stderr",
     "output_type": "stream",
     "text": [
      "\u001b[1m\u001b[22m`geom_smooth()` using formula = 'y ~ x'\n",
      "Warning message:\n",
      "\"\u001b[1m\u001b[22mRemoved 2 rows containing non-finite outside the scale range (`stat_smooth()`).\"\n",
      "Warning message:\n",
      "\"\u001b[1m\u001b[22mRemoved 2 rows containing missing values or values outside the scale range\n",
      "(`geom_point()`).\"\n",
      "\u001b[1m\u001b[22m`geom_smooth()` using formula = 'y ~ x'\n",
      "Warning message:\n",
      "\"\u001b[1m\u001b[22mRemoved 3 rows containing non-finite outside the scale range (`stat_smooth()`).\"\n",
      "Warning message:\n",
      "\"\u001b[1m\u001b[22mRemoved 3 rows containing missing values or values outside the scale range\n",
      "(`geom_point()`).\"\n"
     ]
    },
    {
     "data": {
      "image/png": "[encoded data removed]",
      "text/plain": [
       "plot without title"
      ]
     },
     "metadata": {
      "image/png": {
       "height": 420,
       "width": 420
      }
     },
     "output_type": "display_data"
    },
    {
     "data": {
      "image/png": "[encoded data removed]",
      "text/plain": [
       "plot without title"
      ]
     },
     "metadata": {
      "image/png": {
       "height": 420,
       "width": 420
      }
     },
     "output_type": "display_data"
    }
   ],
   "source": [
    "# HDP/Age\n",
    "ggplot(data2, aes(x = age, y = hdp)) +\n",
    "  geom_point() +\n",
    "  geom_smooth(method = \"lm\", col = \"#75A47F\") +\n",
    "  labs(title = \"Relationship between HDP and age\",\n",
    "       x = \"Average age of the population\",\n",
    "       y = \"HDP\") +\n",
    "  theme_minimal() +\n",
    "  theme(plot.title = element_text(size = 20, face = \"bold\"),  # Caption size and style\n",
    "        axis.text = element_text(size = 12),  # Text size on axes\n",
    "        axis.title = element_text(size = 14),  # Size of axis labels\n",
    "        axis.text.x = element_text(angle = 45, hjust = 1))  # Rotate and align x-axis labels\n",
    "\n",
    "# HDP/Density\n",
    "ggplot(data2, aes(x = density, y = hdp)) +\n",
    "  geom_point() +\n",
    "  geom_smooth(method = \"lm\", col = \"#75A47F\") +\n",
    "  labs(title = \"Relationship between HDP and density\",\n",
    "       x = \"Density\",\n",
    "       y = \"HDP\") +\n",
    "  theme_minimal() +\n",
    "  theme(plot.title = element_text(size = 20, face = \"bold\"),  # Caption size and style\n",
    "        axis.text = element_text(size = 12),  # Text size on axes\n",
    "        axis.title = element_text(size = 14),  # Size of axis labels\n",
    "        axis.text.x = element_text(angle = 45, hjust = 1))  # Rotate and align x-axis labels"
   ]
  },
  {
   "cell_type": "markdown",
   "id": "876b7e31-adaf-44e1-a852-44636d05a2c9",
   "metadata": {},
   "source": [
    "Grafy ukazují, že i když existuje pozitivní trend mezi průměrným věkem obyvatelstva a HDP, a negativní trend mezi hustotou obyvatelstva a HDP, oba tyto vztahy nejsou statisticky významné, což potvrzují analýzy regresních modelů.\n",
    "\n",
    "#### ✦ Jazyk a měna"
   ]
  },
  {
   "cell_type": "code",
   "execution_count": 40,
   "id": "fd5c0fdb-34e3-4469-8ad2-e6e27a63067c",
   "metadata": {},
   "outputs": [
    {
     "data": {
      "text/plain": [
       "\n",
       "Call:\n",
       "lm(formula = hdp ~ language + currency, data = data4)\n",
       "\n",
       "Residuals:\n",
       "         1          2          3          4          5          6          7 \n",
       " 1.595e-11  1.420e+03  1.970e+03  6.052e-14  2.199e-12  5.082e-13  2.435e+03 \n",
       "         8          9         10         11         12         13         14 \n",
       " 3.464e-12 -4.068e-12  3.191e-11 -1.970e+03 -1.420e+03 -2.435e+03  2.524e-13 \n",
       "        15         16         17         18         19         20         21 \n",
       " 6.503e-13 -1.169e-12 -1.737e-12  3.646e+04  5.934e-13 -1.112e-12 -1.271e-11 \n",
       "        22         24         25         26         27         28         29 \n",
       " 3.208e-12  1.332e-12  5.027e-12  6.391e-12 -1.339e-12 -1.339e-12 -1.339e-12 \n",
       "        30         31         32         33         34         35 \n",
       "-2.703e-12  2.753e-12  2.499e-14 -2.635e-11 -3.646e+04 -4.866e-13 \n",
       "\n",
       "Coefficients: (13 not defined because of singularities)\n",
       "                             Estimate Std. Error t value Pr(>|t|)\n",
       "(Intercept)                      3560      25892   0.137    0.897\n",
       "languageBosnian                  3680      36617   0.101    0.925\n",
       "languageBulgarian                2820      36617   0.077    0.942\n",
       "languageCroatian                 7250      36617   0.198    0.853\n",
       "languageDanish                  44490      36617   1.215    0.291\n",
       "languageEnglish                 37060      36617   1.012    0.369\n",
       "languageEstonian                20060      51784   0.387    0.718\n",
       "languageFrench                  39340      48440   0.812    0.462\n",
       "languageGerman                  42820      48440   0.884    0.427\n",
       "languageGreek                   23085      48440   0.477    0.659\n",
       "languageHungarian                7900      36617   0.216    0.840\n",
       "languageIcelandic               44190      36617   1.207    0.294\n",
       "languageItalian                 31830      51784   0.615    0.572\n",
       "languageLatvian                 16780      51784   0.324    0.762\n",
       "languageLithuanian              17210      51784   0.332    0.756\n",
       "languageLuxembourgish           99440      51784   1.920    0.127\n",
       "languageMacedonian               1180      36617   0.032    0.976\n",
       "languageMaltese                 26840      51784   0.518    0.632\n",
       "languageMontenegrin language    10220      51784   0.197    0.853\n",
       "languageNorwegian               63830      36617   1.743    0.156\n",
       "languagePolish                   7620      36617   0.208    0.845\n",
       "languagePortuguese              21700      51784   0.419    0.697\n",
       "languageRomanian                 4530      36617   0.124    0.908\n",
       "languageSerbian                  1480      36617   0.040    0.970\n",
       "languageSlovak                  19130      51784   0.369    0.731\n",
       "languageSlovene language        23180      51784   0.448    0.678\n",
       "languageSpanish                 27580      51784   0.533    0.623\n",
       "languageSwedish                 42920      36617   1.172    0.306\n",
       "currencyBAM                        NA         NA      NA       NA\n",
       "currencyBGN                        NA         NA      NA       NA\n",
       "currencyCHF                     65605      44846   1.463    0.217\n",
       "currencyDKK                        NA         NA      NA       NA\n",
       "currencyEUR                     -7910      36617  -0.216    0.840\n",
       "currencyGBP                        NA         NA      NA       NA\n",
       "currencyHRK                        NA         NA      NA       NA\n",
       "currencyHUF                        NA         NA      NA       NA\n",
       "currencyISK                        NA         NA      NA       NA\n",
       "currencyMKD                        NA         NA      NA       NA\n",
       "currencyNOK                        NA         NA      NA       NA\n",
       "currencyPLN                        NA         NA      NA       NA\n",
       "currencyRON                        NA         NA      NA       NA\n",
       "currencyRSD                        NA         NA      NA       NA\n",
       "currencySEK                        NA         NA      NA       NA\n",
       "\n",
       "Residual standard error: 25890 on 4 degrees of freedom\n",
       "  (1 observation deleted due to missingness)\n",
       "Multiple R-squared:  0.9103,\tAdjusted R-squared:   0.26 \n",
       "F-statistic:   1.4 on 29 and 4 DF,  p-value: 0.4111\n"
      ]
     },
     "metadata": {},
     "output_type": "display_data"
    }
   ],
   "source": [
    "model2 <- lm(hdp ~ language + currency, data = data4)\n",
    "summary(model2)"
   ]
  },
  {
   "cell_type": "markdown",
   "id": "3d63f6ff-4fbb-4362-8884-6265a4f8d751",
   "metadata": {},
   "source": [
    "Model lineární regrese ukazuje, že ani jazyk ani měna nemají statisticky významný vliv na HDP, což dokládají vysoké p-hodnoty a nízký upravený R-kvadrát, naznačující možné přeučení modelu."
   ]
  },
  {
   "cell_type": "code",
   "execution_count": 41,
   "id": "fae41461-6b21-422f-a777-650d2db4b081",
   "metadata": {},
   "outputs": [
    {
     "data": {
      "image/png": "[encoded data removed]",
      "text/plain": [
       "plot without title"
      ]
     },
     "metadata": {
      "image/png": {
       "height": 420,
       "width": 420
      }
     },
     "output_type": "display_data"
    },
    {
     "data": {
      "image/png": "[encoded data removed]",
      "text/plain": [
       "plot without title"
      ]
     },
     "metadata": {
      "image/png": {
       "height": 420,
       "width": 420
      }
     },
     "output_type": "display_data"
    }
   ],
   "source": [
    "# HDP/Language\n",
    "ggplot(data4, aes(x = language, y = hdp)) +\n",
    "  geom_boxplot() +\n",
    "  labs(title = \"Language and HDP\",\n",
    "       x = \"Language\",\n",
    "       y = \"HDP\") +\n",
    "  theme_minimal() +\n",
    "  theme(plot.title = element_text(size = 20, face = \"bold\"),  # Caption size and style\n",
    "        axis.text = element_text(size = 12),  # Text size on axes\n",
    "        axis.title = element_text(size = 14),  # Size of axis labels\n",
    "        axis.text.x = element_text(angle = 45, hjust = 1))  # Rotate and align x-axis labels\n",
    "\n",
    "# HDP/Currency\n",
    "ggplot(data4, aes(x = currency, y = hdp)) +\n",
    "  geom_boxplot() +\n",
    "  labs(title = \"Currency and HDP\",\n",
    "       x = \"Currency\",\n",
    "       y = \"HDP\") +\n",
    "  theme_minimal() +\n",
    "  theme(plot.title = element_text(size = 20, face = \"bold\"),  # Caption size and style\n",
    "        axis.text = element_text(size = 12),  # Text size on axes\n",
    "        axis.title = element_text(size = 14),  # Size of axis labels\n",
    "        axis.text.x = element_text(angle = 45, hjust = 1))  # Rotate and align x-axis labels"
   ]
  },
  {
   "cell_type": "markdown",
   "id": "36bc743d-807c-4481-bd04-c5d402b5daf5",
   "metadata": {},
   "source": [
    "Grafy ukazují, že existují výrazné rozdíly v HDP v závislosti na používané měně a jazyce, přičemž některé měny jako CHF a GBP a jazykové skupiny jako německá a francouzská mají tendenci být spojeny s vyšším HDP.\n",
    "\n",
    "Nyní zhodnotíme kvalitu obou modelů."
   ]
  },
  {
   "cell_type": "code",
   "execution_count": null,
   "id": "10533d93-ba88-4406-9b0d-d1648f322e60",
   "metadata": {},
   "outputs": [],
   "source": []
  },
  {
   "cell_type": "code",
   "execution_count": null,
   "id": "253b91eb-ae62-4ab3-8ede-b36aa889b493",
   "metadata": {},
   "outputs": [],
   "source": []
  }
 ],
 "metadata": {
  "kernelspec": {
   "display_name": "R",
   "language": "R",
   "name": "ir"
  },
  "language_info": {
   "codemirror_mode": "r",
   "file_extension": ".r",
   "mimetype": "text/x-r-source",
   "name": "R",
   "pygments_lexer": "r",
   "version": "4.3.3"
  }
 },
 "nbformat": 4,
 "nbformat_minor": 5
}
